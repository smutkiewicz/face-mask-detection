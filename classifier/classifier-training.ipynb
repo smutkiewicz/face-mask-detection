{
  "nbformat": 4,
  "nbformat_minor": 0,
  "metadata": {
    "colab": {
      "name": "eiasr-classifier-training.ipynb",
      "provenance": []
    },
    "kernelspec": {
      "name": "python3",
      "display_name": "Python 3"
    },
    "language_info": {
      "name": "python"
    }
  },
  "cells": [
    {
      "cell_type": "markdown",
      "source": [
        "# **EIASR 21Z - Face Mask Detection**"
      ],
      "metadata": {
        "id": "cdArl1WGas2X"
      }
    },
    {
      "cell_type": "markdown",
      "source": [
        "We used this [project](https://www.kaggle.com/meghanatiyyali560/sailaja-meghana-project) as a guide how to use annotations provided with [image dataset we used](https://www.kaggle.com/andrewmvd/face-mask-detection). "
      ],
      "metadata": {
        "id": "nw5AS91Y1Q5M"
      }
    },
    {
      "cell_type": "markdown",
      "source": [
        "## **1. Environment preparation**"
      ],
      "metadata": {
        "id": "-U3p3ueZmIIM"
      }
    },
    {
      "cell_type": "markdown",
      "source": [
        "### Imports"
      ],
      "metadata": {
        "id": "0SV6Tzu7mP-v"
      }
    },
    {
      "cell_type": "code",
      "execution_count": null,
      "metadata": {
        "id": "G2mvDZUB3p1U"
      },
      "outputs": [],
      "source": [
        "import os\n",
        "import glob\n",
        "import cv2\n",
        "import shutil\n",
        "import matplotlib.pyplot as plt\n",
        "import numpy as np\n",
        "import pandas as pd\n",
        "import tensorflow as tf\n",
        "\n",
        "from tensorflow import keras\n",
        "from tensorflow.keras.applications import ResNet50\n",
        "from tensorflow.keras.utils import image_dataset_from_directory\n",
        "from tensorflow.keras.callbacks import ModelCheckpoint\n",
        "from tensorflow.keras.callbacks import EarlyStopping\n",
        "from tensorflow.keras.optimizers import Adam\n",
        "from keras_preprocessing.image import ImageDataGenerator\n",
        "from xml.etree import ElementTree\n",
        "from pandas import DataFrame"
      ]
    },
    {
      "cell_type": "markdown",
      "source": [
        "### Constants"
      ],
      "metadata": {
        "id": "FNcPvw4gloE0"
      }
    },
    {
      "cell_type": "code",
      "source": [
        "path = 'drive/MyDrive/datasets/face-mask-detection'\n",
        "\n",
        "BATCH_SIZE = 32\n",
        "SEED_SIZE = 42\n",
        "EPOCHS = 50\n",
        "\n",
        "key_cropped = 'cropped_image_file'\n",
        "key_label = 'label'\n",
        "key_file = 'file'\n",
        "key_image_file = 'image_file'\n",
        "key_annotation = 'annotation_file'"
      ],
      "metadata": {
        "id": "4z9XxUXj42d9"
      },
      "execution_count": null,
      "outputs": []
    },
    {
      "cell_type": "code",
      "source": [
        "annotations_dir = path + '/annotations'\n",
        "images_dir = path + '/images'\n",
        "temp_dir = path + '/temp'\n",
        "cropped_dir = temp_dir + '/cropped_images'\n",
        "\n",
        "classifier_path = \"drive/MyDrive/models/classifier.h5\"\n",
        "\n",
        "os.mkdir(temp_dir)\n",
        "os.mkdir(cropped_dir)"
      ],
      "metadata": {
        "id": "13ggBFtB50u6",
        "colab": {
          "base_uri": "https://localhost:8080/",
          "height": 219
        },
        "outputId": "8dfd7757-e085-47f8-cce6-f450f37ae96b"
      },
      "execution_count": null,
      "outputs": [
        {
          "output_type": "error",
          "ename": "FileExistsError",
          "evalue": "ignored",
          "traceback": [
            "\u001b[0;31m---------------------------------------------------------------------------\u001b[0m",
            "\u001b[0;31mFileExistsError\u001b[0m                           Traceback (most recent call last)",
            "\u001b[0;32m<ipython-input-3-79177edeb5d4>\u001b[0m in \u001b[0;36m<module>\u001b[0;34m()\u001b[0m\n\u001b[1;32m      6\u001b[0m \u001b[0mclassifier_path\u001b[0m \u001b[0;34m=\u001b[0m \u001b[0;34m\"drive/MyDrive/models/classifier.h5\"\u001b[0m\u001b[0;34m\u001b[0m\u001b[0;34m\u001b[0m\u001b[0m\n\u001b[1;32m      7\u001b[0m \u001b[0;34m\u001b[0m\u001b[0m\n\u001b[0;32m----> 8\u001b[0;31m \u001b[0mos\u001b[0m\u001b[0;34m.\u001b[0m\u001b[0mmkdir\u001b[0m\u001b[0;34m(\u001b[0m\u001b[0mtemp_dir\u001b[0m\u001b[0;34m)\u001b[0m\u001b[0;34m\u001b[0m\u001b[0;34m\u001b[0m\u001b[0m\n\u001b[0m\u001b[1;32m      9\u001b[0m \u001b[0mos\u001b[0m\u001b[0;34m.\u001b[0m\u001b[0mmkdir\u001b[0m\u001b[0;34m(\u001b[0m\u001b[0mcropped_dir\u001b[0m\u001b[0;34m)\u001b[0m\u001b[0;34m\u001b[0m\u001b[0;34m\u001b[0m\u001b[0m\n",
            "\u001b[0;31mFileExistsError\u001b[0m: [Errno 17] File exists: 'drive/MyDrive/datasets/face-mask-detection/temp'"
          ]
        }
      ]
    },
    {
      "cell_type": "code",
      "source": [
        "!ls 'drive/MyDrive/datasets/face-mask-detection'\n",
        "!ls 'drive/MyDrive/datasets/face-mask-detection/temp'"
      ],
      "metadata": {
        "colab": {
          "base_uri": "https://localhost:8080/"
        },
        "id": "6eXJl1AGSw7_",
        "outputId": "218257ed-bf33-4fc4-f14d-7e54609dd961"
      },
      "execution_count": null,
      "outputs": [
        {
          "output_type": "stream",
          "name": "stdout",
          "text": [
            "annotations  images  temp\n",
            "cropped_images\n"
          ]
        }
      ]
    },
    {
      "cell_type": "markdown",
      "source": [
        "## **2. Test dataset preparation**"
      ],
      "metadata": {
        "id": "efeX939R8kRy"
      }
    },
    {
      "cell_type": "code",
      "source": [
        "data = {'xmin': [], 'ymin': [], 'xmax': [], 'ymax': [], \n",
        "        'label': [], 'file': [], 'width': [], 'height': []}\n",
        "\n",
        "for annotation in glob.glob(annotations_dir + '/*.xml'):\n",
        "    tree = ElementTree.parse(annotation)\n",
        "    \n",
        "    for element in tree.iter():\n",
        "        if 'size' in element.tag:\n",
        "            for attribute in list(element):\n",
        "                if 'width' in attribute.tag:\n",
        "                    width = int(round(float(attribute.text)))\n",
        "                if 'height' in attribute.tag:\n",
        "                    height = int(round(float(attribute.text)))\n",
        "\n",
        "        if 'object' in element.tag:\n",
        "            for attribute in list(element):\n",
        "                if 'name' in attribute.tag:\n",
        "                    name = attribute.text\n",
        "                    data['label'] += [name]\n",
        "                    data['width'] += [width]\n",
        "                    data['height'] += [height]\n",
        "                    data['file'] += [annotation.split('/')[-1][0:-4]]\n",
        "                            \n",
        "                if 'bndbox' in attribute.tag:\n",
        "                    for dimension in list(attribute):\n",
        "                        if 'xmin' in dimension.tag:\n",
        "                            xmin = int(round(float(dimension.text)))\n",
        "                            data['xmin'] += [xmin]\n",
        "                        if 'ymin' in dimension.tag:\n",
        "                            ymin = int(round(float(dimension.text)))\n",
        "                            data['ymin'] += [ymin]                                \n",
        "                        if 'xmax' in dimension.tag:\n",
        "                            xmax = int(round(float(dimension.text)))\n",
        "                            data['xmax'] += [xmax]                                \n",
        "                        if 'ymax' in dimension.tag:\n",
        "                            ymax = int(round(float(dimension.text)))\n",
        "                            data['ymax'] += [ymax]\n"
      ],
      "metadata": {
        "id": "OhIEtgYPP3Fy"
      },
      "execution_count": null,
      "outputs": []
    },
    {
      "cell_type": "markdown",
      "source": [
        "### Cropping images"
      ],
      "metadata": {
        "id": "VihBBoRJ317r"
      }
    },
    {
      "cell_type": "code",
      "source": [
        "df = DataFrame(data)\n",
        "df[key_annotation] = df[key_file] + '.xml'\n",
        "df[key_image_file] = df[key_file] + '.png'\n",
        "df[key_cropped] = df[key_file]\n",
        "\n",
        "df"
      ],
      "metadata": {
        "colab": {
          "base_uri": "https://localhost:8080/",
          "height": 424
        },
        "id": "GQJbf8NzU4vN",
        "outputId": "b78c7357-a798-4e4f-936f-358b326adb59"
      },
      "execution_count": null,
      "outputs": [
        {
          "output_type": "execute_result",
          "data": {
            "text/html": [
              "\n",
              "  <div id=\"df-020b5b53-cca3-4e1e-a084-b3c9ca8bbb76\">\n",
              "    <div class=\"colab-df-container\">\n",
              "      <div>\n",
              "<style scoped>\n",
              "    .dataframe tbody tr th:only-of-type {\n",
              "        vertical-align: middle;\n",
              "    }\n",
              "\n",
              "    .dataframe tbody tr th {\n",
              "        vertical-align: top;\n",
              "    }\n",
              "\n",
              "    .dataframe thead th {\n",
              "        text-align: right;\n",
              "    }\n",
              "</style>\n",
              "<table border=\"1\" class=\"dataframe\">\n",
              "  <thead>\n",
              "    <tr style=\"text-align: right;\">\n",
              "      <th></th>\n",
              "      <th>xmin</th>\n",
              "      <th>ymin</th>\n",
              "      <th>xmax</th>\n",
              "      <th>ymax</th>\n",
              "      <th>label</th>\n",
              "      <th>file</th>\n",
              "      <th>width</th>\n",
              "      <th>height</th>\n",
              "      <th>annotation_file</th>\n",
              "      <th>image_file</th>\n",
              "      <th>cropped_image_file</th>\n",
              "    </tr>\n",
              "  </thead>\n",
              "  <tbody>\n",
              "    <tr>\n",
              "      <th>0</th>\n",
              "      <td>23</td>\n",
              "      <td>114</td>\n",
              "      <td>77</td>\n",
              "      <td>172</td>\n",
              "      <td>mask_weared_incorrect</td>\n",
              "      <td>maksssksksss11</td>\n",
              "      <td>400</td>\n",
              "      <td>267</td>\n",
              "      <td>maksssksksss11.xml</td>\n",
              "      <td>maksssksksss11.png</td>\n",
              "      <td>maksssksksss11</td>\n",
              "    </tr>\n",
              "    <tr>\n",
              "      <th>1</th>\n",
              "      <td>147</td>\n",
              "      <td>157</td>\n",
              "      <td>200</td>\n",
              "      <td>211</td>\n",
              "      <td>with_mask</td>\n",
              "      <td>maksssksksss11</td>\n",
              "      <td>400</td>\n",
              "      <td>267</td>\n",
              "      <td>maksssksksss11.xml</td>\n",
              "      <td>maksssksksss11.png</td>\n",
              "      <td>maksssksksss11</td>\n",
              "    </tr>\n",
              "    <tr>\n",
              "      <th>2</th>\n",
              "      <td>201</td>\n",
              "      <td>191</td>\n",
              "      <td>230</td>\n",
              "      <td>234</td>\n",
              "      <td>with_mask</td>\n",
              "      <td>maksssksksss11</td>\n",
              "      <td>400</td>\n",
              "      <td>267</td>\n",
              "      <td>maksssksksss11.xml</td>\n",
              "      <td>maksssksksss11.png</td>\n",
              "      <td>maksssksksss11</td>\n",
              "    </tr>\n",
              "    <tr>\n",
              "      <th>3</th>\n",
              "      <td>243</td>\n",
              "      <td>192</td>\n",
              "      <td>293</td>\n",
              "      <td>247</td>\n",
              "      <td>with_mask</td>\n",
              "      <td>maksssksksss11</td>\n",
              "      <td>400</td>\n",
              "      <td>267</td>\n",
              "      <td>maksssksksss11.xml</td>\n",
              "      <td>maksssksksss11.png</td>\n",
              "      <td>maksssksksss11</td>\n",
              "    </tr>\n",
              "    <tr>\n",
              "      <th>4</th>\n",
              "      <td>309</td>\n",
              "      <td>182</td>\n",
              "      <td>346</td>\n",
              "      <td>224</td>\n",
              "      <td>with_mask</td>\n",
              "      <td>maksssksksss11</td>\n",
              "      <td>400</td>\n",
              "      <td>267</td>\n",
              "      <td>maksssksksss11.xml</td>\n",
              "      <td>maksssksksss11.png</td>\n",
              "      <td>maksssksksss11</td>\n",
              "    </tr>\n",
              "    <tr>\n",
              "      <th>...</th>\n",
              "      <td>...</td>\n",
              "      <td>...</td>\n",
              "      <td>...</td>\n",
              "      <td>...</td>\n",
              "      <td>...</td>\n",
              "      <td>...</td>\n",
              "      <td>...</td>\n",
              "      <td>...</td>\n",
              "      <td>...</td>\n",
              "      <td>...</td>\n",
              "      <td>...</td>\n",
              "    </tr>\n",
              "    <tr>\n",
              "      <th>4067</th>\n",
              "      <td>247</td>\n",
              "      <td>78</td>\n",
              "      <td>285</td>\n",
              "      <td>107</td>\n",
              "      <td>without_mask</td>\n",
              "      <td>maksssksksss703</td>\n",
              "      <td>400</td>\n",
              "      <td>267</td>\n",
              "      <td>maksssksksss703.xml</td>\n",
              "      <td>maksssksksss703.png</td>\n",
              "      <td>maksssksksss703</td>\n",
              "    </tr>\n",
              "    <tr>\n",
              "      <th>4068</th>\n",
              "      <td>312</td>\n",
              "      <td>82</td>\n",
              "      <td>331</td>\n",
              "      <td>112</td>\n",
              "      <td>with_mask</td>\n",
              "      <td>maksssksksss703</td>\n",
              "      <td>400</td>\n",
              "      <td>267</td>\n",
              "      <td>maksssksksss703.xml</td>\n",
              "      <td>maksssksksss703.png</td>\n",
              "      <td>maksssksksss703</td>\n",
              "    </tr>\n",
              "    <tr>\n",
              "      <th>4069</th>\n",
              "      <td>331</td>\n",
              "      <td>93</td>\n",
              "      <td>371</td>\n",
              "      <td>135</td>\n",
              "      <td>with_mask</td>\n",
              "      <td>maksssksksss703</td>\n",
              "      <td>400</td>\n",
              "      <td>267</td>\n",
              "      <td>maksssksksss703.xml</td>\n",
              "      <td>maksssksksss703.png</td>\n",
              "      <td>maksssksksss703</td>\n",
              "    </tr>\n",
              "    <tr>\n",
              "      <th>4070</th>\n",
              "      <td>384</td>\n",
              "      <td>116</td>\n",
              "      <td>400</td>\n",
              "      <td>156</td>\n",
              "      <td>without_mask</td>\n",
              "      <td>maksssksksss703</td>\n",
              "      <td>400</td>\n",
              "      <td>267</td>\n",
              "      <td>maksssksksss703.xml</td>\n",
              "      <td>maksssksksss703.png</td>\n",
              "      <td>maksssksksss703</td>\n",
              "    </tr>\n",
              "    <tr>\n",
              "      <th>4071</th>\n",
              "      <td>280</td>\n",
              "      <td>197</td>\n",
              "      <td>331</td>\n",
              "      <td>241</td>\n",
              "      <td>with_mask</td>\n",
              "      <td>maksssksksss703</td>\n",
              "      <td>400</td>\n",
              "      <td>267</td>\n",
              "      <td>maksssksksss703.xml</td>\n",
              "      <td>maksssksksss703.png</td>\n",
              "      <td>maksssksksss703</td>\n",
              "    </tr>\n",
              "  </tbody>\n",
              "</table>\n",
              "<p>4072 rows × 11 columns</p>\n",
              "</div>\n",
              "      <button class=\"colab-df-convert\" onclick=\"convertToInteractive('df-020b5b53-cca3-4e1e-a084-b3c9ca8bbb76')\"\n",
              "              title=\"Convert this dataframe to an interactive table.\"\n",
              "              style=\"display:none;\">\n",
              "        \n",
              "  <svg xmlns=\"http://www.w3.org/2000/svg\" height=\"24px\"viewBox=\"0 0 24 24\"\n",
              "       width=\"24px\">\n",
              "    <path d=\"M0 0h24v24H0V0z\" fill=\"none\"/>\n",
              "    <path d=\"M18.56 5.44l.94 2.06.94-2.06 2.06-.94-2.06-.94-.94-2.06-.94 2.06-2.06.94zm-11 1L8.5 8.5l.94-2.06 2.06-.94-2.06-.94L8.5 2.5l-.94 2.06-2.06.94zm10 10l.94 2.06.94-2.06 2.06-.94-2.06-.94-.94-2.06-.94 2.06-2.06.94z\"/><path d=\"M17.41 7.96l-1.37-1.37c-.4-.4-.92-.59-1.43-.59-.52 0-1.04.2-1.43.59L10.3 9.45l-7.72 7.72c-.78.78-.78 2.05 0 2.83L4 21.41c.39.39.9.59 1.41.59.51 0 1.02-.2 1.41-.59l7.78-7.78 2.81-2.81c.8-.78.8-2.07 0-2.86zM5.41 20L4 18.59l7.72-7.72 1.47 1.35L5.41 20z\"/>\n",
              "  </svg>\n",
              "      </button>\n",
              "      \n",
              "  <style>\n",
              "    .colab-df-container {\n",
              "      display:flex;\n",
              "      flex-wrap:wrap;\n",
              "      gap: 12px;\n",
              "    }\n",
              "\n",
              "    .colab-df-convert {\n",
              "      background-color: #E8F0FE;\n",
              "      border: none;\n",
              "      border-radius: 50%;\n",
              "      cursor: pointer;\n",
              "      display: none;\n",
              "      fill: #1967D2;\n",
              "      height: 32px;\n",
              "      padding: 0 0 0 0;\n",
              "      width: 32px;\n",
              "    }\n",
              "\n",
              "    .colab-df-convert:hover {\n",
              "      background-color: #E2EBFA;\n",
              "      box-shadow: 0px 1px 2px rgba(60, 64, 67, 0.3), 0px 1px 3px 1px rgba(60, 64, 67, 0.15);\n",
              "      fill: #174EA6;\n",
              "    }\n",
              "\n",
              "    [theme=dark] .colab-df-convert {\n",
              "      background-color: #3B4455;\n",
              "      fill: #D2E3FC;\n",
              "    }\n",
              "\n",
              "    [theme=dark] .colab-df-convert:hover {\n",
              "      background-color: #434B5C;\n",
              "      box-shadow: 0px 1px 3px 1px rgba(0, 0, 0, 0.15);\n",
              "      filter: drop-shadow(0px 1px 2px rgba(0, 0, 0, 0.3));\n",
              "      fill: #FFFFFF;\n",
              "    }\n",
              "  </style>\n",
              "\n",
              "      <script>\n",
              "        const buttonEl =\n",
              "          document.querySelector('#df-020b5b53-cca3-4e1e-a084-b3c9ca8bbb76 button.colab-df-convert');\n",
              "        buttonEl.style.display =\n",
              "          google.colab.kernel.accessAllowed ? 'block' : 'none';\n",
              "\n",
              "        async function convertToInteractive(key) {\n",
              "          const element = document.querySelector('#df-020b5b53-cca3-4e1e-a084-b3c9ca8bbb76');\n",
              "          const dataTable =\n",
              "            await google.colab.kernel.invokeFunction('convertToInteractive',\n",
              "                                                     [key], {});\n",
              "          if (!dataTable) return;\n",
              "\n",
              "          const docLinkHtml = 'Like what you see? Visit the ' +\n",
              "            '<a target=\"_blank\" href=https://colab.research.google.com/notebooks/data_table.ipynb>data table notebook</a>'\n",
              "            + ' to learn more about interactive tables.';\n",
              "          element.innerHTML = '';\n",
              "          dataTable['output_type'] = 'display_data';\n",
              "          await google.colab.output.renderOutput(dataTable, element);\n",
              "          const docLink = document.createElement('div');\n",
              "          docLink.innerHTML = docLinkHtml;\n",
              "          element.appendChild(docLink);\n",
              "        }\n",
              "      </script>\n",
              "    </div>\n",
              "  </div>\n",
              "  "
            ],
            "text/plain": [
              "      xmin  ymin  ...           image_file  cropped_image_file\n",
              "0       23   114  ...   maksssksksss11.png      maksssksksss11\n",
              "1      147   157  ...   maksssksksss11.png      maksssksksss11\n",
              "2      201   191  ...   maksssksksss11.png      maksssksksss11\n",
              "3      243   192  ...   maksssksksss11.png      maksssksksss11\n",
              "4      309   182  ...   maksssksksss11.png      maksssksksss11\n",
              "...    ...   ...  ...                  ...                 ...\n",
              "4067   247    78  ...  maksssksksss703.png     maksssksksss703\n",
              "4068   312    82  ...  maksssksksss703.png     maksssksksss703\n",
              "4069   331    93  ...  maksssksksss703.png     maksssksksss703\n",
              "4070   384   116  ...  maksssksksss703.png     maksssksksss703\n",
              "4071   280   197  ...  maksssksksss703.png     maksssksksss703\n",
              "\n",
              "[4072 rows x 11 columns]"
            ]
          },
          "metadata": {},
          "execution_count": 6
        }
      ]
    },
    {
      "cell_type": "code",
      "source": [
        "def crop(write=False):\n",
        "  for i in range(len(df)):\n",
        "      image_path = images_dir + '/' + df[key_image_file].iloc[i]\n",
        "      \n",
        "      df[key_cropped].iloc[i] = df[key_cropped].iloc[i] + '-' + str(i) + '.png'\n",
        "      cropped_image_filename = df[key_cropped].iloc[i]\n",
        "      \n",
        "      xmin = df['xmin'].iloc[i]\n",
        "      ymin = df['ymin'].iloc[i]\n",
        "      xmax = df['xmax'].iloc[i]\n",
        "      ymax = df['ymax'].iloc[i]\n",
        "      \n",
        "      if write:\n",
        "        image = cv2.imread(image_path)\n",
        "        cropped_image = image[ymin:ymax, xmin:xmax]\n",
        "        cropped_image_dir = os.path.join(cropped_dir + '/', cropped_image_filename) \n",
        "        cv2.imwrite(cropped_image_dir, cropped_image)"
      ],
      "metadata": {
        "id": "IqYydzC4Ru6v"
      },
      "execution_count": null,
      "outputs": []
    },
    {
      "cell_type": "code",
      "source": [
        "crop()"
      ],
      "metadata": {
        "colab": {
          "base_uri": "https://localhost:8080/"
        },
        "id": "_3WawON3SI3w",
        "outputId": "6027b2d1-25d7-425a-8c9a-6a499d6ead06"
      },
      "execution_count": null,
      "outputs": [
        {
          "output_type": "stream",
          "name": "stderr",
          "text": [
            "/usr/local/lib/python3.7/dist-packages/pandas/core/indexing.py:670: SettingWithCopyWarning: \n",
            "A value is trying to be set on a copy of a slice from a DataFrame\n",
            "\n",
            "See the caveats in the documentation: https://pandas.pydata.org/pandas-docs/stable/user_guide/indexing.html#returning-a-view-versus-a-copy\n",
            "  iloc._setitem_with_indexer(indexer, value)\n"
          ]
        }
      ]
    },
    {
      "cell_type": "code",
      "source": [
        "test_df = df[:800]\n",
        "train_df = df[800:]\n",
        "\n",
        "classes = list(train_df[key_label].unique())\n",
        "\n",
        "df"
      ],
      "metadata": {
        "id": "eADyeXLgWX25",
        "colab": {
          "base_uri": "https://localhost:8080/",
          "height": 424
        },
        "outputId": "020d1cb4-1531-4681-e40b-ee0102ac5be8"
      },
      "execution_count": null,
      "outputs": [
        {
          "output_type": "execute_result",
          "data": {
            "text/html": [
              "\n",
              "  <div id=\"df-6ba7d451-9194-4857-8ab0-2ad1cfbcaf0c\">\n",
              "    <div class=\"colab-df-container\">\n",
              "      <div>\n",
              "<style scoped>\n",
              "    .dataframe tbody tr th:only-of-type {\n",
              "        vertical-align: middle;\n",
              "    }\n",
              "\n",
              "    .dataframe tbody tr th {\n",
              "        vertical-align: top;\n",
              "    }\n",
              "\n",
              "    .dataframe thead th {\n",
              "        text-align: right;\n",
              "    }\n",
              "</style>\n",
              "<table border=\"1\" class=\"dataframe\">\n",
              "  <thead>\n",
              "    <tr style=\"text-align: right;\">\n",
              "      <th></th>\n",
              "      <th>xmin</th>\n",
              "      <th>ymin</th>\n",
              "      <th>xmax</th>\n",
              "      <th>ymax</th>\n",
              "      <th>label</th>\n",
              "      <th>file</th>\n",
              "      <th>width</th>\n",
              "      <th>height</th>\n",
              "      <th>annotation_file</th>\n",
              "      <th>image_file</th>\n",
              "      <th>cropped_image_file</th>\n",
              "    </tr>\n",
              "  </thead>\n",
              "  <tbody>\n",
              "    <tr>\n",
              "      <th>0</th>\n",
              "      <td>23</td>\n",
              "      <td>114</td>\n",
              "      <td>77</td>\n",
              "      <td>172</td>\n",
              "      <td>mask_weared_incorrect</td>\n",
              "      <td>maksssksksss11</td>\n",
              "      <td>400</td>\n",
              "      <td>267</td>\n",
              "      <td>maksssksksss11.xml</td>\n",
              "      <td>maksssksksss11.png</td>\n",
              "      <td>maksssksksss11-0.png</td>\n",
              "    </tr>\n",
              "    <tr>\n",
              "      <th>1</th>\n",
              "      <td>147</td>\n",
              "      <td>157</td>\n",
              "      <td>200</td>\n",
              "      <td>211</td>\n",
              "      <td>with_mask</td>\n",
              "      <td>maksssksksss11</td>\n",
              "      <td>400</td>\n",
              "      <td>267</td>\n",
              "      <td>maksssksksss11.xml</td>\n",
              "      <td>maksssksksss11.png</td>\n",
              "      <td>maksssksksss11-1.png</td>\n",
              "    </tr>\n",
              "    <tr>\n",
              "      <th>2</th>\n",
              "      <td>201</td>\n",
              "      <td>191</td>\n",
              "      <td>230</td>\n",
              "      <td>234</td>\n",
              "      <td>with_mask</td>\n",
              "      <td>maksssksksss11</td>\n",
              "      <td>400</td>\n",
              "      <td>267</td>\n",
              "      <td>maksssksksss11.xml</td>\n",
              "      <td>maksssksksss11.png</td>\n",
              "      <td>maksssksksss11-2.png</td>\n",
              "    </tr>\n",
              "    <tr>\n",
              "      <th>3</th>\n",
              "      <td>243</td>\n",
              "      <td>192</td>\n",
              "      <td>293</td>\n",
              "      <td>247</td>\n",
              "      <td>with_mask</td>\n",
              "      <td>maksssksksss11</td>\n",
              "      <td>400</td>\n",
              "      <td>267</td>\n",
              "      <td>maksssksksss11.xml</td>\n",
              "      <td>maksssksksss11.png</td>\n",
              "      <td>maksssksksss11-3.png</td>\n",
              "    </tr>\n",
              "    <tr>\n",
              "      <th>4</th>\n",
              "      <td>309</td>\n",
              "      <td>182</td>\n",
              "      <td>346</td>\n",
              "      <td>224</td>\n",
              "      <td>with_mask</td>\n",
              "      <td>maksssksksss11</td>\n",
              "      <td>400</td>\n",
              "      <td>267</td>\n",
              "      <td>maksssksksss11.xml</td>\n",
              "      <td>maksssksksss11.png</td>\n",
              "      <td>maksssksksss11-4.png</td>\n",
              "    </tr>\n",
              "    <tr>\n",
              "      <th>...</th>\n",
              "      <td>...</td>\n",
              "      <td>...</td>\n",
              "      <td>...</td>\n",
              "      <td>...</td>\n",
              "      <td>...</td>\n",
              "      <td>...</td>\n",
              "      <td>...</td>\n",
              "      <td>...</td>\n",
              "      <td>...</td>\n",
              "      <td>...</td>\n",
              "      <td>...</td>\n",
              "    </tr>\n",
              "    <tr>\n",
              "      <th>4067</th>\n",
              "      <td>247</td>\n",
              "      <td>78</td>\n",
              "      <td>285</td>\n",
              "      <td>107</td>\n",
              "      <td>without_mask</td>\n",
              "      <td>maksssksksss703</td>\n",
              "      <td>400</td>\n",
              "      <td>267</td>\n",
              "      <td>maksssksksss703.xml</td>\n",
              "      <td>maksssksksss703.png</td>\n",
              "      <td>maksssksksss703-4067.png</td>\n",
              "    </tr>\n",
              "    <tr>\n",
              "      <th>4068</th>\n",
              "      <td>312</td>\n",
              "      <td>82</td>\n",
              "      <td>331</td>\n",
              "      <td>112</td>\n",
              "      <td>with_mask</td>\n",
              "      <td>maksssksksss703</td>\n",
              "      <td>400</td>\n",
              "      <td>267</td>\n",
              "      <td>maksssksksss703.xml</td>\n",
              "      <td>maksssksksss703.png</td>\n",
              "      <td>maksssksksss703-4068.png</td>\n",
              "    </tr>\n",
              "    <tr>\n",
              "      <th>4069</th>\n",
              "      <td>331</td>\n",
              "      <td>93</td>\n",
              "      <td>371</td>\n",
              "      <td>135</td>\n",
              "      <td>with_mask</td>\n",
              "      <td>maksssksksss703</td>\n",
              "      <td>400</td>\n",
              "      <td>267</td>\n",
              "      <td>maksssksksss703.xml</td>\n",
              "      <td>maksssksksss703.png</td>\n",
              "      <td>maksssksksss703-4069.png</td>\n",
              "    </tr>\n",
              "    <tr>\n",
              "      <th>4070</th>\n",
              "      <td>384</td>\n",
              "      <td>116</td>\n",
              "      <td>400</td>\n",
              "      <td>156</td>\n",
              "      <td>without_mask</td>\n",
              "      <td>maksssksksss703</td>\n",
              "      <td>400</td>\n",
              "      <td>267</td>\n",
              "      <td>maksssksksss703.xml</td>\n",
              "      <td>maksssksksss703.png</td>\n",
              "      <td>maksssksksss703-4070.png</td>\n",
              "    </tr>\n",
              "    <tr>\n",
              "      <th>4071</th>\n",
              "      <td>280</td>\n",
              "      <td>197</td>\n",
              "      <td>331</td>\n",
              "      <td>241</td>\n",
              "      <td>with_mask</td>\n",
              "      <td>maksssksksss703</td>\n",
              "      <td>400</td>\n",
              "      <td>267</td>\n",
              "      <td>maksssksksss703.xml</td>\n",
              "      <td>maksssksksss703.png</td>\n",
              "      <td>maksssksksss703-4071.png</td>\n",
              "    </tr>\n",
              "  </tbody>\n",
              "</table>\n",
              "<p>4072 rows × 11 columns</p>\n",
              "</div>\n",
              "      <button class=\"colab-df-convert\" onclick=\"convertToInteractive('df-6ba7d451-9194-4857-8ab0-2ad1cfbcaf0c')\"\n",
              "              title=\"Convert this dataframe to an interactive table.\"\n",
              "              style=\"display:none;\">\n",
              "        \n",
              "  <svg xmlns=\"http://www.w3.org/2000/svg\" height=\"24px\"viewBox=\"0 0 24 24\"\n",
              "       width=\"24px\">\n",
              "    <path d=\"M0 0h24v24H0V0z\" fill=\"none\"/>\n",
              "    <path d=\"M18.56 5.44l.94 2.06.94-2.06 2.06-.94-2.06-.94-.94-2.06-.94 2.06-2.06.94zm-11 1L8.5 8.5l.94-2.06 2.06-.94-2.06-.94L8.5 2.5l-.94 2.06-2.06.94zm10 10l.94 2.06.94-2.06 2.06-.94-2.06-.94-.94-2.06-.94 2.06-2.06.94z\"/><path d=\"M17.41 7.96l-1.37-1.37c-.4-.4-.92-.59-1.43-.59-.52 0-1.04.2-1.43.59L10.3 9.45l-7.72 7.72c-.78.78-.78 2.05 0 2.83L4 21.41c.39.39.9.59 1.41.59.51 0 1.02-.2 1.41-.59l7.78-7.78 2.81-2.81c.8-.78.8-2.07 0-2.86zM5.41 20L4 18.59l7.72-7.72 1.47 1.35L5.41 20z\"/>\n",
              "  </svg>\n",
              "      </button>\n",
              "      \n",
              "  <style>\n",
              "    .colab-df-container {\n",
              "      display:flex;\n",
              "      flex-wrap:wrap;\n",
              "      gap: 12px;\n",
              "    }\n",
              "\n",
              "    .colab-df-convert {\n",
              "      background-color: #E8F0FE;\n",
              "      border: none;\n",
              "      border-radius: 50%;\n",
              "      cursor: pointer;\n",
              "      display: none;\n",
              "      fill: #1967D2;\n",
              "      height: 32px;\n",
              "      padding: 0 0 0 0;\n",
              "      width: 32px;\n",
              "    }\n",
              "\n",
              "    .colab-df-convert:hover {\n",
              "      background-color: #E2EBFA;\n",
              "      box-shadow: 0px 1px 2px rgba(60, 64, 67, 0.3), 0px 1px 3px 1px rgba(60, 64, 67, 0.15);\n",
              "      fill: #174EA6;\n",
              "    }\n",
              "\n",
              "    [theme=dark] .colab-df-convert {\n",
              "      background-color: #3B4455;\n",
              "      fill: #D2E3FC;\n",
              "    }\n",
              "\n",
              "    [theme=dark] .colab-df-convert:hover {\n",
              "      background-color: #434B5C;\n",
              "      box-shadow: 0px 1px 3px 1px rgba(0, 0, 0, 0.15);\n",
              "      filter: drop-shadow(0px 1px 2px rgba(0, 0, 0, 0.3));\n",
              "      fill: #FFFFFF;\n",
              "    }\n",
              "  </style>\n",
              "\n",
              "      <script>\n",
              "        const buttonEl =\n",
              "          document.querySelector('#df-6ba7d451-9194-4857-8ab0-2ad1cfbcaf0c button.colab-df-convert');\n",
              "        buttonEl.style.display =\n",
              "          google.colab.kernel.accessAllowed ? 'block' : 'none';\n",
              "\n",
              "        async function convertToInteractive(key) {\n",
              "          const element = document.querySelector('#df-6ba7d451-9194-4857-8ab0-2ad1cfbcaf0c');\n",
              "          const dataTable =\n",
              "            await google.colab.kernel.invokeFunction('convertToInteractive',\n",
              "                                                     [key], {});\n",
              "          if (!dataTable) return;\n",
              "\n",
              "          const docLinkHtml = 'Like what you see? Visit the ' +\n",
              "            '<a target=\"_blank\" href=https://colab.research.google.com/notebooks/data_table.ipynb>data table notebook</a>'\n",
              "            + ' to learn more about interactive tables.';\n",
              "          element.innerHTML = '';\n",
              "          dataTable['output_type'] = 'display_data';\n",
              "          await google.colab.output.renderOutput(dataTable, element);\n",
              "          const docLink = document.createElement('div');\n",
              "          docLink.innerHTML = docLinkHtml;\n",
              "          element.appendChild(docLink);\n",
              "        }\n",
              "      </script>\n",
              "    </div>\n",
              "  </div>\n",
              "  "
            ],
            "text/plain": [
              "      xmin  ymin  ...           image_file        cropped_image_file\n",
              "0       23   114  ...   maksssksksss11.png      maksssksksss11-0.png\n",
              "1      147   157  ...   maksssksksss11.png      maksssksksss11-1.png\n",
              "2      201   191  ...   maksssksksss11.png      maksssksksss11-2.png\n",
              "3      243   192  ...   maksssksksss11.png      maksssksksss11-3.png\n",
              "4      309   182  ...   maksssksksss11.png      maksssksksss11-4.png\n",
              "...    ...   ...  ...                  ...                       ...\n",
              "4067   247    78  ...  maksssksksss703.png  maksssksksss703-4067.png\n",
              "4068   312    82  ...  maksssksksss703.png  maksssksksss703-4068.png\n",
              "4069   331    93  ...  maksssksksss703.png  maksssksksss703-4069.png\n",
              "4070   384   116  ...  maksssksksss703.png  maksssksksss703-4070.png\n",
              "4071   280   197  ...  maksssksksss703.png  maksssksksss703-4071.png\n",
              "\n",
              "[4072 rows x 11 columns]"
            ]
          },
          "metadata": {},
          "execution_count": 12
        }
      ]
    },
    {
      "cell_type": "code",
      "source": [
        "sorted_label_df = DataFrame(train_df['label'].value_counts()).reset_index()\n",
        "sorted_label_df.rename(columns = {'index': 'label', 'label': 'count'}, inplace = True)\n",
        "sorted_label_df"
      ],
      "metadata": {
        "colab": {
          "base_uri": "https://localhost:8080/",
          "height": 143
        },
        "id": "09RgS5yLW_oP",
        "outputId": "da71ad09-d03a-487f-9321-2cb28985b89b"
      },
      "execution_count": null,
      "outputs": [
        {
          "output_type": "execute_result",
          "data": {
            "text/html": [
              "\n",
              "  <div id=\"df-3ff23bc1-4eb2-4bf7-a39d-acd7c590949f\">\n",
              "    <div class=\"colab-df-container\">\n",
              "      <div>\n",
              "<style scoped>\n",
              "    .dataframe tbody tr th:only-of-type {\n",
              "        vertical-align: middle;\n",
              "    }\n",
              "\n",
              "    .dataframe tbody tr th {\n",
              "        vertical-align: top;\n",
              "    }\n",
              "\n",
              "    .dataframe thead th {\n",
              "        text-align: right;\n",
              "    }\n",
              "</style>\n",
              "<table border=\"1\" class=\"dataframe\">\n",
              "  <thead>\n",
              "    <tr style=\"text-align: right;\">\n",
              "      <th></th>\n",
              "      <th>label</th>\n",
              "      <th>count</th>\n",
              "    </tr>\n",
              "  </thead>\n",
              "  <tbody>\n",
              "    <tr>\n",
              "      <th>0</th>\n",
              "      <td>with_mask</td>\n",
              "      <td>2591</td>\n",
              "    </tr>\n",
              "    <tr>\n",
              "      <th>1</th>\n",
              "      <td>without_mask</td>\n",
              "      <td>580</td>\n",
              "    </tr>\n",
              "    <tr>\n",
              "      <th>2</th>\n",
              "      <td>mask_weared_incorrect</td>\n",
              "      <td>101</td>\n",
              "    </tr>\n",
              "  </tbody>\n",
              "</table>\n",
              "</div>\n",
              "      <button class=\"colab-df-convert\" onclick=\"convertToInteractive('df-3ff23bc1-4eb2-4bf7-a39d-acd7c590949f')\"\n",
              "              title=\"Convert this dataframe to an interactive table.\"\n",
              "              style=\"display:none;\">\n",
              "        \n",
              "  <svg xmlns=\"http://www.w3.org/2000/svg\" height=\"24px\"viewBox=\"0 0 24 24\"\n",
              "       width=\"24px\">\n",
              "    <path d=\"M0 0h24v24H0V0z\" fill=\"none\"/>\n",
              "    <path d=\"M18.56 5.44l.94 2.06.94-2.06 2.06-.94-2.06-.94-.94-2.06-.94 2.06-2.06.94zm-11 1L8.5 8.5l.94-2.06 2.06-.94-2.06-.94L8.5 2.5l-.94 2.06-2.06.94zm10 10l.94 2.06.94-2.06 2.06-.94-2.06-.94-.94-2.06-.94 2.06-2.06.94z\"/><path d=\"M17.41 7.96l-1.37-1.37c-.4-.4-.92-.59-1.43-.59-.52 0-1.04.2-1.43.59L10.3 9.45l-7.72 7.72c-.78.78-.78 2.05 0 2.83L4 21.41c.39.39.9.59 1.41.59.51 0 1.02-.2 1.41-.59l7.78-7.78 2.81-2.81c.8-.78.8-2.07 0-2.86zM5.41 20L4 18.59l7.72-7.72 1.47 1.35L5.41 20z\"/>\n",
              "  </svg>\n",
              "      </button>\n",
              "      \n",
              "  <style>\n",
              "    .colab-df-container {\n",
              "      display:flex;\n",
              "      flex-wrap:wrap;\n",
              "      gap: 12px;\n",
              "    }\n",
              "\n",
              "    .colab-df-convert {\n",
              "      background-color: #E8F0FE;\n",
              "      border: none;\n",
              "      border-radius: 50%;\n",
              "      cursor: pointer;\n",
              "      display: none;\n",
              "      fill: #1967D2;\n",
              "      height: 32px;\n",
              "      padding: 0 0 0 0;\n",
              "      width: 32px;\n",
              "    }\n",
              "\n",
              "    .colab-df-convert:hover {\n",
              "      background-color: #E2EBFA;\n",
              "      box-shadow: 0px 1px 2px rgba(60, 64, 67, 0.3), 0px 1px 3px 1px rgba(60, 64, 67, 0.15);\n",
              "      fill: #174EA6;\n",
              "    }\n",
              "\n",
              "    [theme=dark] .colab-df-convert {\n",
              "      background-color: #3B4455;\n",
              "      fill: #D2E3FC;\n",
              "    }\n",
              "\n",
              "    [theme=dark] .colab-df-convert:hover {\n",
              "      background-color: #434B5C;\n",
              "      box-shadow: 0px 1px 3px 1px rgba(0, 0, 0, 0.15);\n",
              "      filter: drop-shadow(0px 1px 2px rgba(0, 0, 0, 0.3));\n",
              "      fill: #FFFFFF;\n",
              "    }\n",
              "  </style>\n",
              "\n",
              "      <script>\n",
              "        const buttonEl =\n",
              "          document.querySelector('#df-3ff23bc1-4eb2-4bf7-a39d-acd7c590949f button.colab-df-convert');\n",
              "        buttonEl.style.display =\n",
              "          google.colab.kernel.accessAllowed ? 'block' : 'none';\n",
              "\n",
              "        async function convertToInteractive(key) {\n",
              "          const element = document.querySelector('#df-3ff23bc1-4eb2-4bf7-a39d-acd7c590949f');\n",
              "          const dataTable =\n",
              "            await google.colab.kernel.invokeFunction('convertToInteractive',\n",
              "                                                     [key], {});\n",
              "          if (!dataTable) return;\n",
              "\n",
              "          const docLinkHtml = 'Like what you see? Visit the ' +\n",
              "            '<a target=\"_blank\" href=https://colab.research.google.com/notebooks/data_table.ipynb>data table notebook</a>'\n",
              "            + ' to learn more about interactive tables.';\n",
              "          element.innerHTML = '';\n",
              "          dataTable['output_type'] = 'display_data';\n",
              "          await google.colab.output.renderOutput(dataTable, element);\n",
              "          const docLink = document.createElement('div');\n",
              "          docLink.innerHTML = docLinkHtml;\n",
              "          element.appendChild(docLink);\n",
              "        }\n",
              "      </script>\n",
              "    </div>\n",
              "  </div>\n",
              "  "
            ],
            "text/plain": [
              "                   label  count\n",
              "0              with_mask   2591\n",
              "1           without_mask    580\n",
              "2  mask_weared_incorrect    101"
            ]
          },
          "metadata": {},
          "execution_count": 13
        }
      ]
    },
    {
      "cell_type": "code",
      "source": [
        "image_width = []\n",
        "image_height = []\n",
        "\n",
        "for i in range(len(train_df)):\n",
        "    cropped_image_path = cropped_dir + '/' + train_df[key_cropped].iloc[i]\n",
        "    cropped_image = cv2.imread(cropped_image_path)\n",
        "    image_width.append(cropped_image.shape[0])\n",
        "    image_height.append(cropped_image.shape[1])"
      ],
      "metadata": {
        "id": "dSSdEUAcXOIj"
      },
      "execution_count": null,
      "outputs": []
    },
    {
      "cell_type": "code",
      "source": [
        "image_target_size = (int(np.median(image_width)), int(np.median(image_height)))\n",
        "image_target_size"
      ],
      "metadata": {
        "colab": {
          "base_uri": "https://localhost:8080/"
        },
        "id": "49VKKSNQXP-I",
        "outputId": "5fadf0a2-124c-49d9-ca5f-b1812f23488d"
      },
      "execution_count": null,
      "outputs": [
        {
          "output_type": "execute_result",
          "data": {
            "text/plain": [
              "(24, 22)"
            ]
          },
          "metadata": {},
          "execution_count": 15
        }
      ]
    },
    {
      "cell_type": "markdown",
      "source": [
        "### // TODO: Data Augmentation"
      ],
      "metadata": {
        "id": "_0iXOsl4oIS0"
      }
    },
    {
      "cell_type": "code",
      "source": [
        "data_augmentation = tf.keras.Sequential([\n",
        "  tf.keras.layers.RandomFlip('horizontal'),\n",
        "  tf.keras.layers.RandomRotation(0.2),\n",
        "])\n",
        "\n",
        "for image, _ in train_dataset.take(1):\n",
        "  plt.figure(figsize=(10, 10))\n",
        "  first_image = image[0]\n",
        "  for i in range(9):\n",
        "    ax = plt.subplot(3, 3, i + 1)\n",
        "    augmented_image = data_augmentation(tf.expand_dims(first_image, 0))\n",
        "    plt.imshow(augmented_image[0] / 255)\n",
        "    plt.axis('off')"
      ],
      "metadata": {
        "id": "n2LW-vAaZUGK"
      },
      "execution_count": null,
      "outputs": []
    },
    {
      "cell_type": "markdown",
      "source": [
        "### Loading datasets"
      ],
      "metadata": {
        "id": "AdkXrSmPowrx"
      }
    },
    {
      "cell_type": "code",
      "source": [
        "training_image_generator = ImageDataGenerator(rescale = 1. / 255., validation_split = 0.25)\n",
        "\n",
        "training_generator = training_image_generator.flow_from_dataframe(\n",
        "    dataframe = train_df,\n",
        "    directory = cropped_dir,\n",
        "    x_col = key_cropped,\n",
        "    y_col = key_label,\n",
        "    subset = 'training',\n",
        "    batch_size = BATCH_SIZE,\n",
        "    seed = SEED_SIZE,\n",
        "    shuffle = True,\n",
        "    class_mode = 'categorical',\n",
        "    target_size = image_target_size\n",
        ")\n",
        "\n",
        "validation_generator = training_image_generator.flow_from_dataframe(\n",
        "    dataframe = train_df,\n",
        "    directory = cropped_dir,\n",
        "    x_col = key_cropped,\n",
        "    y_col = key_label,\n",
        "    subset = 'validation',\n",
        "    batch_size = BATCH_SIZE,\n",
        "    seed = SEED_SIZE,\n",
        "    shuffle = True,\n",
        "    class_mode = 'categorical',\n",
        "    target_size = image_target_size\n",
        ")"
      ],
      "metadata": {
        "colab": {
          "base_uri": "https://localhost:8080/"
        },
        "id": "UtYDLzubYRF6",
        "outputId": "85f0bd85-82a3-4c2d-a36d-dcd0bdccbd7a"
      },
      "execution_count": null,
      "outputs": [
        {
          "output_type": "stream",
          "name": "stdout",
          "text": [
            "Found 2454 validated image filenames belonging to 3 classes.\n",
            "Found 818 validated image filenames belonging to 3 classes.\n"
          ]
        }
      ]
    },
    {
      "cell_type": "code",
      "source": [
        "test_image_generator = ImageDataGenerator(rescale = 1. / 255.)\n",
        "\n",
        "test_generator = test_image_generator.flow_from_dataframe(\n",
        "    dataframe = test_df,\n",
        "    directory = cropped_dir,\n",
        "    x_col = key_cropped,\n",
        "    y_col = key_label,\n",
        "    batch_size = BATCH_SIZE,\n",
        "    seed = SEED_SIZE,\n",
        "    shuffle = True,\n",
        "    class_mode = 'categorical',\n",
        "    target_size = image_target_size\n",
        ")"
      ],
      "metadata": {
        "colab": {
          "base_uri": "https://localhost:8080/"
        },
        "id": "ipDoDk3JZp04",
        "outputId": "f2d6121c-a202-4bb0-b098-d4b70303ebfd"
      },
      "execution_count": null,
      "outputs": [
        {
          "output_type": "stream",
          "name": "stdout",
          "text": [
            "Found 800 validated image filenames belonging to 3 classes.\n"
          ]
        }
      ]
    },
    {
      "cell_type": "code",
      "source": [
        "input_shap = [int(np.median(image_width)), int(np.median(image_height)), 3]"
      ],
      "metadata": {
        "id": "qJeuwkYQZ2c-"
      },
      "execution_count": null,
      "outputs": []
    },
    {
      "cell_type": "markdown",
      "source": [
        "## **3. Model preparation for transfer learning**"
      ],
      "metadata": {
        "id": "7eMfiD9eKRNf"
      }
    },
    {
      "cell_type": "markdown",
      "source": [
        "### Preparing ResNet50 model"
      ],
      "metadata": {
        "id": "MM8tYJCQlOpG"
      }
    },
    {
      "cell_type": "code",
      "source": [
        "base_input_shape = (250, 250, 3)\n",
        "weights = 'imagenet'\n",
        "\n",
        "# without dense part\n",
        "base_model = ResNet50(weights=weights, \n",
        "                      include_top=False, \n",
        "                      input_shape=base_input_shape)"
      ],
      "metadata": {
        "id": "FxkB0fFqaDEj",
        "colab": {
          "base_uri": "https://localhost:8080/"
        },
        "outputId": "b746a2dc-5444-48cd-9418-d9f041844aaa"
      },
      "execution_count": null,
      "outputs": [
        {
          "output_type": "stream",
          "name": "stdout",
          "text": [
            "Downloading data from https://storage.googleapis.com/tensorflow/keras-applications/resnet/resnet50_weights_tf_dim_ordering_tf_kernels_notop.h5\n",
            "94773248/94765736 [==============================] - 1s 0us/step\n",
            "94781440/94765736 [==============================] - 1s 0us/step\n"
          ]
        }
      ]
    },
    {
      "cell_type": "markdown",
      "source": [
        "### Freezing base layers"
      ],
      "metadata": {
        "id": "YUimgfVU8ror"
      }
    },
    {
      "cell_type": "code",
      "source": [
        "for layer in base_model.layers:\n",
        "    layer.trainable = False"
      ],
      "metadata": {
        "id": "w7cuCplW8qqf"
      },
      "execution_count": null,
      "outputs": []
    },
    {
      "cell_type": "markdown",
      "source": [
        "### Adding Global Avg Pooling 2D and Dense layer"
      ],
      "metadata": {
        "id": "2T5GetyN8frV"
      }
    },
    {
      "cell_type": "code",
      "source": [
        "num_classes = 3\n",
        "activation = 'sigmoid' #'relu'\n",
        "learning_rate = 0.1 #0.01 - 0.9\n",
        "\n",
        "\n",
        "global_avg_pooling = keras.layers.GlobalAveragePooling2D()(base_model.output)\n",
        "output = keras.layers.Dense(num_classes, activation=activation)(global_avg_pooling)\n",
        "\n",
        "classifier = keras.models.Model(inputs=base_model.input,\n",
        "                                outputs=output,\n",
        "                                name='ResNet50')\n",
        "\n",
        "classifier.summary()"
      ],
      "metadata": {
        "id": "TIYoxgJFaRj_",
        "colab": {
          "base_uri": "https://localhost:8080/"
        },
        "outputId": "b73df43b-2a6a-4550-aa31-e61de2d45f29"
      },
      "execution_count": null,
      "outputs": [
        {
          "output_type": "stream",
          "name": "stdout",
          "text": [
            "Model: \"ResNet50\"\n",
            "__________________________________________________________________________________________________\n",
            " Layer (type)                   Output Shape         Param #     Connected to                     \n",
            "==================================================================================================\n",
            " input_1 (InputLayer)           [(None, 250, 250, 3  0           []                               \n",
            "                                )]                                                                \n",
            "                                                                                                  \n",
            " conv1_pad (ZeroPadding2D)      (None, 256, 256, 3)  0           ['input_1[0][0]']                \n",
            "                                                                                                  \n",
            " conv1_conv (Conv2D)            (None, 125, 125, 64  9472        ['conv1_pad[0][0]']              \n",
            "                                )                                                                 \n",
            "                                                                                                  \n",
            " conv1_bn (BatchNormalization)  (None, 125, 125, 64  256         ['conv1_conv[0][0]']             \n",
            "                                )                                                                 \n",
            "                                                                                                  \n",
            " conv1_relu (Activation)        (None, 125, 125, 64  0           ['conv1_bn[0][0]']               \n",
            "                                )                                                                 \n",
            "                                                                                                  \n",
            " pool1_pad (ZeroPadding2D)      (None, 127, 127, 64  0           ['conv1_relu[0][0]']             \n",
            "                                )                                                                 \n",
            "                                                                                                  \n",
            " pool1_pool (MaxPooling2D)      (None, 63, 63, 64)   0           ['pool1_pad[0][0]']              \n",
            "                                                                                                  \n",
            " conv2_block1_1_conv (Conv2D)   (None, 63, 63, 64)   4160        ['pool1_pool[0][0]']             \n",
            "                                                                                                  \n",
            " conv2_block1_1_bn (BatchNormal  (None, 63, 63, 64)  256         ['conv2_block1_1_conv[0][0]']    \n",
            " ization)                                                                                         \n",
            "                                                                                                  \n",
            " conv2_block1_1_relu (Activatio  (None, 63, 63, 64)  0           ['conv2_block1_1_bn[0][0]']      \n",
            " n)                                                                                               \n",
            "                                                                                                  \n",
            " conv2_block1_2_conv (Conv2D)   (None, 63, 63, 64)   36928       ['conv2_block1_1_relu[0][0]']    \n",
            "                                                                                                  \n",
            " conv2_block1_2_bn (BatchNormal  (None, 63, 63, 64)  256         ['conv2_block1_2_conv[0][0]']    \n",
            " ization)                                                                                         \n",
            "                                                                                                  \n",
            " conv2_block1_2_relu (Activatio  (None, 63, 63, 64)  0           ['conv2_block1_2_bn[0][0]']      \n",
            " n)                                                                                               \n",
            "                                                                                                  \n",
            " conv2_block1_0_conv (Conv2D)   (None, 63, 63, 256)  16640       ['pool1_pool[0][0]']             \n",
            "                                                                                                  \n",
            " conv2_block1_3_conv (Conv2D)   (None, 63, 63, 256)  16640       ['conv2_block1_2_relu[0][0]']    \n",
            "                                                                                                  \n",
            " conv2_block1_0_bn (BatchNormal  (None, 63, 63, 256)  1024       ['conv2_block1_0_conv[0][0]']    \n",
            " ization)                                                                                         \n",
            "                                                                                                  \n",
            " conv2_block1_3_bn (BatchNormal  (None, 63, 63, 256)  1024       ['conv2_block1_3_conv[0][0]']    \n",
            " ization)                                                                                         \n",
            "                                                                                                  \n",
            " conv2_block1_add (Add)         (None, 63, 63, 256)  0           ['conv2_block1_0_bn[0][0]',      \n",
            "                                                                  'conv2_block1_3_bn[0][0]']      \n",
            "                                                                                                  \n",
            " conv2_block1_out (Activation)  (None, 63, 63, 256)  0           ['conv2_block1_add[0][0]']       \n",
            "                                                                                                  \n",
            " conv2_block2_1_conv (Conv2D)   (None, 63, 63, 64)   16448       ['conv2_block1_out[0][0]']       \n",
            "                                                                                                  \n",
            " conv2_block2_1_bn (BatchNormal  (None, 63, 63, 64)  256         ['conv2_block2_1_conv[0][0]']    \n",
            " ization)                                                                                         \n",
            "                                                                                                  \n",
            " conv2_block2_1_relu (Activatio  (None, 63, 63, 64)  0           ['conv2_block2_1_bn[0][0]']      \n",
            " n)                                                                                               \n",
            "                                                                                                  \n",
            " conv2_block2_2_conv (Conv2D)   (None, 63, 63, 64)   36928       ['conv2_block2_1_relu[0][0]']    \n",
            "                                                                                                  \n",
            " conv2_block2_2_bn (BatchNormal  (None, 63, 63, 64)  256         ['conv2_block2_2_conv[0][0]']    \n",
            " ization)                                                                                         \n",
            "                                                                                                  \n",
            " conv2_block2_2_relu (Activatio  (None, 63, 63, 64)  0           ['conv2_block2_2_bn[0][0]']      \n",
            " n)                                                                                               \n",
            "                                                                                                  \n",
            " conv2_block2_3_conv (Conv2D)   (None, 63, 63, 256)  16640       ['conv2_block2_2_relu[0][0]']    \n",
            "                                                                                                  \n",
            " conv2_block2_3_bn (BatchNormal  (None, 63, 63, 256)  1024       ['conv2_block2_3_conv[0][0]']    \n",
            " ization)                                                                                         \n",
            "                                                                                                  \n",
            " conv2_block2_add (Add)         (None, 63, 63, 256)  0           ['conv2_block1_out[0][0]',       \n",
            "                                                                  'conv2_block2_3_bn[0][0]']      \n",
            "                                                                                                  \n",
            " conv2_block2_out (Activation)  (None, 63, 63, 256)  0           ['conv2_block2_add[0][0]']       \n",
            "                                                                                                  \n",
            " conv2_block3_1_conv (Conv2D)   (None, 63, 63, 64)   16448       ['conv2_block2_out[0][0]']       \n",
            "                                                                                                  \n",
            " conv2_block3_1_bn (BatchNormal  (None, 63, 63, 64)  256         ['conv2_block3_1_conv[0][0]']    \n",
            " ization)                                                                                         \n",
            "                                                                                                  \n",
            " conv2_block3_1_relu (Activatio  (None, 63, 63, 64)  0           ['conv2_block3_1_bn[0][0]']      \n",
            " n)                                                                                               \n",
            "                                                                                                  \n",
            " conv2_block3_2_conv (Conv2D)   (None, 63, 63, 64)   36928       ['conv2_block3_1_relu[0][0]']    \n",
            "                                                                                                  \n",
            " conv2_block3_2_bn (BatchNormal  (None, 63, 63, 64)  256         ['conv2_block3_2_conv[0][0]']    \n",
            " ization)                                                                                         \n",
            "                                                                                                  \n",
            " conv2_block3_2_relu (Activatio  (None, 63, 63, 64)  0           ['conv2_block3_2_bn[0][0]']      \n",
            " n)                                                                                               \n",
            "                                                                                                  \n",
            " conv2_block3_3_conv (Conv2D)   (None, 63, 63, 256)  16640       ['conv2_block3_2_relu[0][0]']    \n",
            "                                                                                                  \n",
            " conv2_block3_3_bn (BatchNormal  (None, 63, 63, 256)  1024       ['conv2_block3_3_conv[0][0]']    \n",
            " ization)                                                                                         \n",
            "                                                                                                  \n",
            " conv2_block3_add (Add)         (None, 63, 63, 256)  0           ['conv2_block2_out[0][0]',       \n",
            "                                                                  'conv2_block3_3_bn[0][0]']      \n",
            "                                                                                                  \n",
            " conv2_block3_out (Activation)  (None, 63, 63, 256)  0           ['conv2_block3_add[0][0]']       \n",
            "                                                                                                  \n",
            " conv3_block1_1_conv (Conv2D)   (None, 32, 32, 128)  32896       ['conv2_block3_out[0][0]']       \n",
            "                                                                                                  \n",
            " conv3_block1_1_bn (BatchNormal  (None, 32, 32, 128)  512        ['conv3_block1_1_conv[0][0]']    \n",
            " ization)                                                                                         \n",
            "                                                                                                  \n",
            " conv3_block1_1_relu (Activatio  (None, 32, 32, 128)  0          ['conv3_block1_1_bn[0][0]']      \n",
            " n)                                                                                               \n",
            "                                                                                                  \n",
            " conv3_block1_2_conv (Conv2D)   (None, 32, 32, 128)  147584      ['conv3_block1_1_relu[0][0]']    \n",
            "                                                                                                  \n",
            " conv3_block1_2_bn (BatchNormal  (None, 32, 32, 128)  512        ['conv3_block1_2_conv[0][0]']    \n",
            " ization)                                                                                         \n",
            "                                                                                                  \n",
            " conv3_block1_2_relu (Activatio  (None, 32, 32, 128)  0          ['conv3_block1_2_bn[0][0]']      \n",
            " n)                                                                                               \n",
            "                                                                                                  \n",
            " conv3_block1_0_conv (Conv2D)   (None, 32, 32, 512)  131584      ['conv2_block3_out[0][0]']       \n",
            "                                                                                                  \n",
            " conv3_block1_3_conv (Conv2D)   (None, 32, 32, 512)  66048       ['conv3_block1_2_relu[0][0]']    \n",
            "                                                                                                  \n",
            " conv3_block1_0_bn (BatchNormal  (None, 32, 32, 512)  2048       ['conv3_block1_0_conv[0][0]']    \n",
            " ization)                                                                                         \n",
            "                                                                                                  \n",
            " conv3_block1_3_bn (BatchNormal  (None, 32, 32, 512)  2048       ['conv3_block1_3_conv[0][0]']    \n",
            " ization)                                                                                         \n",
            "                                                                                                  \n",
            " conv3_block1_add (Add)         (None, 32, 32, 512)  0           ['conv3_block1_0_bn[0][0]',      \n",
            "                                                                  'conv3_block1_3_bn[0][0]']      \n",
            "                                                                                                  \n",
            " conv3_block1_out (Activation)  (None, 32, 32, 512)  0           ['conv3_block1_add[0][0]']       \n",
            "                                                                                                  \n",
            " conv3_block2_1_conv (Conv2D)   (None, 32, 32, 128)  65664       ['conv3_block1_out[0][0]']       \n",
            "                                                                                                  \n",
            " conv3_block2_1_bn (BatchNormal  (None, 32, 32, 128)  512        ['conv3_block2_1_conv[0][0]']    \n",
            " ization)                                                                                         \n",
            "                                                                                                  \n",
            " conv3_block2_1_relu (Activatio  (None, 32, 32, 128)  0          ['conv3_block2_1_bn[0][0]']      \n",
            " n)                                                                                               \n",
            "                                                                                                  \n",
            " conv3_block2_2_conv (Conv2D)   (None, 32, 32, 128)  147584      ['conv3_block2_1_relu[0][0]']    \n",
            "                                                                                                  \n",
            " conv3_block2_2_bn (BatchNormal  (None, 32, 32, 128)  512        ['conv3_block2_2_conv[0][0]']    \n",
            " ization)                                                                                         \n",
            "                                                                                                  \n",
            " conv3_block2_2_relu (Activatio  (None, 32, 32, 128)  0          ['conv3_block2_2_bn[0][0]']      \n",
            " n)                                                                                               \n",
            "                                                                                                  \n",
            " conv3_block2_3_conv (Conv2D)   (None, 32, 32, 512)  66048       ['conv3_block2_2_relu[0][0]']    \n",
            "                                                                                                  \n",
            " conv3_block2_3_bn (BatchNormal  (None, 32, 32, 512)  2048       ['conv3_block2_3_conv[0][0]']    \n",
            " ization)                                                                                         \n",
            "                                                                                                  \n",
            " conv3_block2_add (Add)         (None, 32, 32, 512)  0           ['conv3_block1_out[0][0]',       \n",
            "                                                                  'conv3_block2_3_bn[0][0]']      \n",
            "                                                                                                  \n",
            " conv3_block2_out (Activation)  (None, 32, 32, 512)  0           ['conv3_block2_add[0][0]']       \n",
            "                                                                                                  \n",
            " conv3_block3_1_conv (Conv2D)   (None, 32, 32, 128)  65664       ['conv3_block2_out[0][0]']       \n",
            "                                                                                                  \n",
            " conv3_block3_1_bn (BatchNormal  (None, 32, 32, 128)  512        ['conv3_block3_1_conv[0][0]']    \n",
            " ization)                                                                                         \n",
            "                                                                                                  \n",
            " conv3_block3_1_relu (Activatio  (None, 32, 32, 128)  0          ['conv3_block3_1_bn[0][0]']      \n",
            " n)                                                                                               \n",
            "                                                                                                  \n",
            " conv3_block3_2_conv (Conv2D)   (None, 32, 32, 128)  147584      ['conv3_block3_1_relu[0][0]']    \n",
            "                                                                                                  \n",
            " conv3_block3_2_bn (BatchNormal  (None, 32, 32, 128)  512        ['conv3_block3_2_conv[0][0]']    \n",
            " ization)                                                                                         \n",
            "                                                                                                  \n",
            " conv3_block3_2_relu (Activatio  (None, 32, 32, 128)  0          ['conv3_block3_2_bn[0][0]']      \n",
            " n)                                                                                               \n",
            "                                                                                                  \n",
            " conv3_block3_3_conv (Conv2D)   (None, 32, 32, 512)  66048       ['conv3_block3_2_relu[0][0]']    \n",
            "                                                                                                  \n",
            " conv3_block3_3_bn (BatchNormal  (None, 32, 32, 512)  2048       ['conv3_block3_3_conv[0][0]']    \n",
            " ization)                                                                                         \n",
            "                                                                                                  \n",
            " conv3_block3_add (Add)         (None, 32, 32, 512)  0           ['conv3_block2_out[0][0]',       \n",
            "                                                                  'conv3_block3_3_bn[0][0]']      \n",
            "                                                                                                  \n",
            " conv3_block3_out (Activation)  (None, 32, 32, 512)  0           ['conv3_block3_add[0][0]']       \n",
            "                                                                                                  \n",
            " conv3_block4_1_conv (Conv2D)   (None, 32, 32, 128)  65664       ['conv3_block3_out[0][0]']       \n",
            "                                                                                                  \n",
            " conv3_block4_1_bn (BatchNormal  (None, 32, 32, 128)  512        ['conv3_block4_1_conv[0][0]']    \n",
            " ization)                                                                                         \n",
            "                                                                                                  \n",
            " conv3_block4_1_relu (Activatio  (None, 32, 32, 128)  0          ['conv3_block4_1_bn[0][0]']      \n",
            " n)                                                                                               \n",
            "                                                                                                  \n",
            " conv3_block4_2_conv (Conv2D)   (None, 32, 32, 128)  147584      ['conv3_block4_1_relu[0][0]']    \n",
            "                                                                                                  \n",
            " conv3_block4_2_bn (BatchNormal  (None, 32, 32, 128)  512        ['conv3_block4_2_conv[0][0]']    \n",
            " ization)                                                                                         \n",
            "                                                                                                  \n",
            " conv3_block4_2_relu (Activatio  (None, 32, 32, 128)  0          ['conv3_block4_2_bn[0][0]']      \n",
            " n)                                                                                               \n",
            "                                                                                                  \n",
            " conv3_block4_3_conv (Conv2D)   (None, 32, 32, 512)  66048       ['conv3_block4_2_relu[0][0]']    \n",
            "                                                                                                  \n",
            " conv3_block4_3_bn (BatchNormal  (None, 32, 32, 512)  2048       ['conv3_block4_3_conv[0][0]']    \n",
            " ization)                                                                                         \n",
            "                                                                                                  \n",
            " conv3_block4_add (Add)         (None, 32, 32, 512)  0           ['conv3_block3_out[0][0]',       \n",
            "                                                                  'conv3_block4_3_bn[0][0]']      \n",
            "                                                                                                  \n",
            " conv3_block4_out (Activation)  (None, 32, 32, 512)  0           ['conv3_block4_add[0][0]']       \n",
            "                                                                                                  \n",
            " conv4_block1_1_conv (Conv2D)   (None, 16, 16, 256)  131328      ['conv3_block4_out[0][0]']       \n",
            "                                                                                                  \n",
            " conv4_block1_1_bn (BatchNormal  (None, 16, 16, 256)  1024       ['conv4_block1_1_conv[0][0]']    \n",
            " ization)                                                                                         \n",
            "                                                                                                  \n",
            " conv4_block1_1_relu (Activatio  (None, 16, 16, 256)  0          ['conv4_block1_1_bn[0][0]']      \n",
            " n)                                                                                               \n",
            "                                                                                                  \n",
            " conv4_block1_2_conv (Conv2D)   (None, 16, 16, 256)  590080      ['conv4_block1_1_relu[0][0]']    \n",
            "                                                                                                  \n",
            " conv4_block1_2_bn (BatchNormal  (None, 16, 16, 256)  1024       ['conv4_block1_2_conv[0][0]']    \n",
            " ization)                                                                                         \n",
            "                                                                                                  \n",
            " conv4_block1_2_relu (Activatio  (None, 16, 16, 256)  0          ['conv4_block1_2_bn[0][0]']      \n",
            " n)                                                                                               \n",
            "                                                                                                  \n",
            " conv4_block1_0_conv (Conv2D)   (None, 16, 16, 1024  525312      ['conv3_block4_out[0][0]']       \n",
            "                                )                                                                 \n",
            "                                                                                                  \n",
            " conv4_block1_3_conv (Conv2D)   (None, 16, 16, 1024  263168      ['conv4_block1_2_relu[0][0]']    \n",
            "                                )                                                                 \n",
            "                                                                                                  \n",
            " conv4_block1_0_bn (BatchNormal  (None, 16, 16, 1024  4096       ['conv4_block1_0_conv[0][0]']    \n",
            " ization)                       )                                                                 \n",
            "                                                                                                  \n",
            " conv4_block1_3_bn (BatchNormal  (None, 16, 16, 1024  4096       ['conv4_block1_3_conv[0][0]']    \n",
            " ization)                       )                                                                 \n",
            "                                                                                                  \n",
            " conv4_block1_add (Add)         (None, 16, 16, 1024  0           ['conv4_block1_0_bn[0][0]',      \n",
            "                                )                                 'conv4_block1_3_bn[0][0]']      \n",
            "                                                                                                  \n",
            " conv4_block1_out (Activation)  (None, 16, 16, 1024  0           ['conv4_block1_add[0][0]']       \n",
            "                                )                                                                 \n",
            "                                                                                                  \n",
            " conv4_block2_1_conv (Conv2D)   (None, 16, 16, 256)  262400      ['conv4_block1_out[0][0]']       \n",
            "                                                                                                  \n",
            " conv4_block2_1_bn (BatchNormal  (None, 16, 16, 256)  1024       ['conv4_block2_1_conv[0][0]']    \n",
            " ization)                                                                                         \n",
            "                                                                                                  \n",
            " conv4_block2_1_relu (Activatio  (None, 16, 16, 256)  0          ['conv4_block2_1_bn[0][0]']      \n",
            " n)                                                                                               \n",
            "                                                                                                  \n",
            " conv4_block2_2_conv (Conv2D)   (None, 16, 16, 256)  590080      ['conv4_block2_1_relu[0][0]']    \n",
            "                                                                                                  \n",
            " conv4_block2_2_bn (BatchNormal  (None, 16, 16, 256)  1024       ['conv4_block2_2_conv[0][0]']    \n",
            " ization)                                                                                         \n",
            "                                                                                                  \n",
            " conv4_block2_2_relu (Activatio  (None, 16, 16, 256)  0          ['conv4_block2_2_bn[0][0]']      \n",
            " n)                                                                                               \n",
            "                                                                                                  \n",
            " conv4_block2_3_conv (Conv2D)   (None, 16, 16, 1024  263168      ['conv4_block2_2_relu[0][0]']    \n",
            "                                )                                                                 \n",
            "                                                                                                  \n",
            " conv4_block2_3_bn (BatchNormal  (None, 16, 16, 1024  4096       ['conv4_block2_3_conv[0][0]']    \n",
            " ization)                       )                                                                 \n",
            "                                                                                                  \n",
            " conv4_block2_add (Add)         (None, 16, 16, 1024  0           ['conv4_block1_out[0][0]',       \n",
            "                                )                                 'conv4_block2_3_bn[0][0]']      \n",
            "                                                                                                  \n",
            " conv4_block2_out (Activation)  (None, 16, 16, 1024  0           ['conv4_block2_add[0][0]']       \n",
            "                                )                                                                 \n",
            "                                                                                                  \n",
            " conv4_block3_1_conv (Conv2D)   (None, 16, 16, 256)  262400      ['conv4_block2_out[0][0]']       \n",
            "                                                                                                  \n",
            " conv4_block3_1_bn (BatchNormal  (None, 16, 16, 256)  1024       ['conv4_block3_1_conv[0][0]']    \n",
            " ization)                                                                                         \n",
            "                                                                                                  \n",
            " conv4_block3_1_relu (Activatio  (None, 16, 16, 256)  0          ['conv4_block3_1_bn[0][0]']      \n",
            " n)                                                                                               \n",
            "                                                                                                  \n",
            " conv4_block3_2_conv (Conv2D)   (None, 16, 16, 256)  590080      ['conv4_block3_1_relu[0][0]']    \n",
            "                                                                                                  \n",
            " conv4_block3_2_bn (BatchNormal  (None, 16, 16, 256)  1024       ['conv4_block3_2_conv[0][0]']    \n",
            " ization)                                                                                         \n",
            "                                                                                                  \n",
            " conv4_block3_2_relu (Activatio  (None, 16, 16, 256)  0          ['conv4_block3_2_bn[0][0]']      \n",
            " n)                                                                                               \n",
            "                                                                                                  \n",
            " conv4_block3_3_conv (Conv2D)   (None, 16, 16, 1024  263168      ['conv4_block3_2_relu[0][0]']    \n",
            "                                )                                                                 \n",
            "                                                                                                  \n",
            " conv4_block3_3_bn (BatchNormal  (None, 16, 16, 1024  4096       ['conv4_block3_3_conv[0][0]']    \n",
            " ization)                       )                                                                 \n",
            "                                                                                                  \n",
            " conv4_block3_add (Add)         (None, 16, 16, 1024  0           ['conv4_block2_out[0][0]',       \n",
            "                                )                                 'conv4_block3_3_bn[0][0]']      \n",
            "                                                                                                  \n",
            " conv4_block3_out (Activation)  (None, 16, 16, 1024  0           ['conv4_block3_add[0][0]']       \n",
            "                                )                                                                 \n",
            "                                                                                                  \n",
            " conv4_block4_1_conv (Conv2D)   (None, 16, 16, 256)  262400      ['conv4_block3_out[0][0]']       \n",
            "                                                                                                  \n",
            " conv4_block4_1_bn (BatchNormal  (None, 16, 16, 256)  1024       ['conv4_block4_1_conv[0][0]']    \n",
            " ization)                                                                                         \n",
            "                                                                                                  \n",
            " conv4_block4_1_relu (Activatio  (None, 16, 16, 256)  0          ['conv4_block4_1_bn[0][0]']      \n",
            " n)                                                                                               \n",
            "                                                                                                  \n",
            " conv4_block4_2_conv (Conv2D)   (None, 16, 16, 256)  590080      ['conv4_block4_1_relu[0][0]']    \n",
            "                                                                                                  \n",
            " conv4_block4_2_bn (BatchNormal  (None, 16, 16, 256)  1024       ['conv4_block4_2_conv[0][0]']    \n",
            " ization)                                                                                         \n",
            "                                                                                                  \n",
            " conv4_block4_2_relu (Activatio  (None, 16, 16, 256)  0          ['conv4_block4_2_bn[0][0]']      \n",
            " n)                                                                                               \n",
            "                                                                                                  \n",
            " conv4_block4_3_conv (Conv2D)   (None, 16, 16, 1024  263168      ['conv4_block4_2_relu[0][0]']    \n",
            "                                )                                                                 \n",
            "                                                                                                  \n",
            " conv4_block4_3_bn (BatchNormal  (None, 16, 16, 1024  4096       ['conv4_block4_3_conv[0][0]']    \n",
            " ization)                       )                                                                 \n",
            "                                                                                                  \n",
            " conv4_block4_add (Add)         (None, 16, 16, 1024  0           ['conv4_block3_out[0][0]',       \n",
            "                                )                                 'conv4_block4_3_bn[0][0]']      \n",
            "                                                                                                  \n",
            " conv4_block4_out (Activation)  (None, 16, 16, 1024  0           ['conv4_block4_add[0][0]']       \n",
            "                                )                                                                 \n",
            "                                                                                                  \n",
            " conv4_block5_1_conv (Conv2D)   (None, 16, 16, 256)  262400      ['conv4_block4_out[0][0]']       \n",
            "                                                                                                  \n",
            " conv4_block5_1_bn (BatchNormal  (None, 16, 16, 256)  1024       ['conv4_block5_1_conv[0][0]']    \n",
            " ization)                                                                                         \n",
            "                                                                                                  \n",
            " conv4_block5_1_relu (Activatio  (None, 16, 16, 256)  0          ['conv4_block5_1_bn[0][0]']      \n",
            " n)                                                                                               \n",
            "                                                                                                  \n",
            " conv4_block5_2_conv (Conv2D)   (None, 16, 16, 256)  590080      ['conv4_block5_1_relu[0][0]']    \n",
            "                                                                                                  \n",
            " conv4_block5_2_bn (BatchNormal  (None, 16, 16, 256)  1024       ['conv4_block5_2_conv[0][0]']    \n",
            " ization)                                                                                         \n",
            "                                                                                                  \n",
            " conv4_block5_2_relu (Activatio  (None, 16, 16, 256)  0          ['conv4_block5_2_bn[0][0]']      \n",
            " n)                                                                                               \n",
            "                                                                                                  \n",
            " conv4_block5_3_conv (Conv2D)   (None, 16, 16, 1024  263168      ['conv4_block5_2_relu[0][0]']    \n",
            "                                )                                                                 \n",
            "                                                                                                  \n",
            " conv4_block5_3_bn (BatchNormal  (None, 16, 16, 1024  4096       ['conv4_block5_3_conv[0][0]']    \n",
            " ization)                       )                                                                 \n",
            "                                                                                                  \n",
            " conv4_block5_add (Add)         (None, 16, 16, 1024  0           ['conv4_block4_out[0][0]',       \n",
            "                                )                                 'conv4_block5_3_bn[0][0]']      \n",
            "                                                                                                  \n",
            " conv4_block5_out (Activation)  (None, 16, 16, 1024  0           ['conv4_block5_add[0][0]']       \n",
            "                                )                                                                 \n",
            "                                                                                                  \n",
            " conv4_block6_1_conv (Conv2D)   (None, 16, 16, 256)  262400      ['conv4_block5_out[0][0]']       \n",
            "                                                                                                  \n",
            " conv4_block6_1_bn (BatchNormal  (None, 16, 16, 256)  1024       ['conv4_block6_1_conv[0][0]']    \n",
            " ization)                                                                                         \n",
            "                                                                                                  \n",
            " conv4_block6_1_relu (Activatio  (None, 16, 16, 256)  0          ['conv4_block6_1_bn[0][0]']      \n",
            " n)                                                                                               \n",
            "                                                                                                  \n",
            " conv4_block6_2_conv (Conv2D)   (None, 16, 16, 256)  590080      ['conv4_block6_1_relu[0][0]']    \n",
            "                                                                                                  \n",
            " conv4_block6_2_bn (BatchNormal  (None, 16, 16, 256)  1024       ['conv4_block6_2_conv[0][0]']    \n",
            " ization)                                                                                         \n",
            "                                                                                                  \n",
            " conv4_block6_2_relu (Activatio  (None, 16, 16, 256)  0          ['conv4_block6_2_bn[0][0]']      \n",
            " n)                                                                                               \n",
            "                                                                                                  \n",
            " conv4_block6_3_conv (Conv2D)   (None, 16, 16, 1024  263168      ['conv4_block6_2_relu[0][0]']    \n",
            "                                )                                                                 \n",
            "                                                                                                  \n",
            " conv4_block6_3_bn (BatchNormal  (None, 16, 16, 1024  4096       ['conv4_block6_3_conv[0][0]']    \n",
            " ization)                       )                                                                 \n",
            "                                                                                                  \n",
            " conv4_block6_add (Add)         (None, 16, 16, 1024  0           ['conv4_block5_out[0][0]',       \n",
            "                                )                                 'conv4_block6_3_bn[0][0]']      \n",
            "                                                                                                  \n",
            " conv4_block6_out (Activation)  (None, 16, 16, 1024  0           ['conv4_block6_add[0][0]']       \n",
            "                                )                                                                 \n",
            "                                                                                                  \n",
            " conv5_block1_1_conv (Conv2D)   (None, 8, 8, 512)    524800      ['conv4_block6_out[0][0]']       \n",
            "                                                                                                  \n",
            " conv5_block1_1_bn (BatchNormal  (None, 8, 8, 512)   2048        ['conv5_block1_1_conv[0][0]']    \n",
            " ization)                                                                                         \n",
            "                                                                                                  \n",
            " conv5_block1_1_relu (Activatio  (None, 8, 8, 512)   0           ['conv5_block1_1_bn[0][0]']      \n",
            " n)                                                                                               \n",
            "                                                                                                  \n",
            " conv5_block1_2_conv (Conv2D)   (None, 8, 8, 512)    2359808     ['conv5_block1_1_relu[0][0]']    \n",
            "                                                                                                  \n",
            " conv5_block1_2_bn (BatchNormal  (None, 8, 8, 512)   2048        ['conv5_block1_2_conv[0][0]']    \n",
            " ization)                                                                                         \n",
            "                                                                                                  \n",
            " conv5_block1_2_relu (Activatio  (None, 8, 8, 512)   0           ['conv5_block1_2_bn[0][0]']      \n",
            " n)                                                                                               \n",
            "                                                                                                  \n",
            " conv5_block1_0_conv (Conv2D)   (None, 8, 8, 2048)   2099200     ['conv4_block6_out[0][0]']       \n",
            "                                                                                                  \n",
            " conv5_block1_3_conv (Conv2D)   (None, 8, 8, 2048)   1050624     ['conv5_block1_2_relu[0][0]']    \n",
            "                                                                                                  \n",
            " conv5_block1_0_bn (BatchNormal  (None, 8, 8, 2048)  8192        ['conv5_block1_0_conv[0][0]']    \n",
            " ization)                                                                                         \n",
            "                                                                                                  \n",
            " conv5_block1_3_bn (BatchNormal  (None, 8, 8, 2048)  8192        ['conv5_block1_3_conv[0][0]']    \n",
            " ization)                                                                                         \n",
            "                                                                                                  \n",
            " conv5_block1_add (Add)         (None, 8, 8, 2048)   0           ['conv5_block1_0_bn[0][0]',      \n",
            "                                                                  'conv5_block1_3_bn[0][0]']      \n",
            "                                                                                                  \n",
            " conv5_block1_out (Activation)  (None, 8, 8, 2048)   0           ['conv5_block1_add[0][0]']       \n",
            "                                                                                                  \n",
            " conv5_block2_1_conv (Conv2D)   (None, 8, 8, 512)    1049088     ['conv5_block1_out[0][0]']       \n",
            "                                                                                                  \n",
            " conv5_block2_1_bn (BatchNormal  (None, 8, 8, 512)   2048        ['conv5_block2_1_conv[0][0]']    \n",
            " ization)                                                                                         \n",
            "                                                                                                  \n",
            " conv5_block2_1_relu (Activatio  (None, 8, 8, 512)   0           ['conv5_block2_1_bn[0][0]']      \n",
            " n)                                                                                               \n",
            "                                                                                                  \n",
            " conv5_block2_2_conv (Conv2D)   (None, 8, 8, 512)    2359808     ['conv5_block2_1_relu[0][0]']    \n",
            "                                                                                                  \n",
            " conv5_block2_2_bn (BatchNormal  (None, 8, 8, 512)   2048        ['conv5_block2_2_conv[0][0]']    \n",
            " ization)                                                                                         \n",
            "                                                                                                  \n",
            " conv5_block2_2_relu (Activatio  (None, 8, 8, 512)   0           ['conv5_block2_2_bn[0][0]']      \n",
            " n)                                                                                               \n",
            "                                                                                                  \n",
            " conv5_block2_3_conv (Conv2D)   (None, 8, 8, 2048)   1050624     ['conv5_block2_2_relu[0][0]']    \n",
            "                                                                                                  \n",
            " conv5_block2_3_bn (BatchNormal  (None, 8, 8, 2048)  8192        ['conv5_block2_3_conv[0][0]']    \n",
            " ization)                                                                                         \n",
            "                                                                                                  \n",
            " conv5_block2_add (Add)         (None, 8, 8, 2048)   0           ['conv5_block1_out[0][0]',       \n",
            "                                                                  'conv5_block2_3_bn[0][0]']      \n",
            "                                                                                                  \n",
            " conv5_block2_out (Activation)  (None, 8, 8, 2048)   0           ['conv5_block2_add[0][0]']       \n",
            "                                                                                                  \n",
            " conv5_block3_1_conv (Conv2D)   (None, 8, 8, 512)    1049088     ['conv5_block2_out[0][0]']       \n",
            "                                                                                                  \n",
            " conv5_block3_1_bn (BatchNormal  (None, 8, 8, 512)   2048        ['conv5_block3_1_conv[0][0]']    \n",
            " ization)                                                                                         \n",
            "                                                                                                  \n",
            " conv5_block3_1_relu (Activatio  (None, 8, 8, 512)   0           ['conv5_block3_1_bn[0][0]']      \n",
            " n)                                                                                               \n",
            "                                                                                                  \n",
            " conv5_block3_2_conv (Conv2D)   (None, 8, 8, 512)    2359808     ['conv5_block3_1_relu[0][0]']    \n",
            "                                                                                                  \n",
            " conv5_block3_2_bn (BatchNormal  (None, 8, 8, 512)   2048        ['conv5_block3_2_conv[0][0]']    \n",
            " ization)                                                                                         \n",
            "                                                                                                  \n",
            " conv5_block3_2_relu (Activatio  (None, 8, 8, 512)   0           ['conv5_block3_2_bn[0][0]']      \n",
            " n)                                                                                               \n",
            "                                                                                                  \n",
            " conv5_block3_3_conv (Conv2D)   (None, 8, 8, 2048)   1050624     ['conv5_block3_2_relu[0][0]']    \n",
            "                                                                                                  \n",
            " conv5_block3_3_bn (BatchNormal  (None, 8, 8, 2048)  8192        ['conv5_block3_3_conv[0][0]']    \n",
            " ization)                                                                                         \n",
            "                                                                                                  \n",
            " conv5_block3_add (Add)         (None, 8, 8, 2048)   0           ['conv5_block2_out[0][0]',       \n",
            "                                                                  'conv5_block3_3_bn[0][0]']      \n",
            "                                                                                                  \n",
            " conv5_block3_out (Activation)  (None, 8, 8, 2048)   0           ['conv5_block3_add[0][0]']       \n",
            "                                                                                                  \n",
            " global_average_pooling2d_2 (Gl  (None, 2048)        0           ['conv5_block3_out[0][0]']       \n",
            " obalAveragePooling2D)                                                                            \n",
            "                                                                                                  \n",
            " dense_2 (Dense)                (None, 3)            6147        ['global_average_pooling2d_2[0][0\n",
            "                                                                 ]']                              \n",
            "                                                                                                  \n",
            "==================================================================================================\n",
            "Total params: 23,593,859\n",
            "Trainable params: 6,147\n",
            "Non-trainable params: 23,587,712\n",
            "__________________________________________________________________________________________________\n"
          ]
        }
      ]
    },
    {
      "cell_type": "markdown",
      "source": [
        "### Enable mechanisms preventing overlearning"
      ],
      "metadata": {
        "id": "UQxThMIe6kwK"
      }
    },
    {
      "cell_type": "code",
      "source": [
        "patience = 3\n",
        "\n",
        "earlystop = EarlyStopping(monitor='val_loss',\n",
        "                          restore_best_weights=True,\n",
        "                          patience=patience,\n",
        "                          verbose=1)"
      ],
      "metadata": {
        "id": "Py1BJJROa5RQ"
      },
      "execution_count": null,
      "outputs": []
    },
    {
      "cell_type": "markdown",
      "source": [
        "### Enable mechanisms preventing interrupting learning process"
      ],
      "metadata": {
        "id": "LsanlOkY69-m"
      }
    },
    {
      "cell_type": "code",
      "source": [
        "checkpoint = ModelCheckpoint(classifier_path,\n",
        "                             monitor=\"val_loss\",\n",
        "                             mode=\"min\",\n",
        "                             save_best_only=True,\n",
        "                             verbose=1)\n",
        "\n",
        "callbacks = [earlystop, checkpoint]"
      ],
      "metadata": {
        "id": "VgilxcOe7Bpf"
      },
      "execution_count": null,
      "outputs": []
    },
    {
      "cell_type": "markdown",
      "source": [
        "### Define training"
      ],
      "metadata": {
        "id": "68C6IUtKTakS"
      }
    },
    {
      "cell_type": "code",
      "source": [
        "def train(learning_rate):\n",
        "  classifier.compile(loss='categorical_crossentropy',\n",
        "                    optimizer=Adam(learning_rate=learning_rate),\n",
        "                    metrics=['accuracy'])\n",
        "\n",
        "  classifier.fit(training_generator,\n",
        "                epochs=EPOCHS,\n",
        "                steps_per_epoch=len(training_generator),\n",
        "                callbacks=callbacks,\n",
        "                validation_data=validation_generator,\n",
        "                validation_steps=len(validation_generator))\n",
        "\n",
        "  classifier.save(classifier_path)"
      ],
      "metadata": {
        "id": "9oV7_wPJTKRA"
      },
      "execution_count": null,
      "outputs": []
    },
    {
      "cell_type": "markdown",
      "source": [
        "### Start training process (activation function: sigmoid)"
      ],
      "metadata": {
        "id": "e2rDW0bQlbyM"
      }
    },
    {
      "cell_type": "code",
      "source": [
        "classifier.compile(loss='categorical_crossentropy',\n",
        "                   optimizer=Adam(learning_rate=0.01),\n",
        "                   metrics=['accuracy'])\n",
        "\n",
        "classifier.fit(training_generator,\n",
        "               epochs=EPOCHS,\n",
        "               steps_per_epoch=len(training_generator),\n",
        "               callbacks=callbacks,\n",
        "               validation_data=validation_generator,\n",
        "               validation_steps=len(validation_generator))\n",
        "\n",
        "classifier.save(classifier_path)"
      ],
      "metadata": {
        "id": "DAwU7nW5a-Cz",
        "colab": {
          "base_uri": "https://localhost:8080/"
        },
        "outputId": "cf01362f-6b61-4071-e9e3-4a800ec40875"
      },
      "execution_count": null,
      "outputs": [
        {
          "output_type": "stream",
          "name": "stdout",
          "text": [
            "Epoch 1/50\n",
            "77/77 [==============================] - ETA: 0s - loss: 0.6745 - accuracy: 0.7787\n",
            "Epoch 00001: val_loss improved from inf to 0.47272, saving model to drive/MyDrive/models/classifier.h5\n"
          ]
        },
        {
          "output_type": "stream",
          "name": "stderr",
          "text": [
            "/usr/local/lib/python3.7/dist-packages/keras/engine/functional.py:1410: CustomMaskWarning: Custom mask layers require a config and must override get_config. When loading, the custom mask layer must be passed to the custom_objects argument.\n",
            "  layer_config = serialize_layer_fn(layer)\n"
          ]
        },
        {
          "output_type": "stream",
          "name": "stdout",
          "text": [
            "77/77 [==============================] - 18s 203ms/step - loss: 0.6745 - accuracy: 0.7787 - val_loss: 0.4727 - val_accuracy: 0.7861\n",
            "Epoch 2/50\n",
            "77/77 [==============================] - ETA: 0s - loss: 0.4697 - accuracy: 0.8097\n",
            "Epoch 00002: val_loss did not improve from 0.47272\n",
            "77/77 [==============================] - 13s 170ms/step - loss: 0.4697 - accuracy: 0.8097 - val_loss: 0.5255 - val_accuracy: 0.7738\n",
            "Epoch 3/50\n",
            "77/77 [==============================] - ETA: 0s - loss: 0.4515 - accuracy: 0.8187\n",
            "Epoch 00003: val_loss improved from 0.47272 to 0.46526, saving model to drive/MyDrive/models/classifier.h5\n",
            "77/77 [==============================] - 15s 199ms/step - loss: 0.4515 - accuracy: 0.8187 - val_loss: 0.4653 - val_accuracy: 0.8117\n",
            "Epoch 4/50\n",
            "77/77 [==============================] - ETA: 0s - loss: 0.4492 - accuracy: 0.8219\n",
            "Epoch 00004: val_loss improved from 0.46526 to 0.44265, saving model to drive/MyDrive/models/classifier.h5\n",
            "77/77 [==============================] - 16s 203ms/step - loss: 0.4492 - accuracy: 0.8219 - val_loss: 0.4427 - val_accuracy: 0.8337\n",
            "Epoch 5/50\n",
            "77/77 [==============================] - ETA: 0s - loss: 0.4626 - accuracy: 0.8248\n",
            "Epoch 00005: val_loss improved from 0.44265 to 0.42834, saving model to drive/MyDrive/models/classifier.h5\n",
            "77/77 [==============================] - 15s 196ms/step - loss: 0.4626 - accuracy: 0.8248 - val_loss: 0.4283 - val_accuracy: 0.8215\n",
            "Epoch 6/50\n",
            "77/77 [==============================] - ETA: 0s - loss: 0.4644 - accuracy: 0.8240\n",
            "Epoch 00006: val_loss did not improve from 0.42834\n",
            "77/77 [==============================] - 13s 173ms/step - loss: 0.4644 - accuracy: 0.8240 - val_loss: 0.4474 - val_accuracy: 0.8472\n",
            "Epoch 7/50\n",
            "77/77 [==============================] - ETA: 0s - loss: 0.4100 - accuracy: 0.8350\n",
            "Epoch 00007: val_loss improved from 0.42834 to 0.39008, saving model to drive/MyDrive/models/classifier.h5\n",
            "77/77 [==============================] - 15s 201ms/step - loss: 0.4100 - accuracy: 0.8350 - val_loss: 0.3901 - val_accuracy: 0.8399\n",
            "Epoch 8/50\n",
            "77/77 [==============================] - ETA: 0s - loss: 0.3926 - accuracy: 0.8350\n",
            "Epoch 00008: val_loss did not improve from 0.39008\n",
            "77/77 [==============================] - 13s 173ms/step - loss: 0.3926 - accuracy: 0.8350 - val_loss: 0.4133 - val_accuracy: 0.8350\n",
            "Epoch 9/50\n",
            "77/77 [==============================] - ETA: 0s - loss: 0.4169 - accuracy: 0.8346\n",
            "Epoch 00009: val_loss improved from 0.39008 to 0.38249, saving model to drive/MyDrive/models/classifier.h5\n",
            "77/77 [==============================] - 15s 195ms/step - loss: 0.4169 - accuracy: 0.8346 - val_loss: 0.3825 - val_accuracy: 0.8643\n",
            "Epoch 10/50\n",
            "77/77 [==============================] - ETA: 0s - loss: 0.4056 - accuracy: 0.8476\n",
            "Epoch 00010: val_loss did not improve from 0.38249\n",
            "77/77 [==============================] - 13s 172ms/step - loss: 0.4056 - accuracy: 0.8476 - val_loss: 0.4136 - val_accuracy: 0.8252\n",
            "Epoch 11/50\n",
            "77/77 [==============================] - ETA: 0s - loss: 0.3833 - accuracy: 0.8476\n",
            "Epoch 00011: val_loss did not improve from 0.38249\n",
            "77/77 [==============================] - 13s 164ms/step - loss: 0.3833 - accuracy: 0.8476 - val_loss: 0.5091 - val_accuracy: 0.7885\n",
            "Epoch 12/50\n",
            "77/77 [==============================] - ETA: 0s - loss: 0.4407 - accuracy: 0.8399Restoring model weights from the end of the best epoch: 9.\n",
            "\n",
            "Epoch 00012: val_loss did not improve from 0.38249\n",
            "77/77 [==============================] - 13s 165ms/step - loss: 0.4407 - accuracy: 0.8399 - val_loss: 0.4332 - val_accuracy: 0.8325\n",
            "Epoch 00012: early stopping\n"
          ]
        }
      ]
    },
    {
      "cell_type": "markdown",
      "source": [
        "1st try (sigmoid): \n",
        "\n",
        "- epochs: 12\n",
        "- from loss: 0.6745 - accuracy: 0.7787 \n",
        "- to loss: 0.4407 - accuracy: 0.8399 - val_loss: 0.4332 - val_accuracy: 0.8325"
      ],
      "metadata": {
        "id": "TJMlgLroQHYW"
      }
    },
    {
      "cell_type": "markdown",
      "source": [
        "### Start training process (activation function: ReLU)"
      ],
      "metadata": {
        "id": "aGJuHG9FTi4d"
      }
    },
    {
      "cell_type": "code",
      "source": [
        "train()"
      ],
      "metadata": {
        "colab": {
          "base_uri": "https://localhost:8080/"
        },
        "id": "NKQGOu0dTfwl",
        "outputId": "789349c8-f8ce-4266-9257-4e10162d3921"
      },
      "execution_count": null,
      "outputs": [
        {
          "output_type": "stream",
          "name": "stdout",
          "text": [
            "Epoch 1/50\n",
            "77/77 [==============================] - ETA: 0s - loss: 3.2512 - accuracy: 0.7983\n",
            "Epoch 00001: val_loss improved from inf to 3.66499, saving model to drive/MyDrive/models/classifier.h5\n"
          ]
        },
        {
          "output_type": "stream",
          "name": "stderr",
          "text": [
            "/usr/local/lib/python3.7/dist-packages/keras/engine/functional.py:1410: CustomMaskWarning: Custom mask layers require a config and must override get_config. When loading, the custom mask layer must be passed to the custom_objects argument.\n",
            "  layer_config = serialize_layer_fn(layer)\n"
          ]
        },
        {
          "output_type": "stream",
          "name": "stdout",
          "text": [
            "\b\b\b\b\b\b\b\b\b\b\b\b\b\b\b\b\b\b\b\b\b\b\b\b\b\b\b\b\b\b\b\b\b\b\b\b\b\b\b\b\b\b\b\b\b\b\b\b\b\b\b\b\b\b\b\b\b\b\b\b\b\b\b\b\b\b\b\b\b\b\b\b\b\b\b\b\b\b\b\b\b\b\r77/77 [==============================] - 27s 296ms/step - loss: 3.2512 - accuracy: 0.7983 - val_loss: 3.6650 - val_accuracy: 0.7726\n",
            "Epoch 2/50\n",
            "77/77 [==============================] - ETA: 0s - loss: 3.2512 - accuracy: 0.7983\n",
            "Epoch 00002: val_loss did not improve from 3.66499\n",
            "77/77 [==============================] - 16s 210ms/step - loss: 3.2512 - accuracy: 0.7983 - val_loss: 3.6650 - val_accuracy: 0.7726\n",
            "Epoch 3/50\n",
            "77/77 [==============================] - ETA: 0s - loss: 3.2512 - accuracy: 0.7983\n",
            "Epoch 00003: val_loss did not improve from 3.66499\n",
            "77/77 [==============================] - 16s 206ms/step - loss: 3.2512 - accuracy: 0.7983 - val_loss: 3.6650 - val_accuracy: 0.7726\n",
            "Epoch 4/50\n",
            "77/77 [==============================] - ETA: 0s - loss: 3.2512 - accuracy: 0.7983Restoring model weights from the end of the best epoch: 1.\n",
            "\n",
            "Epoch 00004: val_loss did not improve from 3.66499\n",
            "77/77 [==============================] - 16s 212ms/step - loss: 3.2512 - accuracy: 0.7983 - val_loss: 3.6650 - val_accuracy: 0.7726\n",
            "Epoch 00004: early stopping\n"
          ]
        }
      ]
    },
    {
      "cell_type": "markdown",
      "source": [
        "2st try (ReLU): \n",
        "\n",
        "- epochs: 4\n",
        "- from loss: 3.2512 - accuracy: 0.7983 \n",
        "- to loss: 3.2512 - accuracy: 0.7983 - val_loss: 3.6650 - val_accuracy: 0.7726"
      ],
      "metadata": {
        "id": "Wu_lqshqUOJl"
      }
    },
    {
      "cell_type": "markdown",
      "source": [
        "### Start training process (learning rate 0.01 to 0.8)"
      ],
      "metadata": {
        "id": "zTJQmT4BVAaf"
      }
    },
    {
      "cell_type": "code",
      "source": [
        "train(0.1)"
      ],
      "metadata": {
        "colab": {
          "base_uri": "https://localhost:8080/"
        },
        "id": "FfYCHYkpU-R2",
        "outputId": "99ebf986-dc15-4728-f50e-3ff0f7a86eef"
      },
      "execution_count": null,
      "outputs": [
        {
          "output_type": "stream",
          "name": "stdout",
          "text": [
            "Epoch 1/50\n",
            "77/77 [==============================] - ETA: 0s - loss: 5.3816 - accuracy: 0.7319\n",
            "Epoch 00001: val_loss improved from inf to 2.11751, saving model to drive/MyDrive/models/classifier.h5\n"
          ]
        },
        {
          "output_type": "stream",
          "name": "stderr",
          "text": [
            "/usr/local/lib/python3.7/dist-packages/keras/engine/functional.py:1410: CustomMaskWarning: Custom mask layers require a config and must override get_config. When loading, the custom mask layer must be passed to the custom_objects argument.\n",
            "  layer_config = serialize_layer_fn(layer)\n"
          ]
        },
        {
          "output_type": "stream",
          "name": "stdout",
          "text": [
            "\b\b\b\b\b\b\b\b\b\b\b\b\b\b\b\b\b\b\b\b\b\b\b\b\b\b\b\b\b\b\b\b\b\b\b\b\b\b\b\b\b\b\b\b\b\b\b\b\b\b\b\b\b\b\b\b\b\b\b\b\b\b\b\b\b\b\b\b\b\b\b\b\b\b\b\b\b\b\b\b\b\b\r77/77 [==============================] - 23s 254ms/step - loss: 5.3816 - accuracy: 0.7319 - val_loss: 2.1175 - val_accuracy: 0.8154\n",
            "Epoch 2/50\n",
            "77/77 [==============================] - ETA: 0s - loss: 1.5832 - accuracy: 0.7861\n",
            "Epoch 00002: val_loss improved from 2.11751 to 0.50481, saving model to drive/MyDrive/models/classifier.h5\n",
            "77/77 [==============================] - 18s 233ms/step - loss: 1.5832 - accuracy: 0.7861 - val_loss: 0.5048 - val_accuracy: 0.8301\n",
            "Epoch 3/50\n",
            "77/77 [==============================] - ETA: 0s - loss: 1.1814 - accuracy: 0.7844\n",
            "Epoch 00003: val_loss did not improve from 0.50481\n",
            "77/77 [==============================] - 17s 224ms/step - loss: 1.1814 - accuracy: 0.7844 - val_loss: 0.8854 - val_accuracy: 0.8423\n",
            "Epoch 4/50\n",
            "77/77 [==============================] - ETA: 0s - loss: 0.6803 - accuracy: 0.8199\n",
            "Epoch 00004: val_loss did not improve from 0.50481\n",
            "77/77 [==============================] - 17s 216ms/step - loss: 0.6803 - accuracy: 0.8199 - val_loss: 0.6645 - val_accuracy: 0.8411\n",
            "Epoch 5/50\n",
            "77/77 [==============================] - ETA: 0s - loss: 1.6927 - accuracy: 0.8011Restoring model weights from the end of the best epoch: 2.\n",
            "\n",
            "Epoch 00005: val_loss did not improve from 0.50481\n",
            "77/77 [==============================] - 16s 214ms/step - loss: 1.6927 - accuracy: 0.8011 - val_loss: 1.9250 - val_accuracy: 0.8496\n",
            "Epoch 00005: early stopping\n"
          ]
        }
      ]
    },
    {
      "cell_type": "code",
      "source": [
        "train(0.5)"
      ],
      "metadata": {
        "colab": {
          "base_uri": "https://localhost:8080/"
        },
        "id": "jR6QDNRYWH78",
        "outputId": "c97057af-fb2d-4338-a76a-bf2ba5e800da"
      },
      "execution_count": null,
      "outputs": [
        {
          "output_type": "stream",
          "name": "stdout",
          "text": [
            "Epoch 1/50\n",
            "77/77 [==============================] - ETA: 0s - loss: 13.9180 - accuracy: 0.7294\n",
            "Epoch 00001: val_loss did not improve from 0.50481\n",
            "77/77 [==============================] - 21s 229ms/step - loss: 13.9180 - accuracy: 0.7294 - val_loss: 7.1396 - val_accuracy: 0.7848\n",
            "Epoch 2/50\n",
            "77/77 [==============================] - ETA: 0s - loss: 8.8763 - accuracy: 0.7677\n",
            "Epoch 00002: val_loss did not improve from 0.50481\n",
            "77/77 [==============================] - 16s 208ms/step - loss: 8.8763 - accuracy: 0.7677 - val_loss: 4.4498 - val_accuracy: 0.8545\n",
            "Epoch 3/50\n",
            "77/77 [==============================] - ETA: 0s - loss: 5.0654 - accuracy: 0.7991\n",
            "Epoch 00003: val_loss did not improve from 0.50481\n",
            "77/77 [==============================] - 16s 203ms/step - loss: 5.0654 - accuracy: 0.7991 - val_loss: 9.1293 - val_accuracy: 0.7946\n",
            "Epoch 4/50\n",
            "77/77 [==============================] - ETA: 0s - loss: 7.5359 - accuracy: 0.7673\n",
            "Epoch 00004: val_loss did not improve from 0.50481\n",
            "77/77 [==============================] - 16s 205ms/step - loss: 7.5359 - accuracy: 0.7673 - val_loss: 6.6114 - val_accuracy: 0.8533\n",
            "Epoch 5/50\n",
            "77/77 [==============================] - ETA: 0s - loss: 4.5457 - accuracy: 0.8093\n",
            "Epoch 00005: val_loss did not improve from 0.50481\n",
            "77/77 [==============================] - 16s 209ms/step - loss: 4.5457 - accuracy: 0.8093 - val_loss: 3.0642 - val_accuracy: 0.7469\n",
            "Epoch 6/50\n",
            "77/77 [==============================] - ETA: 0s - loss: 4.4941 - accuracy: 0.8015\n",
            "Epoch 00006: val_loss did not improve from 0.50481\n",
            "77/77 [==============================] - 16s 211ms/step - loss: 4.4941 - accuracy: 0.8015 - val_loss: 11.3682 - val_accuracy: 0.7726\n",
            "Epoch 7/50\n",
            "77/77 [==============================] - ETA: 0s - loss: 6.9189 - accuracy: 0.7930\n",
            "Epoch 00007: val_loss did not improve from 0.50481\n",
            "77/77 [==============================] - 16s 206ms/step - loss: 6.9189 - accuracy: 0.7930 - val_loss: 2.2496 - val_accuracy: 0.8570\n",
            "Epoch 8/50\n",
            "77/77 [==============================] - ETA: 0s - loss: 7.0794 - accuracy: 0.7844\n",
            "Epoch 00008: val_loss did not improve from 0.50481\n",
            "77/77 [==============================] - 16s 208ms/step - loss: 7.0794 - accuracy: 0.7844 - val_loss: 5.6309 - val_accuracy: 0.8203\n",
            "Epoch 9/50\n",
            "77/77 [==============================] - ETA: 0s - loss: 4.7051 - accuracy: 0.8374\n",
            "Epoch 00009: val_loss did not improve from 0.50481\n",
            "77/77 [==============================] - 16s 207ms/step - loss: 4.7051 - accuracy: 0.8374 - val_loss: 4.0335 - val_accuracy: 0.8826\n",
            "Epoch 10/50\n",
            "77/77 [==============================] - ETA: 0s - loss: 4.7892 - accuracy: 0.8199\n",
            "Epoch 00010: val_loss did not improve from 0.50481\n",
            "77/77 [==============================] - 16s 205ms/step - loss: 4.7892 - accuracy: 0.8199 - val_loss: 1.8928 - val_accuracy: 0.8888\n",
            "Epoch 11/50\n",
            "77/77 [==============================] - ETA: 0s - loss: 3.0610 - accuracy: 0.8260\n",
            "Epoch 00011: val_loss did not improve from 0.50481\n",
            "77/77 [==============================] - 16s 202ms/step - loss: 3.0610 - accuracy: 0.8260 - val_loss: 14.6144 - val_accuracy: 0.7726\n",
            "Epoch 12/50\n",
            "77/77 [==============================] - ETA: 0s - loss: 7.1496 - accuracy: 0.8011\n",
            "Epoch 00012: val_loss did not improve from 0.50481\n",
            "77/77 [==============================] - 16s 205ms/step - loss: 7.1496 - accuracy: 0.8011 - val_loss: 7.8504 - val_accuracy: 0.8545\n",
            "Epoch 13/50\n",
            "77/77 [==============================] - ETA: 0s - loss: 5.9507 - accuracy: 0.8297Restoring model weights from the end of the best epoch: 10.\n",
            "\n",
            "Epoch 00013: val_loss did not improve from 0.50481\n",
            "77/77 [==============================] - 16s 204ms/step - loss: 5.9507 - accuracy: 0.8297 - val_loss: 5.3636 - val_accuracy: 0.7836\n",
            "Epoch 00013: early stopping\n"
          ]
        },
        {
          "output_type": "stream",
          "name": "stderr",
          "text": [
            "/usr/local/lib/python3.7/dist-packages/keras/engine/functional.py:1410: CustomMaskWarning: Custom mask layers require a config and must override get_config. When loading, the custom mask layer must be passed to the custom_objects argument.\n",
            "  layer_config = serialize_layer_fn(layer)\n"
          ]
        }
      ]
    },
    {
      "cell_type": "code",
      "source": [
        "train(0.8)"
      ],
      "metadata": {
        "colab": {
          "base_uri": "https://localhost:8080/"
        },
        "id": "jZmZ3DS-X3hY",
        "outputId": "89bd3c29-b3a3-493c-f1bb-26e4f1a38779"
      },
      "execution_count": null,
      "outputs": [
        {
          "output_type": "stream",
          "name": "stdout",
          "text": [
            "Epoch 1/50\n",
            "77/77 [==============================] - ETA: 0s - loss: 29.5014 - accuracy: 0.7832\n",
            "Epoch 00001: val_loss did not improve from 0.50481\n",
            "77/77 [==============================] - 21s 227ms/step - loss: 29.5014 - accuracy: 0.7832 - val_loss: 13.2771 - val_accuracy: 0.6210\n",
            "Epoch 2/50\n",
            "77/77 [==============================] - ETA: 0s - loss: 12.8165 - accuracy: 0.7857\n",
            "Epoch 00002: val_loss did not improve from 0.50481\n",
            "77/77 [==============================] - 16s 208ms/step - loss: 12.8165 - accuracy: 0.7857 - val_loss: 12.5386 - val_accuracy: 0.8753\n",
            "Epoch 3/50\n",
            "77/77 [==============================] - ETA: 0s - loss: 10.6897 - accuracy: 0.8040\n",
            "Epoch 00003: val_loss did not improve from 0.50481\n",
            "77/77 [==============================] - 16s 203ms/step - loss: 10.6897 - accuracy: 0.8040 - val_loss: 13.4329 - val_accuracy: 0.7726\n",
            "Epoch 4/50\n",
            "77/77 [==============================] - ETA: 0s - loss: 10.3612 - accuracy: 0.7954\n",
            "Epoch 00004: val_loss did not improve from 0.50481\n",
            "77/77 [==============================] - 16s 205ms/step - loss: 10.3612 - accuracy: 0.7954 - val_loss: 2.9208 - val_accuracy: 0.8582\n",
            "Epoch 5/50\n",
            "77/77 [==============================] - ETA: 0s - loss: 5.5114 - accuracy: 0.8231\n",
            "Epoch 00005: val_loss did not improve from 0.50481\n",
            "77/77 [==============================] - 16s 204ms/step - loss: 5.5114 - accuracy: 0.8231 - val_loss: 4.7536 - val_accuracy: 0.8289\n",
            "Epoch 6/50\n",
            "77/77 [==============================] - ETA: 0s - loss: 10.9285 - accuracy: 0.8337\n",
            "Epoch 00006: val_loss did not improve from 0.50481\n",
            "77/77 [==============================] - 16s 207ms/step - loss: 10.9285 - accuracy: 0.8337 - val_loss: 2.4029 - val_accuracy: 0.8509\n",
            "Epoch 7/50\n",
            "77/77 [==============================] - ETA: 0s - loss: 8.4960 - accuracy: 0.8174\n",
            "Epoch 00007: val_loss did not improve from 0.50481\n",
            "77/77 [==============================] - 16s 202ms/step - loss: 8.4960 - accuracy: 0.8174 - val_loss: 8.1706 - val_accuracy: 0.7641\n",
            "Epoch 8/50\n",
            "77/77 [==============================] - ETA: 0s - loss: 9.2935 - accuracy: 0.8130\n",
            "Epoch 00008: val_loss did not improve from 0.50481\n",
            "77/77 [==============================] - 16s 206ms/step - loss: 9.2935 - accuracy: 0.8130 - val_loss: 2.8603 - val_accuracy: 0.8778\n",
            "Epoch 9/50\n",
            "77/77 [==============================] - ETA: 0s - loss: 6.8108 - accuracy: 0.8044Restoring model weights from the end of the best epoch: 6.\n",
            "\n",
            "Epoch 00009: val_loss did not improve from 0.50481\n",
            "77/77 [==============================] - 16s 213ms/step - loss: 6.8108 - accuracy: 0.8044 - val_loss: 4.6480 - val_accuracy: 0.8631\n",
            "Epoch 00009: early stopping\n"
          ]
        },
        {
          "output_type": "stream",
          "name": "stderr",
          "text": [
            "/usr/local/lib/python3.7/dist-packages/keras/engine/functional.py:1410: CustomMaskWarning: Custom mask layers require a config and must override get_config. When loading, the custom mask layer must be passed to the custom_objects argument.\n",
            "  layer_config = serialize_layer_fn(layer)\n"
          ]
        }
      ]
    },
    {
      "cell_type": "markdown",
      "source": [
        "## **4. Cleanup**"
      ],
      "metadata": {
        "id": "OM_H4YGTafcq"
      }
    },
    {
      "cell_type": "code",
      "source": [
        "shutil.rmtree(temp_dir)"
      ],
      "metadata": {
        "id": "3YsuJRjFahiP",
        "colab": {
          "base_uri": "https://localhost:8080/",
          "height": 313
        },
        "outputId": "7f97e8aa-99e5-4df3-87b7-733e24202380"
      },
      "execution_count": null,
      "outputs": [
        {
          "output_type": "error",
          "ename": "FileNotFoundError",
          "evalue": "ignored",
          "traceback": [
            "\u001b[0;31m---------------------------------------------------------------------------\u001b[0m",
            "\u001b[0;31mFileNotFoundError\u001b[0m                         Traceback (most recent call last)",
            "\u001b[0;32m<ipython-input-6-5a795c11d5ab>\u001b[0m in \u001b[0;36m<module>\u001b[0;34m()\u001b[0m\n\u001b[0;32m----> 1\u001b[0;31m \u001b[0mshutil\u001b[0m\u001b[0;34m.\u001b[0m\u001b[0mrmtree\u001b[0m\u001b[0;34m(\u001b[0m\u001b[0mtemp_dir\u001b[0m\u001b[0;34m)\u001b[0m\u001b[0;34m\u001b[0m\u001b[0;34m\u001b[0m\u001b[0m\n\u001b[0m",
            "\u001b[0;32m/usr/lib/python3.7/shutil.py\u001b[0m in \u001b[0;36mrmtree\u001b[0;34m(path, ignore_errors, onerror)\u001b[0m\n\u001b[1;32m    483\u001b[0m             \u001b[0morig_st\u001b[0m \u001b[0;34m=\u001b[0m \u001b[0mos\u001b[0m\u001b[0;34m.\u001b[0m\u001b[0mlstat\u001b[0m\u001b[0;34m(\u001b[0m\u001b[0mpath\u001b[0m\u001b[0;34m)\u001b[0m\u001b[0;34m\u001b[0m\u001b[0;34m\u001b[0m\u001b[0m\n\u001b[1;32m    484\u001b[0m         \u001b[0;32mexcept\u001b[0m \u001b[0mException\u001b[0m\u001b[0;34m:\u001b[0m\u001b[0;34m\u001b[0m\u001b[0;34m\u001b[0m\u001b[0m\n\u001b[0;32m--> 485\u001b[0;31m             \u001b[0monerror\u001b[0m\u001b[0;34m(\u001b[0m\u001b[0mos\u001b[0m\u001b[0;34m.\u001b[0m\u001b[0mlstat\u001b[0m\u001b[0;34m,\u001b[0m \u001b[0mpath\u001b[0m\u001b[0;34m,\u001b[0m \u001b[0msys\u001b[0m\u001b[0;34m.\u001b[0m\u001b[0mexc_info\u001b[0m\u001b[0;34m(\u001b[0m\u001b[0;34m)\u001b[0m\u001b[0;34m)\u001b[0m\u001b[0;34m\u001b[0m\u001b[0;34m\u001b[0m\u001b[0m\n\u001b[0m\u001b[1;32m    486\u001b[0m             \u001b[0;32mreturn\u001b[0m\u001b[0;34m\u001b[0m\u001b[0;34m\u001b[0m\u001b[0m\n\u001b[1;32m    487\u001b[0m         \u001b[0;32mtry\u001b[0m\u001b[0;34m:\u001b[0m\u001b[0;34m\u001b[0m\u001b[0;34m\u001b[0m\u001b[0m\n",
            "\u001b[0;32m/usr/lib/python3.7/shutil.py\u001b[0m in \u001b[0;36mrmtree\u001b[0;34m(path, ignore_errors, onerror)\u001b[0m\n\u001b[1;32m    481\u001b[0m         \u001b[0;31m# lstat()/open()/fstat() trick.\u001b[0m\u001b[0;34m\u001b[0m\u001b[0;34m\u001b[0m\u001b[0;34m\u001b[0m\u001b[0m\n\u001b[1;32m    482\u001b[0m         \u001b[0;32mtry\u001b[0m\u001b[0;34m:\u001b[0m\u001b[0;34m\u001b[0m\u001b[0;34m\u001b[0m\u001b[0m\n\u001b[0;32m--> 483\u001b[0;31m             \u001b[0morig_st\u001b[0m \u001b[0;34m=\u001b[0m \u001b[0mos\u001b[0m\u001b[0;34m.\u001b[0m\u001b[0mlstat\u001b[0m\u001b[0;34m(\u001b[0m\u001b[0mpath\u001b[0m\u001b[0;34m)\u001b[0m\u001b[0;34m\u001b[0m\u001b[0;34m\u001b[0m\u001b[0m\n\u001b[0m\u001b[1;32m    484\u001b[0m         \u001b[0;32mexcept\u001b[0m \u001b[0mException\u001b[0m\u001b[0;34m:\u001b[0m\u001b[0;34m\u001b[0m\u001b[0;34m\u001b[0m\u001b[0m\n\u001b[1;32m    485\u001b[0m             \u001b[0monerror\u001b[0m\u001b[0;34m(\u001b[0m\u001b[0mos\u001b[0m\u001b[0;34m.\u001b[0m\u001b[0mlstat\u001b[0m\u001b[0;34m,\u001b[0m \u001b[0mpath\u001b[0m\u001b[0;34m,\u001b[0m \u001b[0msys\u001b[0m\u001b[0;34m.\u001b[0m\u001b[0mexc_info\u001b[0m\u001b[0;34m(\u001b[0m\u001b[0;34m)\u001b[0m\u001b[0;34m)\u001b[0m\u001b[0;34m\u001b[0m\u001b[0;34m\u001b[0m\u001b[0m\n",
            "\u001b[0;31mFileNotFoundError\u001b[0m: [Errno 2] No such file or directory: 'drive/MyDrive/datasets/face-mask-detection/temp'"
          ]
        }
      ]
    },
    {
      "cell_type": "code",
      "source": [
        "!ls 'drive/MyDrive/datasets/face-mask-detection'"
      ],
      "metadata": {
        "colab": {
          "base_uri": "https://localhost:8080/"
        },
        "id": "4MrXkAjInfQD",
        "outputId": "6b8e569f-fb36-4001-fd18-8506393ab6d5"
      },
      "execution_count": null,
      "outputs": [
        {
          "output_type": "stream",
          "name": "stdout",
          "text": [
            "annotations  images\n"
          ]
        }
      ]
    }
  ]
}