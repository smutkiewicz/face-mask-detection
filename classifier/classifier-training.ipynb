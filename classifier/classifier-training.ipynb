{
  "nbformat": 4,
  "nbformat_minor": 0,
  "metadata": {
    "colab": {
      "name": "classifier-training.ipynb",
      "provenance": [],
      "collapsed_sections": [
        "-U3p3ueZmIIM",
        "0SV6Tzu7mP-v",
        "FNcPvw4gloE0",
        "OM_H4YGTafcq"
      ]
    },
    "kernelspec": {
      "name": "python3",
      "display_name": "Python 3"
    },
    "language_info": {
      "name": "python"
    }
  },
  "cells": [
    {
      "cell_type": "markdown",
      "source": [
        "# **EIASR 21Z - Face Mask Detection**"
      ],
      "metadata": {
        "id": "cdArl1WGas2X"
      }
    },
    {
      "cell_type": "markdown",
      "source": [
        "We used this [project](https://www.kaggle.com/meghanatiyyali560/sailaja-meghana-project) as a guide how to use annotations provided with [image dataset we used](https://www.kaggle.com/andrewmvd/face-mask-detection). "
      ],
      "metadata": {
        "id": "nw5AS91Y1Q5M"
      }
    },
    {
      "cell_type": "markdown",
      "source": [
        "## **1. Environment preparation**"
      ],
      "metadata": {
        "id": "-U3p3ueZmIIM"
      }
    },
    {
      "cell_type": "markdown",
      "source": [
        "### Imports"
      ],
      "metadata": {
        "id": "0SV6Tzu7mP-v"
      }
    },
    {
      "cell_type": "code",
      "execution_count": null,
      "metadata": {
        "id": "G2mvDZUB3p1U"
      },
      "outputs": [],
      "source": [
        "import os\n",
        "import glob\n",
        "import cv2\n",
        "import shutil\n",
        "import matplotlib.pyplot as plt\n",
        "import numpy as np\n",
        "import pandas as pd\n",
        "import tensorflow as tf\n",
        "\n",
        "from tensorflow import keras\n",
        "from tensorflow.keras.applications import ResNet50V2\n",
        "from tensorflow.keras.callbacks import ModelCheckpoint\n",
        "from tensorflow.keras.callbacks import EarlyStopping\n",
        "from tensorflow.keras.optimizers import Adam\n",
        "from keras_preprocessing.image import ImageDataGenerator\n",
        "from xml.etree import ElementTree\n",
        "from pandas import DataFrame"
      ]
    },
    {
      "cell_type": "markdown",
      "source": [
        "### Constants"
      ],
      "metadata": {
        "id": "FNcPvw4gloE0"
      }
    },
    {
      "cell_type": "code",
      "source": [
        "path = 'drive/MyDrive/datasets/face-mask-detection'\n",
        "\n",
        "BATCH_SIZE = 32\n",
        "SEED_SIZE = 42\n",
        "EPOCHS = 24\n",
        "image_target_size = (24, 22)\n",
        "\n",
        "key_cropped = 'cropped_image_file'\n",
        "key_label = 'label'\n",
        "key_file = 'file'\n",
        "key_image_file = 'image_file'\n",
        "key_annotation = 'annotation_file'\n",
        "\n",
        "annotations_dir = path + '/annotations'\n",
        "images_dir = path + '/images'\n",
        "temp_dir = path + '/temp'\n",
        "cropped_dir = temp_dir + '/cropped_images'\n",
        "\n",
        "classifier_path = \"drive/MyDrive/models/classifier.h5\"\n",
        "\n",
        "train_df_file_name = path + '/train_df.csv'\n",
        "test_df_file_name = path + '/test_df.csv'"
      ],
      "metadata": {
        "id": "4z9XxUXj42d9"
      },
      "execution_count": null,
      "outputs": []
    },
    {
      "cell_type": "markdown",
      "source": [
        "### Optional cleanup"
      ],
      "metadata": {
        "id": "OM_H4YGTafcq"
      }
    },
    {
      "cell_type": "code",
      "source": [
        "os.mkdir(temp_dir)\n",
        "os.mkdir(cropped_dir)\n",
        "\n",
        "!ls 'drive/MyDrive/datasets/face-mask-detection'\n",
        "!ls 'drive/MyDrive/datasets/face-mask-detection/temp'"
      ],
      "metadata": {
        "id": "NRrBdAObuWAL"
      },
      "execution_count": null,
      "outputs": []
    },
    {
      "cell_type": "code",
      "source": [
        "shutil.rmtree(temp_dir)"
      ],
      "metadata": {
        "id": "3YsuJRjFahiP"
      },
      "execution_count": null,
      "outputs": []
    },
    {
      "cell_type": "code",
      "source": [
        "!ls 'drive/MyDrive/datasets/face-mask-detection'"
      ],
      "metadata": {
        "colab": {
          "base_uri": "https://localhost:8080/"
        },
        "id": "4MrXkAjInfQD",
        "outputId": "5db69dbf-8c77-495c-a65b-dafb517c3f58"
      },
      "execution_count": null,
      "outputs": [
        {
          "output_type": "stream",
          "name": "stdout",
          "text": [
            "annotations  images\n"
          ]
        }
      ]
    },
    {
      "cell_type": "markdown",
      "source": [
        "## **2. Test dataset preparation**"
      ],
      "metadata": {
        "id": "efeX939R8kRy"
      }
    },
    {
      "cell_type": "markdown",
      "source": [
        "### Read existing set"
      ],
      "metadata": {
        "id": "h5Iz6KYuabEk"
      }
    },
    {
      "cell_type": "code",
      "source": [
        "train_df = pd.read_csv(train_df_file_name)\n",
        "train_df"
      ],
      "metadata": {
        "id": "KWtRNznH9QOS",
        "colab": {
          "base_uri": "https://localhost:8080/",
          "height": 424
        },
        "outputId": "fceccc45-c964-4c0e-c9c3-c8f7a2cf67ed"
      },
      "execution_count": null,
      "outputs": [
        {
          "output_type": "execute_result",
          "data": {
            "text/html": [
              "\n",
              "  <div id=\"df-0a51e7b7-b1c8-4806-808b-16e6191c7815\">\n",
              "    <div class=\"colab-df-container\">\n",
              "      <div>\n",
              "<style scoped>\n",
              "    .dataframe tbody tr th:only-of-type {\n",
              "        vertical-align: middle;\n",
              "    }\n",
              "\n",
              "    .dataframe tbody tr th {\n",
              "        vertical-align: top;\n",
              "    }\n",
              "\n",
              "    .dataframe thead th {\n",
              "        text-align: right;\n",
              "    }\n",
              "</style>\n",
              "<table border=\"1\" class=\"dataframe\">\n",
              "  <thead>\n",
              "    <tr style=\"text-align: right;\">\n",
              "      <th></th>\n",
              "      <th>xmin</th>\n",
              "      <th>ymin</th>\n",
              "      <th>xmax</th>\n",
              "      <th>ymax</th>\n",
              "      <th>label</th>\n",
              "      <th>file</th>\n",
              "      <th>width</th>\n",
              "      <th>height</th>\n",
              "      <th>annotation_file</th>\n",
              "      <th>image_file</th>\n",
              "      <th>cropped_image_file</th>\n",
              "    </tr>\n",
              "  </thead>\n",
              "  <tbody>\n",
              "    <tr>\n",
              "      <th>0</th>\n",
              "      <td>308</td>\n",
              "      <td>88</td>\n",
              "      <td>322</td>\n",
              "      <td>103</td>\n",
              "      <td>with_mask</td>\n",
              "      <td>maksssksksss722</td>\n",
              "      <td>400</td>\n",
              "      <td>267</td>\n",
              "      <td>maksssksksss722.xml</td>\n",
              "      <td>maksssksksss722.png</td>\n",
              "      <td>maksssksksss722-800.png</td>\n",
              "    </tr>\n",
              "    <tr>\n",
              "      <th>1</th>\n",
              "      <td>131</td>\n",
              "      <td>86</td>\n",
              "      <td>259</td>\n",
              "      <td>216</td>\n",
              "      <td>with_mask</td>\n",
              "      <td>maksssksksss63</td>\n",
              "      <td>400</td>\n",
              "      <td>226</td>\n",
              "      <td>maksssksksss63.xml</td>\n",
              "      <td>maksssksksss63.png</td>\n",
              "      <td>maksssksksss63-801.png</td>\n",
              "    </tr>\n",
              "    <tr>\n",
              "      <th>2</th>\n",
              "      <td>168</td>\n",
              "      <td>65</td>\n",
              "      <td>234</td>\n",
              "      <td>139</td>\n",
              "      <td>with_mask</td>\n",
              "      <td>maksssksksss249</td>\n",
              "      <td>400</td>\n",
              "      <td>267</td>\n",
              "      <td>maksssksksss249.xml</td>\n",
              "      <td>maksssksksss249.png</td>\n",
              "      <td>maksssksksss249-802.png</td>\n",
              "    </tr>\n",
              "    <tr>\n",
              "      <th>3</th>\n",
              "      <td>309</td>\n",
              "      <td>119</td>\n",
              "      <td>368</td>\n",
              "      <td>191</td>\n",
              "      <td>without_mask</td>\n",
              "      <td>maksssksksss249</td>\n",
              "      <td>400</td>\n",
              "      <td>267</td>\n",
              "      <td>maksssksksss249.xml</td>\n",
              "      <td>maksssksksss249.png</td>\n",
              "      <td>maksssksksss249-803.png</td>\n",
              "    </tr>\n",
              "    <tr>\n",
              "      <th>4</th>\n",
              "      <td>223</td>\n",
              "      <td>89</td>\n",
              "      <td>266</td>\n",
              "      <td>146</td>\n",
              "      <td>without_mask</td>\n",
              "      <td>maksssksksss249</td>\n",
              "      <td>400</td>\n",
              "      <td>267</td>\n",
              "      <td>maksssksksss249.xml</td>\n",
              "      <td>maksssksksss249.png</td>\n",
              "      <td>maksssksksss249-804.png</td>\n",
              "    </tr>\n",
              "    <tr>\n",
              "      <th>...</th>\n",
              "      <td>...</td>\n",
              "      <td>...</td>\n",
              "      <td>...</td>\n",
              "      <td>...</td>\n",
              "      <td>...</td>\n",
              "      <td>...</td>\n",
              "      <td>...</td>\n",
              "      <td>...</td>\n",
              "      <td>...</td>\n",
              "      <td>...</td>\n",
              "      <td>...</td>\n",
              "    </tr>\n",
              "    <tr>\n",
              "      <th>3267</th>\n",
              "      <td>247</td>\n",
              "      <td>78</td>\n",
              "      <td>285</td>\n",
              "      <td>107</td>\n",
              "      <td>without_mask</td>\n",
              "      <td>maksssksksss703</td>\n",
              "      <td>400</td>\n",
              "      <td>267</td>\n",
              "      <td>maksssksksss703.xml</td>\n",
              "      <td>maksssksksss703.png</td>\n",
              "      <td>maksssksksss703-4067.png</td>\n",
              "    </tr>\n",
              "    <tr>\n",
              "      <th>3268</th>\n",
              "      <td>312</td>\n",
              "      <td>82</td>\n",
              "      <td>331</td>\n",
              "      <td>112</td>\n",
              "      <td>with_mask</td>\n",
              "      <td>maksssksksss703</td>\n",
              "      <td>400</td>\n",
              "      <td>267</td>\n",
              "      <td>maksssksksss703.xml</td>\n",
              "      <td>maksssksksss703.png</td>\n",
              "      <td>maksssksksss703-4068.png</td>\n",
              "    </tr>\n",
              "    <tr>\n",
              "      <th>3269</th>\n",
              "      <td>331</td>\n",
              "      <td>93</td>\n",
              "      <td>371</td>\n",
              "      <td>135</td>\n",
              "      <td>with_mask</td>\n",
              "      <td>maksssksksss703</td>\n",
              "      <td>400</td>\n",
              "      <td>267</td>\n",
              "      <td>maksssksksss703.xml</td>\n",
              "      <td>maksssksksss703.png</td>\n",
              "      <td>maksssksksss703-4069.png</td>\n",
              "    </tr>\n",
              "    <tr>\n",
              "      <th>3270</th>\n",
              "      <td>384</td>\n",
              "      <td>116</td>\n",
              "      <td>400</td>\n",
              "      <td>156</td>\n",
              "      <td>without_mask</td>\n",
              "      <td>maksssksksss703</td>\n",
              "      <td>400</td>\n",
              "      <td>267</td>\n",
              "      <td>maksssksksss703.xml</td>\n",
              "      <td>maksssksksss703.png</td>\n",
              "      <td>maksssksksss703-4070.png</td>\n",
              "    </tr>\n",
              "    <tr>\n",
              "      <th>3271</th>\n",
              "      <td>280</td>\n",
              "      <td>197</td>\n",
              "      <td>331</td>\n",
              "      <td>241</td>\n",
              "      <td>with_mask</td>\n",
              "      <td>maksssksksss703</td>\n",
              "      <td>400</td>\n",
              "      <td>267</td>\n",
              "      <td>maksssksksss703.xml</td>\n",
              "      <td>maksssksksss703.png</td>\n",
              "      <td>maksssksksss703-4071.png</td>\n",
              "    </tr>\n",
              "  </tbody>\n",
              "</table>\n",
              "<p>3272 rows × 11 columns</p>\n",
              "</div>\n",
              "      <button class=\"colab-df-convert\" onclick=\"convertToInteractive('df-0a51e7b7-b1c8-4806-808b-16e6191c7815')\"\n",
              "              title=\"Convert this dataframe to an interactive table.\"\n",
              "              style=\"display:none;\">\n",
              "        \n",
              "  <svg xmlns=\"http://www.w3.org/2000/svg\" height=\"24px\"viewBox=\"0 0 24 24\"\n",
              "       width=\"24px\">\n",
              "    <path d=\"M0 0h24v24H0V0z\" fill=\"none\"/>\n",
              "    <path d=\"M18.56 5.44l.94 2.06.94-2.06 2.06-.94-2.06-.94-.94-2.06-.94 2.06-2.06.94zm-11 1L8.5 8.5l.94-2.06 2.06-.94-2.06-.94L8.5 2.5l-.94 2.06-2.06.94zm10 10l.94 2.06.94-2.06 2.06-.94-2.06-.94-.94-2.06-.94 2.06-2.06.94z\"/><path d=\"M17.41 7.96l-1.37-1.37c-.4-.4-.92-.59-1.43-.59-.52 0-1.04.2-1.43.59L10.3 9.45l-7.72 7.72c-.78.78-.78 2.05 0 2.83L4 21.41c.39.39.9.59 1.41.59.51 0 1.02-.2 1.41-.59l7.78-7.78 2.81-2.81c.8-.78.8-2.07 0-2.86zM5.41 20L4 18.59l7.72-7.72 1.47 1.35L5.41 20z\"/>\n",
              "  </svg>\n",
              "      </button>\n",
              "      \n",
              "  <style>\n",
              "    .colab-df-container {\n",
              "      display:flex;\n",
              "      flex-wrap:wrap;\n",
              "      gap: 12px;\n",
              "    }\n",
              "\n",
              "    .colab-df-convert {\n",
              "      background-color: #E8F0FE;\n",
              "      border: none;\n",
              "      border-radius: 50%;\n",
              "      cursor: pointer;\n",
              "      display: none;\n",
              "      fill: #1967D2;\n",
              "      height: 32px;\n",
              "      padding: 0 0 0 0;\n",
              "      width: 32px;\n",
              "    }\n",
              "\n",
              "    .colab-df-convert:hover {\n",
              "      background-color: #E2EBFA;\n",
              "      box-shadow: 0px 1px 2px rgba(60, 64, 67, 0.3), 0px 1px 3px 1px rgba(60, 64, 67, 0.15);\n",
              "      fill: #174EA6;\n",
              "    }\n",
              "\n",
              "    [theme=dark] .colab-df-convert {\n",
              "      background-color: #3B4455;\n",
              "      fill: #D2E3FC;\n",
              "    }\n",
              "\n",
              "    [theme=dark] .colab-df-convert:hover {\n",
              "      background-color: #434B5C;\n",
              "      box-shadow: 0px 1px 3px 1px rgba(0, 0, 0, 0.15);\n",
              "      filter: drop-shadow(0px 1px 2px rgba(0, 0, 0, 0.3));\n",
              "      fill: #FFFFFF;\n",
              "    }\n",
              "  </style>\n",
              "\n",
              "      <script>\n",
              "        const buttonEl =\n",
              "          document.querySelector('#df-0a51e7b7-b1c8-4806-808b-16e6191c7815 button.colab-df-convert');\n",
              "        buttonEl.style.display =\n",
              "          google.colab.kernel.accessAllowed ? 'block' : 'none';\n",
              "\n",
              "        async function convertToInteractive(key) {\n",
              "          const element = document.querySelector('#df-0a51e7b7-b1c8-4806-808b-16e6191c7815');\n",
              "          const dataTable =\n",
              "            await google.colab.kernel.invokeFunction('convertToInteractive',\n",
              "                                                     [key], {});\n",
              "          if (!dataTable) return;\n",
              "\n",
              "          const docLinkHtml = 'Like what you see? Visit the ' +\n",
              "            '<a target=\"_blank\" href=https://colab.research.google.com/notebooks/data_table.ipynb>data table notebook</a>'\n",
              "            + ' to learn more about interactive tables.';\n",
              "          element.innerHTML = '';\n",
              "          dataTable['output_type'] = 'display_data';\n",
              "          await google.colab.output.renderOutput(dataTable, element);\n",
              "          const docLink = document.createElement('div');\n",
              "          docLink.innerHTML = docLinkHtml;\n",
              "          element.appendChild(docLink);\n",
              "        }\n",
              "      </script>\n",
              "    </div>\n",
              "  </div>\n",
              "  "
            ],
            "text/plain": [
              "      xmin  ymin  ...           image_file        cropped_image_file\n",
              "0      308    88  ...  maksssksksss722.png   maksssksksss722-800.png\n",
              "1      131    86  ...   maksssksksss63.png    maksssksksss63-801.png\n",
              "2      168    65  ...  maksssksksss249.png   maksssksksss249-802.png\n",
              "3      309   119  ...  maksssksksss249.png   maksssksksss249-803.png\n",
              "4      223    89  ...  maksssksksss249.png   maksssksksss249-804.png\n",
              "...    ...   ...  ...                  ...                       ...\n",
              "3267   247    78  ...  maksssksksss703.png  maksssksksss703-4067.png\n",
              "3268   312    82  ...  maksssksksss703.png  maksssksksss703-4068.png\n",
              "3269   331    93  ...  maksssksksss703.png  maksssksksss703-4069.png\n",
              "3270   384   116  ...  maksssksksss703.png  maksssksksss703-4070.png\n",
              "3271   280   197  ...  maksssksksss703.png  maksssksksss703-4071.png\n",
              "\n",
              "[3272 rows x 11 columns]"
            ]
          },
          "metadata": {},
          "execution_count": 26
        }
      ]
    },
    {
      "cell_type": "markdown",
      "source": [
        "### Prepare new dataset"
      ],
      "metadata": {
        "id": "B7aXenHFahVt"
      }
    },
    {
      "cell_type": "code",
      "source": [
        "data = {'xmin': [], 'ymin': [], 'xmax': [], 'ymax': [], \n",
        "        'label': [], 'file': [], 'width': [], 'height': []}\n",
        "\n",
        "for annotation in glob.glob(annotations_dir + '/*.xml'):\n",
        "    tree = ElementTree.parse(annotation)\n",
        "    \n",
        "    for element in tree.iter():\n",
        "        if 'size' in element.tag:\n",
        "            for attribute in list(element):\n",
        "                if 'width' in attribute.tag:\n",
        "                    width = int(round(float(attribute.text)))\n",
        "                if 'height' in attribute.tag:\n",
        "                    height = int(round(float(attribute.text)))\n",
        "\n",
        "        if 'object' in element.tag:\n",
        "            for attribute in list(element):\n",
        "                if 'name' in attribute.tag:\n",
        "                    name = attribute.text\n",
        "                    data['label'] += [name]\n",
        "                    data['width'] += [width]\n",
        "                    data['height'] += [height]\n",
        "                    data['file'] += [annotation.split('/')[-1][0:-4]]\n",
        "                            \n",
        "                if 'bndbox' in attribute.tag:\n",
        "                    for dimension in list(attribute):\n",
        "                        if 'xmin' in dimension.tag:\n",
        "                            xmin = int(round(float(dimension.text)))\n",
        "                            data['xmin'] += [xmin]\n",
        "                        if 'ymin' in dimension.tag:\n",
        "                            ymin = int(round(float(dimension.text)))\n",
        "                            data['ymin'] += [ymin]                                \n",
        "                        if 'xmax' in dimension.tag:\n",
        "                            xmax = int(round(float(dimension.text)))\n",
        "                            data['xmax'] += [xmax]                                \n",
        "                        if 'ymax' in dimension.tag:\n",
        "                            ymax = int(round(float(dimension.text)))\n",
        "                            data['ymax'] += [ymax]\n"
      ],
      "metadata": {
        "id": "OhIEtgYPP3Fy"
      },
      "execution_count": null,
      "outputs": []
    },
    {
      "cell_type": "markdown",
      "source": [
        "#### Crop images"
      ],
      "metadata": {
        "id": "VihBBoRJ317r"
      }
    },
    {
      "cell_type": "code",
      "source": [
        "df = DataFrame(data)\n",
        "df[key_annotation] = df[key_file] + '.xml'\n",
        "df[key_image_file] = df[key_file] + '.png'\n",
        "df[key_cropped] = df[key_file]\n",
        "\n",
        "df"
      ],
      "metadata": {
        "colab": {
          "base_uri": "https://localhost:8080/",
          "height": 424
        },
        "id": "GQJbf8NzU4vN",
        "outputId": "1f41fdae-f258-4ae2-aaf0-a50bd2bf456c"
      },
      "execution_count": null,
      "outputs": [
        {
          "output_type": "execute_result",
          "data": {
            "text/html": [
              "\n",
              "  <div id=\"df-cce4e3bd-ce9d-40c9-a5fc-05273cdde0ce\">\n",
              "    <div class=\"colab-df-container\">\n",
              "      <div>\n",
              "<style scoped>\n",
              "    .dataframe tbody tr th:only-of-type {\n",
              "        vertical-align: middle;\n",
              "    }\n",
              "\n",
              "    .dataframe tbody tr th {\n",
              "        vertical-align: top;\n",
              "    }\n",
              "\n",
              "    .dataframe thead th {\n",
              "        text-align: right;\n",
              "    }\n",
              "</style>\n",
              "<table border=\"1\" class=\"dataframe\">\n",
              "  <thead>\n",
              "    <tr style=\"text-align: right;\">\n",
              "      <th></th>\n",
              "      <th>xmin</th>\n",
              "      <th>ymin</th>\n",
              "      <th>xmax</th>\n",
              "      <th>ymax</th>\n",
              "      <th>label</th>\n",
              "      <th>file</th>\n",
              "      <th>width</th>\n",
              "      <th>height</th>\n",
              "      <th>annotation_file</th>\n",
              "      <th>image_file</th>\n",
              "      <th>cropped_image_file</th>\n",
              "    </tr>\n",
              "  </thead>\n",
              "  <tbody>\n",
              "    <tr>\n",
              "      <th>0</th>\n",
              "      <td>23</td>\n",
              "      <td>114</td>\n",
              "      <td>77</td>\n",
              "      <td>172</td>\n",
              "      <td>mask_weared_incorrect</td>\n",
              "      <td>maksssksksss11</td>\n",
              "      <td>400</td>\n",
              "      <td>267</td>\n",
              "      <td>maksssksksss11.xml</td>\n",
              "      <td>maksssksksss11.png</td>\n",
              "      <td>maksssksksss11</td>\n",
              "    </tr>\n",
              "    <tr>\n",
              "      <th>1</th>\n",
              "      <td>147</td>\n",
              "      <td>157</td>\n",
              "      <td>200</td>\n",
              "      <td>211</td>\n",
              "      <td>with_mask</td>\n",
              "      <td>maksssksksss11</td>\n",
              "      <td>400</td>\n",
              "      <td>267</td>\n",
              "      <td>maksssksksss11.xml</td>\n",
              "      <td>maksssksksss11.png</td>\n",
              "      <td>maksssksksss11</td>\n",
              "    </tr>\n",
              "    <tr>\n",
              "      <th>2</th>\n",
              "      <td>201</td>\n",
              "      <td>191</td>\n",
              "      <td>230</td>\n",
              "      <td>234</td>\n",
              "      <td>with_mask</td>\n",
              "      <td>maksssksksss11</td>\n",
              "      <td>400</td>\n",
              "      <td>267</td>\n",
              "      <td>maksssksksss11.xml</td>\n",
              "      <td>maksssksksss11.png</td>\n",
              "      <td>maksssksksss11</td>\n",
              "    </tr>\n",
              "    <tr>\n",
              "      <th>3</th>\n",
              "      <td>243</td>\n",
              "      <td>192</td>\n",
              "      <td>293</td>\n",
              "      <td>247</td>\n",
              "      <td>with_mask</td>\n",
              "      <td>maksssksksss11</td>\n",
              "      <td>400</td>\n",
              "      <td>267</td>\n",
              "      <td>maksssksksss11.xml</td>\n",
              "      <td>maksssksksss11.png</td>\n",
              "      <td>maksssksksss11</td>\n",
              "    </tr>\n",
              "    <tr>\n",
              "      <th>4</th>\n",
              "      <td>309</td>\n",
              "      <td>182</td>\n",
              "      <td>346</td>\n",
              "      <td>224</td>\n",
              "      <td>with_mask</td>\n",
              "      <td>maksssksksss11</td>\n",
              "      <td>400</td>\n",
              "      <td>267</td>\n",
              "      <td>maksssksksss11.xml</td>\n",
              "      <td>maksssksksss11.png</td>\n",
              "      <td>maksssksksss11</td>\n",
              "    </tr>\n",
              "    <tr>\n",
              "      <th>...</th>\n",
              "      <td>...</td>\n",
              "      <td>...</td>\n",
              "      <td>...</td>\n",
              "      <td>...</td>\n",
              "      <td>...</td>\n",
              "      <td>...</td>\n",
              "      <td>...</td>\n",
              "      <td>...</td>\n",
              "      <td>...</td>\n",
              "      <td>...</td>\n",
              "      <td>...</td>\n",
              "    </tr>\n",
              "    <tr>\n",
              "      <th>4067</th>\n",
              "      <td>247</td>\n",
              "      <td>78</td>\n",
              "      <td>285</td>\n",
              "      <td>107</td>\n",
              "      <td>without_mask</td>\n",
              "      <td>maksssksksss703</td>\n",
              "      <td>400</td>\n",
              "      <td>267</td>\n",
              "      <td>maksssksksss703.xml</td>\n",
              "      <td>maksssksksss703.png</td>\n",
              "      <td>maksssksksss703</td>\n",
              "    </tr>\n",
              "    <tr>\n",
              "      <th>4068</th>\n",
              "      <td>312</td>\n",
              "      <td>82</td>\n",
              "      <td>331</td>\n",
              "      <td>112</td>\n",
              "      <td>with_mask</td>\n",
              "      <td>maksssksksss703</td>\n",
              "      <td>400</td>\n",
              "      <td>267</td>\n",
              "      <td>maksssksksss703.xml</td>\n",
              "      <td>maksssksksss703.png</td>\n",
              "      <td>maksssksksss703</td>\n",
              "    </tr>\n",
              "    <tr>\n",
              "      <th>4069</th>\n",
              "      <td>331</td>\n",
              "      <td>93</td>\n",
              "      <td>371</td>\n",
              "      <td>135</td>\n",
              "      <td>with_mask</td>\n",
              "      <td>maksssksksss703</td>\n",
              "      <td>400</td>\n",
              "      <td>267</td>\n",
              "      <td>maksssksksss703.xml</td>\n",
              "      <td>maksssksksss703.png</td>\n",
              "      <td>maksssksksss703</td>\n",
              "    </tr>\n",
              "    <tr>\n",
              "      <th>4070</th>\n",
              "      <td>384</td>\n",
              "      <td>116</td>\n",
              "      <td>400</td>\n",
              "      <td>156</td>\n",
              "      <td>without_mask</td>\n",
              "      <td>maksssksksss703</td>\n",
              "      <td>400</td>\n",
              "      <td>267</td>\n",
              "      <td>maksssksksss703.xml</td>\n",
              "      <td>maksssksksss703.png</td>\n",
              "      <td>maksssksksss703</td>\n",
              "    </tr>\n",
              "    <tr>\n",
              "      <th>4071</th>\n",
              "      <td>280</td>\n",
              "      <td>197</td>\n",
              "      <td>331</td>\n",
              "      <td>241</td>\n",
              "      <td>with_mask</td>\n",
              "      <td>maksssksksss703</td>\n",
              "      <td>400</td>\n",
              "      <td>267</td>\n",
              "      <td>maksssksksss703.xml</td>\n",
              "      <td>maksssksksss703.png</td>\n",
              "      <td>maksssksksss703</td>\n",
              "    </tr>\n",
              "  </tbody>\n",
              "</table>\n",
              "<p>4072 rows × 11 columns</p>\n",
              "</div>\n",
              "      <button class=\"colab-df-convert\" onclick=\"convertToInteractive('df-cce4e3bd-ce9d-40c9-a5fc-05273cdde0ce')\"\n",
              "              title=\"Convert this dataframe to an interactive table.\"\n",
              "              style=\"display:none;\">\n",
              "        \n",
              "  <svg xmlns=\"http://www.w3.org/2000/svg\" height=\"24px\"viewBox=\"0 0 24 24\"\n",
              "       width=\"24px\">\n",
              "    <path d=\"M0 0h24v24H0V0z\" fill=\"none\"/>\n",
              "    <path d=\"M18.56 5.44l.94 2.06.94-2.06 2.06-.94-2.06-.94-.94-2.06-.94 2.06-2.06.94zm-11 1L8.5 8.5l.94-2.06 2.06-.94-2.06-.94L8.5 2.5l-.94 2.06-2.06.94zm10 10l.94 2.06.94-2.06 2.06-.94-2.06-.94-.94-2.06-.94 2.06-2.06.94z\"/><path d=\"M17.41 7.96l-1.37-1.37c-.4-.4-.92-.59-1.43-.59-.52 0-1.04.2-1.43.59L10.3 9.45l-7.72 7.72c-.78.78-.78 2.05 0 2.83L4 21.41c.39.39.9.59 1.41.59.51 0 1.02-.2 1.41-.59l7.78-7.78 2.81-2.81c.8-.78.8-2.07 0-2.86zM5.41 20L4 18.59l7.72-7.72 1.47 1.35L5.41 20z\"/>\n",
              "  </svg>\n",
              "      </button>\n",
              "      \n",
              "  <style>\n",
              "    .colab-df-container {\n",
              "      display:flex;\n",
              "      flex-wrap:wrap;\n",
              "      gap: 12px;\n",
              "    }\n",
              "\n",
              "    .colab-df-convert {\n",
              "      background-color: #E8F0FE;\n",
              "      border: none;\n",
              "      border-radius: 50%;\n",
              "      cursor: pointer;\n",
              "      display: none;\n",
              "      fill: #1967D2;\n",
              "      height: 32px;\n",
              "      padding: 0 0 0 0;\n",
              "      width: 32px;\n",
              "    }\n",
              "\n",
              "    .colab-df-convert:hover {\n",
              "      background-color: #E2EBFA;\n",
              "      box-shadow: 0px 1px 2px rgba(60, 64, 67, 0.3), 0px 1px 3px 1px rgba(60, 64, 67, 0.15);\n",
              "      fill: #174EA6;\n",
              "    }\n",
              "\n",
              "    [theme=dark] .colab-df-convert {\n",
              "      background-color: #3B4455;\n",
              "      fill: #D2E3FC;\n",
              "    }\n",
              "\n",
              "    [theme=dark] .colab-df-convert:hover {\n",
              "      background-color: #434B5C;\n",
              "      box-shadow: 0px 1px 3px 1px rgba(0, 0, 0, 0.15);\n",
              "      filter: drop-shadow(0px 1px 2px rgba(0, 0, 0, 0.3));\n",
              "      fill: #FFFFFF;\n",
              "    }\n",
              "  </style>\n",
              "\n",
              "      <script>\n",
              "        const buttonEl =\n",
              "          document.querySelector('#df-cce4e3bd-ce9d-40c9-a5fc-05273cdde0ce button.colab-df-convert');\n",
              "        buttonEl.style.display =\n",
              "          google.colab.kernel.accessAllowed ? 'block' : 'none';\n",
              "\n",
              "        async function convertToInteractive(key) {\n",
              "          const element = document.querySelector('#df-cce4e3bd-ce9d-40c9-a5fc-05273cdde0ce');\n",
              "          const dataTable =\n",
              "            await google.colab.kernel.invokeFunction('convertToInteractive',\n",
              "                                                     [key], {});\n",
              "          if (!dataTable) return;\n",
              "\n",
              "          const docLinkHtml = 'Like what you see? Visit the ' +\n",
              "            '<a target=\"_blank\" href=https://colab.research.google.com/notebooks/data_table.ipynb>data table notebook</a>'\n",
              "            + ' to learn more about interactive tables.';\n",
              "          element.innerHTML = '';\n",
              "          dataTable['output_type'] = 'display_data';\n",
              "          await google.colab.output.renderOutput(dataTable, element);\n",
              "          const docLink = document.createElement('div');\n",
              "          docLink.innerHTML = docLinkHtml;\n",
              "          element.appendChild(docLink);\n",
              "        }\n",
              "      </script>\n",
              "    </div>\n",
              "  </div>\n",
              "  "
            ],
            "text/plain": [
              "      xmin  ymin  ...           image_file  cropped_image_file\n",
              "0       23   114  ...   maksssksksss11.png      maksssksksss11\n",
              "1      147   157  ...   maksssksksss11.png      maksssksksss11\n",
              "2      201   191  ...   maksssksksss11.png      maksssksksss11\n",
              "3      243   192  ...   maksssksksss11.png      maksssksksss11\n",
              "4      309   182  ...   maksssksksss11.png      maksssksksss11\n",
              "...    ...   ...  ...                  ...                 ...\n",
              "4067   247    78  ...  maksssksksss703.png     maksssksksss703\n",
              "4068   312    82  ...  maksssksksss703.png     maksssksksss703\n",
              "4069   331    93  ...  maksssksksss703.png     maksssksksss703\n",
              "4070   384   116  ...  maksssksksss703.png     maksssksksss703\n",
              "4071   280   197  ...  maksssksksss703.png     maksssksksss703\n",
              "\n",
              "[4072 rows x 11 columns]"
            ]
          },
          "metadata": {},
          "execution_count": 9
        }
      ]
    },
    {
      "cell_type": "code",
      "source": [
        "def crop(write=False):\n",
        "  for i in range(len(df)):\n",
        "      image_path = images_dir + '/' + df[key_image_file].iloc[i]\n",
        "      \n",
        "      df[key_cropped].iloc[i] = df[key_cropped].iloc[i] + '-' + str(i) + '.png'\n",
        "      cropped_image_filename = df[key_cropped].iloc[i]\n",
        "      \n",
        "      xmin = df['xmin'].iloc[i]\n",
        "      ymin = df['ymin'].iloc[i]\n",
        "      xmax = df['xmax'].iloc[i]\n",
        "      ymax = df['ymax'].iloc[i]\n",
        "      \n",
        "      if write:\n",
        "        image = cv2.imread(image_path)\n",
        "        cropped_image = image[ymin:ymax, xmin:xmax]\n",
        "        cropped_image_dir = os.path.join(cropped_dir + '/', cropped_image_filename) \n",
        "        cv2.imwrite(cropped_image_dir, cropped_image)"
      ],
      "metadata": {
        "id": "IqYydzC4Ru6v"
      },
      "execution_count": null,
      "outputs": []
    },
    {
      "cell_type": "code",
      "source": [
        "crop()\n",
        "\n",
        "train_df = df[800:]\n",
        "test_df = df[:800]\n",
        "\n",
        "classes = list(train_df[key_label].unique())"
      ],
      "metadata": {
        "id": "_3WawON3SI3w"
      },
      "execution_count": null,
      "outputs": []
    },
    {
      "cell_type": "code",
      "source": [
        "train_df.to_csv(train_df_file_name, encoding='utf-8', index=False)\n",
        "test_df.to_csv(test_df_file_name, encoding='utf-8', index=False)"
      ],
      "metadata": {
        "id": "IbqdzmmVbJ1x"
      },
      "execution_count": null,
      "outputs": []
    },
    {
      "cell_type": "markdown",
      "source": [
        "### Calculate image target size"
      ],
      "metadata": {
        "id": "ZlKKU6EWa5BG"
      }
    },
    {
      "cell_type": "code",
      "source": [
        "image_width = []\n",
        "image_height = []\n",
        "\n",
        "for i in range(len(train_df)):\n",
        "    cropped_image_path = cropped_dir + '/' + train_df[key_cropped].iloc[i]\n",
        "    cropped_image = cv2.imread(cropped_image_path)\n",
        "    image_width.append(cropped_image.shape[0])\n",
        "    image_height.append(cropped_image.shape[1])"
      ],
      "metadata": {
        "id": "dSSdEUAcXOIj"
      },
      "execution_count": null,
      "outputs": []
    },
    {
      "cell_type": "code",
      "source": [
        "image_target_size = (int(np.median(image_width)), int(np.median(image_height)))\n",
        "image_target_size"
      ],
      "metadata": {
        "colab": {
          "base_uri": "https://localhost:8080/"
        },
        "id": "49VKKSNQXP-I",
        "outputId": "d6c67073-cfa2-4767-aceb-e73163f90228"
      },
      "execution_count": null,
      "outputs": [
        {
          "output_type": "execute_result",
          "data": {
            "text/plain": [
              "(24, 22)"
            ]
          },
          "metadata": {},
          "execution_count": 28
        }
      ]
    },
    {
      "cell_type": "markdown",
      "source": [
        "### Dataset statistics"
      ],
      "metadata": {
        "id": "ruaXaeCtbB8v"
      }
    },
    {
      "cell_type": "code",
      "source": [
        "sorted_label_df = DataFrame(train_df['label'].value_counts()).reset_index()\n",
        "sorted_label_df.rename(columns = {'index': 'label', 'label': 'count'}, inplace = True)\n",
        "sorted_label_df"
      ],
      "metadata": {
        "colab": {
          "base_uri": "https://localhost:8080/",
          "height": 143
        },
        "id": "09RgS5yLW_oP",
        "outputId": "a9e5e908-6ce6-4495-bc58-8c517b0dbbc6"
      },
      "execution_count": null,
      "outputs": [
        {
          "output_type": "execute_result",
          "data": {
            "text/html": [
              "\n",
              "  <div id=\"df-125353e6-ce3a-48e5-8b5e-1abc4da1a4ff\">\n",
              "    <div class=\"colab-df-container\">\n",
              "      <div>\n",
              "<style scoped>\n",
              "    .dataframe tbody tr th:only-of-type {\n",
              "        vertical-align: middle;\n",
              "    }\n",
              "\n",
              "    .dataframe tbody tr th {\n",
              "        vertical-align: top;\n",
              "    }\n",
              "\n",
              "    .dataframe thead th {\n",
              "        text-align: right;\n",
              "    }\n",
              "</style>\n",
              "<table border=\"1\" class=\"dataframe\">\n",
              "  <thead>\n",
              "    <tr style=\"text-align: right;\">\n",
              "      <th></th>\n",
              "      <th>label</th>\n",
              "      <th>count</th>\n",
              "    </tr>\n",
              "  </thead>\n",
              "  <tbody>\n",
              "    <tr>\n",
              "      <th>0</th>\n",
              "      <td>with_mask</td>\n",
              "      <td>2591</td>\n",
              "    </tr>\n",
              "    <tr>\n",
              "      <th>1</th>\n",
              "      <td>without_mask</td>\n",
              "      <td>580</td>\n",
              "    </tr>\n",
              "    <tr>\n",
              "      <th>2</th>\n",
              "      <td>mask_weared_incorrect</td>\n",
              "      <td>101</td>\n",
              "    </tr>\n",
              "  </tbody>\n",
              "</table>\n",
              "</div>\n",
              "      <button class=\"colab-df-convert\" onclick=\"convertToInteractive('df-125353e6-ce3a-48e5-8b5e-1abc4da1a4ff')\"\n",
              "              title=\"Convert this dataframe to an interactive table.\"\n",
              "              style=\"display:none;\">\n",
              "        \n",
              "  <svg xmlns=\"http://www.w3.org/2000/svg\" height=\"24px\"viewBox=\"0 0 24 24\"\n",
              "       width=\"24px\">\n",
              "    <path d=\"M0 0h24v24H0V0z\" fill=\"none\"/>\n",
              "    <path d=\"M18.56 5.44l.94 2.06.94-2.06 2.06-.94-2.06-.94-.94-2.06-.94 2.06-2.06.94zm-11 1L8.5 8.5l.94-2.06 2.06-.94-2.06-.94L8.5 2.5l-.94 2.06-2.06.94zm10 10l.94 2.06.94-2.06 2.06-.94-2.06-.94-.94-2.06-.94 2.06-2.06.94z\"/><path d=\"M17.41 7.96l-1.37-1.37c-.4-.4-.92-.59-1.43-.59-.52 0-1.04.2-1.43.59L10.3 9.45l-7.72 7.72c-.78.78-.78 2.05 0 2.83L4 21.41c.39.39.9.59 1.41.59.51 0 1.02-.2 1.41-.59l7.78-7.78 2.81-2.81c.8-.78.8-2.07 0-2.86zM5.41 20L4 18.59l7.72-7.72 1.47 1.35L5.41 20z\"/>\n",
              "  </svg>\n",
              "      </button>\n",
              "      \n",
              "  <style>\n",
              "    .colab-df-container {\n",
              "      display:flex;\n",
              "      flex-wrap:wrap;\n",
              "      gap: 12px;\n",
              "    }\n",
              "\n",
              "    .colab-df-convert {\n",
              "      background-color: #E8F0FE;\n",
              "      border: none;\n",
              "      border-radius: 50%;\n",
              "      cursor: pointer;\n",
              "      display: none;\n",
              "      fill: #1967D2;\n",
              "      height: 32px;\n",
              "      padding: 0 0 0 0;\n",
              "      width: 32px;\n",
              "    }\n",
              "\n",
              "    .colab-df-convert:hover {\n",
              "      background-color: #E2EBFA;\n",
              "      box-shadow: 0px 1px 2px rgba(60, 64, 67, 0.3), 0px 1px 3px 1px rgba(60, 64, 67, 0.15);\n",
              "      fill: #174EA6;\n",
              "    }\n",
              "\n",
              "    [theme=dark] .colab-df-convert {\n",
              "      background-color: #3B4455;\n",
              "      fill: #D2E3FC;\n",
              "    }\n",
              "\n",
              "    [theme=dark] .colab-df-convert:hover {\n",
              "      background-color: #434B5C;\n",
              "      box-shadow: 0px 1px 3px 1px rgba(0, 0, 0, 0.15);\n",
              "      filter: drop-shadow(0px 1px 2px rgba(0, 0, 0, 0.3));\n",
              "      fill: #FFFFFF;\n",
              "    }\n",
              "  </style>\n",
              "\n",
              "      <script>\n",
              "        const buttonEl =\n",
              "          document.querySelector('#df-125353e6-ce3a-48e5-8b5e-1abc4da1a4ff button.colab-df-convert');\n",
              "        buttonEl.style.display =\n",
              "          google.colab.kernel.accessAllowed ? 'block' : 'none';\n",
              "\n",
              "        async function convertToInteractive(key) {\n",
              "          const element = document.querySelector('#df-125353e6-ce3a-48e5-8b5e-1abc4da1a4ff');\n",
              "          const dataTable =\n",
              "            await google.colab.kernel.invokeFunction('convertToInteractive',\n",
              "                                                     [key], {});\n",
              "          if (!dataTable) return;\n",
              "\n",
              "          const docLinkHtml = 'Like what you see? Visit the ' +\n",
              "            '<a target=\"_blank\" href=https://colab.research.google.com/notebooks/data_table.ipynb>data table notebook</a>'\n",
              "            + ' to learn more about interactive tables.';\n",
              "          element.innerHTML = '';\n",
              "          dataTable['output_type'] = 'display_data';\n",
              "          await google.colab.output.renderOutput(dataTable, element);\n",
              "          const docLink = document.createElement('div');\n",
              "          docLink.innerHTML = docLinkHtml;\n",
              "          element.appendChild(docLink);\n",
              "        }\n",
              "      </script>\n",
              "    </div>\n",
              "  </div>\n",
              "  "
            ],
            "text/plain": [
              "                   label  count\n",
              "0              with_mask   2591\n",
              "1           without_mask    580\n",
              "2  mask_weared_incorrect    101"
            ]
          },
          "metadata": {},
          "execution_count": 27
        }
      ]
    },
    {
      "cell_type": "markdown",
      "source": [
        "### Loading datasets"
      ],
      "metadata": {
        "id": "AdkXrSmPowrx"
      }
    },
    {
      "cell_type": "code",
      "source": [
        "training_image_generator = ImageDataGenerator(rescale = 1. / 255., \n",
        "                                              validation_split = 0.25)\n",
        "\n",
        "training_generator = training_image_generator.flow_from_dataframe(\n",
        "    dataframe = train_df,\n",
        "    directory = cropped_dir,\n",
        "    x_col = key_cropped,\n",
        "    y_col = key_label,\n",
        "    subset = 'training',\n",
        "    batch_size = BATCH_SIZE,\n",
        "    seed = SEED_SIZE,\n",
        "    shuffle = True,\n",
        "    class_mode = 'categorical',\n",
        "    target_size = image_target_size\n",
        ")\n",
        "\n",
        "validation_generator = training_image_generator.flow_from_dataframe(\n",
        "    dataframe = train_df,\n",
        "    directory = cropped_dir,\n",
        "    x_col = key_cropped,\n",
        "    y_col = key_label,\n",
        "    subset = 'validation',\n",
        "    batch_size = BATCH_SIZE,\n",
        "    seed = SEED_SIZE,\n",
        "    shuffle = True,\n",
        "    class_mode = 'categorical',\n",
        "    target_size = image_target_size\n",
        ")"
      ],
      "metadata": {
        "colab": {
          "base_uri": "https://localhost:8080/"
        },
        "id": "UtYDLzubYRF6",
        "outputId": "8088edec-7a28-44cb-9a05-7e765b843713"
      },
      "execution_count": null,
      "outputs": [
        {
          "output_type": "stream",
          "name": "stdout",
          "text": [
            "Found 2454 validated image filenames belonging to 3 classes.\n",
            "Found 818 validated image filenames belonging to 3 classes.\n"
          ]
        }
      ]
    },
    {
      "cell_type": "code",
      "source": [
        "input_shape = [int(np.median(image_width)), int(np.median(image_height)), 3]"
      ],
      "metadata": {
        "id": "qJeuwkYQZ2c-"
      },
      "execution_count": null,
      "outputs": []
    },
    {
      "cell_type": "markdown",
      "source": [
        "## **3. Model preparation for transfer learning**"
      ],
      "metadata": {
        "id": "7eMfiD9eKRNf"
      }
    },
    {
      "cell_type": "markdown",
      "source": [
        "### Preparing ResNet50 model"
      ],
      "metadata": {
        "id": "MM8tYJCQlOpG"
      }
    },
    {
      "cell_type": "code",
      "source": [
        "base_input_shape = (250, 250, 3)\n",
        "weights = 'imagenet'\n",
        "\n",
        "# without dense part\n",
        "base_model = ResNet50V2(weights=weights, \n",
        "                        include_top=False, \n",
        "                        input_shape=base_input_shape)"
      ],
      "metadata": {
        "id": "FxkB0fFqaDEj",
        "colab": {
          "base_uri": "https://localhost:8080/"
        },
        "outputId": "418035c0-a7eb-4ebb-c640-64d498af3cac"
      },
      "execution_count": null,
      "outputs": [
        {
          "output_type": "stream",
          "name": "stdout",
          "text": [
            "Downloading data from https://storage.googleapis.com/tensorflow/keras-applications/resnet/resnet50v2_weights_tf_dim_ordering_tf_kernels_notop.h5\n",
            "94674944/94668760 [==============================] - 1s 0us/step\n",
            "94683136/94668760 [==============================] - 1s 0us/step\n"
          ]
        }
      ]
    },
    {
      "cell_type": "markdown",
      "source": [
        "### Freezing base layers"
      ],
      "metadata": {
        "id": "YUimgfVU8ror"
      }
    },
    {
      "cell_type": "code",
      "source": [
        "for layer in base_model.layers:\n",
        "    layer.trainable = False"
      ],
      "metadata": {
        "id": "w7cuCplW8qqf"
      },
      "execution_count": null,
      "outputs": []
    },
    {
      "cell_type": "markdown",
      "source": [
        "### Adding Global Avg Pooling 2D and Dense layer"
      ],
      "metadata": {
        "id": "2T5GetyN8frV"
      }
    },
    {
      "cell_type": "code",
      "source": [
        "num_classes = 3\n",
        "activation = 'sigmoid' #'relu' 'softmax'\n",
        "\n",
        "global_avg_pooling = keras.layers.GlobalAveragePooling2D()(base_model.output)\n",
        "outputs = keras.layers.Dense(num_classes, activation=activation)(global_avg_pooling)\n",
        "\n",
        "classifier = keras.models.Model(inputs=base_model.inputs,\n",
        "                                outputs=outputs,\n",
        "                                name='ResNet50V2')"
      ],
      "metadata": {
        "id": "TIYoxgJFaRj_"
      },
      "execution_count": null,
      "outputs": []
    },
    {
      "cell_type": "code",
      "source": [
        "classifier.summary()"
      ],
      "metadata": {
        "colab": {
          "base_uri": "https://localhost:8080/"
        },
        "id": "eHSP4WJlKWwV",
        "outputId": "66a5a3fd-8b97-4ae3-855b-b13d4144d92b"
      },
      "execution_count": null,
      "outputs": [
        {
          "output_type": "stream",
          "name": "stdout",
          "text": [
            "Model: \"ResNet50V2\"\n",
            "__________________________________________________________________________________________________\n",
            " Layer (type)                   Output Shape         Param #     Connected to                     \n",
            "==================================================================================================\n",
            " input_1 (InputLayer)           [(None, 250, 250, 3  0           []                               \n",
            "                                )]                                                                \n",
            "                                                                                                  \n",
            " conv1_pad (ZeroPadding2D)      (None, 256, 256, 3)  0           ['input_1[0][0]']                \n",
            "                                                                                                  \n",
            " conv1_conv (Conv2D)            (None, 125, 125, 64  9472        ['conv1_pad[0][0]']              \n",
            "                                )                                                                 \n",
            "                                                                                                  \n",
            " pool1_pad (ZeroPadding2D)      (None, 127, 127, 64  0           ['conv1_conv[0][0]']             \n",
            "                                )                                                                 \n",
            "                                                                                                  \n",
            " pool1_pool (MaxPooling2D)      (None, 63, 63, 64)   0           ['pool1_pad[0][0]']              \n",
            "                                                                                                  \n",
            " conv2_block1_preact_bn (BatchN  (None, 63, 63, 64)  256         ['pool1_pool[0][0]']             \n",
            " ormalization)                                                                                    \n",
            "                                                                                                  \n",
            " conv2_block1_preact_relu (Acti  (None, 63, 63, 64)  0           ['conv2_block1_preact_bn[0][0]'] \n",
            " vation)                                                                                          \n",
            "                                                                                                  \n",
            " conv2_block1_1_conv (Conv2D)   (None, 63, 63, 64)   4096        ['conv2_block1_preact_relu[0][0]'\n",
            "                                                                 ]                                \n",
            "                                                                                                  \n",
            " conv2_block1_1_bn (BatchNormal  (None, 63, 63, 64)  256         ['conv2_block1_1_conv[0][0]']    \n",
            " ization)                                                                                         \n",
            "                                                                                                  \n",
            " conv2_block1_1_relu (Activatio  (None, 63, 63, 64)  0           ['conv2_block1_1_bn[0][0]']      \n",
            " n)                                                                                               \n",
            "                                                                                                  \n",
            " conv2_block1_2_pad (ZeroPaddin  (None, 65, 65, 64)  0           ['conv2_block1_1_relu[0][0]']    \n",
            " g2D)                                                                                             \n",
            "                                                                                                  \n",
            " conv2_block1_2_conv (Conv2D)   (None, 63, 63, 64)   36864       ['conv2_block1_2_pad[0][0]']     \n",
            "                                                                                                  \n",
            " conv2_block1_2_bn (BatchNormal  (None, 63, 63, 64)  256         ['conv2_block1_2_conv[0][0]']    \n",
            " ization)                                                                                         \n",
            "                                                                                                  \n",
            " conv2_block1_2_relu (Activatio  (None, 63, 63, 64)  0           ['conv2_block1_2_bn[0][0]']      \n",
            " n)                                                                                               \n",
            "                                                                                                  \n",
            " conv2_block1_0_conv (Conv2D)   (None, 63, 63, 256)  16640       ['conv2_block1_preact_relu[0][0]'\n",
            "                                                                 ]                                \n",
            "                                                                                                  \n",
            " conv2_block1_3_conv (Conv2D)   (None, 63, 63, 256)  16640       ['conv2_block1_2_relu[0][0]']    \n",
            "                                                                                                  \n",
            " conv2_block1_out (Add)         (None, 63, 63, 256)  0           ['conv2_block1_0_conv[0][0]',    \n",
            "                                                                  'conv2_block1_3_conv[0][0]']    \n",
            "                                                                                                  \n",
            " conv2_block2_preact_bn (BatchN  (None, 63, 63, 256)  1024       ['conv2_block1_out[0][0]']       \n",
            " ormalization)                                                                                    \n",
            "                                                                                                  \n",
            " conv2_block2_preact_relu (Acti  (None, 63, 63, 256)  0          ['conv2_block2_preact_bn[0][0]'] \n",
            " vation)                                                                                          \n",
            "                                                                                                  \n",
            " conv2_block2_1_conv (Conv2D)   (None, 63, 63, 64)   16384       ['conv2_block2_preact_relu[0][0]'\n",
            "                                                                 ]                                \n",
            "                                                                                                  \n",
            " conv2_block2_1_bn (BatchNormal  (None, 63, 63, 64)  256         ['conv2_block2_1_conv[0][0]']    \n",
            " ization)                                                                                         \n",
            "                                                                                                  \n",
            " conv2_block2_1_relu (Activatio  (None, 63, 63, 64)  0           ['conv2_block2_1_bn[0][0]']      \n",
            " n)                                                                                               \n",
            "                                                                                                  \n",
            " conv2_block2_2_pad (ZeroPaddin  (None, 65, 65, 64)  0           ['conv2_block2_1_relu[0][0]']    \n",
            " g2D)                                                                                             \n",
            "                                                                                                  \n",
            " conv2_block2_2_conv (Conv2D)   (None, 63, 63, 64)   36864       ['conv2_block2_2_pad[0][0]']     \n",
            "                                                                                                  \n",
            " conv2_block2_2_bn (BatchNormal  (None, 63, 63, 64)  256         ['conv2_block2_2_conv[0][0]']    \n",
            " ization)                                                                                         \n",
            "                                                                                                  \n",
            " conv2_block2_2_relu (Activatio  (None, 63, 63, 64)  0           ['conv2_block2_2_bn[0][0]']      \n",
            " n)                                                                                               \n",
            "                                                                                                  \n",
            " conv2_block2_3_conv (Conv2D)   (None, 63, 63, 256)  16640       ['conv2_block2_2_relu[0][0]']    \n",
            "                                                                                                  \n",
            " conv2_block2_out (Add)         (None, 63, 63, 256)  0           ['conv2_block1_out[0][0]',       \n",
            "                                                                  'conv2_block2_3_conv[0][0]']    \n",
            "                                                                                                  \n",
            " conv2_block3_preact_bn (BatchN  (None, 63, 63, 256)  1024       ['conv2_block2_out[0][0]']       \n",
            " ormalization)                                                                                    \n",
            "                                                                                                  \n",
            " conv2_block3_preact_relu (Acti  (None, 63, 63, 256)  0          ['conv2_block3_preact_bn[0][0]'] \n",
            " vation)                                                                                          \n",
            "                                                                                                  \n",
            " conv2_block3_1_conv (Conv2D)   (None, 63, 63, 64)   16384       ['conv2_block3_preact_relu[0][0]'\n",
            "                                                                 ]                                \n",
            "                                                                                                  \n",
            " conv2_block3_1_bn (BatchNormal  (None, 63, 63, 64)  256         ['conv2_block3_1_conv[0][0]']    \n",
            " ization)                                                                                         \n",
            "                                                                                                  \n",
            " conv2_block3_1_relu (Activatio  (None, 63, 63, 64)  0           ['conv2_block3_1_bn[0][0]']      \n",
            " n)                                                                                               \n",
            "                                                                                                  \n",
            " conv2_block3_2_pad (ZeroPaddin  (None, 65, 65, 64)  0           ['conv2_block3_1_relu[0][0]']    \n",
            " g2D)                                                                                             \n",
            "                                                                                                  \n",
            " conv2_block3_2_conv (Conv2D)   (None, 32, 32, 64)   36864       ['conv2_block3_2_pad[0][0]']     \n",
            "                                                                                                  \n",
            " conv2_block3_2_bn (BatchNormal  (None, 32, 32, 64)  256         ['conv2_block3_2_conv[0][0]']    \n",
            " ization)                                                                                         \n",
            "                                                                                                  \n",
            " conv2_block3_2_relu (Activatio  (None, 32, 32, 64)  0           ['conv2_block3_2_bn[0][0]']      \n",
            " n)                                                                                               \n",
            "                                                                                                  \n",
            " max_pooling2d (MaxPooling2D)   (None, 32, 32, 256)  0           ['conv2_block2_out[0][0]']       \n",
            "                                                                                                  \n",
            " conv2_block3_3_conv (Conv2D)   (None, 32, 32, 256)  16640       ['conv2_block3_2_relu[0][0]']    \n",
            "                                                                                                  \n",
            " conv2_block3_out (Add)         (None, 32, 32, 256)  0           ['max_pooling2d[0][0]',          \n",
            "                                                                  'conv2_block3_3_conv[0][0]']    \n",
            "                                                                                                  \n",
            " conv3_block1_preact_bn (BatchN  (None, 32, 32, 256)  1024       ['conv2_block3_out[0][0]']       \n",
            " ormalization)                                                                                    \n",
            "                                                                                                  \n",
            " conv3_block1_preact_relu (Acti  (None, 32, 32, 256)  0          ['conv3_block1_preact_bn[0][0]'] \n",
            " vation)                                                                                          \n",
            "                                                                                                  \n",
            " conv3_block1_1_conv (Conv2D)   (None, 32, 32, 128)  32768       ['conv3_block1_preact_relu[0][0]'\n",
            "                                                                 ]                                \n",
            "                                                                                                  \n",
            " conv3_block1_1_bn (BatchNormal  (None, 32, 32, 128)  512        ['conv3_block1_1_conv[0][0]']    \n",
            " ization)                                                                                         \n",
            "                                                                                                  \n",
            " conv3_block1_1_relu (Activatio  (None, 32, 32, 128)  0          ['conv3_block1_1_bn[0][0]']      \n",
            " n)                                                                                               \n",
            "                                                                                                  \n",
            " conv3_block1_2_pad (ZeroPaddin  (None, 34, 34, 128)  0          ['conv3_block1_1_relu[0][0]']    \n",
            " g2D)                                                                                             \n",
            "                                                                                                  \n",
            " conv3_block1_2_conv (Conv2D)   (None, 32, 32, 128)  147456      ['conv3_block1_2_pad[0][0]']     \n",
            "                                                                                                  \n",
            " conv3_block1_2_bn (BatchNormal  (None, 32, 32, 128)  512        ['conv3_block1_2_conv[0][0]']    \n",
            " ization)                                                                                         \n",
            "                                                                                                  \n",
            " conv3_block1_2_relu (Activatio  (None, 32, 32, 128)  0          ['conv3_block1_2_bn[0][0]']      \n",
            " n)                                                                                               \n",
            "                                                                                                  \n",
            " conv3_block1_0_conv (Conv2D)   (None, 32, 32, 512)  131584      ['conv3_block1_preact_relu[0][0]'\n",
            "                                                                 ]                                \n",
            "                                                                                                  \n",
            " conv3_block1_3_conv (Conv2D)   (None, 32, 32, 512)  66048       ['conv3_block1_2_relu[0][0]']    \n",
            "                                                                                                  \n",
            " conv3_block1_out (Add)         (None, 32, 32, 512)  0           ['conv3_block1_0_conv[0][0]',    \n",
            "                                                                  'conv3_block1_3_conv[0][0]']    \n",
            "                                                                                                  \n",
            " conv3_block2_preact_bn (BatchN  (None, 32, 32, 512)  2048       ['conv3_block1_out[0][0]']       \n",
            " ormalization)                                                                                    \n",
            "                                                                                                  \n",
            " conv3_block2_preact_relu (Acti  (None, 32, 32, 512)  0          ['conv3_block2_preact_bn[0][0]'] \n",
            " vation)                                                                                          \n",
            "                                                                                                  \n",
            " conv3_block2_1_conv (Conv2D)   (None, 32, 32, 128)  65536       ['conv3_block2_preact_relu[0][0]'\n",
            "                                                                 ]                                \n",
            "                                                                                                  \n",
            " conv3_block2_1_bn (BatchNormal  (None, 32, 32, 128)  512        ['conv3_block2_1_conv[0][0]']    \n",
            " ization)                                                                                         \n",
            "                                                                                                  \n",
            " conv3_block2_1_relu (Activatio  (None, 32, 32, 128)  0          ['conv3_block2_1_bn[0][0]']      \n",
            " n)                                                                                               \n",
            "                                                                                                  \n",
            " conv3_block2_2_pad (ZeroPaddin  (None, 34, 34, 128)  0          ['conv3_block2_1_relu[0][0]']    \n",
            " g2D)                                                                                             \n",
            "                                                                                                  \n",
            " conv3_block2_2_conv (Conv2D)   (None, 32, 32, 128)  147456      ['conv3_block2_2_pad[0][0]']     \n",
            "                                                                                                  \n",
            " conv3_block2_2_bn (BatchNormal  (None, 32, 32, 128)  512        ['conv3_block2_2_conv[0][0]']    \n",
            " ization)                                                                                         \n",
            "                                                                                                  \n",
            " conv3_block2_2_relu (Activatio  (None, 32, 32, 128)  0          ['conv3_block2_2_bn[0][0]']      \n",
            " n)                                                                                               \n",
            "                                                                                                  \n",
            " conv3_block2_3_conv (Conv2D)   (None, 32, 32, 512)  66048       ['conv3_block2_2_relu[0][0]']    \n",
            "                                                                                                  \n",
            " conv3_block2_out (Add)         (None, 32, 32, 512)  0           ['conv3_block1_out[0][0]',       \n",
            "                                                                  'conv3_block2_3_conv[0][0]']    \n",
            "                                                                                                  \n",
            " conv3_block3_preact_bn (BatchN  (None, 32, 32, 512)  2048       ['conv3_block2_out[0][0]']       \n",
            " ormalization)                                                                                    \n",
            "                                                                                                  \n",
            " conv3_block3_preact_relu (Acti  (None, 32, 32, 512)  0          ['conv3_block3_preact_bn[0][0]'] \n",
            " vation)                                                                                          \n",
            "                                                                                                  \n",
            " conv3_block3_1_conv (Conv2D)   (None, 32, 32, 128)  65536       ['conv3_block3_preact_relu[0][0]'\n",
            "                                                                 ]                                \n",
            "                                                                                                  \n",
            " conv3_block3_1_bn (BatchNormal  (None, 32, 32, 128)  512        ['conv3_block3_1_conv[0][0]']    \n",
            " ization)                                                                                         \n",
            "                                                                                                  \n",
            " conv3_block3_1_relu (Activatio  (None, 32, 32, 128)  0          ['conv3_block3_1_bn[0][0]']      \n",
            " n)                                                                                               \n",
            "                                                                                                  \n",
            " conv3_block3_2_pad (ZeroPaddin  (None, 34, 34, 128)  0          ['conv3_block3_1_relu[0][0]']    \n",
            " g2D)                                                                                             \n",
            "                                                                                                  \n",
            " conv3_block3_2_conv (Conv2D)   (None, 32, 32, 128)  147456      ['conv3_block3_2_pad[0][0]']     \n",
            "                                                                                                  \n",
            " conv3_block3_2_bn (BatchNormal  (None, 32, 32, 128)  512        ['conv3_block3_2_conv[0][0]']    \n",
            " ization)                                                                                         \n",
            "                                                                                                  \n",
            " conv3_block3_2_relu (Activatio  (None, 32, 32, 128)  0          ['conv3_block3_2_bn[0][0]']      \n",
            " n)                                                                                               \n",
            "                                                                                                  \n",
            " conv3_block3_3_conv (Conv2D)   (None, 32, 32, 512)  66048       ['conv3_block3_2_relu[0][0]']    \n",
            "                                                                                                  \n",
            " conv3_block3_out (Add)         (None, 32, 32, 512)  0           ['conv3_block2_out[0][0]',       \n",
            "                                                                  'conv3_block3_3_conv[0][0]']    \n",
            "                                                                                                  \n",
            " conv3_block4_preact_bn (BatchN  (None, 32, 32, 512)  2048       ['conv3_block3_out[0][0]']       \n",
            " ormalization)                                                                                    \n",
            "                                                                                                  \n",
            " conv3_block4_preact_relu (Acti  (None, 32, 32, 512)  0          ['conv3_block4_preact_bn[0][0]'] \n",
            " vation)                                                                                          \n",
            "                                                                                                  \n",
            " conv3_block4_1_conv (Conv2D)   (None, 32, 32, 128)  65536       ['conv3_block4_preact_relu[0][0]'\n",
            "                                                                 ]                                \n",
            "                                                                                                  \n",
            " conv3_block4_1_bn (BatchNormal  (None, 32, 32, 128)  512        ['conv3_block4_1_conv[0][0]']    \n",
            " ization)                                                                                         \n",
            "                                                                                                  \n",
            " conv3_block4_1_relu (Activatio  (None, 32, 32, 128)  0          ['conv3_block4_1_bn[0][0]']      \n",
            " n)                                                                                               \n",
            "                                                                                                  \n",
            " conv3_block4_2_pad (ZeroPaddin  (None, 34, 34, 128)  0          ['conv3_block4_1_relu[0][0]']    \n",
            " g2D)                                                                                             \n",
            "                                                                                                  \n",
            " conv3_block4_2_conv (Conv2D)   (None, 16, 16, 128)  147456      ['conv3_block4_2_pad[0][0]']     \n",
            "                                                                                                  \n",
            " conv3_block4_2_bn (BatchNormal  (None, 16, 16, 128)  512        ['conv3_block4_2_conv[0][0]']    \n",
            " ization)                                                                                         \n",
            "                                                                                                  \n",
            " conv3_block4_2_relu (Activatio  (None, 16, 16, 128)  0          ['conv3_block4_2_bn[0][0]']      \n",
            " n)                                                                                               \n",
            "                                                                                                  \n",
            " max_pooling2d_1 (MaxPooling2D)  (None, 16, 16, 512)  0          ['conv3_block3_out[0][0]']       \n",
            "                                                                                                  \n",
            " conv3_block4_3_conv (Conv2D)   (None, 16, 16, 512)  66048       ['conv3_block4_2_relu[0][0]']    \n",
            "                                                                                                  \n",
            " conv3_block4_out (Add)         (None, 16, 16, 512)  0           ['max_pooling2d_1[0][0]',        \n",
            "                                                                  'conv3_block4_3_conv[0][0]']    \n",
            "                                                                                                  \n",
            " conv4_block1_preact_bn (BatchN  (None, 16, 16, 512)  2048       ['conv3_block4_out[0][0]']       \n",
            " ormalization)                                                                                    \n",
            "                                                                                                  \n",
            " conv4_block1_preact_relu (Acti  (None, 16, 16, 512)  0          ['conv4_block1_preact_bn[0][0]'] \n",
            " vation)                                                                                          \n",
            "                                                                                                  \n",
            " conv4_block1_1_conv (Conv2D)   (None, 16, 16, 256)  131072      ['conv4_block1_preact_relu[0][0]'\n",
            "                                                                 ]                                \n",
            "                                                                                                  \n",
            " conv4_block1_1_bn (BatchNormal  (None, 16, 16, 256)  1024       ['conv4_block1_1_conv[0][0]']    \n",
            " ization)                                                                                         \n",
            "                                                                                                  \n",
            " conv4_block1_1_relu (Activatio  (None, 16, 16, 256)  0          ['conv4_block1_1_bn[0][0]']      \n",
            " n)                                                                                               \n",
            "                                                                                                  \n",
            " conv4_block1_2_pad (ZeroPaddin  (None, 18, 18, 256)  0          ['conv4_block1_1_relu[0][0]']    \n",
            " g2D)                                                                                             \n",
            "                                                                                                  \n",
            " conv4_block1_2_conv (Conv2D)   (None, 16, 16, 256)  589824      ['conv4_block1_2_pad[0][0]']     \n",
            "                                                                                                  \n",
            " conv4_block1_2_bn (BatchNormal  (None, 16, 16, 256)  1024       ['conv4_block1_2_conv[0][0]']    \n",
            " ization)                                                                                         \n",
            "                                                                                                  \n",
            " conv4_block1_2_relu (Activatio  (None, 16, 16, 256)  0          ['conv4_block1_2_bn[0][0]']      \n",
            " n)                                                                                               \n",
            "                                                                                                  \n",
            " conv4_block1_0_conv (Conv2D)   (None, 16, 16, 1024  525312      ['conv4_block1_preact_relu[0][0]'\n",
            "                                )                                ]                                \n",
            "                                                                                                  \n",
            " conv4_block1_3_conv (Conv2D)   (None, 16, 16, 1024  263168      ['conv4_block1_2_relu[0][0]']    \n",
            "                                )                                                                 \n",
            "                                                                                                  \n",
            " conv4_block1_out (Add)         (None, 16, 16, 1024  0           ['conv4_block1_0_conv[0][0]',    \n",
            "                                )                                 'conv4_block1_3_conv[0][0]']    \n",
            "                                                                                                  \n",
            " conv4_block2_preact_bn (BatchN  (None, 16, 16, 1024  4096       ['conv4_block1_out[0][0]']       \n",
            " ormalization)                  )                                                                 \n",
            "                                                                                                  \n",
            " conv4_block2_preact_relu (Acti  (None, 16, 16, 1024  0          ['conv4_block2_preact_bn[0][0]'] \n",
            " vation)                        )                                                                 \n",
            "                                                                                                  \n",
            " conv4_block2_1_conv (Conv2D)   (None, 16, 16, 256)  262144      ['conv4_block2_preact_relu[0][0]'\n",
            "                                                                 ]                                \n",
            "                                                                                                  \n",
            " conv4_block2_1_bn (BatchNormal  (None, 16, 16, 256)  1024       ['conv4_block2_1_conv[0][0]']    \n",
            " ization)                                                                                         \n",
            "                                                                                                  \n",
            " conv4_block2_1_relu (Activatio  (None, 16, 16, 256)  0          ['conv4_block2_1_bn[0][0]']      \n",
            " n)                                                                                               \n",
            "                                                                                                  \n",
            " conv4_block2_2_pad (ZeroPaddin  (None, 18, 18, 256)  0          ['conv4_block2_1_relu[0][0]']    \n",
            " g2D)                                                                                             \n",
            "                                                                                                  \n",
            " conv4_block2_2_conv (Conv2D)   (None, 16, 16, 256)  589824      ['conv4_block2_2_pad[0][0]']     \n",
            "                                                                                                  \n",
            " conv4_block2_2_bn (BatchNormal  (None, 16, 16, 256)  1024       ['conv4_block2_2_conv[0][0]']    \n",
            " ization)                                                                                         \n",
            "                                                                                                  \n",
            " conv4_block2_2_relu (Activatio  (None, 16, 16, 256)  0          ['conv4_block2_2_bn[0][0]']      \n",
            " n)                                                                                               \n",
            "                                                                                                  \n",
            " conv4_block2_3_conv (Conv2D)   (None, 16, 16, 1024  263168      ['conv4_block2_2_relu[0][0]']    \n",
            "                                )                                                                 \n",
            "                                                                                                  \n",
            " conv4_block2_out (Add)         (None, 16, 16, 1024  0           ['conv4_block1_out[0][0]',       \n",
            "                                )                                 'conv4_block2_3_conv[0][0]']    \n",
            "                                                                                                  \n",
            " conv4_block3_preact_bn (BatchN  (None, 16, 16, 1024  4096       ['conv4_block2_out[0][0]']       \n",
            " ormalization)                  )                                                                 \n",
            "                                                                                                  \n",
            " conv4_block3_preact_relu (Acti  (None, 16, 16, 1024  0          ['conv4_block3_preact_bn[0][0]'] \n",
            " vation)                        )                                                                 \n",
            "                                                                                                  \n",
            " conv4_block3_1_conv (Conv2D)   (None, 16, 16, 256)  262144      ['conv4_block3_preact_relu[0][0]'\n",
            "                                                                 ]                                \n",
            "                                                                                                  \n",
            " conv4_block3_1_bn (BatchNormal  (None, 16, 16, 256)  1024       ['conv4_block3_1_conv[0][0]']    \n",
            " ization)                                                                                         \n",
            "                                                                                                  \n",
            " conv4_block3_1_relu (Activatio  (None, 16, 16, 256)  0          ['conv4_block3_1_bn[0][0]']      \n",
            " n)                                                                                               \n",
            "                                                                                                  \n",
            " conv4_block3_2_pad (ZeroPaddin  (None, 18, 18, 256)  0          ['conv4_block3_1_relu[0][0]']    \n",
            " g2D)                                                                                             \n",
            "                                                                                                  \n",
            " conv4_block3_2_conv (Conv2D)   (None, 16, 16, 256)  589824      ['conv4_block3_2_pad[0][0]']     \n",
            "                                                                                                  \n",
            " conv4_block3_2_bn (BatchNormal  (None, 16, 16, 256)  1024       ['conv4_block3_2_conv[0][0]']    \n",
            " ization)                                                                                         \n",
            "                                                                                                  \n",
            " conv4_block3_2_relu (Activatio  (None, 16, 16, 256)  0          ['conv4_block3_2_bn[0][0]']      \n",
            " n)                                                                                               \n",
            "                                                                                                  \n",
            " conv4_block3_3_conv (Conv2D)   (None, 16, 16, 1024  263168      ['conv4_block3_2_relu[0][0]']    \n",
            "                                )                                                                 \n",
            "                                                                                                  \n",
            " conv4_block3_out (Add)         (None, 16, 16, 1024  0           ['conv4_block2_out[0][0]',       \n",
            "                                )                                 'conv4_block3_3_conv[0][0]']    \n",
            "                                                                                                  \n",
            " conv4_block4_preact_bn (BatchN  (None, 16, 16, 1024  4096       ['conv4_block3_out[0][0]']       \n",
            " ormalization)                  )                                                                 \n",
            "                                                                                                  \n",
            " conv4_block4_preact_relu (Acti  (None, 16, 16, 1024  0          ['conv4_block4_preact_bn[0][0]'] \n",
            " vation)                        )                                                                 \n",
            "                                                                                                  \n",
            " conv4_block4_1_conv (Conv2D)   (None, 16, 16, 256)  262144      ['conv4_block4_preact_relu[0][0]'\n",
            "                                                                 ]                                \n",
            "                                                                                                  \n",
            " conv4_block4_1_bn (BatchNormal  (None, 16, 16, 256)  1024       ['conv4_block4_1_conv[0][0]']    \n",
            " ization)                                                                                         \n",
            "                                                                                                  \n",
            " conv4_block4_1_relu (Activatio  (None, 16, 16, 256)  0          ['conv4_block4_1_bn[0][0]']      \n",
            " n)                                                                                               \n",
            "                                                                                                  \n",
            " conv4_block4_2_pad (ZeroPaddin  (None, 18, 18, 256)  0          ['conv4_block4_1_relu[0][0]']    \n",
            " g2D)                                                                                             \n",
            "                                                                                                  \n",
            " conv4_block4_2_conv (Conv2D)   (None, 16, 16, 256)  589824      ['conv4_block4_2_pad[0][0]']     \n",
            "                                                                                                  \n",
            " conv4_block4_2_bn (BatchNormal  (None, 16, 16, 256)  1024       ['conv4_block4_2_conv[0][0]']    \n",
            " ization)                                                                                         \n",
            "                                                                                                  \n",
            " conv4_block4_2_relu (Activatio  (None, 16, 16, 256)  0          ['conv4_block4_2_bn[0][0]']      \n",
            " n)                                                                                               \n",
            "                                                                                                  \n",
            " conv4_block4_3_conv (Conv2D)   (None, 16, 16, 1024  263168      ['conv4_block4_2_relu[0][0]']    \n",
            "                                )                                                                 \n",
            "                                                                                                  \n",
            " conv4_block4_out (Add)         (None, 16, 16, 1024  0           ['conv4_block3_out[0][0]',       \n",
            "                                )                                 'conv4_block4_3_conv[0][0]']    \n",
            "                                                                                                  \n",
            " conv4_block5_preact_bn (BatchN  (None, 16, 16, 1024  4096       ['conv4_block4_out[0][0]']       \n",
            " ormalization)                  )                                                                 \n",
            "                                                                                                  \n",
            " conv4_block5_preact_relu (Acti  (None, 16, 16, 1024  0          ['conv4_block5_preact_bn[0][0]'] \n",
            " vation)                        )                                                                 \n",
            "                                                                                                  \n",
            " conv4_block5_1_conv (Conv2D)   (None, 16, 16, 256)  262144      ['conv4_block5_preact_relu[0][0]'\n",
            "                                                                 ]                                \n",
            "                                                                                                  \n",
            " conv4_block5_1_bn (BatchNormal  (None, 16, 16, 256)  1024       ['conv4_block5_1_conv[0][0]']    \n",
            " ization)                                                                                         \n",
            "                                                                                                  \n",
            " conv4_block5_1_relu (Activatio  (None, 16, 16, 256)  0          ['conv4_block5_1_bn[0][0]']      \n",
            " n)                                                                                               \n",
            "                                                                                                  \n",
            " conv4_block5_2_pad (ZeroPaddin  (None, 18, 18, 256)  0          ['conv4_block5_1_relu[0][0]']    \n",
            " g2D)                                                                                             \n",
            "                                                                                                  \n",
            " conv4_block5_2_conv (Conv2D)   (None, 16, 16, 256)  589824      ['conv4_block5_2_pad[0][0]']     \n",
            "                                                                                                  \n",
            " conv4_block5_2_bn (BatchNormal  (None, 16, 16, 256)  1024       ['conv4_block5_2_conv[0][0]']    \n",
            " ization)                                                                                         \n",
            "                                                                                                  \n",
            " conv4_block5_2_relu (Activatio  (None, 16, 16, 256)  0          ['conv4_block5_2_bn[0][0]']      \n",
            " n)                                                                                               \n",
            "                                                                                                  \n",
            " conv4_block5_3_conv (Conv2D)   (None, 16, 16, 1024  263168      ['conv4_block5_2_relu[0][0]']    \n",
            "                                )                                                                 \n",
            "                                                                                                  \n",
            " conv4_block5_out (Add)         (None, 16, 16, 1024  0           ['conv4_block4_out[0][0]',       \n",
            "                                )                                 'conv4_block5_3_conv[0][0]']    \n",
            "                                                                                                  \n",
            " conv4_block6_preact_bn (BatchN  (None, 16, 16, 1024  4096       ['conv4_block5_out[0][0]']       \n",
            " ormalization)                  )                                                                 \n",
            "                                                                                                  \n",
            " conv4_block6_preact_relu (Acti  (None, 16, 16, 1024  0          ['conv4_block6_preact_bn[0][0]'] \n",
            " vation)                        )                                                                 \n",
            "                                                                                                  \n",
            " conv4_block6_1_conv (Conv2D)   (None, 16, 16, 256)  262144      ['conv4_block6_preact_relu[0][0]'\n",
            "                                                                 ]                                \n",
            "                                                                                                  \n",
            " conv4_block6_1_bn (BatchNormal  (None, 16, 16, 256)  1024       ['conv4_block6_1_conv[0][0]']    \n",
            " ization)                                                                                         \n",
            "                                                                                                  \n",
            " conv4_block6_1_relu (Activatio  (None, 16, 16, 256)  0          ['conv4_block6_1_bn[0][0]']      \n",
            " n)                                                                                               \n",
            "                                                                                                  \n",
            " conv4_block6_2_pad (ZeroPaddin  (None, 18, 18, 256)  0          ['conv4_block6_1_relu[0][0]']    \n",
            " g2D)                                                                                             \n",
            "                                                                                                  \n",
            " conv4_block6_2_conv (Conv2D)   (None, 8, 8, 256)    589824      ['conv4_block6_2_pad[0][0]']     \n",
            "                                                                                                  \n",
            " conv4_block6_2_bn (BatchNormal  (None, 8, 8, 256)   1024        ['conv4_block6_2_conv[0][0]']    \n",
            " ization)                                                                                         \n",
            "                                                                                                  \n",
            " conv4_block6_2_relu (Activatio  (None, 8, 8, 256)   0           ['conv4_block6_2_bn[0][0]']      \n",
            " n)                                                                                               \n",
            "                                                                                                  \n",
            " max_pooling2d_2 (MaxPooling2D)  (None, 8, 8, 1024)  0           ['conv4_block5_out[0][0]']       \n",
            "                                                                                                  \n",
            " conv4_block6_3_conv (Conv2D)   (None, 8, 8, 1024)   263168      ['conv4_block6_2_relu[0][0]']    \n",
            "                                                                                                  \n",
            " conv4_block6_out (Add)         (None, 8, 8, 1024)   0           ['max_pooling2d_2[0][0]',        \n",
            "                                                                  'conv4_block6_3_conv[0][0]']    \n",
            "                                                                                                  \n",
            " conv5_block1_preact_bn (BatchN  (None, 8, 8, 1024)  4096        ['conv4_block6_out[0][0]']       \n",
            " ormalization)                                                                                    \n",
            "                                                                                                  \n",
            " conv5_block1_preact_relu (Acti  (None, 8, 8, 1024)  0           ['conv5_block1_preact_bn[0][0]'] \n",
            " vation)                                                                                          \n",
            "                                                                                                  \n",
            " conv5_block1_1_conv (Conv2D)   (None, 8, 8, 512)    524288      ['conv5_block1_preact_relu[0][0]'\n",
            "                                                                 ]                                \n",
            "                                                                                                  \n",
            " conv5_block1_1_bn (BatchNormal  (None, 8, 8, 512)   2048        ['conv5_block1_1_conv[0][0]']    \n",
            " ization)                                                                                         \n",
            "                                                                                                  \n",
            " conv5_block1_1_relu (Activatio  (None, 8, 8, 512)   0           ['conv5_block1_1_bn[0][0]']      \n",
            " n)                                                                                               \n",
            "                                                                                                  \n",
            " conv5_block1_2_pad (ZeroPaddin  (None, 10, 10, 512)  0          ['conv5_block1_1_relu[0][0]']    \n",
            " g2D)                                                                                             \n",
            "                                                                                                  \n",
            " conv5_block1_2_conv (Conv2D)   (None, 8, 8, 512)    2359296     ['conv5_block1_2_pad[0][0]']     \n",
            "                                                                                                  \n",
            " conv5_block1_2_bn (BatchNormal  (None, 8, 8, 512)   2048        ['conv5_block1_2_conv[0][0]']    \n",
            " ization)                                                                                         \n",
            "                                                                                                  \n",
            " conv5_block1_2_relu (Activatio  (None, 8, 8, 512)   0           ['conv5_block1_2_bn[0][0]']      \n",
            " n)                                                                                               \n",
            "                                                                                                  \n",
            " conv5_block1_0_conv (Conv2D)   (None, 8, 8, 2048)   2099200     ['conv5_block1_preact_relu[0][0]'\n",
            "                                                                 ]                                \n",
            "                                                                                                  \n",
            " conv5_block1_3_conv (Conv2D)   (None, 8, 8, 2048)   1050624     ['conv5_block1_2_relu[0][0]']    \n",
            "                                                                                                  \n",
            " conv5_block1_out (Add)         (None, 8, 8, 2048)   0           ['conv5_block1_0_conv[0][0]',    \n",
            "                                                                  'conv5_block1_3_conv[0][0]']    \n",
            "                                                                                                  \n",
            " conv5_block2_preact_bn (BatchN  (None, 8, 8, 2048)  8192        ['conv5_block1_out[0][0]']       \n",
            " ormalization)                                                                                    \n",
            "                                                                                                  \n",
            " conv5_block2_preact_relu (Acti  (None, 8, 8, 2048)  0           ['conv5_block2_preact_bn[0][0]'] \n",
            " vation)                                                                                          \n",
            "                                                                                                  \n",
            " conv5_block2_1_conv (Conv2D)   (None, 8, 8, 512)    1048576     ['conv5_block2_preact_relu[0][0]'\n",
            "                                                                 ]                                \n",
            "                                                                                                  \n",
            " conv5_block2_1_bn (BatchNormal  (None, 8, 8, 512)   2048        ['conv5_block2_1_conv[0][0]']    \n",
            " ization)                                                                                         \n",
            "                                                                                                  \n",
            " conv5_block2_1_relu (Activatio  (None, 8, 8, 512)   0           ['conv5_block2_1_bn[0][0]']      \n",
            " n)                                                                                               \n",
            "                                                                                                  \n",
            " conv5_block2_2_pad (ZeroPaddin  (None, 10, 10, 512)  0          ['conv5_block2_1_relu[0][0]']    \n",
            " g2D)                                                                                             \n",
            "                                                                                                  \n",
            " conv5_block2_2_conv (Conv2D)   (None, 8, 8, 512)    2359296     ['conv5_block2_2_pad[0][0]']     \n",
            "                                                                                                  \n",
            " conv5_block2_2_bn (BatchNormal  (None, 8, 8, 512)   2048        ['conv5_block2_2_conv[0][0]']    \n",
            " ization)                                                                                         \n",
            "                                                                                                  \n",
            " conv5_block2_2_relu (Activatio  (None, 8, 8, 512)   0           ['conv5_block2_2_bn[0][0]']      \n",
            " n)                                                                                               \n",
            "                                                                                                  \n",
            " conv5_block2_3_conv (Conv2D)   (None, 8, 8, 2048)   1050624     ['conv5_block2_2_relu[0][0]']    \n",
            "                                                                                                  \n",
            " conv5_block2_out (Add)         (None, 8, 8, 2048)   0           ['conv5_block1_out[0][0]',       \n",
            "                                                                  'conv5_block2_3_conv[0][0]']    \n",
            "                                                                                                  \n",
            " conv5_block3_preact_bn (BatchN  (None, 8, 8, 2048)  8192        ['conv5_block2_out[0][0]']       \n",
            " ormalization)                                                                                    \n",
            "                                                                                                  \n",
            " conv5_block3_preact_relu (Acti  (None, 8, 8, 2048)  0           ['conv5_block3_preact_bn[0][0]'] \n",
            " vation)                                                                                          \n",
            "                                                                                                  \n",
            " conv5_block3_1_conv (Conv2D)   (None, 8, 8, 512)    1048576     ['conv5_block3_preact_relu[0][0]'\n",
            "                                                                 ]                                \n",
            "                                                                                                  \n",
            " conv5_block3_1_bn (BatchNormal  (None, 8, 8, 512)   2048        ['conv5_block3_1_conv[0][0]']    \n",
            " ization)                                                                                         \n",
            "                                                                                                  \n",
            " conv5_block3_1_relu (Activatio  (None, 8, 8, 512)   0           ['conv5_block3_1_bn[0][0]']      \n",
            " n)                                                                                               \n",
            "                                                                                                  \n",
            " conv5_block3_2_pad (ZeroPaddin  (None, 10, 10, 512)  0          ['conv5_block3_1_relu[0][0]']    \n",
            " g2D)                                                                                             \n",
            "                                                                                                  \n",
            " conv5_block3_2_conv (Conv2D)   (None, 8, 8, 512)    2359296     ['conv5_block3_2_pad[0][0]']     \n",
            "                                                                                                  \n",
            " conv5_block3_2_bn (BatchNormal  (None, 8, 8, 512)   2048        ['conv5_block3_2_conv[0][0]']    \n",
            " ization)                                                                                         \n",
            "                                                                                                  \n",
            " conv5_block3_2_relu (Activatio  (None, 8, 8, 512)   0           ['conv5_block3_2_bn[0][0]']      \n",
            " n)                                                                                               \n",
            "                                                                                                  \n",
            " conv5_block3_3_conv (Conv2D)   (None, 8, 8, 2048)   1050624     ['conv5_block3_2_relu[0][0]']    \n",
            "                                                                                                  \n",
            " conv5_block3_out (Add)         (None, 8, 8, 2048)   0           ['conv5_block2_out[0][0]',       \n",
            "                                                                  'conv5_block3_3_conv[0][0]']    \n",
            "                                                                                                  \n",
            " post_bn (BatchNormalization)   (None, 8, 8, 2048)   8192        ['conv5_block3_out[0][0]']       \n",
            "                                                                                                  \n",
            " post_relu (Activation)         (None, 8, 8, 2048)   0           ['post_bn[0][0]']                \n",
            "                                                                                                  \n",
            " global_average_pooling2d (Glob  (None, 2048)        0           ['post_relu[0][0]']              \n",
            " alAveragePooling2D)                                                                              \n",
            "                                                                                                  \n",
            " dense (Dense)                  (None, 3)            6147        ['global_average_pooling2d[0][0]'\n",
            "                                                                 ]                                \n",
            "                                                                                                  \n",
            "==================================================================================================\n",
            "Total params: 23,570,947\n",
            "Trainable params: 6,147\n",
            "Non-trainable params: 23,564,800\n",
            "__________________________________________________________________________________________________\n"
          ]
        }
      ]
    },
    {
      "cell_type": "markdown",
      "source": [
        "### Enable mechanisms preventing overlearning"
      ],
      "metadata": {
        "id": "UQxThMIe6kwK"
      }
    },
    {
      "cell_type": "code",
      "source": [
        "earlystop = EarlyStopping(monitor='val_loss',\n",
        "                          restore_best_weights=True,\n",
        "                          patience=3,\n",
        "                          verbose=1)"
      ],
      "metadata": {
        "id": "Py1BJJROa5RQ"
      },
      "execution_count": null,
      "outputs": []
    },
    {
      "cell_type": "markdown",
      "source": [
        "### Enable mechanisms preventing interrupting learning process"
      ],
      "metadata": {
        "id": "LsanlOkY69-m"
      }
    },
    {
      "cell_type": "code",
      "source": [
        "checkpoint = ModelCheckpoint(classifier_path,\n",
        "                             monitor=\"val_loss\",\n",
        "                             mode=\"min\",\n",
        "                             save_best_only=True,\n",
        "                             verbose=1)"
      ],
      "metadata": {
        "id": "VgilxcOe7Bpf"
      },
      "execution_count": null,
      "outputs": []
    },
    {
      "cell_type": "markdown",
      "source": [
        "### Define training"
      ],
      "metadata": {
        "id": "68C6IUtKTakS"
      }
    },
    {
      "cell_type": "code",
      "source": [
        "def train(learning_rate, showStats=False):\n",
        "  callbacks = [earlystop, checkpoint]\n",
        "  \n",
        "  classifier.compile(loss='categorical_crossentropy',\n",
        "                    optimizer=Adam(learning_rate=learning_rate),\n",
        "                    metrics=['accuracy'])\n",
        "\n",
        "  history = classifier.fit(training_generator,\n",
        "                           epochs=EPOCHS,\n",
        "                           steps_per_epoch=len(training_generator),\n",
        "                           callbacks=callbacks,\n",
        "                           validation_data=validation_generator,\n",
        "                           validation_steps=len(validation_generator))\n",
        "\n",
        "  classifier.save(classifier_path)\n",
        "\n",
        "  if showStats:\n",
        "    stats(history)\n",
        "\n",
        "  return history"
      ],
      "metadata": {
        "id": "9oV7_wPJTKRA"
      },
      "execution_count": null,
      "outputs": []
    },
    {
      "cell_type": "code",
      "source": [
        "def stats(history):\n",
        "  # summarize history for accuracy\n",
        "  plt.figure(figsize=(14,14))\n",
        "  plt.plot(history.history['accuracy'])\n",
        "  plt.plot(history.history['val_accuracy'])\n",
        "  plt.title('model accuracy')\n",
        "  plt.ylabel('accuracy')\n",
        "  plt.xlabel('epoch')\n",
        "  plt.legend(['train', 'test'], loc='upper left')\n",
        "  plt.show()\n",
        "\n",
        "  # summarize history for loss\n",
        "  plt.figure(figsize=(14,14))\n",
        "  plt.plot(history.history['loss'])\n",
        "  plt.plot(history.history['val_loss'])\n",
        "  plt.title('model loss')\n",
        "  plt.ylabel('loss')\n",
        "  plt.xlabel('epoch')\n",
        "  plt.legend(['train', 'test'], loc='upper left')\n",
        "  plt.show()"
      ],
      "metadata": {
        "id": "eLwmQO4_Q_Hz"
      },
      "execution_count": null,
      "outputs": []
    },
    {
      "cell_type": "markdown",
      "source": [
        "### Start training process (learning rate 1e-05)"
      ],
      "metadata": {
        "id": "ymfANF1MUk1x"
      }
    },
    {
      "cell_type": "code",
      "source": [
        "rate = 0.00001"
      ],
      "metadata": {
        "id": "rxfhlSyQigQD"
      },
      "execution_count": null,
      "outputs": []
    },
    {
      "cell_type": "code",
      "source": [
        "history = train(rate, showStats=True)"
      ],
      "metadata": {
        "colab": {
          "base_uri": "https://localhost:8080/",
          "height": 1000
        },
        "id": "WuEC8j1V_B8L",
        "outputId": "826be297-74ee-4066-ca4f-a02cb42670df"
      },
      "execution_count": null,
      "outputs": [
        {
          "output_type": "stream",
          "name": "stdout",
          "text": [
            "Epoch 1/24\n",
            "77/77 [==============================] - ETA: 0s - loss: 1.0743 - accuracy: 0.3663\n",
            "Epoch 00001: val_loss improved from inf to 1.06883, saving model to drive/MyDrive/models/classifier.h5\n"
          ]
        },
        {
          "output_type": "stream",
          "name": "stderr",
          "text": [
            "/usr/local/lib/python3.7/dist-packages/keras/engine/functional.py:1410: CustomMaskWarning: Custom mask layers require a config and must override get_config. When loading, the custom mask layer must be passed to the custom_objects argument.\n",
            "  layer_config = serialize_layer_fn(layer)\n"
          ]
        },
        {
          "output_type": "stream",
          "name": "stdout",
          "text": [
            "\b\b\b\b\b\b\b\b\b\b\b\b\b\b\b\b\b\b\b\b\b\b\b\b\b\b\b\b\b\b\b\b\b\b\b\b\b\b\b\b\b\b\b\b\b\b\b\b\b\b\b\b\b\b\b\b\b\b\b\b\b\b\b\b\b\b\b\b\b\b\b\b\b\b\b\b\b\b\b\b\b\b\r77/77 [==============================] - 796s 10s/step - loss: 1.0743 - accuracy: 0.3663 - val_loss: 1.0688 - val_accuracy: 0.3826\n",
            "Epoch 2/24\n",
            "77/77 [==============================] - ETA: 0s - loss: 1.0542 - accuracy: 0.4108\n",
            "Epoch 00002: val_loss improved from 1.06883 to 1.05003, saving model to drive/MyDrive/models/classifier.h5\n",
            "77/77 [==============================] - 18s 240ms/step - loss: 1.0542 - accuracy: 0.4108 - val_loss: 1.0500 - val_accuracy: 0.4340\n",
            "Epoch 3/24\n",
            "77/77 [==============================] - ETA: 0s - loss: 1.0353 - accuracy: 0.4617\n",
            "Epoch 00003: val_loss improved from 1.05003 to 1.03230, saving model to drive/MyDrive/models/classifier.h5\n",
            "77/77 [==============================] - 17s 222ms/step - loss: 1.0353 - accuracy: 0.4617 - val_loss: 1.0323 - val_accuracy: 0.4902\n",
            "Epoch 4/24\n",
            "77/77 [==============================] - ETA: 0s - loss: 1.0174 - accuracy: 0.5134\n",
            "Epoch 00004: val_loss improved from 1.03230 to 1.01590, saving model to drive/MyDrive/models/classifier.h5\n",
            "77/77 [==============================] - 17s 226ms/step - loss: 1.0174 - accuracy: 0.5134 - val_loss: 1.0159 - val_accuracy: 0.5232\n",
            "Epoch 5/24\n",
            "77/77 [==============================] - ETA: 0s - loss: 1.0006 - accuracy: 0.5579\n",
            "Epoch 00005: val_loss improved from 1.01590 to 1.00028, saving model to drive/MyDrive/models/classifier.h5\n",
            "77/77 [==============================] - 18s 230ms/step - loss: 1.0006 - accuracy: 0.5579 - val_loss: 1.0003 - val_accuracy: 0.5587\n",
            "Epoch 6/24\n",
            "77/77 [==============================] - ETA: 0s - loss: 0.9848 - accuracy: 0.6002\n",
            "Epoch 00006: val_loss improved from 1.00028 to 0.98583, saving model to drive/MyDrive/models/classifier.h5\n",
            "77/77 [==============================] - 17s 227ms/step - loss: 0.9848 - accuracy: 0.6002 - val_loss: 0.9858 - val_accuracy: 0.5941\n",
            "Epoch 7/24\n",
            "77/77 [==============================] - ETA: 0s - loss: 0.9700 - accuracy: 0.6365\n",
            "Epoch 00007: val_loss improved from 0.98583 to 0.97237, saving model to drive/MyDrive/models/classifier.h5\n",
            "77/77 [==============================] - 17s 222ms/step - loss: 0.9700 - accuracy: 0.6365 - val_loss: 0.9724 - val_accuracy: 0.6198\n",
            "Epoch 8/24\n",
            "77/77 [==============================] - ETA: 0s - loss: 0.9559 - accuracy: 0.6711\n",
            "Epoch 00008: val_loss improved from 0.97237 to 0.95953, saving model to drive/MyDrive/models/classifier.h5\n",
            "77/77 [==============================] - 19s 243ms/step - loss: 0.9559 - accuracy: 0.6711 - val_loss: 0.9595 - val_accuracy: 0.6565\n",
            "Epoch 9/24\n",
            "77/77 [==============================] - ETA: 0s - loss: 0.9426 - accuracy: 0.6927\n",
            "Epoch 00009: val_loss improved from 0.95953 to 0.94744, saving model to drive/MyDrive/models/classifier.h5\n",
            "77/77 [==============================] - 17s 223ms/step - loss: 0.9426 - accuracy: 0.6927 - val_loss: 0.9474 - val_accuracy: 0.6797\n",
            "Epoch 10/24\n",
            "77/77 [==============================] - ETA: 0s - loss: 0.9301 - accuracy: 0.7111\n",
            "Epoch 00010: val_loss improved from 0.94744 to 0.93618, saving model to drive/MyDrive/models/classifier.h5\n",
            "77/77 [==============================] - 18s 233ms/step - loss: 0.9301 - accuracy: 0.7111 - val_loss: 0.9362 - val_accuracy: 0.6980\n",
            "Epoch 11/24\n",
            "77/77 [==============================] - ETA: 0s - loss: 0.9182 - accuracy: 0.7245\n",
            "Epoch 00011: val_loss improved from 0.93618 to 0.92539, saving model to drive/MyDrive/models/classifier.h5\n",
            "77/77 [==============================] - 19s 252ms/step - loss: 0.9182 - accuracy: 0.7245 - val_loss: 0.9254 - val_accuracy: 0.7274\n",
            "Epoch 12/24\n",
            "77/77 [==============================] - ETA: 0s - loss: 0.9069 - accuracy: 0.7376\n",
            "Epoch 00012: val_loss improved from 0.92539 to 0.91533, saving model to drive/MyDrive/models/classifier.h5\n",
            "77/77 [==============================] - 18s 234ms/step - loss: 0.9069 - accuracy: 0.7376 - val_loss: 0.9153 - val_accuracy: 0.7335\n",
            "Epoch 13/24\n",
            "77/77 [==============================] - ETA: 0s - loss: 0.8962 - accuracy: 0.7482\n",
            "Epoch 00013: val_loss improved from 0.91533 to 0.90570, saving model to drive/MyDrive/models/classifier.h5\n",
            "77/77 [==============================] - 17s 222ms/step - loss: 0.8962 - accuracy: 0.7482 - val_loss: 0.9057 - val_accuracy: 0.7469\n",
            "Epoch 14/24\n",
            "77/77 [==============================] - ETA: 0s - loss: 0.8860 - accuracy: 0.7592\n",
            "Epoch 00014: val_loss improved from 0.90570 to 0.89669, saving model to drive/MyDrive/models/classifier.h5\n",
            "77/77 [==============================] - 18s 232ms/step - loss: 0.8860 - accuracy: 0.7592 - val_loss: 0.8967 - val_accuracy: 0.7531\n",
            "Epoch 15/24\n",
            "77/77 [==============================] - ETA: 0s - loss: 0.8763 - accuracy: 0.7653\n",
            "Epoch 00015: val_loss improved from 0.89669 to 0.88811, saving model to drive/MyDrive/models/classifier.h5\n",
            "77/77 [==============================] - 17s 225ms/step - loss: 0.8763 - accuracy: 0.7653 - val_loss: 0.8881 - val_accuracy: 0.7628\n",
            "Epoch 16/24\n",
            "77/77 [==============================] - ETA: 0s - loss: 0.8672 - accuracy: 0.7734\n",
            "Epoch 00016: val_loss improved from 0.88811 to 0.87978, saving model to drive/MyDrive/models/classifier.h5\n",
            "77/77 [==============================] - 17s 221ms/step - loss: 0.8672 - accuracy: 0.7734 - val_loss: 0.8798 - val_accuracy: 0.7677\n",
            "Epoch 17/24\n",
            "77/77 [==============================] - ETA: 0s - loss: 0.8583 - accuracy: 0.7808\n",
            "Epoch 00017: val_loss improved from 0.87978 to 0.87196, saving model to drive/MyDrive/models/classifier.h5\n",
            "77/77 [==============================] - 17s 224ms/step - loss: 0.8583 - accuracy: 0.7808 - val_loss: 0.8720 - val_accuracy: 0.7677\n",
            "Epoch 18/24\n",
            "77/77 [==============================] - ETA: 0s - loss: 0.8499 - accuracy: 0.7848\n",
            "Epoch 00018: val_loss improved from 0.87196 to 0.86455, saving model to drive/MyDrive/models/classifier.h5\n",
            "77/77 [==============================] - 17s 224ms/step - loss: 0.8499 - accuracy: 0.7848 - val_loss: 0.8646 - val_accuracy: 0.7714\n",
            "Epoch 19/24\n",
            "77/77 [==============================] - ETA: 0s - loss: 0.8418 - accuracy: 0.7910\n",
            "Epoch 00019: val_loss improved from 0.86455 to 0.85753, saving model to drive/MyDrive/models/classifier.h5\n",
            "77/77 [==============================] - 17s 220ms/step - loss: 0.8418 - accuracy: 0.7910 - val_loss: 0.8575 - val_accuracy: 0.7726\n",
            "Epoch 20/24\n",
            "77/77 [==============================] - ETA: 0s - loss: 0.8342 - accuracy: 0.7934\n",
            "Epoch 00020: val_loss improved from 0.85753 to 0.85067, saving model to drive/MyDrive/models/classifier.h5\n",
            "77/77 [==============================] - 17s 225ms/step - loss: 0.8342 - accuracy: 0.7934 - val_loss: 0.8507 - val_accuracy: 0.7763\n",
            "Epoch 21/24\n",
            "77/77 [==============================] - ETA: 0s - loss: 0.8268 - accuracy: 0.7954\n",
            "Epoch 00021: val_loss improved from 0.85067 to 0.84413, saving model to drive/MyDrive/models/classifier.h5\n",
            "77/77 [==============================] - 17s 221ms/step - loss: 0.8268 - accuracy: 0.7954 - val_loss: 0.8441 - val_accuracy: 0.7775\n",
            "Epoch 22/24\n",
            "77/77 [==============================] - ETA: 0s - loss: 0.8197 - accuracy: 0.7958\n",
            "Epoch 00022: val_loss improved from 0.84413 to 0.83797, saving model to drive/MyDrive/models/classifier.h5\n",
            "77/77 [==============================] - 17s 217ms/step - loss: 0.8197 - accuracy: 0.7958 - val_loss: 0.8380 - val_accuracy: 0.7763\n",
            "Epoch 23/24\n",
            "77/77 [==============================] - ETA: 0s - loss: 0.8129 - accuracy: 0.7963\n",
            "Epoch 00023: val_loss improved from 0.83797 to 0.83198, saving model to drive/MyDrive/models/classifier.h5\n",
            "77/77 [==============================] - 17s 222ms/step - loss: 0.8129 - accuracy: 0.7963 - val_loss: 0.8320 - val_accuracy: 0.7763\n",
            "Epoch 24/24\n",
            "77/77 [==============================] - ETA: 0s - loss: 0.8063 - accuracy: 0.7967\n",
            "Epoch 00024: val_loss improved from 0.83198 to 0.82626, saving model to drive/MyDrive/models/classifier.h5\n",
            "77/77 [==============================] - 17s 227ms/step - loss: 0.8063 - accuracy: 0.7967 - val_loss: 0.8263 - val_accuracy: 0.7775\n"
          ]
        },
        {
          "output_type": "display_data",
          "data": {
            "image/png": "[encoded data removed]",
            "text/plain": [
              "<Figure size 1008x1008 with 1 Axes>"
            ]
          },
          "metadata": {
            "needs_background": "light"
          }
        },
        {
          "output_type": "display_data",
          "data": {
            "image/png": "[encoded data removed]",
            "text/plain": [
              "<Figure size 1008x1008 with 1 Axes>"
            ]
          },
          "metadata": {
            "needs_background": "light"
          }
        }
      ]
    },
    {
      "cell_type": "code",
      "source": [
        "loss0, accuracy0 = classifier.evaluate(test_generator)"
      ],
      "metadata": {
        "colab": {
          "base_uri": "https://localhost:8080/"
        },
        "id": "s7HXuvdXLGAI",
        "outputId": "75a521b6-1bd0-4fa2-e80f-aacd14145bf7"
      },
      "execution_count": null,
      "outputs": [
        {
          "output_type": "stream",
          "name": "stdout",
          "text": [
            "25/25 [==============================] - 4s 150ms/step - loss: 0.7874 - accuracy: 0.7912\n"
          ]
        }
      ]
    },
    {
      "cell_type": "code",
      "source": [
        "print(\"initial loss: {:.2f}\".format(loss0))\n",
        "print(\"initial accuracy: {:.2f}\".format(accuracy0))"
      ],
      "metadata": {
        "colab": {
          "base_uri": "https://localhost:8080/"
        },
        "id": "ldrPvTPQLZHm",
        "outputId": "e71ceea8-0bf8-4c62-c667-89b1f1a6be7f"
      },
      "execution_count": null,
      "outputs": [
        {
          "output_type": "stream",
          "name": "stdout",
          "text": [
            "initial loss: 0.79\n",
            "initial accuracy: 0.79\n"
          ]
        }
      ]
    },
    {
      "cell_type": "code",
      "source": [
        "base_model.trainable = True\n",
        "\n",
        "# Let's take a look to see how many layers are in the base model\n",
        "print(\"Number of layers in the base model: \", len(base_model.layers))\n",
        "\n",
        "# Fine-tune from this layer onwards\n",
        "fine_tune_at = 100\n",
        "\n",
        "# Freeze all the layers before the `fine_tune_at` layer\n",
        "for layer in base_model.layers[:fine_tune_at]:\n",
        "  layer.trainable =  False"
      ],
      "metadata": {
        "colab": {
          "base_uri": "https://localhost:8080/"
        },
        "id": "B-somSWBLZAC",
        "outputId": "d3fb82aa-f95e-4230-d3fd-1801532b904c"
      },
      "execution_count": null,
      "outputs": [
        {
          "output_type": "stream",
          "name": "stdout",
          "text": [
            "Number of layers in the base model:  190\n"
          ]
        }
      ]
    },
    {
      "cell_type": "code",
      "source": [
        "def fine_tune(learning_rate, initialEpoch=1, showStats=False):\n",
        "  callbacks = [earlystop, checkpoint]\n",
        "  \n",
        "  classifier.compile(loss='categorical_crossentropy',\n",
        "                     optimizer = tf.keras.optimizers.RMSprop(learning_rate=learning_rate/10),\n",
        "                     metrics=['accuracy'])\n",
        "\n",
        "  fine_tune_epochs = 10\n",
        "  total_epochs =  EPOCHS + fine_tune_epochs\n",
        "\n",
        "  history = classifier.fit(training_generator,\n",
        "                           epochs=total_epochs,\n",
        "                           callbacks=callbacks,\n",
        "                           initial_epoch=initialEpoch,\n",
        "                           validation_data=validation_generator)\n",
        "\n",
        "  classifier.save(classifier_path)\n",
        "\n",
        "  if showStats:\n",
        "    stats(history)\n",
        "\n",
        "  return history"
      ],
      "metadata": {
        "id": "kgOGqm75SOTv"
      },
      "execution_count": null,
      "outputs": []
    },
    {
      "cell_type": "code",
      "source": [
        "fine_tune(rate, history.epoch[-1], True)"
      ],
      "metadata": {
        "colab": {
          "base_uri": "https://localhost:8080/",
          "height": 1000
        },
        "id": "754oSnkqS79x",
        "outputId": "93df1d05-1feb-485c-910c-9c0ed15d48f8"
      },
      "execution_count": null,
      "outputs": [
        {
          "output_type": "stream",
          "name": "stdout",
          "text": [
            "Epoch 24/34\n",
            "77/77 [==============================] - ETA: 0s - loss: 0.9239 - accuracy: 0.6145\n",
            "Epoch 00024: val_loss did not improve from 0.82626\n",
            "77/77 [==============================] - 167s 2s/step - loss: 0.9239 - accuracy: 0.6145 - val_loss: 0.8632 - val_accuracy: 0.7127\n",
            "Epoch 25/34\n",
            "77/77 [==============================] - ETA: 0s - loss: 0.9215 - accuracy: 0.6410\n",
            "Epoch 00025: val_loss did not improve from 0.82626\n",
            "77/77 [==============================] - 159s 2s/step - loss: 0.9215 - accuracy: 0.6410 - val_loss: 0.9431 - val_accuracy: 0.6858\n",
            "Epoch 26/34\n",
            "77/77 [==============================] - ETA: 0s - loss: 0.9325 - accuracy: 0.6284\n",
            "Epoch 00026: val_loss did not improve from 0.82626\n",
            "77/77 [==============================] - 161s 2s/step - loss: 0.9325 - accuracy: 0.6284 - val_loss: 0.9525 - val_accuracy: 0.6528\n",
            "Epoch 27/34\n",
            "77/77 [==============================] - ETA: 0s - loss: 0.9229 - accuracy: 0.6398Restoring model weights from the end of the best epoch: 24.\n",
            "\n",
            "Epoch 00027: val_loss did not improve from 0.82626\n",
            "77/77 [==============================] - 158s 2s/step - loss: 0.9229 - accuracy: 0.6398 - val_loss: 0.9743 - val_accuracy: 0.6394\n",
            "Epoch 00027: early stopping\n"
          ]
        },
        {
          "output_type": "stream",
          "name": "stderr",
          "text": [
            "/usr/local/lib/python3.7/dist-packages/keras/engine/functional.py:1410: CustomMaskWarning: Custom mask layers require a config and must override get_config. When loading, the custom mask layer must be passed to the custom_objects argument.\n",
            "  layer_config = serialize_layer_fn(layer)\n"
          ]
        },
        {
          "output_type": "display_data",
          "data": {
            "image/png": "[encoded data removed]",
            "text/plain": [
              "<Figure size 1008x1008 with 1 Axes>"
            ]
          },
          "metadata": {
            "needs_background": "light"
          }
        },
        {
          "output_type": "display_data",
          "data": {
            "image/png": "[encoded data removed]",
            "text/plain": [
              "<Figure size 1008x1008 with 1 Axes>"
            ]
          },
          "metadata": {
            "needs_background": "light"
          }
        },
        {
          "output_type": "execute_result",
          "data": {
            "text/plain": [
              "<keras.callbacks.History at 0x7fa9f9128950>"
            ]
          },
          "metadata": {},
          "execution_count": 55
        }
      ]
    },
    {
      "cell_type": "code",
      "source": [
        "loss1, accuracy1 = classifier.evaluate(test_generator)"
      ],
      "metadata": {
        "colab": {
          "base_uri": "https://localhost:8080/"
        },
        "id": "JS9zVQ9WS0m0",
        "outputId": "429edf8d-b881-4fe7-bcd7-afbd49d76069"
      },
      "execution_count": null,
      "outputs": [
        {
          "output_type": "stream",
          "name": "stdout",
          "text": [
            "25/25 [==============================] - 4s 151ms/step - loss: 0.8096 - accuracy: 0.7437\n"
          ]
        }
      ]
    },
    {
      "cell_type": "code",
      "source": [
        "print(\"initial loss: {:.2f}\".format(loss1))\n",
        "print(\"initial accuracy: {:.2f}\".format(accuracy1))"
      ],
      "metadata": {
        "colab": {
          "base_uri": "https://localhost:8080/"
        },
        "id": "jwUkjITYmIS0",
        "outputId": "2eba06e5-9c1c-4a31-b6b7-26ace163145a"
      },
      "execution_count": null,
      "outputs": [
        {
          "output_type": "stream",
          "name": "stdout",
          "text": [
            "initial loss: 0.81\n",
            "initial accuracy: 0.74\n"
          ]
        }
      ]
    },
    {
      "cell_type": "markdown",
      "source": [
        "## **4. Results evaluation**"
      ],
      "metadata": {
        "id": "OB-8a2toNc5L"
      }
    },
    {
      "cell_type": "code",
      "source": [
        "import seaborn as sns\n",
        "import numpy as np\n",
        "import pandas as pd\n",
        "import tensorflow as tf\n",
        "\n",
        "from tensorflow import keras\n",
        "from pandas import DataFrame\n",
        "from keras_preprocessing.image import ImageDataGenerator\n",
        "\n",
        "from PIL import Image\n",
        "from sklearn.metrics import classification_report, confusion_matrix, plot_confusion_matrix\n",
        "from sklearn.metrics import accuracy_score"
      ],
      "metadata": {
        "id": "O4t4874gVIA1"
      },
      "execution_count": null,
      "outputs": []
    },
    {
      "cell_type": "code",
      "source": [
        "# load model\n",
        "model = tf.keras.models.load_model(classifier_path)"
      ],
      "metadata": {
        "id": "M4Q5s8L_MACA"
      },
      "execution_count": null,
      "outputs": []
    },
    {
      "cell_type": "code",
      "source": [
        "# ..or use classifier reference if it is possible\n",
        "model = classifier"
      ],
      "metadata": {
        "id": "_MV5ufWhVB5f"
      },
      "execution_count": null,
      "outputs": []
    },
    {
      "cell_type": "code",
      "source": [
        "test_df = pd.read_csv(test_df_file_name)\n",
        "test_df"
      ],
      "metadata": {
        "colab": {
          "base_uri": "https://localhost:8080/",
          "height": 424
        },
        "id": "q1NGqoikxgv6",
        "outputId": "c73943a0-d1fd-42e9-fb56-a0f4a5c9eb94"
      },
      "execution_count": null,
      "outputs": [
        {
          "output_type": "execute_result",
          "data": {
            "text/html": [
              "\n",
              "  <div id=\"df-fadbf8cb-4900-4402-8ae4-c0edc7ac8e2d\">\n",
              "    <div class=\"colab-df-container\">\n",
              "      <div>\n",
              "<style scoped>\n",
              "    .dataframe tbody tr th:only-of-type {\n",
              "        vertical-align: middle;\n",
              "    }\n",
              "\n",
              "    .dataframe tbody tr th {\n",
              "        vertical-align: top;\n",
              "    }\n",
              "\n",
              "    .dataframe thead th {\n",
              "        text-align: right;\n",
              "    }\n",
              "</style>\n",
              "<table border=\"1\" class=\"dataframe\">\n",
              "  <thead>\n",
              "    <tr style=\"text-align: right;\">\n",
              "      <th></th>\n",
              "      <th>xmin</th>\n",
              "      <th>ymin</th>\n",
              "      <th>xmax</th>\n",
              "      <th>ymax</th>\n",
              "      <th>label</th>\n",
              "      <th>file</th>\n",
              "      <th>width</th>\n",
              "      <th>height</th>\n",
              "      <th>annotation_file</th>\n",
              "      <th>image_file</th>\n",
              "      <th>cropped_image_file</th>\n",
              "    </tr>\n",
              "  </thead>\n",
              "  <tbody>\n",
              "    <tr>\n",
              "      <th>0</th>\n",
              "      <td>23</td>\n",
              "      <td>114</td>\n",
              "      <td>77</td>\n",
              "      <td>172</td>\n",
              "      <td>mask_weared_incorrect</td>\n",
              "      <td>maksssksksss11</td>\n",
              "      <td>400</td>\n",
              "      <td>267</td>\n",
              "      <td>maksssksksss11.xml</td>\n",
              "      <td>maksssksksss11.png</td>\n",
              "      <td>maksssksksss11-0.png</td>\n",
              "    </tr>\n",
              "    <tr>\n",
              "      <th>1</th>\n",
              "      <td>147</td>\n",
              "      <td>157</td>\n",
              "      <td>200</td>\n",
              "      <td>211</td>\n",
              "      <td>with_mask</td>\n",
              "      <td>maksssksksss11</td>\n",
              "      <td>400</td>\n",
              "      <td>267</td>\n",
              "      <td>maksssksksss11.xml</td>\n",
              "      <td>maksssksksss11.png</td>\n",
              "      <td>maksssksksss11-1.png</td>\n",
              "    </tr>\n",
              "    <tr>\n",
              "      <th>2</th>\n",
              "      <td>201</td>\n",
              "      <td>191</td>\n",
              "      <td>230</td>\n",
              "      <td>234</td>\n",
              "      <td>with_mask</td>\n",
              "      <td>maksssksksss11</td>\n",
              "      <td>400</td>\n",
              "      <td>267</td>\n",
              "      <td>maksssksksss11.xml</td>\n",
              "      <td>maksssksksss11.png</td>\n",
              "      <td>maksssksksss11-2.png</td>\n",
              "    </tr>\n",
              "    <tr>\n",
              "      <th>3</th>\n",
              "      <td>243</td>\n",
              "      <td>192</td>\n",
              "      <td>293</td>\n",
              "      <td>247</td>\n",
              "      <td>with_mask</td>\n",
              "      <td>maksssksksss11</td>\n",
              "      <td>400</td>\n",
              "      <td>267</td>\n",
              "      <td>maksssksksss11.xml</td>\n",
              "      <td>maksssksksss11.png</td>\n",
              "      <td>maksssksksss11-3.png</td>\n",
              "    </tr>\n",
              "    <tr>\n",
              "      <th>4</th>\n",
              "      <td>309</td>\n",
              "      <td>182</td>\n",
              "      <td>346</td>\n",
              "      <td>224</td>\n",
              "      <td>with_mask</td>\n",
              "      <td>maksssksksss11</td>\n",
              "      <td>400</td>\n",
              "      <td>267</td>\n",
              "      <td>maksssksksss11.xml</td>\n",
              "      <td>maksssksksss11.png</td>\n",
              "      <td>maksssksksss11-4.png</td>\n",
              "    </tr>\n",
              "    <tr>\n",
              "      <th>...</th>\n",
              "      <td>...</td>\n",
              "      <td>...</td>\n",
              "      <td>...</td>\n",
              "      <td>...</td>\n",
              "      <td>...</td>\n",
              "      <td>...</td>\n",
              "      <td>...</td>\n",
              "      <td>...</td>\n",
              "      <td>...</td>\n",
              "      <td>...</td>\n",
              "      <td>...</td>\n",
              "    </tr>\n",
              "    <tr>\n",
              "      <th>795</th>\n",
              "      <td>175</td>\n",
              "      <td>80</td>\n",
              "      <td>193</td>\n",
              "      <td>103</td>\n",
              "      <td>with_mask</td>\n",
              "      <td>maksssksksss722</td>\n",
              "      <td>400</td>\n",
              "      <td>267</td>\n",
              "      <td>maksssksksss722.xml</td>\n",
              "      <td>maksssksksss722.png</td>\n",
              "      <td>maksssksksss722-795.png</td>\n",
              "    </tr>\n",
              "    <tr>\n",
              "      <th>796</th>\n",
              "      <td>158</td>\n",
              "      <td>83</td>\n",
              "      <td>170</td>\n",
              "      <td>99</td>\n",
              "      <td>with_mask</td>\n",
              "      <td>maksssksksss722</td>\n",
              "      <td>400</td>\n",
              "      <td>267</td>\n",
              "      <td>maksssksksss722.xml</td>\n",
              "      <td>maksssksksss722.png</td>\n",
              "      <td>maksssksksss722-796.png</td>\n",
              "    </tr>\n",
              "    <tr>\n",
              "      <th>797</th>\n",
              "      <td>210</td>\n",
              "      <td>93</td>\n",
              "      <td>224</td>\n",
              "      <td>108</td>\n",
              "      <td>with_mask</td>\n",
              "      <td>maksssksksss722</td>\n",
              "      <td>400</td>\n",
              "      <td>267</td>\n",
              "      <td>maksssksksss722.xml</td>\n",
              "      <td>maksssksksss722.png</td>\n",
              "      <td>maksssksksss722-797.png</td>\n",
              "    </tr>\n",
              "    <tr>\n",
              "      <th>798</th>\n",
              "      <td>244</td>\n",
              "      <td>93</td>\n",
              "      <td>252</td>\n",
              "      <td>104</td>\n",
              "      <td>with_mask</td>\n",
              "      <td>maksssksksss722</td>\n",
              "      <td>400</td>\n",
              "      <td>267</td>\n",
              "      <td>maksssksksss722.xml</td>\n",
              "      <td>maksssksksss722.png</td>\n",
              "      <td>maksssksksss722-798.png</td>\n",
              "    </tr>\n",
              "    <tr>\n",
              "      <th>799</th>\n",
              "      <td>269</td>\n",
              "      <td>87</td>\n",
              "      <td>286</td>\n",
              "      <td>104</td>\n",
              "      <td>with_mask</td>\n",
              "      <td>maksssksksss722</td>\n",
              "      <td>400</td>\n",
              "      <td>267</td>\n",
              "      <td>maksssksksss722.xml</td>\n",
              "      <td>maksssksksss722.png</td>\n",
              "      <td>maksssksksss722-799.png</td>\n",
              "    </tr>\n",
              "  </tbody>\n",
              "</table>\n",
              "<p>800 rows × 11 columns</p>\n",
              "</div>\n",
              "      <button class=\"colab-df-convert\" onclick=\"convertToInteractive('df-fadbf8cb-4900-4402-8ae4-c0edc7ac8e2d')\"\n",
              "              title=\"Convert this dataframe to an interactive table.\"\n",
              "              style=\"display:none;\">\n",
              "        \n",
              "  <svg xmlns=\"http://www.w3.org/2000/svg\" height=\"24px\"viewBox=\"0 0 24 24\"\n",
              "       width=\"24px\">\n",
              "    <path d=\"M0 0h24v24H0V0z\" fill=\"none\"/>\n",
              "    <path d=\"M18.56 5.44l.94 2.06.94-2.06 2.06-.94-2.06-.94-.94-2.06-.94 2.06-2.06.94zm-11 1L8.5 8.5l.94-2.06 2.06-.94-2.06-.94L8.5 2.5l-.94 2.06-2.06.94zm10 10l.94 2.06.94-2.06 2.06-.94-2.06-.94-.94-2.06-.94 2.06-2.06.94z\"/><path d=\"M17.41 7.96l-1.37-1.37c-.4-.4-.92-.59-1.43-.59-.52 0-1.04.2-1.43.59L10.3 9.45l-7.72 7.72c-.78.78-.78 2.05 0 2.83L4 21.41c.39.39.9.59 1.41.59.51 0 1.02-.2 1.41-.59l7.78-7.78 2.81-2.81c.8-.78.8-2.07 0-2.86zM5.41 20L4 18.59l7.72-7.72 1.47 1.35L5.41 20z\"/>\n",
              "  </svg>\n",
              "      </button>\n",
              "      \n",
              "  <style>\n",
              "    .colab-df-container {\n",
              "      display:flex;\n",
              "      flex-wrap:wrap;\n",
              "      gap: 12px;\n",
              "    }\n",
              "\n",
              "    .colab-df-convert {\n",
              "      background-color: #E8F0FE;\n",
              "      border: none;\n",
              "      border-radius: 50%;\n",
              "      cursor: pointer;\n",
              "      display: none;\n",
              "      fill: #1967D2;\n",
              "      height: 32px;\n",
              "      padding: 0 0 0 0;\n",
              "      width: 32px;\n",
              "    }\n",
              "\n",
              "    .colab-df-convert:hover {\n",
              "      background-color: #E2EBFA;\n",
              "      box-shadow: 0px 1px 2px rgba(60, 64, 67, 0.3), 0px 1px 3px 1px rgba(60, 64, 67, 0.15);\n",
              "      fill: #174EA6;\n",
              "    }\n",
              "\n",
              "    [theme=dark] .colab-df-convert {\n",
              "      background-color: #3B4455;\n",
              "      fill: #D2E3FC;\n",
              "    }\n",
              "\n",
              "    [theme=dark] .colab-df-convert:hover {\n",
              "      background-color: #434B5C;\n",
              "      box-shadow: 0px 1px 3px 1px rgba(0, 0, 0, 0.15);\n",
              "      filter: drop-shadow(0px 1px 2px rgba(0, 0, 0, 0.3));\n",
              "      fill: #FFFFFF;\n",
              "    }\n",
              "  </style>\n",
              "\n",
              "      <script>\n",
              "        const buttonEl =\n",
              "          document.querySelector('#df-fadbf8cb-4900-4402-8ae4-c0edc7ac8e2d button.colab-df-convert');\n",
              "        buttonEl.style.display =\n",
              "          google.colab.kernel.accessAllowed ? 'block' : 'none';\n",
              "\n",
              "        async function convertToInteractive(key) {\n",
              "          const element = document.querySelector('#df-fadbf8cb-4900-4402-8ae4-c0edc7ac8e2d');\n",
              "          const dataTable =\n",
              "            await google.colab.kernel.invokeFunction('convertToInteractive',\n",
              "                                                     [key], {});\n",
              "          if (!dataTable) return;\n",
              "\n",
              "          const docLinkHtml = 'Like what you see? Visit the ' +\n",
              "            '<a target=\"_blank\" href=https://colab.research.google.com/notebooks/data_table.ipynb>data table notebook</a>'\n",
              "            + ' to learn more about interactive tables.';\n",
              "          element.innerHTML = '';\n",
              "          dataTable['output_type'] = 'display_data';\n",
              "          await google.colab.output.renderOutput(dataTable, element);\n",
              "          const docLink = document.createElement('div');\n",
              "          docLink.innerHTML = docLinkHtml;\n",
              "          element.appendChild(docLink);\n",
              "        }\n",
              "      </script>\n",
              "    </div>\n",
              "  </div>\n",
              "  "
            ],
            "text/plain": [
              "     xmin  ymin  ...           image_file       cropped_image_file\n",
              "0      23   114  ...   maksssksksss11.png     maksssksksss11-0.png\n",
              "1     147   157  ...   maksssksksss11.png     maksssksksss11-1.png\n",
              "2     201   191  ...   maksssksksss11.png     maksssksksss11-2.png\n",
              "3     243   192  ...   maksssksksss11.png     maksssksksss11-3.png\n",
              "4     309   182  ...   maksssksksss11.png     maksssksksss11-4.png\n",
              "..    ...   ...  ...                  ...                      ...\n",
              "795   175    80  ...  maksssksksss722.png  maksssksksss722-795.png\n",
              "796   158    83  ...  maksssksksss722.png  maksssksksss722-796.png\n",
              "797   210    93  ...  maksssksksss722.png  maksssksksss722-797.png\n",
              "798   244    93  ...  maksssksksss722.png  maksssksksss722-798.png\n",
              "799   269    87  ...  maksssksksss722.png  maksssksksss722-799.png\n",
              "\n",
              "[800 rows x 11 columns]"
            ]
          },
          "metadata": {},
          "execution_count": 8
        }
      ]
    },
    {
      "cell_type": "code",
      "source": [
        "sorted_label_df = DataFrame(test_df['label'].value_counts()).reset_index()\n",
        "sorted_label_df.rename(columns = {'index': 'label', 'label': 'count'}, inplace = True)\n",
        "sorted_label_df"
      ],
      "metadata": {
        "colab": {
          "base_uri": "https://localhost:8080/",
          "height": 143
        },
        "id": "SD_uKVf2QnWt",
        "outputId": "1f8c5cfa-7312-47bd-c547-6a422029fc48"
      },
      "execution_count": null,
      "outputs": [
        {
          "output_type": "execute_result",
          "data": {
            "text/html": [
              "\n",
              "  <div id=\"df-0f44b3cc-afba-412f-9ec4-e0414ae2b3a7\">\n",
              "    <div class=\"colab-df-container\">\n",
              "      <div>\n",
              "<style scoped>\n",
              "    .dataframe tbody tr th:only-of-type {\n",
              "        vertical-align: middle;\n",
              "    }\n",
              "\n",
              "    .dataframe tbody tr th {\n",
              "        vertical-align: top;\n",
              "    }\n",
              "\n",
              "    .dataframe thead th {\n",
              "        text-align: right;\n",
              "    }\n",
              "</style>\n",
              "<table border=\"1\" class=\"dataframe\">\n",
              "  <thead>\n",
              "    <tr style=\"text-align: right;\">\n",
              "      <th></th>\n",
              "      <th>label</th>\n",
              "      <th>count</th>\n",
              "    </tr>\n",
              "  </thead>\n",
              "  <tbody>\n",
              "    <tr>\n",
              "      <th>0</th>\n",
              "      <td>with_mask</td>\n",
              "      <td>641</td>\n",
              "    </tr>\n",
              "    <tr>\n",
              "      <th>1</th>\n",
              "      <td>without_mask</td>\n",
              "      <td>137</td>\n",
              "    </tr>\n",
              "    <tr>\n",
              "      <th>2</th>\n",
              "      <td>mask_weared_incorrect</td>\n",
              "      <td>22</td>\n",
              "    </tr>\n",
              "  </tbody>\n",
              "</table>\n",
              "</div>\n",
              "      <button class=\"colab-df-convert\" onclick=\"convertToInteractive('df-0f44b3cc-afba-412f-9ec4-e0414ae2b3a7')\"\n",
              "              title=\"Convert this dataframe to an interactive table.\"\n",
              "              style=\"display:none;\">\n",
              "        \n",
              "  <svg xmlns=\"http://www.w3.org/2000/svg\" height=\"24px\"viewBox=\"0 0 24 24\"\n",
              "       width=\"24px\">\n",
              "    <path d=\"M0 0h24v24H0V0z\" fill=\"none\"/>\n",
              "    <path d=\"M18.56 5.44l.94 2.06.94-2.06 2.06-.94-2.06-.94-.94-2.06-.94 2.06-2.06.94zm-11 1L8.5 8.5l.94-2.06 2.06-.94-2.06-.94L8.5 2.5l-.94 2.06-2.06.94zm10 10l.94 2.06.94-2.06 2.06-.94-2.06-.94-.94-2.06-.94 2.06-2.06.94z\"/><path d=\"M17.41 7.96l-1.37-1.37c-.4-.4-.92-.59-1.43-.59-.52 0-1.04.2-1.43.59L10.3 9.45l-7.72 7.72c-.78.78-.78 2.05 0 2.83L4 21.41c.39.39.9.59 1.41.59.51 0 1.02-.2 1.41-.59l7.78-7.78 2.81-2.81c.8-.78.8-2.07 0-2.86zM5.41 20L4 18.59l7.72-7.72 1.47 1.35L5.41 20z\"/>\n",
              "  </svg>\n",
              "      </button>\n",
              "      \n",
              "  <style>\n",
              "    .colab-df-container {\n",
              "      display:flex;\n",
              "      flex-wrap:wrap;\n",
              "      gap: 12px;\n",
              "    }\n",
              "\n",
              "    .colab-df-convert {\n",
              "      background-color: #E8F0FE;\n",
              "      border: none;\n",
              "      border-radius: 50%;\n",
              "      cursor: pointer;\n",
              "      display: none;\n",
              "      fill: #1967D2;\n",
              "      height: 32px;\n",
              "      padding: 0 0 0 0;\n",
              "      width: 32px;\n",
              "    }\n",
              "\n",
              "    .colab-df-convert:hover {\n",
              "      background-color: #E2EBFA;\n",
              "      box-shadow: 0px 1px 2px rgba(60, 64, 67, 0.3), 0px 1px 3px 1px rgba(60, 64, 67, 0.15);\n",
              "      fill: #174EA6;\n",
              "    }\n",
              "\n",
              "    [theme=dark] .colab-df-convert {\n",
              "      background-color: #3B4455;\n",
              "      fill: #D2E3FC;\n",
              "    }\n",
              "\n",
              "    [theme=dark] .colab-df-convert:hover {\n",
              "      background-color: #434B5C;\n",
              "      box-shadow: 0px 1px 3px 1px rgba(0, 0, 0, 0.15);\n",
              "      filter: drop-shadow(0px 1px 2px rgba(0, 0, 0, 0.3));\n",
              "      fill: #FFFFFF;\n",
              "    }\n",
              "  </style>\n",
              "\n",
              "      <script>\n",
              "        const buttonEl =\n",
              "          document.querySelector('#df-0f44b3cc-afba-412f-9ec4-e0414ae2b3a7 button.colab-df-convert');\n",
              "        buttonEl.style.display =\n",
              "          google.colab.kernel.accessAllowed ? 'block' : 'none';\n",
              "\n",
              "        async function convertToInteractive(key) {\n",
              "          const element = document.querySelector('#df-0f44b3cc-afba-412f-9ec4-e0414ae2b3a7');\n",
              "          const dataTable =\n",
              "            await google.colab.kernel.invokeFunction('convertToInteractive',\n",
              "                                                     [key], {});\n",
              "          if (!dataTable) return;\n",
              "\n",
              "          const docLinkHtml = 'Like what you see? Visit the ' +\n",
              "            '<a target=\"_blank\" href=https://colab.research.google.com/notebooks/data_table.ipynb>data table notebook</a>'\n",
              "            + ' to learn more about interactive tables.';\n",
              "          element.innerHTML = '';\n",
              "          dataTable['output_type'] = 'display_data';\n",
              "          await google.colab.output.renderOutput(dataTable, element);\n",
              "          const docLink = document.createElement('div');\n",
              "          docLink.innerHTML = docLinkHtml;\n",
              "          element.appendChild(docLink);\n",
              "        }\n",
              "      </script>\n",
              "    </div>\n",
              "  </div>\n",
              "  "
            ],
            "text/plain": [
              "                   label  count\n",
              "0              with_mask    641\n",
              "1           without_mask    137\n",
              "2  mask_weared_incorrect     22"
            ]
          },
          "metadata": {},
          "execution_count": 9
        }
      ]
    },
    {
      "cell_type": "code",
      "source": [
        "image_target_size = (24, 22)\n",
        "\n",
        "test_image_generator = ImageDataGenerator(rescale = 1. / 255.)\n",
        "test_generator = test_image_generator.flow_from_dataframe(\n",
        "    dataframe = test_df,\n",
        "    directory = cropped_dir,\n",
        "    x_col = key_cropped,\n",
        "    y_col = key_label,\n",
        "    batch_size = BATCH_SIZE,\n",
        "    seed = SEED_SIZE,\n",
        "    shuffle = True,\n",
        "    class_mode = 'categorical',\n",
        "    target_size = image_target_size\n",
        ")"
      ],
      "metadata": {
        "colab": {
          "base_uri": "https://localhost:8080/"
        },
        "id": "wUeIMlhrp-n4",
        "outputId": "f152dd9a-d269-470d-df8c-93d802b07022"
      },
      "execution_count": null,
      "outputs": [
        {
          "output_type": "stream",
          "name": "stdout",
          "text": [
            "Found 800 validated image filenames belonging to 3 classes.\n"
          ]
        }
      ]
    },
    {
      "cell_type": "code",
      "source": [
        "generator = test_generator\n",
        "generator.reset()\n",
        "\n",
        "pred = model.predict(generator, \n",
        "                     batch_size=BATCH_SIZE,\n",
        "                     steps=len(generator), \n",
        "                     verbose=1)"
      ],
      "metadata": {
        "colab": {
          "base_uri": "https://localhost:8080/"
        },
        "id": "mVyqOccONmGc",
        "outputId": "bf74cc9f-1b3c-407a-af72-9be256aec7ea"
      },
      "execution_count": null,
      "outputs": [
        {
          "output_type": "stream",
          "name": "stdout",
          "text": [
            "25/25 [==============================] - 5s 154ms/step\n"
          ]
        }
      ]
    },
    {
      "cell_type": "code",
      "source": [
        "y_pred = np.argmax(pred, axis=1)"
      ],
      "metadata": {
        "id": "RWqe8gTcZ1nD"
      },
      "execution_count": null,
      "outputs": []
    },
    {
      "cell_type": "code",
      "source": [
        "print('Score Report')\n",
        "lin_score = accuracy_score(generator.labels, y_pred)\n",
        "lin_score"
      ],
      "metadata": {
        "colab": {
          "base_uri": "https://localhost:8080/"
        },
        "id": "ItOyvTnpY9XM",
        "outputId": "c5155132-d6a5-444f-e0b2-750cd3e55a31"
      },
      "execution_count": null,
      "outputs": [
        {
          "output_type": "stream",
          "name": "stdout",
          "text": [
            "Score Report\n"
          ]
        },
        {
          "output_type": "execute_result",
          "data": {
            "text/plain": [
              "0.72125"
            ]
          },
          "metadata": {},
          "execution_count": 61
        }
      ]
    },
    {
      "cell_type": "code",
      "source": [
        "y_pred = np.argmax(pred, axis=1)\n",
        "y_pred"
      ],
      "metadata": {
        "id": "vIhQNBtktJMu",
        "colab": {
          "base_uri": "https://localhost:8080/"
        },
        "outputId": "4b4b0d35-aaf6-4979-8e8c-4ac8b567586c"
      },
      "execution_count": null,
      "outputs": [
        {
          "output_type": "execute_result",
          "data": {
            "text/plain": [
              "array([1, 1, 1, 1, 1, 1, 1, 1, 0, 1, 1, 1, 1, 1, 0, 1, 1, 1, 1, 1, 1, 1,\n",
              "       1, 1, 1, 1, 1, 1, 0, 1, 1, 1, 1, 1, 0, 1, 1, 1, 1, 1, 1, 1, 1, 1,\n",
              "       1, 1, 1, 1, 1, 1, 1, 1, 1, 1, 1, 1, 1, 0, 1, 1, 0, 1, 1, 1, 2, 1,\n",
              "       1, 1, 1, 1, 1, 1, 1, 1, 1, 1, 1, 1, 1, 1, 1, 0, 1, 1, 1, 2, 1, 1,\n",
              "       1, 1, 2, 1, 1, 1, 1, 1, 1, 1, 1, 1, 2, 2, 1, 2, 1, 1, 1, 1, 1, 2,\n",
              "       1, 1, 1, 1, 1, 1, 1, 1, 1, 1, 1, 1, 1, 1, 1, 1, 1, 0, 1, 1, 1, 1,\n",
              "       1, 1, 1, 1, 1, 1, 1, 0, 1, 1, 1, 1, 0, 1, 1, 1, 1, 1, 1, 1, 1, 1,\n",
              "       1, 1, 1, 1, 1, 1, 1, 1, 1, 0, 1, 2, 1, 1, 1, 1, 1, 1, 0, 1, 2, 1,\n",
              "       1, 1, 1, 1, 1, 1, 1, 1, 1, 1, 1, 1, 1, 1, 1, 1, 1, 1, 1, 1, 1, 1,\n",
              "       1, 1, 1, 1, 2, 1, 1, 1, 0, 0, 1, 1, 1, 1, 1, 1, 1, 1, 1, 1, 1, 1,\n",
              "       1, 1, 1, 1, 1, 1, 1, 1, 1, 1, 1, 0, 1, 1, 1, 1, 0, 1, 1, 1, 1, 1,\n",
              "       1, 1, 1, 1, 1, 2, 1, 1, 1, 1, 1, 1, 1, 1, 1, 1, 1, 0, 1, 2, 1, 1,\n",
              "       1, 1, 1, 1, 1, 1, 1, 1, 1, 1, 1, 1, 1, 1, 1, 1, 2, 1, 1, 1, 1, 1,\n",
              "       1, 0, 1, 0, 1, 1, 1, 1, 1, 1, 1, 1, 1, 1, 1, 1, 1, 1, 1, 1, 1, 1,\n",
              "       1, 1, 1, 0, 1, 1, 1, 1, 0, 1, 1, 1, 1, 1, 1, 1, 1, 0, 1, 1, 1, 1,\n",
              "       1, 1, 1, 1, 1, 1, 1, 1, 1, 1, 1, 1, 1, 1, 1, 2, 1, 1, 1, 1, 1, 1,\n",
              "       1, 2, 1, 1, 2, 1, 1, 1, 1, 1, 1, 1, 1, 1, 1, 1, 1, 0, 1, 0, 1, 1,\n",
              "       1, 1, 1, 1, 1, 1, 1, 2, 1, 1, 1, 1, 1, 1, 1, 1, 1, 0, 1, 0, 1, 1,\n",
              "       0, 1, 1, 1, 1, 2, 1, 1, 2, 1, 1, 1, 1, 1, 1, 1, 1, 1, 1, 1, 2, 1,\n",
              "       1, 1, 1, 1, 1, 1, 1, 1, 1, 1, 1, 1, 1, 1, 1, 2, 1, 1, 1, 1, 1, 0,\n",
              "       1, 1, 1, 1, 1, 1, 1, 1, 1, 1, 1, 1, 1, 1, 1, 1, 1, 1, 1, 2, 1, 1,\n",
              "       1, 1, 1, 1, 1, 0, 1, 1, 1, 1, 1, 0, 1, 1, 1, 1, 1, 1, 1, 1, 1, 1,\n",
              "       1, 1, 1, 1, 1, 1, 1, 2, 1, 1, 1, 1, 1, 0, 1, 1, 1, 1, 0, 2, 1, 1,\n",
              "       1, 0, 1, 1, 1, 1, 1, 1, 2, 1, 1, 1, 1, 1, 1, 1, 2, 1, 1, 1, 1, 1,\n",
              "       1, 1, 1, 1, 1, 1, 1, 1, 1, 1, 1, 1, 1, 0, 1, 1, 1, 0, 1, 1, 1, 1,\n",
              "       1, 1, 1, 1, 0, 1, 1, 1, 1, 0, 1, 1, 1, 1, 1, 1, 1, 1, 1, 1, 1, 1,\n",
              "       2, 1, 1, 1, 1, 1, 2, 1, 1, 1, 1, 0, 1, 1, 1, 1, 1, 1, 1, 1, 1, 1,\n",
              "       1, 1, 1, 1, 1, 2, 1, 1, 1, 1, 1, 1, 1, 1, 1, 0, 1, 1, 1, 1, 1, 1,\n",
              "       1, 1, 1, 1, 1, 1, 1, 0, 1, 1, 1, 1, 1, 1, 1, 2, 1, 1, 1, 2, 1, 1,\n",
              "       1, 1, 1, 1, 1, 1, 1, 2, 1, 1, 1, 1, 1, 1, 1, 1, 1, 1, 1, 1, 1, 1,\n",
              "       1, 1, 1, 1, 1, 1, 1, 1, 1, 1, 1, 1, 0, 1, 1, 2, 1, 1, 1, 1, 1, 1,\n",
              "       1, 1, 1, 1, 1, 1, 1, 1, 1, 1, 1, 1, 1, 1, 1, 1, 1, 1, 1, 1, 1, 1,\n",
              "       1, 1, 1, 1, 0, 0, 1, 1, 2, 1, 1, 0, 1, 1, 1, 1, 1, 1, 1, 1, 2, 1,\n",
              "       1, 1, 1, 1, 0, 1, 1, 1, 1, 1, 1, 1, 1, 1, 1, 1, 1, 1, 1, 1, 1, 1,\n",
              "       1, 1, 1, 1, 1, 1, 1, 1, 1, 1, 1, 1, 1, 1, 1, 1, 1, 0, 1, 0, 1, 1,\n",
              "       1, 1, 1, 1, 1, 1, 1, 1, 1, 1, 1, 1, 1, 1, 1, 1, 1, 1, 1, 0, 2, 1,\n",
              "       1, 1, 1, 1, 1, 1, 1, 1])"
            ]
          },
          "metadata": {},
          "execution_count": 63
        }
      ]
    },
    {
      "cell_type": "code",
      "source": [
        "print('Confusion Matrix')\n",
        "\n",
        "label_names = ['mask_weared_incorrect', 'with_mask', 'without_mask']\n",
        "matrix = confusion_matrix(generator.classes, y_pred)\n",
        "sns.heatmap(matrix,\n",
        "            annot = True,\n",
        "            fmt='g',\n",
        "            xticklabels=label_names,\n",
        "            yticklabels=label_names)"
      ],
      "metadata": {
        "colab": {
          "base_uri": "https://localhost:8080/",
          "height": 301
        },
        "id": "EG9RoV6QqdTO",
        "outputId": "680e6ab3-c83d-44f4-d73b-eedd8cbc072e"
      },
      "execution_count": null,
      "outputs": [
        {
          "output_type": "stream",
          "name": "stdout",
          "text": [
            "Confusion Matrix\n"
          ]
        },
        {
          "output_type": "execute_result",
          "data": {
            "text/plain": [
              "<matplotlib.axes._subplots.AxesSubplot at 0x7fa9f834ead0>"
            ]
          },
          "metadata": {},
          "execution_count": 64
        },
        {
          "output_type": "display_data",
          "data": {
            "image/png": "[encoded data removed]",
            "text/plain": [
              "<Figure size 432x288 with 2 Axes>"
            ]
          },
          "metadata": {
            "needs_background": "light"
          }
        }
      ]
    },
    {
      "cell_type": "code",
      "source": [
        "print('Classification Report')\n",
        "print(classification_report(generator.classes, y_pred, target_names=label_names))"
      ],
      "metadata": {
        "colab": {
          "base_uri": "https://localhost:8080/"
        },
        "id": "qFO-F8nLqBDf",
        "outputId": "d485a587-dd42-44a3-eeea-7e4ddb58d58c"
      },
      "execution_count": null,
      "outputs": [
        {
          "output_type": "stream",
          "name": "stdout",
          "text": [
            "Classification Report\n",
            "                       precision    recall  f1-score   support\n",
            "\n",
            "mask_weared_incorrect       0.02      0.05      0.03        22\n",
            "            with_mask       0.80      0.89      0.84       641\n",
            "         without_mask       0.17      0.04      0.07       137\n",
            "\n",
            "             accuracy                           0.72       800\n",
            "            macro avg       0.33      0.33      0.31       800\n",
            "         weighted avg       0.67      0.72      0.69       800\n",
            "\n"
          ]
        }
      ]
    }
  ]
}