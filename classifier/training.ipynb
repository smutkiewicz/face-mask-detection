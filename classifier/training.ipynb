{
  "nbformat": 4,
  "nbformat_minor": 0,
  "metadata": {
    "colab": {
      "name": "training.ipynb",
      "provenance": [],
      "collapsed_sections": [
        "-U3p3ueZmIIM",
        "OM_H4YGTafcq",
        "efeX939R8kRy",
        "B7aXenHFahVt",
        "ZlKKU6EWa5BG",
        "ruaXaeCtbB8v",
        "7eMfiD9eKRNf",
        "Yju1WkTJfnKg",
        "Ndm2Mz-ofeW8",
        "ymfANF1MUk1x",
        "hFHPMlPhf3jn",
        "VrtS7wFEfU_R",
        "OB-8a2toNc5L",
        "KureCjF-_jo4",
        "HmR3TpGDPZBo"
      ]
    },
    "kernelspec": {
      "name": "python3",
      "display_name": "Python 3"
    },
    "language_info": {
      "name": "python"
    }
  },
  "cells": [
    {
      "cell_type": "markdown",
      "source": [
        "# **EIASR 21Z - Face Mask Detection**"
      ],
      "metadata": {
        "id": "cdArl1WGas2X"
      }
    },
    {
      "cell_type": "markdown",
      "source": [
        "We used this [project](https://www.kaggle.com/meghanatiyyali560/sailaja-meghana-project) as a guide how to use annotations provided with [image dataset we used](https://www.kaggle.com/andrewmvd/face-mask-detection). "
      ],
      "metadata": {
        "id": "nw5AS91Y1Q5M"
      }
    },
    {
      "cell_type": "markdown",
      "source": [
        "## **1. Environment preparation**"
      ],
      "metadata": {
        "id": "-U3p3ueZmIIM"
      }
    },
    {
      "cell_type": "markdown",
      "source": [
        "### Imports"
      ],
      "metadata": {
        "id": "0SV6Tzu7mP-v"
      }
    },
    {
      "cell_type": "code",
      "execution_count": 1,
      "metadata": {
        "id": "G2mvDZUB3p1U"
      },
      "outputs": [],
      "source": [
        "import os\n",
        "import glob\n",
        "import cv2\n",
        "import shutil\n",
        "import matplotlib.pyplot as plt\n",
        "import numpy as np\n",
        "import pandas as pd\n",
        "import tensorflow as tf\n",
        "\n",
        "from IPython.display import display\n",
        "from tensorflow import keras\n",
        "from tensorflow.keras.applications import ResNet50\n",
        "from tensorflow.keras.callbacks import ModelCheckpoint\n",
        "from tensorflow.keras.callbacks import EarlyStopping\n",
        "from tensorflow.keras.optimizers import Adam, RMSprop, Adadelta\n",
        "from keras_preprocessing.image import ImageDataGenerator\n",
        "from xml.etree import ElementTree\n",
        "from pandas import DataFrame"
      ]
    },
    {
      "cell_type": "markdown",
      "source": [
        "### Constants"
      ],
      "metadata": {
        "id": "FNcPvw4gloE0"
      }
    },
    {
      "cell_type": "code",
      "source": [
        "path = 'drive/MyDrive/datasets/face-mask-detection'\n",
        "\n",
        "BATCH_SIZE = 64\n",
        "SEED_SIZE = 42\n",
        "EPOCHS = 24\n",
        "image_target_size = (32, 32)\n",
        "\n",
        "key_cropped = 'cropped_image_file'\n",
        "key_label = 'label'\n",
        "key_file = 'file'\n",
        "key_image_file = 'image_file'\n",
        "key_annotation = 'annotation_file'\n",
        "\n",
        "annotations_dir = path + '/annotations'\n",
        "images_dir = path + '/images'\n",
        "temp_dir = path + '/temp'\n",
        "cropped_dir = temp_dir + '/cropped_images'\n",
        "augmented_dir = temp_dir + '/augmented_cropped_images'\n",
        "\n",
        "classifier_path = 'drive/MyDrive/models/classifier-2.h5'\n",
        "\n",
        "train_df_file_name = path + '/train_df.csv'\n",
        "validation_df_file_name = path + '/validation_df.csv'\n",
        "test_df_file_name = path + '/test_df.csv'\n",
        "aug_train_df_file_name = path + '/augmented_cropped_images.csv'"
      ],
      "metadata": {
        "id": "4z9XxUXj42d9"
      },
      "execution_count": 2,
      "outputs": []
    },
    {
      "cell_type": "markdown",
      "source": [
        "### Optional cleanup"
      ],
      "metadata": {
        "id": "OM_H4YGTafcq"
      }
    },
    {
      "cell_type": "code",
      "source": [
        "os.mkdir(temp_dir)\n",
        "os.mkdir(cropped_dir)\n",
        "\n",
        "!ls 'drive/MyDrive/datasets/face-mask-detection'\n",
        "!ls 'drive/MyDrive/datasets/face-mask-detection/temp'"
      ],
      "metadata": {
        "id": "NRrBdAObuWAL",
        "colab": {
          "base_uri": "https://localhost:8080/"
        },
        "outputId": "8048a84a-866f-42c1-8c62-69837166026b"
      },
      "execution_count": null,
      "outputs": [
        {
          "output_type": "stream",
          "name": "stdout",
          "text": [
            "annotations\t\t      images  test_df.csv\n",
            "augmented_cropped_images.csv  temp    train_df.csv\n",
            "cropped_images\n"
          ]
        }
      ]
    },
    {
      "cell_type": "code",
      "source": [
        "shutil.rmtree(temp_dir)"
      ],
      "metadata": {
        "id": "3YsuJRjFahiP"
      },
      "execution_count": null,
      "outputs": []
    },
    {
      "cell_type": "code",
      "source": [
        "!ls 'drive/MyDrive/datasets/face-mask-detection'"
      ],
      "metadata": {
        "colab": {
          "base_uri": "https://localhost:8080/"
        },
        "id": "4MrXkAjInfQD",
        "outputId": "1451c38e-4903-46ef-ac28-82400abb8cee"
      },
      "execution_count": null,
      "outputs": [
        {
          "output_type": "stream",
          "name": "stdout",
          "text": [
            "annotations\t\t      images  test_df.csv\n",
            "augmented_cropped_images.csv  temp    train_df.csv\n"
          ]
        }
      ]
    },
    {
      "cell_type": "markdown",
      "source": [
        "## **2. Test dataset preparation**"
      ],
      "metadata": {
        "id": "efeX939R8kRy"
      }
    },
    {
      "cell_type": "code",
      "source": [
        "def dataset_stats(dataframe):\n",
        "  sorted_label_df = DataFrame(dataframe['label'].value_counts()).reset_index()\n",
        "  sorted_label_df.rename(columns = {'index': 'label', 'label': 'count'}, inplace = True)\n",
        "  display(sorted_label_df)"
      ],
      "metadata": {
        "id": "09RgS5yLW_oP"
      },
      "execution_count": 3,
      "outputs": []
    },
    {
      "cell_type": "markdown",
      "source": [
        "### Read existing set"
      ],
      "metadata": {
        "id": "h5Iz6KYuabEk"
      }
    },
    {
      "cell_type": "code",
      "source": [
        "train_df = pd.read_csv(train_df_file_name, encoding='utf-8')\n",
        "test_df = pd.read_csv(test_df_file_name, encoding='utf-8')\n",
        "\n",
        "train_df = train_df.sample(frac=1)\n",
        "test_df = test_df.sample(frac=1)"
      ],
      "metadata": {
        "id": "nOG9HCoG40SD"
      },
      "execution_count": 4,
      "outputs": []
    },
    {
      "cell_type": "code",
      "source": [
        "train_df"
      ],
      "metadata": {
        "colab": {
          "base_uri": "https://localhost:8080/",
          "height": 424
        },
        "id": "gmLd4NfN6Q9n",
        "outputId": "49c96844-479f-444f-cdbc-c9879446e00a"
      },
      "execution_count": 5,
      "outputs": [
        {
          "output_type": "execute_result",
          "data": {
            "text/html": [
              "\n",
              "  <div id=\"df-65d66f96-4deb-45e2-ad52-b54699a2c906\">\n",
              "    <div class=\"colab-df-container\">\n",
              "      <div>\n",
              "<style scoped>\n",
              "    .dataframe tbody tr th:only-of-type {\n",
              "        vertical-align: middle;\n",
              "    }\n",
              "\n",
              "    .dataframe tbody tr th {\n",
              "        vertical-align: top;\n",
              "    }\n",
              "\n",
              "    .dataframe thead th {\n",
              "        text-align: right;\n",
              "    }\n",
              "</style>\n",
              "<table border=\"1\" class=\"dataframe\">\n",
              "  <thead>\n",
              "    <tr style=\"text-align: right;\">\n",
              "      <th></th>\n",
              "      <th>xmin</th>\n",
              "      <th>ymin</th>\n",
              "      <th>xmax</th>\n",
              "      <th>ymax</th>\n",
              "      <th>label</th>\n",
              "      <th>file</th>\n",
              "      <th>width</th>\n",
              "      <th>height</th>\n",
              "      <th>annotation_file</th>\n",
              "      <th>image_file</th>\n",
              "      <th>cropped_image_file</th>\n",
              "    </tr>\n",
              "  </thead>\n",
              "  <tbody>\n",
              "    <tr>\n",
              "      <th>703</th>\n",
              "      <td>124</td>\n",
              "      <td>193</td>\n",
              "      <td>148</td>\n",
              "      <td>218</td>\n",
              "      <td>without_mask</td>\n",
              "      <td>maksssksksss522</td>\n",
              "      <td>267</td>\n",
              "      <td>400</td>\n",
              "      <td>maksssksksss522.xml</td>\n",
              "      <td>maksssksksss522.png</td>\n",
              "      <td>cropped_images/maksssksksss522-1288.png</td>\n",
              "    </tr>\n",
              "    <tr>\n",
              "      <th>526</th>\n",
              "      <td>287</td>\n",
              "      <td>158</td>\n",
              "      <td>296</td>\n",
              "      <td>169</td>\n",
              "      <td>without_mask</td>\n",
              "      <td>maksssksksss750</td>\n",
              "      <td>400</td>\n",
              "      <td>268</td>\n",
              "      <td>maksssksksss750.xml</td>\n",
              "      <td>maksssksksss750.png</td>\n",
              "      <td>cropped_images/maksssksksss750-148.png</td>\n",
              "    </tr>\n",
              "    <tr>\n",
              "      <th>782</th>\n",
              "      <td>385</td>\n",
              "      <td>25</td>\n",
              "      <td>396</td>\n",
              "      <td>46</td>\n",
              "      <td>without_mask</td>\n",
              "      <td>maksssksksss385</td>\n",
              "      <td>400</td>\n",
              "      <td>245</td>\n",
              "      <td>maksssksksss385.xml</td>\n",
              "      <td>maksssksksss385.png</td>\n",
              "      <td>cropped_images/maksssksksss385-1658.png</td>\n",
              "    </tr>\n",
              "    <tr>\n",
              "      <th>749</th>\n",
              "      <td>2</td>\n",
              "      <td>56</td>\n",
              "      <td>16</td>\n",
              "      <td>74</td>\n",
              "      <td>without_mask</td>\n",
              "      <td>maksssksksss453</td>\n",
              "      <td>400</td>\n",
              "      <td>300</td>\n",
              "      <td>maksssksksss453.xml</td>\n",
              "      <td>maksssksksss453.png</td>\n",
              "      <td>cropped_images/maksssksksss453-1480.png</td>\n",
              "    </tr>\n",
              "    <tr>\n",
              "      <th>68</th>\n",
              "      <td>238</td>\n",
              "      <td>34</td>\n",
              "      <td>262</td>\n",
              "      <td>69</td>\n",
              "      <td>with_mask</td>\n",
              "      <td>maksssksksss2</td>\n",
              "      <td>400</td>\n",
              "      <td>290</td>\n",
              "      <td>maksssksksss2.xml</td>\n",
              "      <td>maksssksksss2.png</td>\n",
              "      <td>cropped_images/maksssksksss2-96.png</td>\n",
              "    </tr>\n",
              "    <tr>\n",
              "      <th>...</th>\n",
              "      <td>...</td>\n",
              "      <td>...</td>\n",
              "      <td>...</td>\n",
              "      <td>...</td>\n",
              "      <td>...</td>\n",
              "      <td>...</td>\n",
              "      <td>...</td>\n",
              "      <td>...</td>\n",
              "      <td>...</td>\n",
              "      <td>...</td>\n",
              "      <td>...</td>\n",
              "    </tr>\n",
              "    <tr>\n",
              "      <th>795</th>\n",
              "      <td>221</td>\n",
              "      <td>57</td>\n",
              "      <td>248</td>\n",
              "      <td>81</td>\n",
              "      <td>without_mask</td>\n",
              "      <td>maksssksksss702</td>\n",
              "      <td>600</td>\n",
              "      <td>317</td>\n",
              "      <td>maksssksksss702.xml</td>\n",
              "      <td>maksssksksss702.png</td>\n",
              "      <td>cropped_images/maksssksksss702-1747.png</td>\n",
              "    </tr>\n",
              "    <tr>\n",
              "      <th>318</th>\n",
              "      <td>368</td>\n",
              "      <td>75</td>\n",
              "      <td>395</td>\n",
              "      <td>104</td>\n",
              "      <td>with_mask</td>\n",
              "      <td>maksssksksss157</td>\n",
              "      <td>400</td>\n",
              "      <td>225</td>\n",
              "      <td>maksssksksss157.xml</td>\n",
              "      <td>maksssksksss157.png</td>\n",
              "      <td>cropped_images/maksssksksss157-411.png</td>\n",
              "    </tr>\n",
              "    <tr>\n",
              "      <th>492</th>\n",
              "      <td>236</td>\n",
              "      <td>161</td>\n",
              "      <td>273</td>\n",
              "      <td>195</td>\n",
              "      <td>without_mask</td>\n",
              "      <td>maksssksksss110</td>\n",
              "      <td>400</td>\n",
              "      <td>267</td>\n",
              "      <td>maksssksksss110.xml</td>\n",
              "      <td>maksssksksss110.png</td>\n",
              "      <td>cropped_images/maksssksksss110-35.png</td>\n",
              "    </tr>\n",
              "    <tr>\n",
              "      <th>757</th>\n",
              "      <td>133</td>\n",
              "      <td>51</td>\n",
              "      <td>146</td>\n",
              "      <td>73</td>\n",
              "      <td>without_mask</td>\n",
              "      <td>maksssksksss453</td>\n",
              "      <td>400</td>\n",
              "      <td>300</td>\n",
              "      <td>maksssksksss453.xml</td>\n",
              "      <td>maksssksksss453.png</td>\n",
              "      <td>cropped_images/maksssksksss453-1489.png</td>\n",
              "    </tr>\n",
              "    <tr>\n",
              "      <th>393</th>\n",
              "      <td>72</td>\n",
              "      <td>9</td>\n",
              "      <td>117</td>\n",
              "      <td>75</td>\n",
              "      <td>with_mask</td>\n",
              "      <td>maksssksksss642</td>\n",
              "      <td>252</td>\n",
              "      <td>400</td>\n",
              "      <td>maksssksksss642.xml</td>\n",
              "      <td>maksssksksss642.png</td>\n",
              "      <td>cropped_images/maksssksksss642-499.png</td>\n",
              "    </tr>\n",
              "  </tbody>\n",
              "</table>\n",
              "<p>956 rows × 11 columns</p>\n",
              "</div>\n",
              "      <button class=\"colab-df-convert\" onclick=\"convertToInteractive('df-65d66f96-4deb-45e2-ad52-b54699a2c906')\"\n",
              "              title=\"Convert this dataframe to an interactive table.\"\n",
              "              style=\"display:none;\">\n",
              "        \n",
              "  <svg xmlns=\"http://www.w3.org/2000/svg\" height=\"24px\"viewBox=\"0 0 24 24\"\n",
              "       width=\"24px\">\n",
              "    <path d=\"M0 0h24v24H0V0z\" fill=\"none\"/>\n",
              "    <path d=\"M18.56 5.44l.94 2.06.94-2.06 2.06-.94-2.06-.94-.94-2.06-.94 2.06-2.06.94zm-11 1L8.5 8.5l.94-2.06 2.06-.94-2.06-.94L8.5 2.5l-.94 2.06-2.06.94zm10 10l.94 2.06.94-2.06 2.06-.94-2.06-.94-.94-2.06-.94 2.06-2.06.94z\"/><path d=\"M17.41 7.96l-1.37-1.37c-.4-.4-.92-.59-1.43-.59-.52 0-1.04.2-1.43.59L10.3 9.45l-7.72 7.72c-.78.78-.78 2.05 0 2.83L4 21.41c.39.39.9.59 1.41.59.51 0 1.02-.2 1.41-.59l7.78-7.78 2.81-2.81c.8-.78.8-2.07 0-2.86zM5.41 20L4 18.59l7.72-7.72 1.47 1.35L5.41 20z\"/>\n",
              "  </svg>\n",
              "      </button>\n",
              "      \n",
              "  <style>\n",
              "    .colab-df-container {\n",
              "      display:flex;\n",
              "      flex-wrap:wrap;\n",
              "      gap: 12px;\n",
              "    }\n",
              "\n",
              "    .colab-df-convert {\n",
              "      background-color: #E8F0FE;\n",
              "      border: none;\n",
              "      border-radius: 50%;\n",
              "      cursor: pointer;\n",
              "      display: none;\n",
              "      fill: #1967D2;\n",
              "      height: 32px;\n",
              "      padding: 0 0 0 0;\n",
              "      width: 32px;\n",
              "    }\n",
              "\n",
              "    .colab-df-convert:hover {\n",
              "      background-color: #E2EBFA;\n",
              "      box-shadow: 0px 1px 2px rgba(60, 64, 67, 0.3), 0px 1px 3px 1px rgba(60, 64, 67, 0.15);\n",
              "      fill: #174EA6;\n",
              "    }\n",
              "\n",
              "    [theme=dark] .colab-df-convert {\n",
              "      background-color: #3B4455;\n",
              "      fill: #D2E3FC;\n",
              "    }\n",
              "\n",
              "    [theme=dark] .colab-df-convert:hover {\n",
              "      background-color: #434B5C;\n",
              "      box-shadow: 0px 1px 3px 1px rgba(0, 0, 0, 0.15);\n",
              "      filter: drop-shadow(0px 1px 2px rgba(0, 0, 0, 0.3));\n",
              "      fill: #FFFFFF;\n",
              "    }\n",
              "  </style>\n",
              "\n",
              "      <script>\n",
              "        const buttonEl =\n",
              "          document.querySelector('#df-65d66f96-4deb-45e2-ad52-b54699a2c906 button.colab-df-convert');\n",
              "        buttonEl.style.display =\n",
              "          google.colab.kernel.accessAllowed ? 'block' : 'none';\n",
              "\n",
              "        async function convertToInteractive(key) {\n",
              "          const element = document.querySelector('#df-65d66f96-4deb-45e2-ad52-b54699a2c906');\n",
              "          const dataTable =\n",
              "            await google.colab.kernel.invokeFunction('convertToInteractive',\n",
              "                                                     [key], {});\n",
              "          if (!dataTable) return;\n",
              "\n",
              "          const docLinkHtml = 'Like what you see? Visit the ' +\n",
              "            '<a target=\"_blank\" href=https://colab.research.google.com/notebooks/data_table.ipynb>data table notebook</a>'\n",
              "            + ' to learn more about interactive tables.';\n",
              "          element.innerHTML = '';\n",
              "          dataTable['output_type'] = 'display_data';\n",
              "          await google.colab.output.renderOutput(dataTable, element);\n",
              "          const docLink = document.createElement('div');\n",
              "          docLink.innerHTML = docLinkHtml;\n",
              "          element.appendChild(docLink);\n",
              "        }\n",
              "      </script>\n",
              "    </div>\n",
              "  </div>\n",
              "  "
            ],
            "text/plain": [
              "     xmin  ymin  ...           image_file                       cropped_image_file\n",
              "703   124   193  ...  maksssksksss522.png  cropped_images/maksssksksss522-1288.png\n",
              "526   287   158  ...  maksssksksss750.png   cropped_images/maksssksksss750-148.png\n",
              "782   385    25  ...  maksssksksss385.png  cropped_images/maksssksksss385-1658.png\n",
              "749     2    56  ...  maksssksksss453.png  cropped_images/maksssksksss453-1480.png\n",
              "68    238    34  ...    maksssksksss2.png      cropped_images/maksssksksss2-96.png\n",
              "..    ...   ...  ...                  ...                                      ...\n",
              "795   221    57  ...  maksssksksss702.png  cropped_images/maksssksksss702-1747.png\n",
              "318   368    75  ...  maksssksksss157.png   cropped_images/maksssksksss157-411.png\n",
              "492   236   161  ...  maksssksksss110.png    cropped_images/maksssksksss110-35.png\n",
              "757   133    51  ...  maksssksksss453.png  cropped_images/maksssksksss453-1489.png\n",
              "393    72     9  ...  maksssksksss642.png   cropped_images/maksssksksss642-499.png\n",
              "\n",
              "[956 rows x 11 columns]"
            ]
          },
          "metadata": {},
          "execution_count": 5
        }
      ]
    },
    {
      "cell_type": "markdown",
      "source": [
        "### Prepare new dataset"
      ],
      "metadata": {
        "id": "B7aXenHFahVt"
      }
    },
    {
      "cell_type": "code",
      "source": [
        "data = {'xmin': [], 'ymin': [], 'xmax': [], 'ymax': [], \n",
        "        'label': [], 'file': [], 'width': [], 'height': []}\n",
        "\n",
        "for annotation in glob.glob(annotations_dir + '/*.xml'):\n",
        "    tree = ElementTree.parse(annotation)\n",
        "    \n",
        "    for element in tree.iter():\n",
        "        if 'size' in element.tag:\n",
        "            for attribute in list(element):\n",
        "                if 'width' in attribute.tag:\n",
        "                    width = int(round(float(attribute.text)))\n",
        "                if 'height' in attribute.tag:\n",
        "                    height = int(round(float(attribute.text)))\n",
        "\n",
        "        if 'object' in element.tag:\n",
        "            for attribute in list(element):\n",
        "                if 'name' in attribute.tag:\n",
        "                    name = attribute.text\n",
        "                    data['label'] += [name]\n",
        "                    data['width'] += [width]\n",
        "                    data['height'] += [height]\n",
        "                    data['file'] += [annotation.split('/')[-1][0:-4]]\n",
        "                            \n",
        "                if 'bndbox' in attribute.tag:\n",
        "                    for dimension in list(attribute):\n",
        "                        if 'xmin' in dimension.tag:\n",
        "                            xmin = int(round(float(dimension.text)))\n",
        "                            data['xmin'] += [xmin]\n",
        "                        if 'ymin' in dimension.tag:\n",
        "                            ymin = int(round(float(dimension.text)))\n",
        "                            data['ymin'] += [ymin]                                \n",
        "                        if 'xmax' in dimension.tag:\n",
        "                            xmax = int(round(float(dimension.text)))\n",
        "                            data['xmax'] += [xmax]                                \n",
        "                        if 'ymax' in dimension.tag:\n",
        "                            ymax = int(round(float(dimension.text)))\n",
        "                            data['ymax'] += [ymax]\n"
      ],
      "metadata": {
        "id": "OhIEtgYPP3Fy"
      },
      "execution_count": null,
      "outputs": []
    },
    {
      "cell_type": "markdown",
      "source": [
        "#### Crop images"
      ],
      "metadata": {
        "id": "VihBBoRJ317r"
      }
    },
    {
      "cell_type": "code",
      "source": [
        "df = DataFrame(data)\n",
        "df[key_annotation] = df[key_file] + '.xml'\n",
        "df[key_image_file] = df[key_file] + '.png'\n",
        "df[key_cropped] = df[key_file]\n",
        "\n",
        "df"
      ],
      "metadata": {
        "colab": {
          "base_uri": "https://localhost:8080/",
          "height": 424
        },
        "id": "GQJbf8NzU4vN",
        "outputId": "03291879-c74f-46e2-b71b-8d36607f5880"
      },
      "execution_count": null,
      "outputs": [
        {
          "output_type": "execute_result",
          "data": {
            "text/html": [
              "\n",
              "  <div id=\"df-49299de2-aeb3-4bdb-a65c-e3fea9b6d065\">\n",
              "    <div class=\"colab-df-container\">\n",
              "      <div>\n",
              "<style scoped>\n",
              "    .dataframe tbody tr th:only-of-type {\n",
              "        vertical-align: middle;\n",
              "    }\n",
              "\n",
              "    .dataframe tbody tr th {\n",
              "        vertical-align: top;\n",
              "    }\n",
              "\n",
              "    .dataframe thead th {\n",
              "        text-align: right;\n",
              "    }\n",
              "</style>\n",
              "<table border=\"1\" class=\"dataframe\">\n",
              "  <thead>\n",
              "    <tr style=\"text-align: right;\">\n",
              "      <th></th>\n",
              "      <th>xmin</th>\n",
              "      <th>ymin</th>\n",
              "      <th>xmax</th>\n",
              "      <th>ymax</th>\n",
              "      <th>label</th>\n",
              "      <th>file</th>\n",
              "      <th>width</th>\n",
              "      <th>height</th>\n",
              "      <th>annotation_file</th>\n",
              "      <th>image_file</th>\n",
              "      <th>cropped_image_file</th>\n",
              "    </tr>\n",
              "  </thead>\n",
              "  <tbody>\n",
              "    <tr>\n",
              "      <th>0</th>\n",
              "      <td>23</td>\n",
              "      <td>114</td>\n",
              "      <td>77</td>\n",
              "      <td>172</td>\n",
              "      <td>mask_weared_incorrect</td>\n",
              "      <td>maksssksksss11</td>\n",
              "      <td>400</td>\n",
              "      <td>267</td>\n",
              "      <td>maksssksksss11.xml</td>\n",
              "      <td>maksssksksss11.png</td>\n",
              "      <td>maksssksksss11</td>\n",
              "    </tr>\n",
              "    <tr>\n",
              "      <th>1</th>\n",
              "      <td>147</td>\n",
              "      <td>157</td>\n",
              "      <td>200</td>\n",
              "      <td>211</td>\n",
              "      <td>with_mask</td>\n",
              "      <td>maksssksksss11</td>\n",
              "      <td>400</td>\n",
              "      <td>267</td>\n",
              "      <td>maksssksksss11.xml</td>\n",
              "      <td>maksssksksss11.png</td>\n",
              "      <td>maksssksksss11</td>\n",
              "    </tr>\n",
              "    <tr>\n",
              "      <th>2</th>\n",
              "      <td>201</td>\n",
              "      <td>191</td>\n",
              "      <td>230</td>\n",
              "      <td>234</td>\n",
              "      <td>with_mask</td>\n",
              "      <td>maksssksksss11</td>\n",
              "      <td>400</td>\n",
              "      <td>267</td>\n",
              "      <td>maksssksksss11.xml</td>\n",
              "      <td>maksssksksss11.png</td>\n",
              "      <td>maksssksksss11</td>\n",
              "    </tr>\n",
              "    <tr>\n",
              "      <th>3</th>\n",
              "      <td>243</td>\n",
              "      <td>192</td>\n",
              "      <td>293</td>\n",
              "      <td>247</td>\n",
              "      <td>with_mask</td>\n",
              "      <td>maksssksksss11</td>\n",
              "      <td>400</td>\n",
              "      <td>267</td>\n",
              "      <td>maksssksksss11.xml</td>\n",
              "      <td>maksssksksss11.png</td>\n",
              "      <td>maksssksksss11</td>\n",
              "    </tr>\n",
              "    <tr>\n",
              "      <th>4</th>\n",
              "      <td>309</td>\n",
              "      <td>182</td>\n",
              "      <td>346</td>\n",
              "      <td>224</td>\n",
              "      <td>with_mask</td>\n",
              "      <td>maksssksksss11</td>\n",
              "      <td>400</td>\n",
              "      <td>267</td>\n",
              "      <td>maksssksksss11.xml</td>\n",
              "      <td>maksssksksss11.png</td>\n",
              "      <td>maksssksksss11</td>\n",
              "    </tr>\n",
              "    <tr>\n",
              "      <th>...</th>\n",
              "      <td>...</td>\n",
              "      <td>...</td>\n",
              "      <td>...</td>\n",
              "      <td>...</td>\n",
              "      <td>...</td>\n",
              "      <td>...</td>\n",
              "      <td>...</td>\n",
              "      <td>...</td>\n",
              "      <td>...</td>\n",
              "      <td>...</td>\n",
              "      <td>...</td>\n",
              "    </tr>\n",
              "    <tr>\n",
              "      <th>4067</th>\n",
              "      <td>247</td>\n",
              "      <td>78</td>\n",
              "      <td>285</td>\n",
              "      <td>107</td>\n",
              "      <td>without_mask</td>\n",
              "      <td>maksssksksss703</td>\n",
              "      <td>400</td>\n",
              "      <td>267</td>\n",
              "      <td>maksssksksss703.xml</td>\n",
              "      <td>maksssksksss703.png</td>\n",
              "      <td>maksssksksss703</td>\n",
              "    </tr>\n",
              "    <tr>\n",
              "      <th>4068</th>\n",
              "      <td>312</td>\n",
              "      <td>82</td>\n",
              "      <td>331</td>\n",
              "      <td>112</td>\n",
              "      <td>with_mask</td>\n",
              "      <td>maksssksksss703</td>\n",
              "      <td>400</td>\n",
              "      <td>267</td>\n",
              "      <td>maksssksksss703.xml</td>\n",
              "      <td>maksssksksss703.png</td>\n",
              "      <td>maksssksksss703</td>\n",
              "    </tr>\n",
              "    <tr>\n",
              "      <th>4069</th>\n",
              "      <td>331</td>\n",
              "      <td>93</td>\n",
              "      <td>371</td>\n",
              "      <td>135</td>\n",
              "      <td>with_mask</td>\n",
              "      <td>maksssksksss703</td>\n",
              "      <td>400</td>\n",
              "      <td>267</td>\n",
              "      <td>maksssksksss703.xml</td>\n",
              "      <td>maksssksksss703.png</td>\n",
              "      <td>maksssksksss703</td>\n",
              "    </tr>\n",
              "    <tr>\n",
              "      <th>4070</th>\n",
              "      <td>384</td>\n",
              "      <td>116</td>\n",
              "      <td>400</td>\n",
              "      <td>156</td>\n",
              "      <td>without_mask</td>\n",
              "      <td>maksssksksss703</td>\n",
              "      <td>400</td>\n",
              "      <td>267</td>\n",
              "      <td>maksssksksss703.xml</td>\n",
              "      <td>maksssksksss703.png</td>\n",
              "      <td>maksssksksss703</td>\n",
              "    </tr>\n",
              "    <tr>\n",
              "      <th>4071</th>\n",
              "      <td>280</td>\n",
              "      <td>197</td>\n",
              "      <td>331</td>\n",
              "      <td>241</td>\n",
              "      <td>with_mask</td>\n",
              "      <td>maksssksksss703</td>\n",
              "      <td>400</td>\n",
              "      <td>267</td>\n",
              "      <td>maksssksksss703.xml</td>\n",
              "      <td>maksssksksss703.png</td>\n",
              "      <td>maksssksksss703</td>\n",
              "    </tr>\n",
              "  </tbody>\n",
              "</table>\n",
              "<p>4072 rows × 11 columns</p>\n",
              "</div>\n",
              "      <button class=\"colab-df-convert\" onclick=\"convertToInteractive('df-49299de2-aeb3-4bdb-a65c-e3fea9b6d065')\"\n",
              "              title=\"Convert this dataframe to an interactive table.\"\n",
              "              style=\"display:none;\">\n",
              "        \n",
              "  <svg xmlns=\"http://www.w3.org/2000/svg\" height=\"24px\"viewBox=\"0 0 24 24\"\n",
              "       width=\"24px\">\n",
              "    <path d=\"M0 0h24v24H0V0z\" fill=\"none\"/>\n",
              "    <path d=\"M18.56 5.44l.94 2.06.94-2.06 2.06-.94-2.06-.94-.94-2.06-.94 2.06-2.06.94zm-11 1L8.5 8.5l.94-2.06 2.06-.94-2.06-.94L8.5 2.5l-.94 2.06-2.06.94zm10 10l.94 2.06.94-2.06 2.06-.94-2.06-.94-.94-2.06-.94 2.06-2.06.94z\"/><path d=\"M17.41 7.96l-1.37-1.37c-.4-.4-.92-.59-1.43-.59-.52 0-1.04.2-1.43.59L10.3 9.45l-7.72 7.72c-.78.78-.78 2.05 0 2.83L4 21.41c.39.39.9.59 1.41.59.51 0 1.02-.2 1.41-.59l7.78-7.78 2.81-2.81c.8-.78.8-2.07 0-2.86zM5.41 20L4 18.59l7.72-7.72 1.47 1.35L5.41 20z\"/>\n",
              "  </svg>\n",
              "      </button>\n",
              "      \n",
              "  <style>\n",
              "    .colab-df-container {\n",
              "      display:flex;\n",
              "      flex-wrap:wrap;\n",
              "      gap: 12px;\n",
              "    }\n",
              "\n",
              "    .colab-df-convert {\n",
              "      background-color: #E8F0FE;\n",
              "      border: none;\n",
              "      border-radius: 50%;\n",
              "      cursor: pointer;\n",
              "      display: none;\n",
              "      fill: #1967D2;\n",
              "      height: 32px;\n",
              "      padding: 0 0 0 0;\n",
              "      width: 32px;\n",
              "    }\n",
              "\n",
              "    .colab-df-convert:hover {\n",
              "      background-color: #E2EBFA;\n",
              "      box-shadow: 0px 1px 2px rgba(60, 64, 67, 0.3), 0px 1px 3px 1px rgba(60, 64, 67, 0.15);\n",
              "      fill: #174EA6;\n",
              "    }\n",
              "\n",
              "    [theme=dark] .colab-df-convert {\n",
              "      background-color: #3B4455;\n",
              "      fill: #D2E3FC;\n",
              "    }\n",
              "\n",
              "    [theme=dark] .colab-df-convert:hover {\n",
              "      background-color: #434B5C;\n",
              "      box-shadow: 0px 1px 3px 1px rgba(0, 0, 0, 0.15);\n",
              "      filter: drop-shadow(0px 1px 2px rgba(0, 0, 0, 0.3));\n",
              "      fill: #FFFFFF;\n",
              "    }\n",
              "  </style>\n",
              "\n",
              "      <script>\n",
              "        const buttonEl =\n",
              "          document.querySelector('#df-49299de2-aeb3-4bdb-a65c-e3fea9b6d065 button.colab-df-convert');\n",
              "        buttonEl.style.display =\n",
              "          google.colab.kernel.accessAllowed ? 'block' : 'none';\n",
              "\n",
              "        async function convertToInteractive(key) {\n",
              "          const element = document.querySelector('#df-49299de2-aeb3-4bdb-a65c-e3fea9b6d065');\n",
              "          const dataTable =\n",
              "            await google.colab.kernel.invokeFunction('convertToInteractive',\n",
              "                                                     [key], {});\n",
              "          if (!dataTable) return;\n",
              "\n",
              "          const docLinkHtml = 'Like what you see? Visit the ' +\n",
              "            '<a target=\"_blank\" href=https://colab.research.google.com/notebooks/data_table.ipynb>data table notebook</a>'\n",
              "            + ' to learn more about interactive tables.';\n",
              "          element.innerHTML = '';\n",
              "          dataTable['output_type'] = 'display_data';\n",
              "          await google.colab.output.renderOutput(dataTable, element);\n",
              "          const docLink = document.createElement('div');\n",
              "          docLink.innerHTML = docLinkHtml;\n",
              "          element.appendChild(docLink);\n",
              "        }\n",
              "      </script>\n",
              "    </div>\n",
              "  </div>\n",
              "  "
            ],
            "text/plain": [
              "      xmin  ymin  ...           image_file  cropped_image_file\n",
              "0       23   114  ...   maksssksksss11.png      maksssksksss11\n",
              "1      147   157  ...   maksssksksss11.png      maksssksksss11\n",
              "2      201   191  ...   maksssksksss11.png      maksssksksss11\n",
              "3      243   192  ...   maksssksksss11.png      maksssksksss11\n",
              "4      309   182  ...   maksssksksss11.png      maksssksksss11\n",
              "...    ...   ...  ...                  ...                 ...\n",
              "4067   247    78  ...  maksssksksss703.png     maksssksksss703\n",
              "4068   312    82  ...  maksssksksss703.png     maksssksksss703\n",
              "4069   331    93  ...  maksssksksss703.png     maksssksksss703\n",
              "4070   384   116  ...  maksssksksss703.png     maksssksksss703\n",
              "4071   280   197  ...  maksssksksss703.png     maksssksksss703\n",
              "\n",
              "[4072 rows x 11 columns]"
            ]
          },
          "metadata": {},
          "execution_count": 14
        }
      ]
    },
    {
      "cell_type": "code",
      "source": [
        "def crop(write=False):\n",
        "  for i in range(len(df)):\n",
        "      image_path = images_dir + '/' + df[key_image_file].iloc[i]\n",
        "      \n",
        "      df[key_cropped].iloc[i] = df[key_cropped].iloc[i] + '-' + str(i) + '.png'\n",
        "      cropped_image_filename = df[key_cropped].iloc[i]\n",
        "      \n",
        "      xmin = df['xmin'].iloc[i]\n",
        "      ymin = df['ymin'].iloc[i]\n",
        "      xmax = df['xmax'].iloc[i]\n",
        "      ymax = df['ymax'].iloc[i]\n",
        "      \n",
        "      if write:\n",
        "        image = cv2.imread(image_path)\n",
        "        cropped_image = image[ymin:ymax, xmin:xmax]\n",
        "        cropped_image_dir = os.path.join(cropped_dir + '/', cropped_image_filename) \n",
        "        cv2.imwrite(cropped_image_dir, cropped_image)"
      ],
      "metadata": {
        "id": "IqYydzC4Ru6v"
      },
      "execution_count": null,
      "outputs": []
    },
    {
      "cell_type": "code",
      "source": [
        "crop(True)"
      ],
      "metadata": {
        "colab": {
          "base_uri": "https://localhost:8080/"
        },
        "id": "Npbjq8nZVgFw",
        "outputId": "0647239d-32a8-4ffc-c94d-87fa4b3b2e62"
      },
      "execution_count": null,
      "outputs": [
        {
          "output_type": "stream",
          "name": "stderr",
          "text": [
            "/usr/local/lib/python3.7/dist-packages/pandas/core/indexing.py:670: SettingWithCopyWarning: \n",
            "A value is trying to be set on a copy of a slice from a DataFrame\n",
            "\n",
            "See the caveats in the documentation: https://pandas.pydata.org/pandas-docs/stable/user_guide/indexing.html#returning-a-view-versus-a-copy\n",
            "  iloc._setitem_with_indexer(indexer, value)\n"
          ]
        }
      ]
    },
    {
      "cell_type": "code",
      "source": [
        "df"
      ],
      "metadata": {
        "colab": {
          "base_uri": "https://localhost:8080/",
          "height": 424
        },
        "id": "znwdawXyZKca",
        "outputId": "284c1e39-0bf8-4249-8609-89f8082489bb"
      },
      "execution_count": null,
      "outputs": [
        {
          "output_type": "execute_result",
          "data": {
            "text/html": [
              "\n",
              "  <div id=\"df-2a5bb836-5ce4-4640-be7b-0b86219d0ad9\">\n",
              "    <div class=\"colab-df-container\">\n",
              "      <div>\n",
              "<style scoped>\n",
              "    .dataframe tbody tr th:only-of-type {\n",
              "        vertical-align: middle;\n",
              "    }\n",
              "\n",
              "    .dataframe tbody tr th {\n",
              "        vertical-align: top;\n",
              "    }\n",
              "\n",
              "    .dataframe thead th {\n",
              "        text-align: right;\n",
              "    }\n",
              "</style>\n",
              "<table border=\"1\" class=\"dataframe\">\n",
              "  <thead>\n",
              "    <tr style=\"text-align: right;\">\n",
              "      <th></th>\n",
              "      <th>xmin</th>\n",
              "      <th>ymin</th>\n",
              "      <th>xmax</th>\n",
              "      <th>ymax</th>\n",
              "      <th>label</th>\n",
              "      <th>file</th>\n",
              "      <th>width</th>\n",
              "      <th>height</th>\n",
              "      <th>annotation_file</th>\n",
              "      <th>image_file</th>\n",
              "      <th>cropped_image_file</th>\n",
              "    </tr>\n",
              "  </thead>\n",
              "  <tbody>\n",
              "    <tr>\n",
              "      <th>0</th>\n",
              "      <td>23</td>\n",
              "      <td>114</td>\n",
              "      <td>77</td>\n",
              "      <td>172</td>\n",
              "      <td>mask_weared_incorrect</td>\n",
              "      <td>maksssksksss11</td>\n",
              "      <td>400</td>\n",
              "      <td>267</td>\n",
              "      <td>maksssksksss11.xml</td>\n",
              "      <td>maksssksksss11.png</td>\n",
              "      <td>maksssksksss11-0.png</td>\n",
              "    </tr>\n",
              "    <tr>\n",
              "      <th>1</th>\n",
              "      <td>147</td>\n",
              "      <td>157</td>\n",
              "      <td>200</td>\n",
              "      <td>211</td>\n",
              "      <td>with_mask</td>\n",
              "      <td>maksssksksss11</td>\n",
              "      <td>400</td>\n",
              "      <td>267</td>\n",
              "      <td>maksssksksss11.xml</td>\n",
              "      <td>maksssksksss11.png</td>\n",
              "      <td>maksssksksss11-1.png</td>\n",
              "    </tr>\n",
              "    <tr>\n",
              "      <th>2</th>\n",
              "      <td>201</td>\n",
              "      <td>191</td>\n",
              "      <td>230</td>\n",
              "      <td>234</td>\n",
              "      <td>with_mask</td>\n",
              "      <td>maksssksksss11</td>\n",
              "      <td>400</td>\n",
              "      <td>267</td>\n",
              "      <td>maksssksksss11.xml</td>\n",
              "      <td>maksssksksss11.png</td>\n",
              "      <td>maksssksksss11-2.png</td>\n",
              "    </tr>\n",
              "    <tr>\n",
              "      <th>3</th>\n",
              "      <td>243</td>\n",
              "      <td>192</td>\n",
              "      <td>293</td>\n",
              "      <td>247</td>\n",
              "      <td>with_mask</td>\n",
              "      <td>maksssksksss11</td>\n",
              "      <td>400</td>\n",
              "      <td>267</td>\n",
              "      <td>maksssksksss11.xml</td>\n",
              "      <td>maksssksksss11.png</td>\n",
              "      <td>maksssksksss11-3.png</td>\n",
              "    </tr>\n",
              "    <tr>\n",
              "      <th>4</th>\n",
              "      <td>309</td>\n",
              "      <td>182</td>\n",
              "      <td>346</td>\n",
              "      <td>224</td>\n",
              "      <td>with_mask</td>\n",
              "      <td>maksssksksss11</td>\n",
              "      <td>400</td>\n",
              "      <td>267</td>\n",
              "      <td>maksssksksss11.xml</td>\n",
              "      <td>maksssksksss11.png</td>\n",
              "      <td>maksssksksss11-4.png</td>\n",
              "    </tr>\n",
              "    <tr>\n",
              "      <th>...</th>\n",
              "      <td>...</td>\n",
              "      <td>...</td>\n",
              "      <td>...</td>\n",
              "      <td>...</td>\n",
              "      <td>...</td>\n",
              "      <td>...</td>\n",
              "      <td>...</td>\n",
              "      <td>...</td>\n",
              "      <td>...</td>\n",
              "      <td>...</td>\n",
              "      <td>...</td>\n",
              "    </tr>\n",
              "    <tr>\n",
              "      <th>4067</th>\n",
              "      <td>247</td>\n",
              "      <td>78</td>\n",
              "      <td>285</td>\n",
              "      <td>107</td>\n",
              "      <td>without_mask</td>\n",
              "      <td>maksssksksss703</td>\n",
              "      <td>400</td>\n",
              "      <td>267</td>\n",
              "      <td>maksssksksss703.xml</td>\n",
              "      <td>maksssksksss703.png</td>\n",
              "      <td>maksssksksss703-4067.png</td>\n",
              "    </tr>\n",
              "    <tr>\n",
              "      <th>4068</th>\n",
              "      <td>312</td>\n",
              "      <td>82</td>\n",
              "      <td>331</td>\n",
              "      <td>112</td>\n",
              "      <td>with_mask</td>\n",
              "      <td>maksssksksss703</td>\n",
              "      <td>400</td>\n",
              "      <td>267</td>\n",
              "      <td>maksssksksss703.xml</td>\n",
              "      <td>maksssksksss703.png</td>\n",
              "      <td>maksssksksss703-4068.png</td>\n",
              "    </tr>\n",
              "    <tr>\n",
              "      <th>4069</th>\n",
              "      <td>331</td>\n",
              "      <td>93</td>\n",
              "      <td>371</td>\n",
              "      <td>135</td>\n",
              "      <td>with_mask</td>\n",
              "      <td>maksssksksss703</td>\n",
              "      <td>400</td>\n",
              "      <td>267</td>\n",
              "      <td>maksssksksss703.xml</td>\n",
              "      <td>maksssksksss703.png</td>\n",
              "      <td>maksssksksss703-4069.png</td>\n",
              "    </tr>\n",
              "    <tr>\n",
              "      <th>4070</th>\n",
              "      <td>384</td>\n",
              "      <td>116</td>\n",
              "      <td>400</td>\n",
              "      <td>156</td>\n",
              "      <td>without_mask</td>\n",
              "      <td>maksssksksss703</td>\n",
              "      <td>400</td>\n",
              "      <td>267</td>\n",
              "      <td>maksssksksss703.xml</td>\n",
              "      <td>maksssksksss703.png</td>\n",
              "      <td>maksssksksss703-4070.png</td>\n",
              "    </tr>\n",
              "    <tr>\n",
              "      <th>4071</th>\n",
              "      <td>280</td>\n",
              "      <td>197</td>\n",
              "      <td>331</td>\n",
              "      <td>241</td>\n",
              "      <td>with_mask</td>\n",
              "      <td>maksssksksss703</td>\n",
              "      <td>400</td>\n",
              "      <td>267</td>\n",
              "      <td>maksssksksss703.xml</td>\n",
              "      <td>maksssksksss703.png</td>\n",
              "      <td>maksssksksss703-4071.png</td>\n",
              "    </tr>\n",
              "  </tbody>\n",
              "</table>\n",
              "<p>4072 rows × 11 columns</p>\n",
              "</div>\n",
              "      <button class=\"colab-df-convert\" onclick=\"convertToInteractive('df-2a5bb836-5ce4-4640-be7b-0b86219d0ad9')\"\n",
              "              title=\"Convert this dataframe to an interactive table.\"\n",
              "              style=\"display:none;\">\n",
              "        \n",
              "  <svg xmlns=\"http://www.w3.org/2000/svg\" height=\"24px\"viewBox=\"0 0 24 24\"\n",
              "       width=\"24px\">\n",
              "    <path d=\"M0 0h24v24H0V0z\" fill=\"none\"/>\n",
              "    <path d=\"M18.56 5.44l.94 2.06.94-2.06 2.06-.94-2.06-.94-.94-2.06-.94 2.06-2.06.94zm-11 1L8.5 8.5l.94-2.06 2.06-.94-2.06-.94L8.5 2.5l-.94 2.06-2.06.94zm10 10l.94 2.06.94-2.06 2.06-.94-2.06-.94-.94-2.06-.94 2.06-2.06.94z\"/><path d=\"M17.41 7.96l-1.37-1.37c-.4-.4-.92-.59-1.43-.59-.52 0-1.04.2-1.43.59L10.3 9.45l-7.72 7.72c-.78.78-.78 2.05 0 2.83L4 21.41c.39.39.9.59 1.41.59.51 0 1.02-.2 1.41-.59l7.78-7.78 2.81-2.81c.8-.78.8-2.07 0-2.86zM5.41 20L4 18.59l7.72-7.72 1.47 1.35L5.41 20z\"/>\n",
              "  </svg>\n",
              "      </button>\n",
              "      \n",
              "  <style>\n",
              "    .colab-df-container {\n",
              "      display:flex;\n",
              "      flex-wrap:wrap;\n",
              "      gap: 12px;\n",
              "    }\n",
              "\n",
              "    .colab-df-convert {\n",
              "      background-color: #E8F0FE;\n",
              "      border: none;\n",
              "      border-radius: 50%;\n",
              "      cursor: pointer;\n",
              "      display: none;\n",
              "      fill: #1967D2;\n",
              "      height: 32px;\n",
              "      padding: 0 0 0 0;\n",
              "      width: 32px;\n",
              "    }\n",
              "\n",
              "    .colab-df-convert:hover {\n",
              "      background-color: #E2EBFA;\n",
              "      box-shadow: 0px 1px 2px rgba(60, 64, 67, 0.3), 0px 1px 3px 1px rgba(60, 64, 67, 0.15);\n",
              "      fill: #174EA6;\n",
              "    }\n",
              "\n",
              "    [theme=dark] .colab-df-convert {\n",
              "      background-color: #3B4455;\n",
              "      fill: #D2E3FC;\n",
              "    }\n",
              "\n",
              "    [theme=dark] .colab-df-convert:hover {\n",
              "      background-color: #434B5C;\n",
              "      box-shadow: 0px 1px 3px 1px rgba(0, 0, 0, 0.15);\n",
              "      filter: drop-shadow(0px 1px 2px rgba(0, 0, 0, 0.3));\n",
              "      fill: #FFFFFF;\n",
              "    }\n",
              "  </style>\n",
              "\n",
              "      <script>\n",
              "        const buttonEl =\n",
              "          document.querySelector('#df-2a5bb836-5ce4-4640-be7b-0b86219d0ad9 button.colab-df-convert');\n",
              "        buttonEl.style.display =\n",
              "          google.colab.kernel.accessAllowed ? 'block' : 'none';\n",
              "\n",
              "        async function convertToInteractive(key) {\n",
              "          const element = document.querySelector('#df-2a5bb836-5ce4-4640-be7b-0b86219d0ad9');\n",
              "          const dataTable =\n",
              "            await google.colab.kernel.invokeFunction('convertToInteractive',\n",
              "                                                     [key], {});\n",
              "          if (!dataTable) return;\n",
              "\n",
              "          const docLinkHtml = 'Like what you see? Visit the ' +\n",
              "            '<a target=\"_blank\" href=https://colab.research.google.com/notebooks/data_table.ipynb>data table notebook</a>'\n",
              "            + ' to learn more about interactive tables.';\n",
              "          element.innerHTML = '';\n",
              "          dataTable['output_type'] = 'display_data';\n",
              "          await google.colab.output.renderOutput(dataTable, element);\n",
              "          const docLink = document.createElement('div');\n",
              "          docLink.innerHTML = docLinkHtml;\n",
              "          element.appendChild(docLink);\n",
              "        }\n",
              "      </script>\n",
              "    </div>\n",
              "  </div>\n",
              "  "
            ],
            "text/plain": [
              "      xmin  ymin  ...           image_file        cropped_image_file\n",
              "0       23   114  ...   maksssksksss11.png      maksssksksss11-0.png\n",
              "1      147   157  ...   maksssksksss11.png      maksssksksss11-1.png\n",
              "2      201   191  ...   maksssksksss11.png      maksssksksss11-2.png\n",
              "3      243   192  ...   maksssksksss11.png      maksssksksss11-3.png\n",
              "4      309   182  ...   maksssksksss11.png      maksssksksss11-4.png\n",
              "...    ...   ...  ...                  ...                       ...\n",
              "4067   247    78  ...  maksssksksss703.png  maksssksksss703-4067.png\n",
              "4068   312    82  ...  maksssksksss703.png  maksssksksss703-4068.png\n",
              "4069   331    93  ...  maksssksksss703.png  maksssksksss703-4069.png\n",
              "4070   384   116  ...  maksssksksss703.png  maksssksksss703-4070.png\n",
              "4071   280   197  ...  maksssksksss703.png  maksssksksss703-4071.png\n",
              "\n",
              "[4072 rows x 11 columns]"
            ]
          },
          "metadata": {},
          "execution_count": 18
        }
      ]
    },
    {
      "cell_type": "code",
      "source": [
        "df = df[df.label != 'mask_weared_incorrect']\n",
        "df[key_cropped] = 'cropped_images/' + df[key_cropped]\n",
        "classes = list(df[key_label].unique())\n",
        "dataset_stats(df)"
      ],
      "metadata": {
        "colab": {
          "base_uri": "https://localhost:8080/",
          "height": 112
        },
        "id": "u7G7029QWtl5",
        "outputId": "c94511f7-4b10-4992-e316-4274892b87b2"
      },
      "execution_count": null,
      "outputs": [
        {
          "output_type": "display_data",
          "data": {
            "text/html": [
              "\n",
              "  <div id=\"df-5ec1e44f-84d5-4b38-991c-de616c1d945e\">\n",
              "    <div class=\"colab-df-container\">\n",
              "      <div>\n",
              "<style scoped>\n",
              "    .dataframe tbody tr th:only-of-type {\n",
              "        vertical-align: middle;\n",
              "    }\n",
              "\n",
              "    .dataframe tbody tr th {\n",
              "        vertical-align: top;\n",
              "    }\n",
              "\n",
              "    .dataframe thead th {\n",
              "        text-align: right;\n",
              "    }\n",
              "</style>\n",
              "<table border=\"1\" class=\"dataframe\">\n",
              "  <thead>\n",
              "    <tr style=\"text-align: right;\">\n",
              "      <th></th>\n",
              "      <th>label</th>\n",
              "      <th>count</th>\n",
              "    </tr>\n",
              "  </thead>\n",
              "  <tbody>\n",
              "    <tr>\n",
              "      <th>0</th>\n",
              "      <td>with_mask</td>\n",
              "      <td>3232</td>\n",
              "    </tr>\n",
              "    <tr>\n",
              "      <th>1</th>\n",
              "      <td>without_mask</td>\n",
              "      <td>717</td>\n",
              "    </tr>\n",
              "  </tbody>\n",
              "</table>\n",
              "</div>\n",
              "      <button class=\"colab-df-convert\" onclick=\"convertToInteractive('df-5ec1e44f-84d5-4b38-991c-de616c1d945e')\"\n",
              "              title=\"Convert this dataframe to an interactive table.\"\n",
              "              style=\"display:none;\">\n",
              "        \n",
              "  <svg xmlns=\"http://www.w3.org/2000/svg\" height=\"24px\"viewBox=\"0 0 24 24\"\n",
              "       width=\"24px\">\n",
              "    <path d=\"M0 0h24v24H0V0z\" fill=\"none\"/>\n",
              "    <path d=\"M18.56 5.44l.94 2.06.94-2.06 2.06-.94-2.06-.94-.94-2.06-.94 2.06-2.06.94zm-11 1L8.5 8.5l.94-2.06 2.06-.94-2.06-.94L8.5 2.5l-.94 2.06-2.06.94zm10 10l.94 2.06.94-2.06 2.06-.94-2.06-.94-.94-2.06-.94 2.06-2.06.94z\"/><path d=\"M17.41 7.96l-1.37-1.37c-.4-.4-.92-.59-1.43-.59-.52 0-1.04.2-1.43.59L10.3 9.45l-7.72 7.72c-.78.78-.78 2.05 0 2.83L4 21.41c.39.39.9.59 1.41.59.51 0 1.02-.2 1.41-.59l7.78-7.78 2.81-2.81c.8-.78.8-2.07 0-2.86zM5.41 20L4 18.59l7.72-7.72 1.47 1.35L5.41 20z\"/>\n",
              "  </svg>\n",
              "      </button>\n",
              "      \n",
              "  <style>\n",
              "    .colab-df-container {\n",
              "      display:flex;\n",
              "      flex-wrap:wrap;\n",
              "      gap: 12px;\n",
              "    }\n",
              "\n",
              "    .colab-df-convert {\n",
              "      background-color: #E8F0FE;\n",
              "      border: none;\n",
              "      border-radius: 50%;\n",
              "      cursor: pointer;\n",
              "      display: none;\n",
              "      fill: #1967D2;\n",
              "      height: 32px;\n",
              "      padding: 0 0 0 0;\n",
              "      width: 32px;\n",
              "    }\n",
              "\n",
              "    .colab-df-convert:hover {\n",
              "      background-color: #E2EBFA;\n",
              "      box-shadow: 0px 1px 2px rgba(60, 64, 67, 0.3), 0px 1px 3px 1px rgba(60, 64, 67, 0.15);\n",
              "      fill: #174EA6;\n",
              "    }\n",
              "\n",
              "    [theme=dark] .colab-df-convert {\n",
              "      background-color: #3B4455;\n",
              "      fill: #D2E3FC;\n",
              "    }\n",
              "\n",
              "    [theme=dark] .colab-df-convert:hover {\n",
              "      background-color: #434B5C;\n",
              "      box-shadow: 0px 1px 3px 1px rgba(0, 0, 0, 0.15);\n",
              "      filter: drop-shadow(0px 1px 2px rgba(0, 0, 0, 0.3));\n",
              "      fill: #FFFFFF;\n",
              "    }\n",
              "  </style>\n",
              "\n",
              "      <script>\n",
              "        const buttonEl =\n",
              "          document.querySelector('#df-5ec1e44f-84d5-4b38-991c-de616c1d945e button.colab-df-convert');\n",
              "        buttonEl.style.display =\n",
              "          google.colab.kernel.accessAllowed ? 'block' : 'none';\n",
              "\n",
              "        async function convertToInteractive(key) {\n",
              "          const element = document.querySelector('#df-5ec1e44f-84d5-4b38-991c-de616c1d945e');\n",
              "          const dataTable =\n",
              "            await google.colab.kernel.invokeFunction('convertToInteractive',\n",
              "                                                     [key], {});\n",
              "          if (!dataTable) return;\n",
              "\n",
              "          const docLinkHtml = 'Like what you see? Visit the ' +\n",
              "            '<a target=\"_blank\" href=https://colab.research.google.com/notebooks/data_table.ipynb>data table notebook</a>'\n",
              "            + ' to learn more about interactive tables.';\n",
              "          element.innerHTML = '';\n",
              "          dataTable['output_type'] = 'display_data';\n",
              "          await google.colab.output.renderOutput(dataTable, element);\n",
              "          const docLink = document.createElement('div');\n",
              "          docLink.innerHTML = docLinkHtml;\n",
              "          element.appendChild(docLink);\n",
              "        }\n",
              "      </script>\n",
              "    </div>\n",
              "  </div>\n",
              "  "
            ],
            "text/plain": [
              "          label  count\n",
              "0     with_mask   3232\n",
              "1  without_mask    717"
            ]
          },
          "metadata": {}
        }
      ]
    },
    {
      "cell_type": "code",
      "source": [
        "masks = df[df.label == 'with_mask']\n",
        "no_masks = df[df.label == 'without_mask']"
      ],
      "metadata": {
        "id": "_3WawON3SI3w"
      },
      "execution_count": null,
      "outputs": []
    },
    {
      "cell_type": "code",
      "source": [
        "n = min([len(masks), len(no_masks)])\n",
        "n = n / 3"
      ],
      "metadata": {
        "id": "2YEkWdJGbFlG"
      },
      "execution_count": null,
      "outputs": []
    },
    {
      "cell_type": "code",
      "source": [
        "train_df = masks[:2*n].append(no_masks[:2*n], ignore_index=True)\n",
        "test_df = masks[2*n+1:3*n].append(no_masks[2*n+1:3*n], ignore_index=True)"
      ],
      "metadata": {
        "id": "tS-MytX6Z7H4"
      },
      "execution_count": null,
      "outputs": []
    },
    {
      "cell_type": "code",
      "source": [
        "train_df.to_csv(train_df_file_name, encoding='utf-8', index=False)\n",
        "test_df.to_csv(test_df_file_name, encoding='utf-8', index=False)"
      ],
      "metadata": {
        "id": "IbqdzmmVbJ1x"
      },
      "execution_count": null,
      "outputs": []
    },
    {
      "cell_type": "code",
      "source": [
        "dataset_stats(train_df)"
      ],
      "metadata": {
        "colab": {
          "base_uri": "https://localhost:8080/",
          "height": 112
        },
        "id": "rl5pMo2llYEV",
        "outputId": "746f8bbd-424e-4fe9-a1ea-5002dc95bf04"
      },
      "execution_count": null,
      "outputs": [
        {
          "output_type": "display_data",
          "data": {
            "text/html": [
              "\n",
              "  <div id=\"df-7e915c7b-9a46-4f9a-8bdb-bc671edb7bb7\">\n",
              "    <div class=\"colab-df-container\">\n",
              "      <div>\n",
              "<style scoped>\n",
              "    .dataframe tbody tr th:only-of-type {\n",
              "        vertical-align: middle;\n",
              "    }\n",
              "\n",
              "    .dataframe tbody tr th {\n",
              "        vertical-align: top;\n",
              "    }\n",
              "\n",
              "    .dataframe thead th {\n",
              "        text-align: right;\n",
              "    }\n",
              "</style>\n",
              "<table border=\"1\" class=\"dataframe\">\n",
              "  <thead>\n",
              "    <tr style=\"text-align: right;\">\n",
              "      <th></th>\n",
              "      <th>label</th>\n",
              "      <th>count</th>\n",
              "    </tr>\n",
              "  </thead>\n",
              "  <tbody>\n",
              "    <tr>\n",
              "      <th>0</th>\n",
              "      <td>with_mask</td>\n",
              "      <td>477</td>\n",
              "    </tr>\n",
              "    <tr>\n",
              "      <th>1</th>\n",
              "      <td>without_mask</td>\n",
              "      <td>477</td>\n",
              "    </tr>\n",
              "  </tbody>\n",
              "</table>\n",
              "</div>\n",
              "      <button class=\"colab-df-convert\" onclick=\"convertToInteractive('df-7e915c7b-9a46-4f9a-8bdb-bc671edb7bb7')\"\n",
              "              title=\"Convert this dataframe to an interactive table.\"\n",
              "              style=\"display:none;\">\n",
              "        \n",
              "  <svg xmlns=\"http://www.w3.org/2000/svg\" height=\"24px\"viewBox=\"0 0 24 24\"\n",
              "       width=\"24px\">\n",
              "    <path d=\"M0 0h24v24H0V0z\" fill=\"none\"/>\n",
              "    <path d=\"M18.56 5.44l.94 2.06.94-2.06 2.06-.94-2.06-.94-.94-2.06-.94 2.06-2.06.94zm-11 1L8.5 8.5l.94-2.06 2.06-.94-2.06-.94L8.5 2.5l-.94 2.06-2.06.94zm10 10l.94 2.06.94-2.06 2.06-.94-2.06-.94-.94-2.06-.94 2.06-2.06.94z\"/><path d=\"M17.41 7.96l-1.37-1.37c-.4-.4-.92-.59-1.43-.59-.52 0-1.04.2-1.43.59L10.3 9.45l-7.72 7.72c-.78.78-.78 2.05 0 2.83L4 21.41c.39.39.9.59 1.41.59.51 0 1.02-.2 1.41-.59l7.78-7.78 2.81-2.81c.8-.78.8-2.07 0-2.86zM5.41 20L4 18.59l7.72-7.72 1.47 1.35L5.41 20z\"/>\n",
              "  </svg>\n",
              "      </button>\n",
              "      \n",
              "  <style>\n",
              "    .colab-df-container {\n",
              "      display:flex;\n",
              "      flex-wrap:wrap;\n",
              "      gap: 12px;\n",
              "    }\n",
              "\n",
              "    .colab-df-convert {\n",
              "      background-color: #E8F0FE;\n",
              "      border: none;\n",
              "      border-radius: 50%;\n",
              "      cursor: pointer;\n",
              "      display: none;\n",
              "      fill: #1967D2;\n",
              "      height: 32px;\n",
              "      padding: 0 0 0 0;\n",
              "      width: 32px;\n",
              "    }\n",
              "\n",
              "    .colab-df-convert:hover {\n",
              "      background-color: #E2EBFA;\n",
              "      box-shadow: 0px 1px 2px rgba(60, 64, 67, 0.3), 0px 1px 3px 1px rgba(60, 64, 67, 0.15);\n",
              "      fill: #174EA6;\n",
              "    }\n",
              "\n",
              "    [theme=dark] .colab-df-convert {\n",
              "      background-color: #3B4455;\n",
              "      fill: #D2E3FC;\n",
              "    }\n",
              "\n",
              "    [theme=dark] .colab-df-convert:hover {\n",
              "      background-color: #434B5C;\n",
              "      box-shadow: 0px 1px 3px 1px rgba(0, 0, 0, 0.15);\n",
              "      filter: drop-shadow(0px 1px 2px rgba(0, 0, 0, 0.3));\n",
              "      fill: #FFFFFF;\n",
              "    }\n",
              "  </style>\n",
              "\n",
              "      <script>\n",
              "        const buttonEl =\n",
              "          document.querySelector('#df-7e915c7b-9a46-4f9a-8bdb-bc671edb7bb7 button.colab-df-convert');\n",
              "        buttonEl.style.display =\n",
              "          google.colab.kernel.accessAllowed ? 'block' : 'none';\n",
              "\n",
              "        async function convertToInteractive(key) {\n",
              "          const element = document.querySelector('#df-7e915c7b-9a46-4f9a-8bdb-bc671edb7bb7');\n",
              "          const dataTable =\n",
              "            await google.colab.kernel.invokeFunction('convertToInteractive',\n",
              "                                                     [key], {});\n",
              "          if (!dataTable) return;\n",
              "\n",
              "          const docLinkHtml = 'Like what you see? Visit the ' +\n",
              "            '<a target=\"_blank\" href=https://colab.research.google.com/notebooks/data_table.ipynb>data table notebook</a>'\n",
              "            + ' to learn more about interactive tables.';\n",
              "          element.innerHTML = '';\n",
              "          dataTable['output_type'] = 'display_data';\n",
              "          await google.colab.output.renderOutput(dataTable, element);\n",
              "          const docLink = document.createElement('div');\n",
              "          docLink.innerHTML = docLinkHtml;\n",
              "          element.appendChild(docLink);\n",
              "        }\n",
              "      </script>\n",
              "    </div>\n",
              "  </div>\n",
              "  "
            ],
            "text/plain": [
              "          label  count\n",
              "0     with_mask    477\n",
              "1  without_mask    477"
            ]
          },
          "metadata": {}
        }
      ]
    },
    {
      "cell_type": "markdown",
      "source": [
        "### Calculate image target size"
      ],
      "metadata": {
        "id": "ZlKKU6EWa5BG"
      }
    },
    {
      "cell_type": "code",
      "source": [
        "image_width = []\n",
        "image_height = []\n",
        "\n",
        "for i in range(len(train_df)):\n",
        "    cropped_image_path = cropped_dir + '/' + train_df[key_cropped].iloc[i]\n",
        "    cropped_image = cv2.imread(cropped_image_path)\n",
        "    image_width.append(cropped_image.shape[0])\n",
        "    image_height.append(cropped_image.shape[1])"
      ],
      "metadata": {
        "id": "dSSdEUAcXOIj"
      },
      "execution_count": null,
      "outputs": []
    },
    {
      "cell_type": "code",
      "source": [
        "image_target_size = (int(np.median(image_width)), int(np.median(image_height)))\n",
        "image_target_size"
      ],
      "metadata": {
        "colab": {
          "base_uri": "https://localhost:8080/"
        },
        "id": "49VKKSNQXP-I",
        "outputId": "d6c67073-cfa2-4767-aceb-e73163f90228"
      },
      "execution_count": null,
      "outputs": [
        {
          "output_type": "execute_result",
          "data": {
            "text/plain": [
              "(24, 22)"
            ]
          },
          "metadata": {},
          "execution_count": 28
        }
      ]
    },
    {
      "cell_type": "markdown",
      "source": [
        "### Dataset statistics"
      ],
      "metadata": {
        "id": "ruaXaeCtbB8v"
      }
    },
    {
      "cell_type": "code",
      "source": [
        "dataset_stats(train_df)"
      ],
      "metadata": {
        "colab": {
          "base_uri": "https://localhost:8080/",
          "height": 112
        },
        "id": "r-L8yYqB1v0g",
        "outputId": "d2a67a4f-e131-4e6e-a6bd-04b192fb0694"
      },
      "execution_count": null,
      "outputs": [
        {
          "output_type": "display_data",
          "data": {
            "text/html": [
              "\n",
              "  <div id=\"df-cb254ee8-8afd-4720-b162-e2dde908a3a5\">\n",
              "    <div class=\"colab-df-container\">\n",
              "      <div>\n",
              "<style scoped>\n",
              "    .dataframe tbody tr th:only-of-type {\n",
              "        vertical-align: middle;\n",
              "    }\n",
              "\n",
              "    .dataframe tbody tr th {\n",
              "        vertical-align: top;\n",
              "    }\n",
              "\n",
              "    .dataframe thead th {\n",
              "        text-align: right;\n",
              "    }\n",
              "</style>\n",
              "<table border=\"1\" class=\"dataframe\">\n",
              "  <thead>\n",
              "    <tr style=\"text-align: right;\">\n",
              "      <th></th>\n",
              "      <th>label</th>\n",
              "      <th>count</th>\n",
              "    </tr>\n",
              "  </thead>\n",
              "  <tbody>\n",
              "    <tr>\n",
              "      <th>0</th>\n",
              "      <td>without_mask</td>\n",
              "      <td>239</td>\n",
              "    </tr>\n",
              "    <tr>\n",
              "      <th>1</th>\n",
              "      <td>with_mask</td>\n",
              "      <td>239</td>\n",
              "    </tr>\n",
              "  </tbody>\n",
              "</table>\n",
              "</div>\n",
              "      <button class=\"colab-df-convert\" onclick=\"convertToInteractive('df-cb254ee8-8afd-4720-b162-e2dde908a3a5')\"\n",
              "              title=\"Convert this dataframe to an interactive table.\"\n",
              "              style=\"display:none;\">\n",
              "        \n",
              "  <svg xmlns=\"http://www.w3.org/2000/svg\" height=\"24px\"viewBox=\"0 0 24 24\"\n",
              "       width=\"24px\">\n",
              "    <path d=\"M0 0h24v24H0V0z\" fill=\"none\"/>\n",
              "    <path d=\"M18.56 5.44l.94 2.06.94-2.06 2.06-.94-2.06-.94-.94-2.06-.94 2.06-2.06.94zm-11 1L8.5 8.5l.94-2.06 2.06-.94-2.06-.94L8.5 2.5l-.94 2.06-2.06.94zm10 10l.94 2.06.94-2.06 2.06-.94-2.06-.94-.94-2.06-.94 2.06-2.06.94z\"/><path d=\"M17.41 7.96l-1.37-1.37c-.4-.4-.92-.59-1.43-.59-.52 0-1.04.2-1.43.59L10.3 9.45l-7.72 7.72c-.78.78-.78 2.05 0 2.83L4 21.41c.39.39.9.59 1.41.59.51 0 1.02-.2 1.41-.59l7.78-7.78 2.81-2.81c.8-.78.8-2.07 0-2.86zM5.41 20L4 18.59l7.72-7.72 1.47 1.35L5.41 20z\"/>\n",
              "  </svg>\n",
              "      </button>\n",
              "      \n",
              "  <style>\n",
              "    .colab-df-container {\n",
              "      display:flex;\n",
              "      flex-wrap:wrap;\n",
              "      gap: 12px;\n",
              "    }\n",
              "\n",
              "    .colab-df-convert {\n",
              "      background-color: #E8F0FE;\n",
              "      border: none;\n",
              "      border-radius: 50%;\n",
              "      cursor: pointer;\n",
              "      display: none;\n",
              "      fill: #1967D2;\n",
              "      height: 32px;\n",
              "      padding: 0 0 0 0;\n",
              "      width: 32px;\n",
              "    }\n",
              "\n",
              "    .colab-df-convert:hover {\n",
              "      background-color: #E2EBFA;\n",
              "      box-shadow: 0px 1px 2px rgba(60, 64, 67, 0.3), 0px 1px 3px 1px rgba(60, 64, 67, 0.15);\n",
              "      fill: #174EA6;\n",
              "    }\n",
              "\n",
              "    [theme=dark] .colab-df-convert {\n",
              "      background-color: #3B4455;\n",
              "      fill: #D2E3FC;\n",
              "    }\n",
              "\n",
              "    [theme=dark] .colab-df-convert:hover {\n",
              "      background-color: #434B5C;\n",
              "      box-shadow: 0px 1px 3px 1px rgba(0, 0, 0, 0.15);\n",
              "      filter: drop-shadow(0px 1px 2px rgba(0, 0, 0, 0.3));\n",
              "      fill: #FFFFFF;\n",
              "    }\n",
              "  </style>\n",
              "\n",
              "      <script>\n",
              "        const buttonEl =\n",
              "          document.querySelector('#df-cb254ee8-8afd-4720-b162-e2dde908a3a5 button.colab-df-convert');\n",
              "        buttonEl.style.display =\n",
              "          google.colab.kernel.accessAllowed ? 'block' : 'none';\n",
              "\n",
              "        async function convertToInteractive(key) {\n",
              "          const element = document.querySelector('#df-cb254ee8-8afd-4720-b162-e2dde908a3a5');\n",
              "          const dataTable =\n",
              "            await google.colab.kernel.invokeFunction('convertToInteractive',\n",
              "                                                     [key], {});\n",
              "          if (!dataTable) return;\n",
              "\n",
              "          const docLinkHtml = 'Like what you see? Visit the ' +\n",
              "            '<a target=\"_blank\" href=https://colab.research.google.com/notebooks/data_table.ipynb>data table notebook</a>'\n",
              "            + ' to learn more about interactive tables.';\n",
              "          element.innerHTML = '';\n",
              "          dataTable['output_type'] = 'display_data';\n",
              "          await google.colab.output.renderOutput(dataTable, element);\n",
              "          const docLink = document.createElement('div');\n",
              "          docLink.innerHTML = docLinkHtml;\n",
              "          element.appendChild(docLink);\n",
              "        }\n",
              "      </script>\n",
              "    </div>\n",
              "  </div>\n",
              "  "
            ],
            "text/plain": [
              "          label  count\n",
              "0  without_mask    239\n",
              "1     with_mask    239"
            ]
          },
          "metadata": {}
        }
      ]
    },
    {
      "cell_type": "code",
      "source": [
        "dataset_stats(test_df)"
      ],
      "metadata": {
        "colab": {
          "base_uri": "https://localhost:8080/",
          "height": 112
        },
        "id": "G56m0XbFdA0m",
        "outputId": "7ee75c4d-f471-4e74-cc83-bbe64f88b4da"
      },
      "execution_count": null,
      "outputs": [
        {
          "output_type": "display_data",
          "data": {
            "text/html": [
              "\n",
              "  <div id=\"df-19ad1f2c-d069-4f69-9966-52139c954131\">\n",
              "    <div class=\"colab-df-container\">\n",
              "      <div>\n",
              "<style scoped>\n",
              "    .dataframe tbody tr th:only-of-type {\n",
              "        vertical-align: middle;\n",
              "    }\n",
              "\n",
              "    .dataframe tbody tr th {\n",
              "        vertical-align: top;\n",
              "    }\n",
              "\n",
              "    .dataframe thead th {\n",
              "        text-align: right;\n",
              "    }\n",
              "</style>\n",
              "<table border=\"1\" class=\"dataframe\">\n",
              "  <thead>\n",
              "    <tr style=\"text-align: right;\">\n",
              "      <th></th>\n",
              "      <th>label</th>\n",
              "      <th>count</th>\n",
              "    </tr>\n",
              "  </thead>\n",
              "  <tbody>\n",
              "    <tr>\n",
              "      <th>0</th>\n",
              "      <td>without_mask</td>\n",
              "      <td>238</td>\n",
              "    </tr>\n",
              "    <tr>\n",
              "      <th>1</th>\n",
              "      <td>with_mask</td>\n",
              "      <td>238</td>\n",
              "    </tr>\n",
              "  </tbody>\n",
              "</table>\n",
              "</div>\n",
              "      <button class=\"colab-df-convert\" onclick=\"convertToInteractive('df-19ad1f2c-d069-4f69-9966-52139c954131')\"\n",
              "              title=\"Convert this dataframe to an interactive table.\"\n",
              "              style=\"display:none;\">\n",
              "        \n",
              "  <svg xmlns=\"http://www.w3.org/2000/svg\" height=\"24px\"viewBox=\"0 0 24 24\"\n",
              "       width=\"24px\">\n",
              "    <path d=\"M0 0h24v24H0V0z\" fill=\"none\"/>\n",
              "    <path d=\"M18.56 5.44l.94 2.06.94-2.06 2.06-.94-2.06-.94-.94-2.06-.94 2.06-2.06.94zm-11 1L8.5 8.5l.94-2.06 2.06-.94-2.06-.94L8.5 2.5l-.94 2.06-2.06.94zm10 10l.94 2.06.94-2.06 2.06-.94-2.06-.94-.94-2.06-.94 2.06-2.06.94z\"/><path d=\"M17.41 7.96l-1.37-1.37c-.4-.4-.92-.59-1.43-.59-.52 0-1.04.2-1.43.59L10.3 9.45l-7.72 7.72c-.78.78-.78 2.05 0 2.83L4 21.41c.39.39.9.59 1.41.59.51 0 1.02-.2 1.41-.59l7.78-7.78 2.81-2.81c.8-.78.8-2.07 0-2.86zM5.41 20L4 18.59l7.72-7.72 1.47 1.35L5.41 20z\"/>\n",
              "  </svg>\n",
              "      </button>\n",
              "      \n",
              "  <style>\n",
              "    .colab-df-container {\n",
              "      display:flex;\n",
              "      flex-wrap:wrap;\n",
              "      gap: 12px;\n",
              "    }\n",
              "\n",
              "    .colab-df-convert {\n",
              "      background-color: #E8F0FE;\n",
              "      border: none;\n",
              "      border-radius: 50%;\n",
              "      cursor: pointer;\n",
              "      display: none;\n",
              "      fill: #1967D2;\n",
              "      height: 32px;\n",
              "      padding: 0 0 0 0;\n",
              "      width: 32px;\n",
              "    }\n",
              "\n",
              "    .colab-df-convert:hover {\n",
              "      background-color: #E2EBFA;\n",
              "      box-shadow: 0px 1px 2px rgba(60, 64, 67, 0.3), 0px 1px 3px 1px rgba(60, 64, 67, 0.15);\n",
              "      fill: #174EA6;\n",
              "    }\n",
              "\n",
              "    [theme=dark] .colab-df-convert {\n",
              "      background-color: #3B4455;\n",
              "      fill: #D2E3FC;\n",
              "    }\n",
              "\n",
              "    [theme=dark] .colab-df-convert:hover {\n",
              "      background-color: #434B5C;\n",
              "      box-shadow: 0px 1px 3px 1px rgba(0, 0, 0, 0.15);\n",
              "      filter: drop-shadow(0px 1px 2px rgba(0, 0, 0, 0.3));\n",
              "      fill: #FFFFFF;\n",
              "    }\n",
              "  </style>\n",
              "\n",
              "      <script>\n",
              "        const buttonEl =\n",
              "          document.querySelector('#df-19ad1f2c-d069-4f69-9966-52139c954131 button.colab-df-convert');\n",
              "        buttonEl.style.display =\n",
              "          google.colab.kernel.accessAllowed ? 'block' : 'none';\n",
              "\n",
              "        async function convertToInteractive(key) {\n",
              "          const element = document.querySelector('#df-19ad1f2c-d069-4f69-9966-52139c954131');\n",
              "          const dataTable =\n",
              "            await google.colab.kernel.invokeFunction('convertToInteractive',\n",
              "                                                     [key], {});\n",
              "          if (!dataTable) return;\n",
              "\n",
              "          const docLinkHtml = 'Like what you see? Visit the ' +\n",
              "            '<a target=\"_blank\" href=https://colab.research.google.com/notebooks/data_table.ipynb>data table notebook</a>'\n",
              "            + ' to learn more about interactive tables.';\n",
              "          element.innerHTML = '';\n",
              "          dataTable['output_type'] = 'display_data';\n",
              "          await google.colab.output.renderOutput(dataTable, element);\n",
              "          const docLink = document.createElement('div');\n",
              "          docLink.innerHTML = docLinkHtml;\n",
              "          element.appendChild(docLink);\n",
              "        }\n",
              "      </script>\n",
              "    </div>\n",
              "  </div>\n",
              "  "
            ],
            "text/plain": [
              "          label  count\n",
              "0  without_mask    238\n",
              "1     with_mask    238"
            ]
          },
          "metadata": {}
        }
      ]
    },
    {
      "cell_type": "markdown",
      "source": [
        "### Loading datasets"
      ],
      "metadata": {
        "id": "AdkXrSmPowrx"
      }
    },
    {
      "cell_type": "code",
      "source": [
        "training_image_generator = ImageDataGenerator(rescale = 1. / 255.,\n",
        "                                              validation_split = 0.25)\n",
        "\n",
        "training_generator = training_image_generator.flow_from_dataframe(\n",
        "    dataframe = train_df,\n",
        "    directory = temp_dir,\n",
        "    x_col = key_cropped,\n",
        "    y_col = key_label,\n",
        "    subset = 'training',\n",
        "    batch_size = BATCH_SIZE,\n",
        "    seed = SEED_SIZE,\n",
        "    shuffle = True,\n",
        "    class_mode = 'categorical',\n",
        "    target_size = image_target_size\n",
        ")\n",
        "\n",
        "validation_generator = training_image_generator.flow_from_dataframe(\n",
        "    dataframe = train_df,\n",
        "    directory = temp_dir,\n",
        "    x_col = key_cropped,\n",
        "    y_col = key_label,\n",
        "    subset = 'validation',\n",
        "    batch_size = BATCH_SIZE,\n",
        "    seed = SEED_SIZE,\n",
        "    shuffle = True,\n",
        "    class_mode = 'categorical',\n",
        "    target_size = image_target_size\n",
        ")"
      ],
      "metadata": {
        "colab": {
          "base_uri": "https://localhost:8080/"
        },
        "id": "UtYDLzubYRF6",
        "outputId": "6ee6c61d-29b9-4ffb-c7e5-f7ecd38ca488"
      },
      "execution_count": 5,
      "outputs": [
        {
          "output_type": "stream",
          "name": "stdout",
          "text": [
            "Found 717 validated image filenames belonging to 2 classes.\n",
            "Found 239 validated image filenames belonging to 2 classes.\n"
          ]
        }
      ]
    },
    {
      "cell_type": "code",
      "source": [
        "input_shape = [int(np.median(image_width)), int(np.median(image_height)), 3]"
      ],
      "metadata": {
        "id": "qJeuwkYQZ2c-"
      },
      "execution_count": null,
      "outputs": []
    },
    {
      "cell_type": "markdown",
      "source": [
        "## **3. Model preparation for transfer learning - ResNet50 option**"
      ],
      "metadata": {
        "id": "7eMfiD9eKRNf"
      }
    },
    {
      "cell_type": "markdown",
      "source": [
        "### Preparing ResNet50 model"
      ],
      "metadata": {
        "id": "MM8tYJCQlOpG"
      }
    },
    {
      "cell_type": "code",
      "source": [
        "base_input_shape = (32, 32, 3)\n",
        "weights = 'imagenet'\n",
        "\n",
        "base_model = ResNet50(weights=weights, \n",
        "                      include_top=False, \n",
        "                      input_shape=base_input_shape)"
      ],
      "metadata": {
        "id": "FxkB0fFqaDEj",
        "colab": {
          "base_uri": "https://localhost:8080/"
        },
        "outputId": "f9451d03-94d4-4e53-c66f-c63e2d77be30"
      },
      "execution_count": 6,
      "outputs": [
        {
          "output_type": "stream",
          "name": "stdout",
          "text": [
            "Downloading data from https://storage.googleapis.com/tensorflow/keras-applications/resnet/resnet50_weights_tf_dim_ordering_tf_kernels_notop.h5\n",
            "94773248/94765736 [==============================] - 1s 0us/step\n",
            "94781440/94765736 [==============================] - 1s 0us/step\n"
          ]
        }
      ]
    },
    {
      "cell_type": "markdown",
      "source": [
        "### Freezing base layers"
      ],
      "metadata": {
        "id": "YUimgfVU8ror"
      }
    },
    {
      "cell_type": "code",
      "source": [
        "for layer in base_model.layers:\n",
        "    layer.trainable = False"
      ],
      "metadata": {
        "id": "w7cuCplW8qqf"
      },
      "execution_count": 7,
      "outputs": []
    },
    {
      "cell_type": "markdown",
      "source": [
        "### Adding Global Avg Pooling 2D and Dense layer"
      ],
      "metadata": {
        "id": "2T5GetyN8frV"
      }
    },
    {
      "cell_type": "code",
      "source": [
        "num_classes = 2\n",
        "\n",
        "global_avg_pooling = keras.layers.GlobalAveragePooling2D()(base_model.output)\n",
        "outputs = keras.layers.Dense(num_classes, activation='softmax')(global_avg_pooling)\n",
        "\n",
        "classifier = keras.models.Model(inputs=base_model.input,\n",
        "                                outputs=outputs,\n",
        "                                name='ResNet50')"
      ],
      "metadata": {
        "id": "TIYoxgJFaRj_"
      },
      "execution_count": 8,
      "outputs": []
    },
    {
      "cell_type": "code",
      "source": [
        "classifier.summary()"
      ],
      "metadata": {
        "colab": {
          "base_uri": "https://localhost:8080/"
        },
        "id": "eHSP4WJlKWwV",
        "outputId": "1dad985a-574e-42bc-9ff5-f243c59a6078"
      },
      "execution_count": null,
      "outputs": [
        {
          "output_type": "stream",
          "name": "stdout",
          "text": [
            "Model: \"ResNet50\"\n",
            "__________________________________________________________________________________________________\n",
            " Layer (type)                   Output Shape         Param #     Connected to                     \n",
            "==================================================================================================\n",
            " input_1 (InputLayer)           [(None, 250, 250, 3  0           []                               \n",
            "                                )]                                                                \n",
            "                                                                                                  \n",
            " conv1_pad (ZeroPadding2D)      (None, 256, 256, 3)  0           ['input_1[0][0]']                \n",
            "                                                                                                  \n",
            " conv1_conv (Conv2D)            (None, 125, 125, 64  9472        ['conv1_pad[0][0]']              \n",
            "                                )                                                                 \n",
            "                                                                                                  \n",
            " conv1_bn (BatchNormalization)  (None, 125, 125, 64  256         ['conv1_conv[0][0]']             \n",
            "                                )                                                                 \n",
            "                                                                                                  \n",
            " conv1_relu (Activation)        (None, 125, 125, 64  0           ['conv1_bn[0][0]']               \n",
            "                                )                                                                 \n",
            "                                                                                                  \n",
            " pool1_pad (ZeroPadding2D)      (None, 127, 127, 64  0           ['conv1_relu[0][0]']             \n",
            "                                )                                                                 \n",
            "                                                                                                  \n",
            " pool1_pool (MaxPooling2D)      (None, 63, 63, 64)   0           ['pool1_pad[0][0]']              \n",
            "                                                                                                  \n",
            " conv2_block1_1_conv (Conv2D)   (None, 63, 63, 64)   4160        ['pool1_pool[0][0]']             \n",
            "                                                                                                  \n",
            " conv2_block1_1_bn (BatchNormal  (None, 63, 63, 64)  256         ['conv2_block1_1_conv[0][0]']    \n",
            " ization)                                                                                         \n",
            "                                                                                                  \n",
            " conv2_block1_1_relu (Activatio  (None, 63, 63, 64)  0           ['conv2_block1_1_bn[0][0]']      \n",
            " n)                                                                                               \n",
            "                                                                                                  \n",
            " conv2_block1_2_conv (Conv2D)   (None, 63, 63, 64)   36928       ['conv2_block1_1_relu[0][0]']    \n",
            "                                                                                                  \n",
            " conv2_block1_2_bn (BatchNormal  (None, 63, 63, 64)  256         ['conv2_block1_2_conv[0][0]']    \n",
            " ization)                                                                                         \n",
            "                                                                                                  \n",
            " conv2_block1_2_relu (Activatio  (None, 63, 63, 64)  0           ['conv2_block1_2_bn[0][0]']      \n",
            " n)                                                                                               \n",
            "                                                                                                  \n",
            " conv2_block1_0_conv (Conv2D)   (None, 63, 63, 256)  16640       ['pool1_pool[0][0]']             \n",
            "                                                                                                  \n",
            " conv2_block1_3_conv (Conv2D)   (None, 63, 63, 256)  16640       ['conv2_block1_2_relu[0][0]']    \n",
            "                                                                                                  \n",
            " conv2_block1_0_bn (BatchNormal  (None, 63, 63, 256)  1024       ['conv2_block1_0_conv[0][0]']    \n",
            " ization)                                                                                         \n",
            "                                                                                                  \n",
            " conv2_block1_3_bn (BatchNormal  (None, 63, 63, 256)  1024       ['conv2_block1_3_conv[0][0]']    \n",
            " ization)                                                                                         \n",
            "                                                                                                  \n",
            " conv2_block1_add (Add)         (None, 63, 63, 256)  0           ['conv2_block1_0_bn[0][0]',      \n",
            "                                                                  'conv2_block1_3_bn[0][0]']      \n",
            "                                                                                                  \n",
            " conv2_block1_out (Activation)  (None, 63, 63, 256)  0           ['conv2_block1_add[0][0]']       \n",
            "                                                                                                  \n",
            " conv2_block2_1_conv (Conv2D)   (None, 63, 63, 64)   16448       ['conv2_block1_out[0][0]']       \n",
            "                                                                                                  \n",
            " conv2_block2_1_bn (BatchNormal  (None, 63, 63, 64)  256         ['conv2_block2_1_conv[0][0]']    \n",
            " ization)                                                                                         \n",
            "                                                                                                  \n",
            " conv2_block2_1_relu (Activatio  (None, 63, 63, 64)  0           ['conv2_block2_1_bn[0][0]']      \n",
            " n)                                                                                               \n",
            "                                                                                                  \n",
            " conv2_block2_2_conv (Conv2D)   (None, 63, 63, 64)   36928       ['conv2_block2_1_relu[0][0]']    \n",
            "                                                                                                  \n",
            " conv2_block2_2_bn (BatchNormal  (None, 63, 63, 64)  256         ['conv2_block2_2_conv[0][0]']    \n",
            " ization)                                                                                         \n",
            "                                                                                                  \n",
            " conv2_block2_2_relu (Activatio  (None, 63, 63, 64)  0           ['conv2_block2_2_bn[0][0]']      \n",
            " n)                                                                                               \n",
            "                                                                                                  \n",
            " conv2_block2_3_conv (Conv2D)   (None, 63, 63, 256)  16640       ['conv2_block2_2_relu[0][0]']    \n",
            "                                                                                                  \n",
            " conv2_block2_3_bn (BatchNormal  (None, 63, 63, 256)  1024       ['conv2_block2_3_conv[0][0]']    \n",
            " ization)                                                                                         \n",
            "                                                                                                  \n",
            " conv2_block2_add (Add)         (None, 63, 63, 256)  0           ['conv2_block1_out[0][0]',       \n",
            "                                                                  'conv2_block2_3_bn[0][0]']      \n",
            "                                                                                                  \n",
            " conv2_block2_out (Activation)  (None, 63, 63, 256)  0           ['conv2_block2_add[0][0]']       \n",
            "                                                                                                  \n",
            " conv2_block3_1_conv (Conv2D)   (None, 63, 63, 64)   16448       ['conv2_block2_out[0][0]']       \n",
            "                                                                                                  \n",
            " conv2_block3_1_bn (BatchNormal  (None, 63, 63, 64)  256         ['conv2_block3_1_conv[0][0]']    \n",
            " ization)                                                                                         \n",
            "                                                                                                  \n",
            " conv2_block3_1_relu (Activatio  (None, 63, 63, 64)  0           ['conv2_block3_1_bn[0][0]']      \n",
            " n)                                                                                               \n",
            "                                                                                                  \n",
            " conv2_block3_2_conv (Conv2D)   (None, 63, 63, 64)   36928       ['conv2_block3_1_relu[0][0]']    \n",
            "                                                                                                  \n",
            " conv2_block3_2_bn (BatchNormal  (None, 63, 63, 64)  256         ['conv2_block3_2_conv[0][0]']    \n",
            " ization)                                                                                         \n",
            "                                                                                                  \n",
            " conv2_block3_2_relu (Activatio  (None, 63, 63, 64)  0           ['conv2_block3_2_bn[0][0]']      \n",
            " n)                                                                                               \n",
            "                                                                                                  \n",
            " conv2_block3_3_conv (Conv2D)   (None, 63, 63, 256)  16640       ['conv2_block3_2_relu[0][0]']    \n",
            "                                                                                                  \n",
            " conv2_block3_3_bn (BatchNormal  (None, 63, 63, 256)  1024       ['conv2_block3_3_conv[0][0]']    \n",
            " ization)                                                                                         \n",
            "                                                                                                  \n",
            " conv2_block3_add (Add)         (None, 63, 63, 256)  0           ['conv2_block2_out[0][0]',       \n",
            "                                                                  'conv2_block3_3_bn[0][0]']      \n",
            "                                                                                                  \n",
            " conv2_block3_out (Activation)  (None, 63, 63, 256)  0           ['conv2_block3_add[0][0]']       \n",
            "                                                                                                  \n",
            " conv3_block1_1_conv (Conv2D)   (None, 32, 32, 128)  32896       ['conv2_block3_out[0][0]']       \n",
            "                                                                                                  \n",
            " conv3_block1_1_bn (BatchNormal  (None, 32, 32, 128)  512        ['conv3_block1_1_conv[0][0]']    \n",
            " ization)                                                                                         \n",
            "                                                                                                  \n",
            " conv3_block1_1_relu (Activatio  (None, 32, 32, 128)  0          ['conv3_block1_1_bn[0][0]']      \n",
            " n)                                                                                               \n",
            "                                                                                                  \n",
            " conv3_block1_2_conv (Conv2D)   (None, 32, 32, 128)  147584      ['conv3_block1_1_relu[0][0]']    \n",
            "                                                                                                  \n",
            " conv3_block1_2_bn (BatchNormal  (None, 32, 32, 128)  512        ['conv3_block1_2_conv[0][0]']    \n",
            " ization)                                                                                         \n",
            "                                                                                                  \n",
            " conv3_block1_2_relu (Activatio  (None, 32, 32, 128)  0          ['conv3_block1_2_bn[0][0]']      \n",
            " n)                                                                                               \n",
            "                                                                                                  \n",
            " conv3_block1_0_conv (Conv2D)   (None, 32, 32, 512)  131584      ['conv2_block3_out[0][0]']       \n",
            "                                                                                                  \n",
            " conv3_block1_3_conv (Conv2D)   (None, 32, 32, 512)  66048       ['conv3_block1_2_relu[0][0]']    \n",
            "                                                                                                  \n",
            " conv3_block1_0_bn (BatchNormal  (None, 32, 32, 512)  2048       ['conv3_block1_0_conv[0][0]']    \n",
            " ization)                                                                                         \n",
            "                                                                                                  \n",
            " conv3_block1_3_bn (BatchNormal  (None, 32, 32, 512)  2048       ['conv3_block1_3_conv[0][0]']    \n",
            " ization)                                                                                         \n",
            "                                                                                                  \n",
            " conv3_block1_add (Add)         (None, 32, 32, 512)  0           ['conv3_block1_0_bn[0][0]',      \n",
            "                                                                  'conv3_block1_3_bn[0][0]']      \n",
            "                                                                                                  \n",
            " conv3_block1_out (Activation)  (None, 32, 32, 512)  0           ['conv3_block1_add[0][0]']       \n",
            "                                                                                                  \n",
            " conv3_block2_1_conv (Conv2D)   (None, 32, 32, 128)  65664       ['conv3_block1_out[0][0]']       \n",
            "                                                                                                  \n",
            " conv3_block2_1_bn (BatchNormal  (None, 32, 32, 128)  512        ['conv3_block2_1_conv[0][0]']    \n",
            " ization)                                                                                         \n",
            "                                                                                                  \n",
            " conv3_block2_1_relu (Activatio  (None, 32, 32, 128)  0          ['conv3_block2_1_bn[0][0]']      \n",
            " n)                                                                                               \n",
            "                                                                                                  \n",
            " conv3_block2_2_conv (Conv2D)   (None, 32, 32, 128)  147584      ['conv3_block2_1_relu[0][0]']    \n",
            "                                                                                                  \n",
            " conv3_block2_2_bn (BatchNormal  (None, 32, 32, 128)  512        ['conv3_block2_2_conv[0][0]']    \n",
            " ization)                                                                                         \n",
            "                                                                                                  \n",
            " conv3_block2_2_relu (Activatio  (None, 32, 32, 128)  0          ['conv3_block2_2_bn[0][0]']      \n",
            " n)                                                                                               \n",
            "                                                                                                  \n",
            " conv3_block2_3_conv (Conv2D)   (None, 32, 32, 512)  66048       ['conv3_block2_2_relu[0][0]']    \n",
            "                                                                                                  \n",
            " conv3_block2_3_bn (BatchNormal  (None, 32, 32, 512)  2048       ['conv3_block2_3_conv[0][0]']    \n",
            " ization)                                                                                         \n",
            "                                                                                                  \n",
            " conv3_block2_add (Add)         (None, 32, 32, 512)  0           ['conv3_block1_out[0][0]',       \n",
            "                                                                  'conv3_block2_3_bn[0][0]']      \n",
            "                                                                                                  \n",
            " conv3_block2_out (Activation)  (None, 32, 32, 512)  0           ['conv3_block2_add[0][0]']       \n",
            "                                                                                                  \n",
            " conv3_block3_1_conv (Conv2D)   (None, 32, 32, 128)  65664       ['conv3_block2_out[0][0]']       \n",
            "                                                                                                  \n",
            " conv3_block3_1_bn (BatchNormal  (None, 32, 32, 128)  512        ['conv3_block3_1_conv[0][0]']    \n",
            " ization)                                                                                         \n",
            "                                                                                                  \n",
            " conv3_block3_1_relu (Activatio  (None, 32, 32, 128)  0          ['conv3_block3_1_bn[0][0]']      \n",
            " n)                                                                                               \n",
            "                                                                                                  \n",
            " conv3_block3_2_conv (Conv2D)   (None, 32, 32, 128)  147584      ['conv3_block3_1_relu[0][0]']    \n",
            "                                                                                                  \n",
            " conv3_block3_2_bn (BatchNormal  (None, 32, 32, 128)  512        ['conv3_block3_2_conv[0][0]']    \n",
            " ization)                                                                                         \n",
            "                                                                                                  \n",
            " conv3_block3_2_relu (Activatio  (None, 32, 32, 128)  0          ['conv3_block3_2_bn[0][0]']      \n",
            " n)                                                                                               \n",
            "                                                                                                  \n",
            " conv3_block3_3_conv (Conv2D)   (None, 32, 32, 512)  66048       ['conv3_block3_2_relu[0][0]']    \n",
            "                                                                                                  \n",
            " conv3_block3_3_bn (BatchNormal  (None, 32, 32, 512)  2048       ['conv3_block3_3_conv[0][0]']    \n",
            " ization)                                                                                         \n",
            "                                                                                                  \n",
            " conv3_block3_add (Add)         (None, 32, 32, 512)  0           ['conv3_block2_out[0][0]',       \n",
            "                                                                  'conv3_block3_3_bn[0][0]']      \n",
            "                                                                                                  \n",
            " conv3_block3_out (Activation)  (None, 32, 32, 512)  0           ['conv3_block3_add[0][0]']       \n",
            "                                                                                                  \n",
            " conv3_block4_1_conv (Conv2D)   (None, 32, 32, 128)  65664       ['conv3_block3_out[0][0]']       \n",
            "                                                                                                  \n",
            " conv3_block4_1_bn (BatchNormal  (None, 32, 32, 128)  512        ['conv3_block4_1_conv[0][0]']    \n",
            " ization)                                                                                         \n",
            "                                                                                                  \n",
            " conv3_block4_1_relu (Activatio  (None, 32, 32, 128)  0          ['conv3_block4_1_bn[0][0]']      \n",
            " n)                                                                                               \n",
            "                                                                                                  \n",
            " conv3_block4_2_conv (Conv2D)   (None, 32, 32, 128)  147584      ['conv3_block4_1_relu[0][0]']    \n",
            "                                                                                                  \n",
            " conv3_block4_2_bn (BatchNormal  (None, 32, 32, 128)  512        ['conv3_block4_2_conv[0][0]']    \n",
            " ization)                                                                                         \n",
            "                                                                                                  \n",
            " conv3_block4_2_relu (Activatio  (None, 32, 32, 128)  0          ['conv3_block4_2_bn[0][0]']      \n",
            " n)                                                                                               \n",
            "                                                                                                  \n",
            " conv3_block4_3_conv (Conv2D)   (None, 32, 32, 512)  66048       ['conv3_block4_2_relu[0][0]']    \n",
            "                                                                                                  \n",
            " conv3_block4_3_bn (BatchNormal  (None, 32, 32, 512)  2048       ['conv3_block4_3_conv[0][0]']    \n",
            " ization)                                                                                         \n",
            "                                                                                                  \n",
            " conv3_block4_add (Add)         (None, 32, 32, 512)  0           ['conv3_block3_out[0][0]',       \n",
            "                                                                  'conv3_block4_3_bn[0][0]']      \n",
            "                                                                                                  \n",
            " conv3_block4_out (Activation)  (None, 32, 32, 512)  0           ['conv3_block4_add[0][0]']       \n",
            "                                                                                                  \n",
            " conv4_block1_1_conv (Conv2D)   (None, 16, 16, 256)  131328      ['conv3_block4_out[0][0]']       \n",
            "                                                                                                  \n",
            " conv4_block1_1_bn (BatchNormal  (None, 16, 16, 256)  1024       ['conv4_block1_1_conv[0][0]']    \n",
            " ization)                                                                                         \n",
            "                                                                                                  \n",
            " conv4_block1_1_relu (Activatio  (None, 16, 16, 256)  0          ['conv4_block1_1_bn[0][0]']      \n",
            " n)                                                                                               \n",
            "                                                                                                  \n",
            " conv4_block1_2_conv (Conv2D)   (None, 16, 16, 256)  590080      ['conv4_block1_1_relu[0][0]']    \n",
            "                                                                                                  \n",
            " conv4_block1_2_bn (BatchNormal  (None, 16, 16, 256)  1024       ['conv4_block1_2_conv[0][0]']    \n",
            " ization)                                                                                         \n",
            "                                                                                                  \n",
            " conv4_block1_2_relu (Activatio  (None, 16, 16, 256)  0          ['conv4_block1_2_bn[0][0]']      \n",
            " n)                                                                                               \n",
            "                                                                                                  \n",
            " conv4_block1_0_conv (Conv2D)   (None, 16, 16, 1024  525312      ['conv3_block4_out[0][0]']       \n",
            "                                )                                                                 \n",
            "                                                                                                  \n",
            " conv4_block1_3_conv (Conv2D)   (None, 16, 16, 1024  263168      ['conv4_block1_2_relu[0][0]']    \n",
            "                                )                                                                 \n",
            "                                                                                                  \n",
            " conv4_block1_0_bn (BatchNormal  (None, 16, 16, 1024  4096       ['conv4_block1_0_conv[0][0]']    \n",
            " ization)                       )                                                                 \n",
            "                                                                                                  \n",
            " conv4_block1_3_bn (BatchNormal  (None, 16, 16, 1024  4096       ['conv4_block1_3_conv[0][0]']    \n",
            " ization)                       )                                                                 \n",
            "                                                                                                  \n",
            " conv4_block1_add (Add)         (None, 16, 16, 1024  0           ['conv4_block1_0_bn[0][0]',      \n",
            "                                )                                 'conv4_block1_3_bn[0][0]']      \n",
            "                                                                                                  \n",
            " conv4_block1_out (Activation)  (None, 16, 16, 1024  0           ['conv4_block1_add[0][0]']       \n",
            "                                )                                                                 \n",
            "                                                                                                  \n",
            " conv4_block2_1_conv (Conv2D)   (None, 16, 16, 256)  262400      ['conv4_block1_out[0][0]']       \n",
            "                                                                                                  \n",
            " conv4_block2_1_bn (BatchNormal  (None, 16, 16, 256)  1024       ['conv4_block2_1_conv[0][0]']    \n",
            " ization)                                                                                         \n",
            "                                                                                                  \n",
            " conv4_block2_1_relu (Activatio  (None, 16, 16, 256)  0          ['conv4_block2_1_bn[0][0]']      \n",
            " n)                                                                                               \n",
            "                                                                                                  \n",
            " conv4_block2_2_conv (Conv2D)   (None, 16, 16, 256)  590080      ['conv4_block2_1_relu[0][0]']    \n",
            "                                                                                                  \n",
            " conv4_block2_2_bn (BatchNormal  (None, 16, 16, 256)  1024       ['conv4_block2_2_conv[0][0]']    \n",
            " ization)                                                                                         \n",
            "                                                                                                  \n",
            " conv4_block2_2_relu (Activatio  (None, 16, 16, 256)  0          ['conv4_block2_2_bn[0][0]']      \n",
            " n)                                                                                               \n",
            "                                                                                                  \n",
            " conv4_block2_3_conv (Conv2D)   (None, 16, 16, 1024  263168      ['conv4_block2_2_relu[0][0]']    \n",
            "                                )                                                                 \n",
            "                                                                                                  \n",
            " conv4_block2_3_bn (BatchNormal  (None, 16, 16, 1024  4096       ['conv4_block2_3_conv[0][0]']    \n",
            " ization)                       )                                                                 \n",
            "                                                                                                  \n",
            " conv4_block2_add (Add)         (None, 16, 16, 1024  0           ['conv4_block1_out[0][0]',       \n",
            "                                )                                 'conv4_block2_3_bn[0][0]']      \n",
            "                                                                                                  \n",
            " conv4_block2_out (Activation)  (None, 16, 16, 1024  0           ['conv4_block2_add[0][0]']       \n",
            "                                )                                                                 \n",
            "                                                                                                  \n",
            " conv4_block3_1_conv (Conv2D)   (None, 16, 16, 256)  262400      ['conv4_block2_out[0][0]']       \n",
            "                                                                                                  \n",
            " conv4_block3_1_bn (BatchNormal  (None, 16, 16, 256)  1024       ['conv4_block3_1_conv[0][0]']    \n",
            " ization)                                                                                         \n",
            "                                                                                                  \n",
            " conv4_block3_1_relu (Activatio  (None, 16, 16, 256)  0          ['conv4_block3_1_bn[0][0]']      \n",
            " n)                                                                                               \n",
            "                                                                                                  \n",
            " conv4_block3_2_conv (Conv2D)   (None, 16, 16, 256)  590080      ['conv4_block3_1_relu[0][0]']    \n",
            "                                                                                                  \n",
            " conv4_block3_2_bn (BatchNormal  (None, 16, 16, 256)  1024       ['conv4_block3_2_conv[0][0]']    \n",
            " ization)                                                                                         \n",
            "                                                                                                  \n",
            " conv4_block3_2_relu (Activatio  (None, 16, 16, 256)  0          ['conv4_block3_2_bn[0][0]']      \n",
            " n)                                                                                               \n",
            "                                                                                                  \n",
            " conv4_block3_3_conv (Conv2D)   (None, 16, 16, 1024  263168      ['conv4_block3_2_relu[0][0]']    \n",
            "                                )                                                                 \n",
            "                                                                                                  \n",
            " conv4_block3_3_bn (BatchNormal  (None, 16, 16, 1024  4096       ['conv4_block3_3_conv[0][0]']    \n",
            " ization)                       )                                                                 \n",
            "                                                                                                  \n",
            " conv4_block3_add (Add)         (None, 16, 16, 1024  0           ['conv4_block2_out[0][0]',       \n",
            "                                )                                 'conv4_block3_3_bn[0][0]']      \n",
            "                                                                                                  \n",
            " conv4_block3_out (Activation)  (None, 16, 16, 1024  0           ['conv4_block3_add[0][0]']       \n",
            "                                )                                                                 \n",
            "                                                                                                  \n",
            " conv4_block4_1_conv (Conv2D)   (None, 16, 16, 256)  262400      ['conv4_block3_out[0][0]']       \n",
            "                                                                                                  \n",
            " conv4_block4_1_bn (BatchNormal  (None, 16, 16, 256)  1024       ['conv4_block4_1_conv[0][0]']    \n",
            " ization)                                                                                         \n",
            "                                                                                                  \n",
            " conv4_block4_1_relu (Activatio  (None, 16, 16, 256)  0          ['conv4_block4_1_bn[0][0]']      \n",
            " n)                                                                                               \n",
            "                                                                                                  \n",
            " conv4_block4_2_conv (Conv2D)   (None, 16, 16, 256)  590080      ['conv4_block4_1_relu[0][0]']    \n",
            "                                                                                                  \n",
            " conv4_block4_2_bn (BatchNormal  (None, 16, 16, 256)  1024       ['conv4_block4_2_conv[0][0]']    \n",
            " ization)                                                                                         \n",
            "                                                                                                  \n",
            " conv4_block4_2_relu (Activatio  (None, 16, 16, 256)  0          ['conv4_block4_2_bn[0][0]']      \n",
            " n)                                                                                               \n",
            "                                                                                                  \n",
            " conv4_block4_3_conv (Conv2D)   (None, 16, 16, 1024  263168      ['conv4_block4_2_relu[0][0]']    \n",
            "                                )                                                                 \n",
            "                                                                                                  \n",
            " conv4_block4_3_bn (BatchNormal  (None, 16, 16, 1024  4096       ['conv4_block4_3_conv[0][0]']    \n",
            " ization)                       )                                                                 \n",
            "                                                                                                  \n",
            " conv4_block4_add (Add)         (None, 16, 16, 1024  0           ['conv4_block3_out[0][0]',       \n",
            "                                )                                 'conv4_block4_3_bn[0][0]']      \n",
            "                                                                                                  \n",
            " conv4_block4_out (Activation)  (None, 16, 16, 1024  0           ['conv4_block4_add[0][0]']       \n",
            "                                )                                                                 \n",
            "                                                                                                  \n",
            " conv4_block5_1_conv (Conv2D)   (None, 16, 16, 256)  262400      ['conv4_block4_out[0][0]']       \n",
            "                                                                                                  \n",
            " conv4_block5_1_bn (BatchNormal  (None, 16, 16, 256)  1024       ['conv4_block5_1_conv[0][0]']    \n",
            " ization)                                                                                         \n",
            "                                                                                                  \n",
            " conv4_block5_1_relu (Activatio  (None, 16, 16, 256)  0          ['conv4_block5_1_bn[0][0]']      \n",
            " n)                                                                                               \n",
            "                                                                                                  \n",
            " conv4_block5_2_conv (Conv2D)   (None, 16, 16, 256)  590080      ['conv4_block5_1_relu[0][0]']    \n",
            "                                                                                                  \n",
            " conv4_block5_2_bn (BatchNormal  (None, 16, 16, 256)  1024       ['conv4_block5_2_conv[0][0]']    \n",
            " ization)                                                                                         \n",
            "                                                                                                  \n",
            " conv4_block5_2_relu (Activatio  (None, 16, 16, 256)  0          ['conv4_block5_2_bn[0][0]']      \n",
            " n)                                                                                               \n",
            "                                                                                                  \n",
            " conv4_block5_3_conv (Conv2D)   (None, 16, 16, 1024  263168      ['conv4_block5_2_relu[0][0]']    \n",
            "                                )                                                                 \n",
            "                                                                                                  \n",
            " conv4_block5_3_bn (BatchNormal  (None, 16, 16, 1024  4096       ['conv4_block5_3_conv[0][0]']    \n",
            " ization)                       )                                                                 \n",
            "                                                                                                  \n",
            " conv4_block5_add (Add)         (None, 16, 16, 1024  0           ['conv4_block4_out[0][0]',       \n",
            "                                )                                 'conv4_block5_3_bn[0][0]']      \n",
            "                                                                                                  \n",
            " conv4_block5_out (Activation)  (None, 16, 16, 1024  0           ['conv4_block5_add[0][0]']       \n",
            "                                )                                                                 \n",
            "                                                                                                  \n",
            " conv4_block6_1_conv (Conv2D)   (None, 16, 16, 256)  262400      ['conv4_block5_out[0][0]']       \n",
            "                                                                                                  \n",
            " conv4_block6_1_bn (BatchNormal  (None, 16, 16, 256)  1024       ['conv4_block6_1_conv[0][0]']    \n",
            " ization)                                                                                         \n",
            "                                                                                                  \n",
            " conv4_block6_1_relu (Activatio  (None, 16, 16, 256)  0          ['conv4_block6_1_bn[0][0]']      \n",
            " n)                                                                                               \n",
            "                                                                                                  \n",
            " conv4_block6_2_conv (Conv2D)   (None, 16, 16, 256)  590080      ['conv4_block6_1_relu[0][0]']    \n",
            "                                                                                                  \n",
            " conv4_block6_2_bn (BatchNormal  (None, 16, 16, 256)  1024       ['conv4_block6_2_conv[0][0]']    \n",
            " ization)                                                                                         \n",
            "                                                                                                  \n",
            " conv4_block6_2_relu (Activatio  (None, 16, 16, 256)  0          ['conv4_block6_2_bn[0][0]']      \n",
            " n)                                                                                               \n",
            "                                                                                                  \n",
            " conv4_block6_3_conv (Conv2D)   (None, 16, 16, 1024  263168      ['conv4_block6_2_relu[0][0]']    \n",
            "                                )                                                                 \n",
            "                                                                                                  \n",
            " conv4_block6_3_bn (BatchNormal  (None, 16, 16, 1024  4096       ['conv4_block6_3_conv[0][0]']    \n",
            " ization)                       )                                                                 \n",
            "                                                                                                  \n",
            " conv4_block6_add (Add)         (None, 16, 16, 1024  0           ['conv4_block5_out[0][0]',       \n",
            "                                )                                 'conv4_block6_3_bn[0][0]']      \n",
            "                                                                                                  \n",
            " conv4_block6_out (Activation)  (None, 16, 16, 1024  0           ['conv4_block6_add[0][0]']       \n",
            "                                )                                                                 \n",
            "                                                                                                  \n",
            " conv5_block1_1_conv (Conv2D)   (None, 8, 8, 512)    524800      ['conv4_block6_out[0][0]']       \n",
            "                                                                                                  \n",
            " conv5_block1_1_bn (BatchNormal  (None, 8, 8, 512)   2048        ['conv5_block1_1_conv[0][0]']    \n",
            " ization)                                                                                         \n",
            "                                                                                                  \n",
            " conv5_block1_1_relu (Activatio  (None, 8, 8, 512)   0           ['conv5_block1_1_bn[0][0]']      \n",
            " n)                                                                                               \n",
            "                                                                                                  \n",
            " conv5_block1_2_conv (Conv2D)   (None, 8, 8, 512)    2359808     ['conv5_block1_1_relu[0][0]']    \n",
            "                                                                                                  \n",
            " conv5_block1_2_bn (BatchNormal  (None, 8, 8, 512)   2048        ['conv5_block1_2_conv[0][0]']    \n",
            " ization)                                                                                         \n",
            "                                                                                                  \n",
            " conv5_block1_2_relu (Activatio  (None, 8, 8, 512)   0           ['conv5_block1_2_bn[0][0]']      \n",
            " n)                                                                                               \n",
            "                                                                                                  \n",
            " conv5_block1_0_conv (Conv2D)   (None, 8, 8, 2048)   2099200     ['conv4_block6_out[0][0]']       \n",
            "                                                                                                  \n",
            " conv5_block1_3_conv (Conv2D)   (None, 8, 8, 2048)   1050624     ['conv5_block1_2_relu[0][0]']    \n",
            "                                                                                                  \n",
            " conv5_block1_0_bn (BatchNormal  (None, 8, 8, 2048)  8192        ['conv5_block1_0_conv[0][0]']    \n",
            " ization)                                                                                         \n",
            "                                                                                                  \n",
            " conv5_block1_3_bn (BatchNormal  (None, 8, 8, 2048)  8192        ['conv5_block1_3_conv[0][0]']    \n",
            " ization)                                                                                         \n",
            "                                                                                                  \n",
            " conv5_block1_add (Add)         (None, 8, 8, 2048)   0           ['conv5_block1_0_bn[0][0]',      \n",
            "                                                                  'conv5_block1_3_bn[0][0]']      \n",
            "                                                                                                  \n",
            " conv5_block1_out (Activation)  (None, 8, 8, 2048)   0           ['conv5_block1_add[0][0]']       \n",
            "                                                                                                  \n",
            " conv5_block2_1_conv (Conv2D)   (None, 8, 8, 512)    1049088     ['conv5_block1_out[0][0]']       \n",
            "                                                                                                  \n",
            " conv5_block2_1_bn (BatchNormal  (None, 8, 8, 512)   2048        ['conv5_block2_1_conv[0][0]']    \n",
            " ization)                                                                                         \n",
            "                                                                                                  \n",
            " conv5_block2_1_relu (Activatio  (None, 8, 8, 512)   0           ['conv5_block2_1_bn[0][0]']      \n",
            " n)                                                                                               \n",
            "                                                                                                  \n",
            " conv5_block2_2_conv (Conv2D)   (None, 8, 8, 512)    2359808     ['conv5_block2_1_relu[0][0]']    \n",
            "                                                                                                  \n",
            " conv5_block2_2_bn (BatchNormal  (None, 8, 8, 512)   2048        ['conv5_block2_2_conv[0][0]']    \n",
            " ization)                                                                                         \n",
            "                                                                                                  \n",
            " conv5_block2_2_relu (Activatio  (None, 8, 8, 512)   0           ['conv5_block2_2_bn[0][0]']      \n",
            " n)                                                                                               \n",
            "                                                                                                  \n",
            " conv5_block2_3_conv (Conv2D)   (None, 8, 8, 2048)   1050624     ['conv5_block2_2_relu[0][0]']    \n",
            "                                                                                                  \n",
            " conv5_block2_3_bn (BatchNormal  (None, 8, 8, 2048)  8192        ['conv5_block2_3_conv[0][0]']    \n",
            " ization)                                                                                         \n",
            "                                                                                                  \n",
            " conv5_block2_add (Add)         (None, 8, 8, 2048)   0           ['conv5_block1_out[0][0]',       \n",
            "                                                                  'conv5_block2_3_bn[0][0]']      \n",
            "                                                                                                  \n",
            " conv5_block2_out (Activation)  (None, 8, 8, 2048)   0           ['conv5_block2_add[0][0]']       \n",
            "                                                                                                  \n",
            " conv5_block3_1_conv (Conv2D)   (None, 8, 8, 512)    1049088     ['conv5_block2_out[0][0]']       \n",
            "                                                                                                  \n",
            " conv5_block3_1_bn (BatchNormal  (None, 8, 8, 512)   2048        ['conv5_block3_1_conv[0][0]']    \n",
            " ization)                                                                                         \n",
            "                                                                                                  \n",
            " conv5_block3_1_relu (Activatio  (None, 8, 8, 512)   0           ['conv5_block3_1_bn[0][0]']      \n",
            " n)                                                                                               \n",
            "                                                                                                  \n",
            " conv5_block3_2_conv (Conv2D)   (None, 8, 8, 512)    2359808     ['conv5_block3_1_relu[0][0]']    \n",
            "                                                                                                  \n",
            " conv5_block3_2_bn (BatchNormal  (None, 8, 8, 512)   2048        ['conv5_block3_2_conv[0][0]']    \n",
            " ization)                                                                                         \n",
            "                                                                                                  \n",
            " conv5_block3_2_relu (Activatio  (None, 8, 8, 512)   0           ['conv5_block3_2_bn[0][0]']      \n",
            " n)                                                                                               \n",
            "                                                                                                  \n",
            " conv5_block3_3_conv (Conv2D)   (None, 8, 8, 2048)   1050624     ['conv5_block3_2_relu[0][0]']    \n",
            "                                                                                                  \n",
            " conv5_block3_3_bn (BatchNormal  (None, 8, 8, 2048)  8192        ['conv5_block3_3_conv[0][0]']    \n",
            " ization)                                                                                         \n",
            "                                                                                                  \n",
            " conv5_block3_add (Add)         (None, 8, 8, 2048)   0           ['conv5_block2_out[0][0]',       \n",
            "                                                                  'conv5_block3_3_bn[0][0]']      \n",
            "                                                                                                  \n",
            " conv5_block3_out (Activation)  (None, 8, 8, 2048)   0           ['conv5_block3_add[0][0]']       \n",
            "                                                                                                  \n",
            " global_average_pooling2d (Glob  (None, 2048)        0           ['conv5_block3_out[0][0]']       \n",
            " alAveragePooling2D)                                                                              \n",
            "                                                                                                  \n",
            " dense (Dense)                  (None, 2)            4098        ['global_average_pooling2d[0][0]'\n",
            "                                                                 ]                                \n",
            "                                                                                                  \n",
            "==================================================================================================\n",
            "Total params: 23,591,810\n",
            "Trainable params: 4,098\n",
            "Non-trainable params: 23,587,712\n",
            "__________________________________________________________________________________________________\n"
          ]
        }
      ]
    },
    {
      "cell_type": "markdown",
      "source": [
        "## **4. Model preparation for transfer learning - Custom model**"
      ],
      "metadata": {
        "id": "Yju1WkTJfnKg"
      }
    },
    {
      "cell_type": "code",
      "source": [
        "inputs = keras.Input(shape=(32, 32, 3))\n",
        "\n",
        "conv1 = keras.layers.Conv2D(filters=10, kernel_size=3, activation = 'relu')(inputs)\n",
        "conv2 = keras.layers.Conv2D(filters=10, kernel_size=3, activation = 'relu')(conv1)\n",
        "\n",
        "pool1 = keras.layers.MaxPool2D(pool_size = 2, padding = 'valid')(conv2)\n",
        "\n",
        "conv3 = keras.layers.Conv2D(filters=10, kernel_size=3, activation = 'relu')(pool1)\n",
        "conv4 = keras.layers.Conv2D(filters=10, kernel_size=3, activation = 'relu')(conv3)\n",
        "\n",
        "pool2 = keras.layers.MaxPool2D(pool_size = 2, padding = 'valid')(conv4)\n",
        "\n",
        "flatten1 = keras.layers.Flatten()(pool2)\n",
        "dense1 = keras.layers.Dense(8, activation = 'relu')(flatten1)\n",
        "dropout1 = keras.layers.Dropout(0.1)(dense1)\n",
        "\n",
        "flatten2 = keras.layers.Flatten()(dropout1)\n",
        "dense2 = keras.layers.Dense(2, activation = 'softmax')(flatten2)\n",
        "dropout2 = keras.layers.Dropout(0.1)(dense2)\n",
        "\n",
        "classifier = keras.Model(inputs, dropout2)"
      ],
      "metadata": {
        "id": "2dg_Np2Odxs7"
      },
      "execution_count": 7,
      "outputs": []
    },
    {
      "cell_type": "markdown",
      "source": [
        "## **5. Model training**"
      ],
      "metadata": {
        "id": "Ndm2Mz-ofeW8"
      }
    },
    {
      "cell_type": "markdown",
      "source": [
        "### Enable mechanisms preventing overlearning/ interrupting learning process"
      ],
      "metadata": {
        "id": "UQxThMIe6kwK"
      }
    },
    {
      "cell_type": "code",
      "source": [
        "earlystop = EarlyStopping(monitor='val_loss',\n",
        "                          restore_best_weights=True,\n",
        "                          patience=4,\n",
        "                          verbose=1)\n",
        "\n",
        "checkpoint = ModelCheckpoint(classifier_path,\n",
        "                             monitor=\"val_loss\",\n",
        "                             mode='min',\n",
        "                             save_best_only=True,\n",
        "                             verbose=1)"
      ],
      "metadata": {
        "id": "Py1BJJROa5RQ"
      },
      "execution_count": 10,
      "outputs": []
    },
    {
      "cell_type": "markdown",
      "source": [
        "### Define training"
      ],
      "metadata": {
        "id": "68C6IUtKTakS"
      }
    },
    {
      "cell_type": "code",
      "source": [
        "def train(classifier, learning_rate, showStats=False, path=classifier_path):\n",
        "  #training_generator.reset()\n",
        "  #validation_generator.reset()\n",
        "  \n",
        "  callbacks = [earlystop, checkpoint]\n",
        "  \n",
        "  classifier.compile(loss='binary_crossentropy',\n",
        "                    #optimizer=RMSprop(learning_rate=learning_rate),\n",
        "                    #optimizer=Adadelta(learning_rate=learning_rate),\n",
        "                    optimizer=Adam(learning_rate=learning_rate),\n",
        "                    metrics=['accuracy'])\n",
        "\n",
        "  history = classifier.fit(training_generator,\n",
        "                           epochs=18,\n",
        "                           steps_per_epoch=len(training_generator),\n",
        "                           callbacks=callbacks,\n",
        "                           validation_data=validation_generator,\n",
        "                           validation_steps=len(validation_generator))\n",
        "\n",
        "  classifier.save(path)\n",
        "\n",
        "  if showStats:\n",
        "    stats(history)\n",
        "\n",
        "  return history\n",
        "\n",
        "def stats(history):\n",
        "  # summarize history for accuracy\n",
        "  plt.figure(figsize=(10,10))\n",
        "  plt.plot(history.history['accuracy'])\n",
        "  plt.plot(history.history['val_accuracy'])\n",
        "  plt.title('model accuracy')\n",
        "  plt.ylabel('accuracy')\n",
        "  plt.xlabel('epoch')\n",
        "  plt.legend(['train', 'test'], loc='upper left')\n",
        "  plt.show()\n",
        "\n",
        "  # summarize history for loss\n",
        "  plt.figure(figsize=(10,10))\n",
        "  plt.plot(history.history['loss'])\n",
        "  plt.plot(history.history['val_loss'])\n",
        "  plt.title('model loss')\n",
        "  plt.ylabel('loss')\n",
        "  plt.xlabel('epoch')\n",
        "  plt.legend(['train', 'test'], loc='upper left')\n",
        "  plt.show()"
      ],
      "metadata": {
        "id": "S0RgRwYC0rKZ"
      },
      "execution_count": 11,
      "outputs": []
    },
    {
      "cell_type": "markdown",
      "source": [
        "### Start training process (ResNet50)"
      ],
      "metadata": {
        "id": "ymfANF1MUk1x"
      }
    },
    {
      "cell_type": "code",
      "source": [
        "history = train(classifier, 0.01, showStats=True)"
      ],
      "metadata": {
        "colab": {
          "base_uri": "https://localhost:8080/",
          "height": 1000
        },
        "id": "Clu6qEPPSjOf",
        "outputId": "4d0f5d17-05fd-4a12-da9a-bf26a1c976ef"
      },
      "execution_count": 12,
      "outputs": [
        {
          "output_type": "stream",
          "name": "stdout",
          "text": [
            "Epoch 1/18\n",
            "12/12 [==============================] - ETA: 0s - loss: 1.1616 - accuracy: 0.4728 \n",
            "Epoch 00001: val_loss improved from inf to 0.75432, saving model to drive/MyDrive/models/classifier-2.h5\n"
          ]
        },
        {
          "output_type": "stream",
          "name": "stderr",
          "text": [
            "/usr/local/lib/python3.7/dist-packages/keras/engine/functional.py:1410: CustomMaskWarning: Custom mask layers require a config and must override get_config. When loading, the custom mask layer must be passed to the custom_objects argument.\n",
            "  layer_config = serialize_layer_fn(layer)\n"
          ]
        },
        {
          "output_type": "stream",
          "name": "stdout",
          "text": [
            "\b\b\b\b\b\b\b\b\b\b\b\b\b\b\b\b\b\b\b\b\b\b\b\b\b\b\b\b\b\b\b\b\b\b\b\b\b\b\b\b\b\b\b\b\b\b\b\b\b\b\b\b\b\b\b\b\b\b\b\b\b\b\b\b\b\b\b\b\b\b\b\b\b\b\b\b\b\b\b\b\b\b\r12/12 [==============================] - 215s 18s/step - loss: 1.1616 - accuracy: 0.4728 - val_loss: 0.7543 - val_accuracy: 0.4770\n",
            "Epoch 2/18\n",
            "12/12 [==============================] - ETA: 0s - loss: 0.6978 - accuracy: 0.5565\n",
            "Epoch 00002: val_loss improved from 0.75432 to 0.74149, saving model to drive/MyDrive/models/classifier-2.h5\n",
            "12/12 [==============================] - 7s 562ms/step - loss: 0.6978 - accuracy: 0.5565 - val_loss: 0.7415 - val_accuracy: 0.5314\n",
            "Epoch 3/18\n",
            "12/12 [==============================] - ETA: 0s - loss: 0.6972 - accuracy: 0.5523\n",
            "Epoch 00003: val_loss improved from 0.74149 to 0.71800, saving model to drive/MyDrive/models/classifier-2.h5\n",
            "12/12 [==============================] - 6s 518ms/step - loss: 0.6972 - accuracy: 0.5523 - val_loss: 0.7180 - val_accuracy: 0.4812\n",
            "Epoch 4/18\n",
            "12/12 [==============================] - ETA: 0s - loss: 0.6156 - accuracy: 0.6722\n",
            "Epoch 00004: val_loss improved from 0.71800 to 0.58225, saving model to drive/MyDrive/models/classifier-2.h5\n",
            "12/12 [==============================] - 7s 574ms/step - loss: 0.6156 - accuracy: 0.6722 - val_loss: 0.5823 - val_accuracy: 0.6820\n",
            "Epoch 5/18\n",
            "12/12 [==============================] - ETA: 0s - loss: 0.5891 - accuracy: 0.7029\n",
            "Epoch 00005: val_loss improved from 0.58225 to 0.54325, saving model to drive/MyDrive/models/classifier-2.h5\n",
            "12/12 [==============================] - 6s 495ms/step - loss: 0.5891 - accuracy: 0.7029 - val_loss: 0.5433 - val_accuracy: 0.7741\n",
            "Epoch 6/18\n",
            "12/12 [==============================] - ETA: 0s - loss: 0.5558 - accuracy: 0.7420\n",
            "Epoch 00006: val_loss improved from 0.54325 to 0.52704, saving model to drive/MyDrive/models/classifier-2.h5\n",
            "12/12 [==============================] - 6s 489ms/step - loss: 0.5558 - accuracy: 0.7420 - val_loss: 0.5270 - val_accuracy: 0.7741\n",
            "Epoch 7/18\n",
            "12/12 [==============================] - ETA: 0s - loss: 0.5623 - accuracy: 0.7183\n",
            "Epoch 00007: val_loss did not improve from 0.52704\n",
            "12/12 [==============================] - 5s 416ms/step - loss: 0.5623 - accuracy: 0.7183 - val_loss: 0.5939 - val_accuracy: 0.6653\n",
            "Epoch 8/18\n",
            "12/12 [==============================] - ETA: 0s - loss: 0.5446 - accuracy: 0.7392\n",
            "Epoch 00008: val_loss did not improve from 0.52704\n",
            "12/12 [==============================] - 5s 443ms/step - loss: 0.5446 - accuracy: 0.7392 - val_loss: 0.5365 - val_accuracy: 0.7197\n",
            "Epoch 9/18\n",
            "12/12 [==============================] - ETA: 0s - loss: 0.5696 - accuracy: 0.6946\n",
            "Epoch 00009: val_loss improved from 0.52704 to 0.50551, saving model to drive/MyDrive/models/classifier-2.h5\n",
            "12/12 [==============================] - 6s 532ms/step - loss: 0.5696 - accuracy: 0.6946 - val_loss: 0.5055 - val_accuracy: 0.7615\n",
            "Epoch 10/18\n",
            "12/12 [==============================] - ETA: 0s - loss: 0.5541 - accuracy: 0.7294\n",
            "Epoch 00010: val_loss did not improve from 0.50551\n",
            "12/12 [==============================] - 5s 414ms/step - loss: 0.5541 - accuracy: 0.7294 - val_loss: 0.5382 - val_accuracy: 0.7448\n",
            "Epoch 11/18\n",
            "12/12 [==============================] - ETA: 0s - loss: 0.5344 - accuracy: 0.7448\n",
            "Epoch 00011: val_loss improved from 0.50551 to 0.48892, saving model to drive/MyDrive/models/classifier-2.h5\n",
            "12/12 [==============================] - 6s 502ms/step - loss: 0.5344 - accuracy: 0.7448 - val_loss: 0.4889 - val_accuracy: 0.8201\n",
            "Epoch 12/18\n",
            "12/12 [==============================] - ETA: 0s - loss: 0.5086 - accuracy: 0.7657\n",
            "Epoch 00012: val_loss did not improve from 0.48892\n",
            "12/12 [==============================] - 5s 409ms/step - loss: 0.5086 - accuracy: 0.7657 - val_loss: 0.4918 - val_accuracy: 0.7531\n",
            "Epoch 13/18\n",
            "12/12 [==============================] - ETA: 0s - loss: 0.5048 - accuracy: 0.7629\n",
            "Epoch 00013: val_loss improved from 0.48892 to 0.48077, saving model to drive/MyDrive/models/classifier-2.h5\n",
            "12/12 [==============================] - 7s 540ms/step - loss: 0.5048 - accuracy: 0.7629 - val_loss: 0.4808 - val_accuracy: 0.8117\n",
            "Epoch 14/18\n",
            "12/12 [==============================] - ETA: 0s - loss: 0.5066 - accuracy: 0.7587\n",
            "Epoch 00014: val_loss did not improve from 0.48077\n",
            "12/12 [==============================] - 5s 404ms/step - loss: 0.5066 - accuracy: 0.7587 - val_loss: 0.5861 - val_accuracy: 0.6653\n",
            "Epoch 15/18\n",
            "12/12 [==============================] - ETA: 0s - loss: 0.5393 - accuracy: 0.7197\n",
            "Epoch 00015: val_loss did not improve from 0.48077\n",
            "12/12 [==============================] - 5s 413ms/step - loss: 0.5393 - accuracy: 0.7197 - val_loss: 0.5618 - val_accuracy: 0.6862\n",
            "Epoch 16/18\n",
            "12/12 [==============================] - ETA: 0s - loss: 0.5302 - accuracy: 0.7322\n",
            "Epoch 00016: val_loss did not improve from 0.48077\n",
            "12/12 [==============================] - 5s 426ms/step - loss: 0.5302 - accuracy: 0.7322 - val_loss: 0.5060 - val_accuracy: 0.7657\n",
            "Epoch 17/18\n",
            "12/12 [==============================] - ETA: 0s - loss: 0.4986 - accuracy: 0.7545\n",
            "Epoch 00017: val_loss improved from 0.48077 to 0.46462, saving model to drive/MyDrive/models/classifier-2.h5\n",
            "12/12 [==============================] - 6s 544ms/step - loss: 0.4986 - accuracy: 0.7545 - val_loss: 0.4646 - val_accuracy: 0.7950\n",
            "Epoch 18/18\n",
            "12/12 [==============================] - ETA: 0s - loss: 0.5336 - accuracy: 0.7545\n",
            "Epoch 00018: val_loss improved from 0.46462 to 0.46301, saving model to drive/MyDrive/models/classifier-2.h5\n",
            "12/12 [==============================] - 6s 482ms/step - loss: 0.5336 - accuracy: 0.7545 - val_loss: 0.4630 - val_accuracy: 0.7866\n"
          ]
        },
        {
          "output_type": "display_data",
          "data": {
            "image/png": "[encoded data removed]",
            "text/plain": [
              "<Figure size 720x720 with 1 Axes>"
            ]
          },
          "metadata": {
            "needs_background": "light"
          }
        },
        {
          "output_type": "display_data",
          "data": {
            "image/png": "[encoded data removed]",
            "text/plain": [
              "<Figure size 720x720 with 1 Axes>"
            ]
          },
          "metadata": {
            "needs_background": "light"
          }
        }
      ]
    },
    {
      "cell_type": "markdown",
      "source": [
        "### Fine tuning"
      ],
      "metadata": {
        "id": "hFHPMlPhf3jn"
      }
    },
    {
      "cell_type": "code",
      "source": [
        "base_model.trainable = True\n",
        "\n",
        "print('Number of layers in the base model: ', len(base_model.layers))\n",
        "fine_tune_at = 100\n",
        "\n",
        "for layer in base_model.layers[:fine_tune_at]:\n",
        "  layer.trainable =  False"
      ],
      "metadata": {
        "colab": {
          "base_uri": "https://localhost:8080/"
        },
        "id": "B-somSWBLZAC",
        "outputId": "d3fb82aa-f95e-4230-d3fd-1801532b904c"
      },
      "execution_count": null,
      "outputs": [
        {
          "output_type": "stream",
          "name": "stdout",
          "text": [
            "Number of layers in the base model:  190\n"
          ]
        }
      ]
    },
    {
      "cell_type": "code",
      "source": [
        "def fine_tune(learning_rate, initialEpoch=1, showStats=False):\n",
        "  callbacks = [earlystop, checkpoint]\n",
        "  \n",
        "  classifier.compile(loss='categorical_crossentropy',\n",
        "                     optimizer = tf.keras.optimizers.RMSprop(learning_rate=learning_rate/10),\n",
        "                     metrics=['accuracy'])\n",
        "\n",
        "  fine_tune_epochs = 10\n",
        "  total_epochs =  EPOCHS + fine_tune_epochs\n",
        "\n",
        "  history = classifier.fit(training_generator,\n",
        "                           epochs=total_epochs,\n",
        "                           callbacks=callbacks,\n",
        "                           initial_epoch=initialEpoch,\n",
        "                           validation_data=validation_generator)\n",
        "\n",
        "  classifier.save(classifier_path)\n",
        "\n",
        "  if showStats:\n",
        "    stats(history)\n",
        "\n",
        "  return history"
      ],
      "metadata": {
        "id": "kgOGqm75SOTv"
      },
      "execution_count": null,
      "outputs": []
    },
    {
      "cell_type": "code",
      "source": [
        "fine_tune(rate, history.epoch[-1], True)"
      ],
      "metadata": {
        "id": "754oSnkqS79x"
      },
      "execution_count": null,
      "outputs": []
    },
    {
      "cell_type": "code",
      "source": [
        "loss1, accuracy1 = classifier.evaluate(test_generator)"
      ],
      "metadata": {
        "id": "JS9zVQ9WS0m0"
      },
      "execution_count": null,
      "outputs": []
    },
    {
      "cell_type": "code",
      "source": [
        "print(\"initial loss: {:.2f}\".format(loss1))\n",
        "print(\"initial accuracy: {:.2f}\".format(accuracy1))"
      ],
      "metadata": {
        "id": "jwUkjITYmIS0"
      },
      "execution_count": null,
      "outputs": []
    },
    {
      "cell_type": "markdown",
      "source": [
        "### Simplified model: start training process"
      ],
      "metadata": {
        "id": "VrtS7wFEfU_R"
      }
    },
    {
      "cell_type": "code",
      "source": [
        "# best one\n",
        "history = train(classifier, 0.001, showStats=True)"
      ],
      "metadata": {
        "colab": {
          "base_uri": "https://localhost:8080/",
          "height": 1000
        },
        "id": "HsDhs56wBuJM",
        "outputId": "8cf164e9-b488-4275-d80e-bfccf3ff6620"
      },
      "execution_count": 12,
      "outputs": [
        {
          "output_type": "stream",
          "name": "stdout",
          "text": [
            "Epoch 1/18\n",
            "12/12 [==============================] - ETA: 0s - loss: 1.6923 - accuracy: 0.4895 \n",
            "Epoch 00001: val_loss improved from inf to 0.66695, saving model to drive/MyDrive/models/classifier-2.h5\n",
            "12/12 [==============================] - 234s 21s/step - loss: 1.6923 - accuracy: 0.4895 - val_loss: 0.6669 - val_accuracy: 0.5146\n",
            "Epoch 2/18\n",
            "12/12 [==============================] - ETA: 0s - loss: 1.3912 - accuracy: 0.5244\n",
            "Epoch 00002: val_loss improved from 0.66695 to 0.60009, saving model to drive/MyDrive/models/classifier-2.h5\n",
            "12/12 [==============================] - 3s 230ms/step - loss: 1.3912 - accuracy: 0.5244 - val_loss: 0.6001 - val_accuracy: 0.5774\n",
            "Epoch 3/18\n",
            "12/12 [==============================] - ETA: 0s - loss: 1.2963 - accuracy: 0.7015\n",
            "Epoch 00003: val_loss improved from 0.60009 to 0.52747, saving model to drive/MyDrive/models/classifier-2.h5\n",
            "12/12 [==============================] - 3s 210ms/step - loss: 1.2963 - accuracy: 0.7015 - val_loss: 0.5275 - val_accuracy: 0.9079\n",
            "Epoch 4/18\n",
            "12/12 [==============================] - ETA: 0s - loss: 1.1802 - accuracy: 0.8006\n",
            "Epoch 00004: val_loss improved from 0.52747 to 0.45666, saving model to drive/MyDrive/models/classifier-2.h5\n",
            "12/12 [==============================] - 2s 203ms/step - loss: 1.1802 - accuracy: 0.8006 - val_loss: 0.4567 - val_accuracy: 0.8745\n",
            "Epoch 5/18\n",
            "12/12 [==============================] - ETA: 0s - loss: 1.1595 - accuracy: 0.8396\n",
            "Epoch 00005: val_loss improved from 0.45666 to 0.43676, saving model to drive/MyDrive/models/classifier-2.h5\n",
            "12/12 [==============================] - 2s 202ms/step - loss: 1.1595 - accuracy: 0.8396 - val_loss: 0.4368 - val_accuracy: 0.9331\n",
            "Epoch 6/18\n",
            "12/12 [==============================] - ETA: 0s - loss: 1.3514 - accuracy: 0.8173\n",
            "Epoch 00006: val_loss improved from 0.43676 to 0.41401, saving model to drive/MyDrive/models/classifier-2.h5\n",
            "12/12 [==============================] - 3s 208ms/step - loss: 1.3514 - accuracy: 0.8173 - val_loss: 0.4140 - val_accuracy: 0.9247\n",
            "Epoch 7/18\n",
            "12/12 [==============================] - ETA: 0s - loss: 1.1069 - accuracy: 0.8647\n",
            "Epoch 00007: val_loss improved from 0.41401 to 0.40049, saving model to drive/MyDrive/models/classifier-2.h5\n",
            "12/12 [==============================] - 3s 235ms/step - loss: 1.1069 - accuracy: 0.8647 - val_loss: 0.4005 - val_accuracy: 0.9247\n",
            "Epoch 8/18\n",
            "12/12 [==============================] - ETA: 0s - loss: 1.2923 - accuracy: 0.8410\n",
            "Epoch 00008: val_loss improved from 0.40049 to 0.38220, saving model to drive/MyDrive/models/classifier-2.h5\n",
            "12/12 [==============================] - 3s 229ms/step - loss: 1.2923 - accuracy: 0.8410 - val_loss: 0.3822 - val_accuracy: 0.9372\n",
            "Epoch 9/18\n",
            "12/12 [==============================] - ETA: 0s - loss: 1.0258 - accuracy: 0.8759\n",
            "Epoch 00009: val_loss improved from 0.38220 to 0.37616, saving model to drive/MyDrive/models/classifier-2.h5\n",
            "12/12 [==============================] - 3s 214ms/step - loss: 1.0258 - accuracy: 0.8759 - val_loss: 0.3762 - val_accuracy: 0.9456\n",
            "Epoch 10/18\n",
            "12/12 [==============================] - ETA: 0s - loss: 1.0974 - accuracy: 0.8563\n",
            "Epoch 00010: val_loss did not improve from 0.37616\n",
            "12/12 [==============================] - 3s 238ms/step - loss: 1.0974 - accuracy: 0.8563 - val_loss: 0.3784 - val_accuracy: 0.9247\n",
            "Epoch 11/18\n",
            "12/12 [==============================] - ETA: 0s - loss: 1.2784 - accuracy: 0.8020\n",
            "Epoch 00011: val_loss did not improve from 0.37616\n",
            "12/12 [==============================] - 3s 226ms/step - loss: 1.2784 - accuracy: 0.8020 - val_loss: 0.3953 - val_accuracy: 0.9121\n",
            "Epoch 12/18\n",
            "12/12 [==============================] - ETA: 0s - loss: 1.0582 - accuracy: 0.8675\n",
            "Epoch 00012: val_loss improved from 0.37616 to 0.36579, saving model to drive/MyDrive/models/classifier-2.h5\n",
            "12/12 [==============================] - 3s 223ms/step - loss: 1.0582 - accuracy: 0.8675 - val_loss: 0.3658 - val_accuracy: 0.9247\n",
            "Epoch 13/18\n",
            "12/12 [==============================] - ETA: 0s - loss: 1.0904 - accuracy: 0.8717\n",
            "Epoch 00013: val_loss improved from 0.36579 to 0.35263, saving model to drive/MyDrive/models/classifier-2.h5\n",
            "12/12 [==============================] - 2s 216ms/step - loss: 1.0904 - accuracy: 0.8717 - val_loss: 0.3526 - val_accuracy: 0.9372\n",
            "Epoch 14/18\n",
            "12/12 [==============================] - ETA: 0s - loss: 0.9496 - accuracy: 0.8842\n",
            "Epoch 00014: val_loss improved from 0.35263 to 0.34554, saving model to drive/MyDrive/models/classifier-2.h5\n",
            "12/12 [==============================] - 3s 214ms/step - loss: 0.9496 - accuracy: 0.8842 - val_loss: 0.3455 - val_accuracy: 0.9372\n",
            "Epoch 15/18\n",
            "12/12 [==============================] - ETA: 0s - loss: 1.2492 - accuracy: 0.8424\n",
            "Epoch 00015: val_loss improved from 0.34554 to 0.34303, saving model to drive/MyDrive/models/classifier-2.h5\n",
            "12/12 [==============================] - 3s 212ms/step - loss: 1.2492 - accuracy: 0.8424 - val_loss: 0.3430 - val_accuracy: 0.9331\n",
            "Epoch 16/18\n",
            "12/12 [==============================] - ETA: 0s - loss: 1.0226 - accuracy: 0.8801\n",
            "Epoch 00016: val_loss did not improve from 0.34303\n",
            "12/12 [==============================] - 2s 190ms/step - loss: 1.0226 - accuracy: 0.8801 - val_loss: 0.3498 - val_accuracy: 0.9456\n",
            "Epoch 17/18\n",
            "12/12 [==============================] - ETA: 0s - loss: 1.1216 - accuracy: 0.8759\n",
            "Epoch 00017: val_loss improved from 0.34303 to 0.33116, saving model to drive/MyDrive/models/classifier-2.h5\n",
            "12/12 [==============================] - 2s 205ms/step - loss: 1.1216 - accuracy: 0.8759 - val_loss: 0.3312 - val_accuracy: 0.9331\n",
            "Epoch 18/18\n",
            "12/12 [==============================] - ETA: 0s - loss: 0.8900 - accuracy: 0.8954\n",
            "Epoch 00018: val_loss did not improve from 0.33116\n",
            "12/12 [==============================] - 2s 192ms/step - loss: 0.8900 - accuracy: 0.8954 - val_loss: 0.3339 - val_accuracy: 0.9331\n"
          ]
        },
        {
          "output_type": "display_data",
          "data": {
            "image/png": "[encoded data removed]",
            "text/plain": [
              "<Figure size 720x720 with 1 Axes>"
            ]
          },
          "metadata": {
            "needs_background": "light"
          }
        },
        {
          "output_type": "display_data",
          "data": {
            "image/png": "[encoded data removed]",
            "text/plain": [
              "<Figure size 720x720 with 1 Axes>"
            ]
          },
          "metadata": {
            "needs_background": "light"
          }
        }
      ]
    },
    {
      "cell_type": "code",
      "source": [
        "history = train(classifier, 0.1, showStats=True)"
      ],
      "metadata": {
        "colab": {
          "base_uri": "https://localhost:8080/",
          "height": 1000
        },
        "id": "i4ghLd10K8Kc",
        "outputId": "c07a8e37-baed-4b99-e4e1-12383c4df46d"
      },
      "execution_count": 10,
      "outputs": [
        {
          "output_type": "stream",
          "name": "stdout",
          "text": [
            "Epoch 1/18\n",
            "12/12 [==============================] - ETA: 0s - loss: 6.8213 - accuracy: 0.5202 \n",
            "Epoch 00001: val_loss improved from inf to 8.59904, saving model to drive/MyDrive/models/classifier-2.h5\n",
            "12/12 [==============================] - 212s 18s/step - loss: 6.8213 - accuracy: 0.5202 - val_loss: 8.5990 - val_accuracy: 0.4393\n",
            "Epoch 2/18\n",
            "12/12 [==============================] - ETA: 0s - loss: 7.4699 - accuracy: 0.5063\n",
            "Epoch 00002: val_loss did not improve from 8.59904\n",
            "12/12 [==============================] - 3s 217ms/step - loss: 7.4699 - accuracy: 0.5063 - val_loss: 8.5990 - val_accuracy: 0.4393\n",
            "Epoch 3/18\n",
            "12/12 [==============================] - ETA: 0s - loss: 7.5117 - accuracy: 0.5007\n",
            "Epoch 00003: val_loss improved from 8.59904 to 8.59904, saving model to drive/MyDrive/models/classifier-2.h5\n",
            "12/12 [==============================] - 3s 220ms/step - loss: 7.5117 - accuracy: 0.5007 - val_loss: 8.5990 - val_accuracy: 0.4393\n",
            "Epoch 4/18\n",
            "12/12 [==============================] - ETA: 0s - loss: 7.3089 - accuracy: 0.5258\n",
            "Epoch 00004: val_loss did not improve from 8.59904\n",
            "12/12 [==============================] - 3s 212ms/step - loss: 7.3089 - accuracy: 0.5258 - val_loss: 8.5990 - val_accuracy: 0.4393\n",
            "Epoch 5/18\n",
            "12/12 [==============================] - ETA: 0s - loss: 7.2990 - accuracy: 0.5286\n",
            "Epoch 00005: val_loss did not improve from 8.59904\n",
            "12/12 [==============================] - 3s 217ms/step - loss: 7.2990 - accuracy: 0.5286 - val_loss: 8.5990 - val_accuracy: 0.4393\n",
            "Epoch 6/18\n",
            "12/12 [==============================] - ETA: 0s - loss: 7.3520 - accuracy: 0.5216\n",
            "Epoch 00006: val_loss did not improve from 8.59904\n",
            "12/12 [==============================] - 3s 208ms/step - loss: 7.3520 - accuracy: 0.5216 - val_loss: 8.5990 - val_accuracy: 0.4393\n",
            "Epoch 7/18\n",
            "12/12 [==============================] - ETA: 0s - loss: 7.3528 - accuracy: 0.5216Restoring model weights from the end of the best epoch: 3.\n",
            "\n",
            "Epoch 00007: val_loss did not improve from 8.59904\n",
            "12/12 [==============================] - 2s 203ms/step - loss: 7.3528 - accuracy: 0.5216 - val_loss: 8.5990 - val_accuracy: 0.4393\n",
            "Epoch 00007: early stopping\n"
          ]
        },
        {
          "output_type": "display_data",
          "data": {
            "image/png": "[encoded data removed]",
            "text/plain": [
              "<Figure size 720x720 with 1 Axes>"
            ]
          },
          "metadata": {
            "needs_background": "light"
          }
        },
        {
          "output_type": "display_data",
          "data": {
            "image/png": "[encoded data removed]",
            "text/plain": [
              "<Figure size 720x720 with 1 Axes>"
            ]
          },
          "metadata": {
            "needs_background": "light"
          }
        }
      ]
    },
    {
      "cell_type": "code",
      "source": [
        "# batch 128\n",
        "history = train(classifier, 0.001, showStats=True)"
      ],
      "metadata": {
        "colab": {
          "base_uri": "https://localhost:8080/",
          "height": 1000
        },
        "id": "pXpt8td0aXAu",
        "outputId": "31da38ad-72ad-45f2-9361-7af08e1b949c"
      },
      "execution_count": null,
      "outputs": [
        {
          "output_type": "stream",
          "name": "stdout",
          "text": [
            "Epoch 1/24\n",
            "6/6 [==============================] - ETA: 0s - loss: 1.2642 - accuracy: 0.5453\n",
            "Epoch 00001: val_loss improved from inf to 0.65219, saving model to drive/MyDrive/models/classifier.h5\n",
            "6/6 [==============================] - 3s 389ms/step - loss: 1.2642 - accuracy: 0.5453 - val_loss: 0.6522 - val_accuracy: 0.4895\n",
            "Epoch 2/24\n",
            "6/6 [==============================] - ETA: 0s - loss: 1.2923 - accuracy: 0.5342\n",
            "Epoch 00002: val_loss improved from 0.65219 to 0.59678, saving model to drive/MyDrive/models/classifier.h5\n",
            "6/6 [==============================] - 2s 309ms/step - loss: 1.2923 - accuracy: 0.5342 - val_loss: 0.5968 - val_accuracy: 0.8033\n",
            "Epoch 3/24\n",
            "6/6 [==============================] - ETA: 0s - loss: 1.2070 - accuracy: 0.7657\n",
            "Epoch 00003: val_loss improved from 0.59678 to 0.52253, saving model to drive/MyDrive/models/classifier.h5\n",
            "6/6 [==============================] - 2s 320ms/step - loss: 1.2070 - accuracy: 0.7657 - val_loss: 0.5225 - val_accuracy: 0.7782\n",
            "Epoch 4/24\n",
            "6/6 [==============================] - ETA: 0s - loss: 1.0890 - accuracy: 0.8033\n",
            "Epoch 00004: val_loss improved from 0.52253 to 0.42452, saving model to drive/MyDrive/models/classifier.h5\n",
            "6/6 [==============================] - 2s 326ms/step - loss: 1.0890 - accuracy: 0.8033 - val_loss: 0.4245 - val_accuracy: 0.9038\n",
            "Epoch 5/24\n",
            "6/6 [==============================] - ETA: 0s - loss: 1.1276 - accuracy: 0.8340\n",
            "Epoch 00005: val_loss improved from 0.42452 to 0.32165, saving model to drive/MyDrive/models/classifier.h5\n",
            "6/6 [==============================] - 2s 315ms/step - loss: 1.1276 - accuracy: 0.8340 - val_loss: 0.3217 - val_accuracy: 0.8912\n",
            "Epoch 6/24\n",
            "6/6 [==============================] - ETA: 0s - loss: 1.0955 - accuracy: 0.8298\n",
            "Epoch 00006: val_loss improved from 0.32165 to 0.25990, saving model to drive/MyDrive/models/classifier.h5\n",
            "6/6 [==============================] - 2s 327ms/step - loss: 1.0955 - accuracy: 0.8298 - val_loss: 0.2599 - val_accuracy: 0.8954\n",
            "Epoch 7/24\n",
            "6/6 [==============================] - ETA: 0s - loss: 1.0370 - accuracy: 0.8257\n",
            "Epoch 00007: val_loss improved from 0.25990 to 0.21109, saving model to drive/MyDrive/models/classifier.h5\n",
            "6/6 [==============================] - 2s 339ms/step - loss: 1.0370 - accuracy: 0.8257 - val_loss: 0.2111 - val_accuracy: 0.9079\n",
            "Epoch 8/24\n",
            "6/6 [==============================] - ETA: 0s - loss: 0.9106 - accuracy: 0.8577\n",
            "Epoch 00008: val_loss improved from 0.21109 to 0.18499, saving model to drive/MyDrive/models/classifier.h5\n",
            "6/6 [==============================] - 2s 327ms/step - loss: 0.9106 - accuracy: 0.8577 - val_loss: 0.1850 - val_accuracy: 0.9121\n",
            "Epoch 9/24\n",
            "6/6 [==============================] - ETA: 0s - loss: 1.0357 - accuracy: 0.8536\n",
            "Epoch 00009: val_loss improved from 0.18499 to 0.15998, saving model to drive/MyDrive/models/classifier.h5\n",
            "6/6 [==============================] - 2s 313ms/step - loss: 1.0357 - accuracy: 0.8536 - val_loss: 0.1600 - val_accuracy: 0.9247\n",
            "Epoch 10/24\n",
            "6/6 [==============================] - ETA: 0s - loss: 1.1123 - accuracy: 0.8466\n",
            "Epoch 00010: val_loss did not improve from 0.15998\n",
            "6/6 [==============================] - 2s 346ms/step - loss: 1.1123 - accuracy: 0.8466 - val_loss: 0.1848 - val_accuracy: 0.9331\n",
            "Epoch 11/24\n",
            "6/6 [==============================] - ETA: 0s - loss: 1.2703 - accuracy: 0.8298\n",
            "Epoch 00011: val_loss did not improve from 0.15998\n",
            "6/6 [==============================] - 2s 307ms/step - loss: 1.2703 - accuracy: 0.8298 - val_loss: 0.2732 - val_accuracy: 0.8996\n",
            "Epoch 12/24\n",
            "6/6 [==============================] - ETA: 0s - loss: 1.0264 - accuracy: 0.8285\n",
            "Epoch 00012: val_loss did not improve from 0.15998\n",
            "6/6 [==============================] - 2s 313ms/step - loss: 1.0264 - accuracy: 0.8285 - val_loss: 0.2780 - val_accuracy: 0.8661\n",
            "Epoch 13/24\n",
            "6/6 [==============================] - ETA: 0s - loss: 1.0552 - accuracy: 0.8480Restoring model weights from the end of the best epoch: 9.\n",
            "\n",
            "Epoch 00013: val_loss did not improve from 0.15998\n",
            "6/6 [==============================] - 2s 307ms/step - loss: 1.0552 - accuracy: 0.8480 - val_loss: 0.2212 - val_accuracy: 0.9247\n",
            "Epoch 00013: early stopping\n"
          ]
        },
        {
          "output_type": "display_data",
          "data": {
            "image/png": "[encoded data removed]",
            "text/plain": [
              "<Figure size 720x720 with 1 Axes>"
            ]
          },
          "metadata": {
            "needs_background": "light"
          }
        },
        {
          "output_type": "display_data",
          "data": {
            "image/png": "[encoded data removed]",
            "text/plain": [
              "<Figure size 720x720 with 1 Axes>"
            ]
          },
          "metadata": {
            "needs_background": "light"
          }
        }
      ]
    },
    {
      "cell_type": "code",
      "source": [
        "history = train(classifier, 0.01, showStats=True)"
      ],
      "metadata": {
        "colab": {
          "base_uri": "https://localhost:8080/",
          "height": 1000
        },
        "id": "r__rzWvUXVpb",
        "outputId": "6cf97ce2-0350-49f0-c9d0-e329797f8ab2"
      },
      "execution_count": null,
      "outputs": [
        {
          "output_type": "stream",
          "name": "stdout",
          "text": [
            "Epoch 1/24\n",
            "12/12 [==============================] - ETA: 0s - loss: 1.3035 - accuracy: 0.6792 \n",
            "Epoch 00001: val_loss improved from inf to 0.60625, saving model to drive/MyDrive/models/classifier.h5\n",
            "12/12 [==============================] - 218s 18s/step - loss: 1.3035 - accuracy: 0.6792 - val_loss: 0.6063 - val_accuracy: 0.6151\n",
            "Epoch 2/24\n",
            "12/12 [==============================] - ETA: 0s - loss: 1.3400 - accuracy: 0.7517\n",
            "Epoch 00002: val_loss improved from 0.60625 to 0.54792, saving model to drive/MyDrive/models/classifier.h5\n",
            "12/12 [==============================] - 2s 186ms/step - loss: 1.3400 - accuracy: 0.7517 - val_loss: 0.5479 - val_accuracy: 0.7113\n",
            "Epoch 3/24\n",
            "12/12 [==============================] - ETA: 0s - loss: 1.4445 - accuracy: 0.6625\n",
            "Epoch 00003: val_loss improved from 0.54792 to 0.52889, saving model to drive/MyDrive/models/classifier.h5\n",
            "12/12 [==============================] - 2s 175ms/step - loss: 1.4445 - accuracy: 0.6625 - val_loss: 0.5289 - val_accuracy: 0.7197\n",
            "Epoch 4/24\n",
            "12/12 [==============================] - ETA: 0s - loss: 1.0843 - accuracy: 0.7643\n",
            "Epoch 00004: val_loss improved from 0.52889 to 0.25731, saving model to drive/MyDrive/models/classifier.h5\n",
            "12/12 [==============================] - 2s 171ms/step - loss: 1.0843 - accuracy: 0.7643 - val_loss: 0.2573 - val_accuracy: 0.9414\n",
            "Epoch 5/24\n",
            "12/12 [==============================] - ETA: 0s - loss: 0.9248 - accuracy: 0.8480\n",
            "Epoch 00005: val_loss improved from 0.25731 to 0.17761, saving model to drive/MyDrive/models/classifier.h5\n",
            "12/12 [==============================] - 2s 186ms/step - loss: 0.9248 - accuracy: 0.8480 - val_loss: 0.1776 - val_accuracy: 0.9498\n",
            "Epoch 6/24\n",
            "12/12 [==============================] - ETA: 0s - loss: 0.9638 - accuracy: 0.8382\n",
            "Epoch 00006: val_loss did not improve from 0.17761\n",
            "12/12 [==============================] - 2s 169ms/step - loss: 0.9638 - accuracy: 0.8382 - val_loss: 0.3711 - val_accuracy: 0.8452\n",
            "Epoch 7/24\n",
            "12/12 [==============================] - ETA: 0s - loss: 0.9825 - accuracy: 0.8494\n",
            "Epoch 00007: val_loss improved from 0.17761 to 0.14291, saving model to drive/MyDrive/models/classifier.h5\n",
            "12/12 [==============================] - 2s 177ms/step - loss: 0.9825 - accuracy: 0.8494 - val_loss: 0.1429 - val_accuracy: 0.9582\n",
            "Epoch 8/24\n",
            "12/12 [==============================] - ETA: 0s - loss: 0.9567 - accuracy: 0.8717\n",
            "Epoch 00008: val_loss did not improve from 0.14291\n",
            "12/12 [==============================] - 2s 178ms/step - loss: 0.9567 - accuracy: 0.8717 - val_loss: 0.2002 - val_accuracy: 0.9540\n",
            "Epoch 9/24\n",
            "12/12 [==============================] - ETA: 0s - loss: 1.0581 - accuracy: 0.8382\n",
            "Epoch 00009: val_loss improved from 0.14291 to 0.12687, saving model to drive/MyDrive/models/classifier.h5\n",
            "12/12 [==============================] - 2s 175ms/step - loss: 1.0581 - accuracy: 0.8382 - val_loss: 0.1269 - val_accuracy: 0.9623\n",
            "Epoch 10/24\n",
            "12/12 [==============================] - ETA: 0s - loss: 0.8800 - accuracy: 0.8717\n",
            "Epoch 00010: val_loss improved from 0.12687 to 0.10782, saving model to drive/MyDrive/models/classifier.h5\n",
            "12/12 [==============================] - 2s 173ms/step - loss: 0.8800 - accuracy: 0.8717 - val_loss: 0.1078 - val_accuracy: 0.9623\n",
            "Epoch 11/24\n",
            "12/12 [==============================] - ETA: 0s - loss: 1.0017 - accuracy: 0.8633\n",
            "Epoch 00011: val_loss did not improve from 0.10782\n",
            "12/12 [==============================] - 2s 168ms/step - loss: 1.0017 - accuracy: 0.8633 - val_loss: 0.2110 - val_accuracy: 0.9331\n",
            "Epoch 12/24\n",
            "11/12 [==========================>...] - ETA: 0s - loss: 0.8861 - accuracy: 0.8679\n",
            "Epoch 00012: val_loss did not improve from 0.10782\n",
            "12/12 [==============================] - 2s 170ms/step - loss: 0.8918 - accuracy: 0.8675 - val_loss: 0.1176 - val_accuracy: 0.9623\n",
            "Epoch 13/24\n",
            "12/12 [==============================] - ETA: 0s - loss: 0.9132 - accuracy: 0.8675\n",
            "Epoch 00013: val_loss did not improve from 0.10782\n",
            "12/12 [==============================] - 2s 178ms/step - loss: 0.9132 - accuracy: 0.8675 - val_loss: 0.1486 - val_accuracy: 0.9582\n",
            "Epoch 14/24\n",
            "12/12 [==============================] - ETA: 0s - loss: 0.8810 - accuracy: 0.8773Restoring model weights from the end of the best epoch: 10.\n",
            "\n",
            "Epoch 00014: val_loss did not improve from 0.10782\n",
            "12/12 [==============================] - 2s 168ms/step - loss: 0.8810 - accuracy: 0.8773 - val_loss: 0.1273 - val_accuracy: 0.9582\n",
            "Epoch 00014: early stopping\n"
          ]
        },
        {
          "output_type": "display_data",
          "data": {
            "image/png": "[encoded data removed]",
            "text/plain": [
              "<Figure size 720x720 with 1 Axes>"
            ]
          },
          "metadata": {
            "needs_background": "light"
          }
        },
        {
          "output_type": "display_data",
          "data": {
            "image/png": "[encoded data removed]",
            "text/plain": [
              "<Figure size 720x720 with 1 Axes>"
            ]
          },
          "metadata": {
            "needs_background": "light"
          }
        }
      ]
    },
    {
      "cell_type": "code",
      "source": [
        "history = train(classifier, 0.005, showStats=True)"
      ],
      "metadata": {
        "colab": {
          "base_uri": "https://localhost:8080/",
          "height": 1000
        },
        "id": "9scYRPAj1RfR",
        "outputId": "38bf933c-3f05-441e-d367-3c533650853e"
      },
      "execution_count": null,
      "outputs": [
        {
          "output_type": "stream",
          "name": "stdout",
          "text": [
            "Epoch 1/16\n",
            "12/12 [==============================] - ETA: 0s - loss: 1.1320 - accuracy: 0.6416\n",
            "Epoch 00001: val_loss improved from inf to 0.38873, saving model to drive/MyDrive/models/classifier.h5\n",
            "12/12 [==============================] - 3s 227ms/step - loss: 1.1320 - accuracy: 0.6416 - val_loss: 0.3887 - val_accuracy: 0.8661\n",
            "Epoch 2/16\n",
            "12/12 [==============================] - ETA: 0s - loss: 0.9649 - accuracy: 0.8354\n",
            "Epoch 00002: val_loss improved from 0.38873 to 0.26803, saving model to drive/MyDrive/models/classifier.h5\n",
            "12/12 [==============================] - 2s 174ms/step - loss: 0.9649 - accuracy: 0.8354 - val_loss: 0.2680 - val_accuracy: 0.8912\n",
            "Epoch 3/16\n",
            "12/12 [==============================] - ETA: 0s - loss: 1.1355 - accuracy: 0.8257\n",
            "Epoch 00003: val_loss improved from 0.26803 to 0.26460, saving model to drive/MyDrive/models/classifier.h5\n",
            "12/12 [==============================] - 2s 174ms/step - loss: 1.1355 - accuracy: 0.8257 - val_loss: 0.2646 - val_accuracy: 0.8954\n",
            "Epoch 4/16\n",
            "11/12 [==========================>...] - ETA: 0s - loss: 0.9679 - accuracy: 0.8480\n",
            "Epoch 00004: val_loss improved from 0.26460 to 0.23771, saving model to drive/MyDrive/models/classifier.h5\n",
            "12/12 [==============================] - 2s 174ms/step - loss: 0.9648 - accuracy: 0.8466 - val_loss: 0.2377 - val_accuracy: 0.9121\n",
            "Epoch 5/16\n",
            "12/12 [==============================] - ETA: 0s - loss: 0.9499 - accuracy: 0.8522\n",
            "Epoch 00005: val_loss did not improve from 0.23771\n",
            "12/12 [==============================] - 2s 187ms/step - loss: 0.9499 - accuracy: 0.8522 - val_loss: 0.4775 - val_accuracy: 0.7657\n",
            "Epoch 6/16\n",
            "12/12 [==============================] - ETA: 0s - loss: 1.0406 - accuracy: 0.8298\n",
            "Epoch 00006: val_loss improved from 0.23771 to 0.20374, saving model to drive/MyDrive/models/classifier.h5\n",
            "12/12 [==============================] - 2s 191ms/step - loss: 1.0406 - accuracy: 0.8298 - val_loss: 0.2037 - val_accuracy: 0.9372\n",
            "Epoch 7/16\n",
            "12/12 [==============================] - ETA: 0s - loss: 1.1167 - accuracy: 0.8452\n",
            "Epoch 00007: val_loss improved from 0.20374 to 0.13597, saving model to drive/MyDrive/models/classifier.h5\n",
            "12/12 [==============================] - 2s 182ms/step - loss: 1.1167 - accuracy: 0.8452 - val_loss: 0.1360 - val_accuracy: 0.9540\n",
            "Epoch 8/16\n",
            "12/12 [==============================] - ETA: 0s - loss: 0.9530 - accuracy: 0.8745\n",
            "Epoch 00008: val_loss did not improve from 0.13597\n",
            "12/12 [==============================] - 2s 177ms/step - loss: 0.9530 - accuracy: 0.8745 - val_loss: 0.1586 - val_accuracy: 0.9540\n",
            "Epoch 9/16\n",
            "12/12 [==============================] - ETA: 0s - loss: 0.8734 - accuracy: 0.8856\n",
            "Epoch 00009: val_loss did not improve from 0.13597\n",
            "12/12 [==============================] - 2s 176ms/step - loss: 0.8734 - accuracy: 0.8856 - val_loss: 0.1479 - val_accuracy: 0.9582\n",
            "Epoch 10/16\n",
            "12/12 [==============================] - ETA: 0s - loss: 1.1370 - accuracy: 0.8410\n",
            "Epoch 00010: val_loss did not improve from 0.13597\n",
            "12/12 [==============================] - 2s 171ms/step - loss: 1.1370 - accuracy: 0.8410 - val_loss: 0.1399 - val_accuracy: 0.9582\n",
            "Epoch 11/16\n",
            "12/12 [==============================] - ETA: 0s - loss: 1.0031 - accuracy: 0.8591Restoring model weights from the end of the best epoch: 7.\n",
            "\n",
            "Epoch 00011: val_loss did not improve from 0.13597\n",
            "12/12 [==============================] - 2s 192ms/step - loss: 1.0031 - accuracy: 0.8591 - val_loss: 0.1476 - val_accuracy: 0.9414\n",
            "Epoch 00011: early stopping\n"
          ]
        },
        {
          "output_type": "display_data",
          "data": {
            "image/png": "[encoded data removed]",
            "text/plain": [
              "<Figure size 720x720 with 1 Axes>"
            ]
          },
          "metadata": {
            "needs_background": "light"
          }
        },
        {
          "output_type": "display_data",
          "data": {
            "image/png": "[encoded data removed]",
            "text/plain": [
              "<Figure size 720x720 with 1 Axes>"
            ]
          },
          "metadata": {
            "needs_background": "light"
          }
        }
      ]
    },
    {
      "cell_type": "code",
      "source": [
        "history = train(classifier, 0.001, showStats=True)"
      ],
      "metadata": {
        "colab": {
          "base_uri": "https://localhost:8080/",
          "height": 1000
        },
        "id": "xR0YBuosfZzP",
        "outputId": "da4484a6-bdfa-4d02-9afb-925ba27388ea"
      },
      "execution_count": null,
      "outputs": [
        {
          "output_type": "stream",
          "name": "stdout",
          "text": [
            "Epoch 1/16\n",
            "23/23 [==============================] - ETA: 0s - loss: 1.9548 - accuracy: 0.6341\n",
            "Epoch 00001: val_loss improved from inf to 0.87722, saving model to drive/MyDrive/models/classifier-simplified-2.h5\n",
            "23/23 [==============================] - 120s 5s/step - loss: 1.9548 - accuracy: 0.6341 - val_loss: 0.8772 - val_accuracy: 0.0000e+00\n",
            "Epoch 2/16\n",
            "23/23 [==============================] - ETA: 0s - loss: 2.0478 - accuracy: 0.6103\n",
            "Epoch 00002: val_loss improved from 0.87722 to 0.85440, saving model to drive/MyDrive/models/classifier-simplified-2.h5\n",
            "23/23 [==============================] - 2s 106ms/step - loss: 2.0478 - accuracy: 0.6103 - val_loss: 0.8544 - val_accuracy: 0.0000e+00\n",
            "Epoch 3/16\n",
            "23/23 [==============================] - ETA: 0s - loss: 2.3250 - accuracy: 0.5936\n",
            "Epoch 00003: val_loss improved from 0.85440 to 0.75646, saving model to drive/MyDrive/models/classifier-simplified-2.h5\n",
            "23/23 [==============================] - 3s 138ms/step - loss: 2.3250 - accuracy: 0.5936 - val_loss: 0.7565 - val_accuracy: 0.5546\n",
            "Epoch 4/16\n",
            "23/23 [==============================] - ETA: 0s - loss: 1.8132 - accuracy: 0.7039\n",
            "Epoch 00004: val_loss improved from 0.75646 to 0.63326, saving model to drive/MyDrive/models/classifier-simplified-2.h5\n",
            "23/23 [==============================] - 3s 138ms/step - loss: 1.8132 - accuracy: 0.7039 - val_loss: 0.6333 - val_accuracy: 0.8782\n",
            "Epoch 5/16\n",
            "23/23 [==============================] - ETA: 0s - loss: 2.0960 - accuracy: 0.6718\n",
            "Epoch 00005: val_loss improved from 0.63326 to 0.44654, saving model to drive/MyDrive/models/classifier-simplified-2.h5\n",
            "23/23 [==============================] - 4s 160ms/step - loss: 2.0960 - accuracy: 0.6718 - val_loss: 0.4465 - val_accuracy: 0.9496\n",
            "Epoch 6/16\n",
            "23/23 [==============================] - ETA: 0s - loss: 1.9367 - accuracy: 0.6676\n",
            "Epoch 00006: val_loss did not improve from 0.44654\n",
            "23/23 [==============================] - 2s 103ms/step - loss: 1.9367 - accuracy: 0.6676 - val_loss: 0.5964 - val_accuracy: 0.7563\n",
            "Epoch 7/16\n",
            "23/23 [==============================] - ETA: 0s - loss: 1.8839 - accuracy: 0.7053\n",
            "Epoch 00007: val_loss improved from 0.44654 to 0.42126, saving model to drive/MyDrive/models/classifier-simplified-2.h5\n",
            "23/23 [==============================] - 2s 98ms/step - loss: 1.8839 - accuracy: 0.7053 - val_loss: 0.4213 - val_accuracy: 0.8950\n",
            "Epoch 8/16\n",
            "23/23 [==============================] - ETA: 0s - loss: 1.9226 - accuracy: 0.7514\n",
            "Epoch 00008: val_loss improved from 0.42126 to 0.27777, saving model to drive/MyDrive/models/classifier-simplified-2.h5\n",
            "23/23 [==============================] - 2s 107ms/step - loss: 1.9226 - accuracy: 0.7514 - val_loss: 0.2778 - val_accuracy: 0.9496\n",
            "Epoch 9/16\n",
            "23/23 [==============================] - ETA: 0s - loss: 1.9180 - accuracy: 0.7458\n",
            "Epoch 00009: val_loss improved from 0.27777 to 0.21927, saving model to drive/MyDrive/models/classifier-simplified-2.h5\n",
            "23/23 [==============================] - 2s 102ms/step - loss: 1.9180 - accuracy: 0.7458 - val_loss: 0.2193 - val_accuracy: 0.9496\n",
            "Epoch 10/16\n",
            "23/23 [==============================] - ETA: 0s - loss: 2.0022 - accuracy: 0.7598\n",
            "Epoch 00010: val_loss improved from 0.21927 to 0.13702, saving model to drive/MyDrive/models/classifier-simplified-2.h5\n",
            "23/23 [==============================] - 2s 100ms/step - loss: 2.0022 - accuracy: 0.7598 - val_loss: 0.1370 - val_accuracy: 0.9664\n",
            "Epoch 11/16\n",
            "23/23 [==============================] - ETA: 0s - loss: 1.6560 - accuracy: 0.7723\n",
            "Epoch 00011: val_loss improved from 0.13702 to 0.11902, saving model to drive/MyDrive/models/classifier-simplified-2.h5\n",
            "23/23 [==============================] - 2s 104ms/step - loss: 1.6560 - accuracy: 0.7723 - val_loss: 0.1190 - val_accuracy: 0.9706\n",
            "Epoch 12/16\n",
            "23/23 [==============================] - ETA: 0s - loss: 1.8647 - accuracy: 0.7458\n",
            "Epoch 00012: val_loss did not improve from 0.11902\n",
            "23/23 [==============================] - 2s 100ms/step - loss: 1.8647 - accuracy: 0.7458 - val_loss: 0.2282 - val_accuracy: 0.9286\n",
            "Epoch 13/16\n",
            "23/23 [==============================] - ETA: 0s - loss: 1.7269 - accuracy: 0.7807\n",
            "Epoch 00013: val_loss did not improve from 0.11902\n",
            "23/23 [==============================] - 2s 98ms/step - loss: 1.7269 - accuracy: 0.7807 - val_loss: 0.1663 - val_accuracy: 0.9622\n",
            "Epoch 14/16\n",
            "22/23 [===========================>..] - ETA: 0s - loss: 1.6194 - accuracy: 0.7968\n",
            "Epoch 00014: val_loss did not improve from 0.11902\n",
            "23/23 [==============================] - 2s 97ms/step - loss: 1.6301 - accuracy: 0.7961 - val_loss: 0.1438 - val_accuracy: 0.9622\n",
            "Epoch 15/16\n",
            "23/23 [==============================] - ETA: 0s - loss: 1.7646 - accuracy: 0.7835Restoring model weights from the end of the best epoch: 11.\n",
            "\n",
            "Epoch 00015: val_loss did not improve from 0.11902\n",
            "23/23 [==============================] - 2s 96ms/step - loss: 1.7646 - accuracy: 0.7835 - val_loss: 0.1559 - val_accuracy: 0.9538\n",
            "Epoch 00015: early stopping\n"
          ]
        },
        {
          "output_type": "display_data",
          "data": {
            "image/png": "[encoded data removed]",
            "text/plain": [
              "<Figure size 720x720 with 1 Axes>"
            ]
          },
          "metadata": {
            "needs_background": "light"
          }
        },
        {
          "output_type": "display_data",
          "data": {
            "image/png": "[encoded data removed]",
            "text/plain": [
              "<Figure size 720x720 with 1 Axes>"
            ]
          },
          "metadata": {
            "needs_background": "light"
          }
        }
      ]
    },
    {
      "cell_type": "markdown",
      "source": [
        "## **6. Results evaluation**"
      ],
      "metadata": {
        "id": "OB-8a2toNc5L"
      }
    },
    {
      "cell_type": "markdown",
      "source": [
        "### Evaluate results:"
      ],
      "metadata": {
        "id": "t_g4fOwCPmRK"
      }
    },
    {
      "cell_type": "code",
      "source": [
        "import seaborn as sns\n",
        "import numpy as np\n",
        "import pandas as pd\n",
        "import tensorflow as tf\n",
        "\n",
        "from tensorflow import keras\n",
        "from pandas import DataFrame\n",
        "from keras_preprocessing.image import ImageDataGenerator\n",
        "\n",
        "from PIL import Image\n",
        "from sklearn.metrics import classification_report, confusion_matrix, plot_confusion_matrix\n",
        "from sklearn.metrics import accuracy_score"
      ],
      "metadata": {
        "id": "O4t4874gVIA1"
      },
      "execution_count": 13,
      "outputs": []
    },
    {
      "cell_type": "code",
      "source": [
        "def prediction_stats(y_pred):\n",
        "  print('Confusion Matrix')\n",
        "\n",
        "  label_names = ['with_mask', 'without_mask']\n",
        "  matrix = confusion_matrix(generator.classes, y_pred)\n",
        "  sns.heatmap(matrix,\n",
        "              annot = True,\n",
        "              fmt='g',\n",
        "              xticklabels=label_names,\n",
        "              yticklabels=label_names)\n",
        "  \n",
        "  print('Classification Report')\n",
        "  print(classification_report(generator.classes, y_pred, target_names=label_names))\n",
        "\n",
        "def short_score_report(y_pred, generator, name):\n",
        "  print('Score Report - ' + name)\n",
        "  lin_score = accuracy_score(generator.labels, y_pred)\n",
        "  print(lin_score)"
      ],
      "metadata": {
        "id": "KrJYHxsvn8ik"
      },
      "execution_count": 14,
      "outputs": []
    },
    {
      "cell_type": "code",
      "source": [
        "# ..or use classifier reference if it is possible\n",
        "model = classifier"
      ],
      "metadata": {
        "id": "_MV5ufWhVB5f"
      },
      "execution_count": 15,
      "outputs": []
    },
    {
      "cell_type": "code",
      "source": [
        "# load model\n",
        "model = tf.keras.models.load_model('drive/MyDrive/models/classifier.h5')"
      ],
      "metadata": {
        "id": "rln3RiAvlcm0"
      },
      "execution_count": 21,
      "outputs": []
    },
    {
      "cell_type": "code",
      "source": [
        "test_df = pd.read_csv(test_df_file_name)"
      ],
      "metadata": {
        "id": "q1NGqoikxgv6"
      },
      "execution_count": 16,
      "outputs": []
    },
    {
      "cell_type": "code",
      "source": [
        "image_target_size = (32, 32)\n",
        "\n",
        "test_image_generator = ImageDataGenerator(rescale = 1. / 255.)\n",
        "test_generator = test_image_generator.flow_from_dataframe(\n",
        "    dataframe = test_df,\n",
        "    directory = temp_dir,\n",
        "    x_col = key_cropped,\n",
        "    y_col = key_label,\n",
        "    batch_size = BATCH_SIZE,\n",
        "    seed = SEED_SIZE,\n",
        "    shuffle = True,\n",
        "    class_mode = 'categorical',\n",
        "    target_size = image_target_size\n",
        ")"
      ],
      "metadata": {
        "colab": {
          "base_uri": "https://localhost:8080/"
        },
        "id": "wUeIMlhrp-n4",
        "outputId": "f4eab68d-9422-42db-a93c-ffc7384d6797"
      },
      "execution_count": 17,
      "outputs": [
        {
          "output_type": "stream",
          "name": "stdout",
          "text": [
            "Found 476 validated image filenames belonging to 2 classes.\n"
          ]
        }
      ]
    },
    {
      "cell_type": "code",
      "source": [
        "generator = test_generator\n",
        "generator.reset()\n",
        "\n",
        "pred = model.predict(generator, \n",
        "                     batch_size=BATCH_SIZE,\n",
        "                     steps=len(generator), \n",
        "                     verbose=1)"
      ],
      "metadata": {
        "colab": {
          "base_uri": "https://localhost:8080/"
        },
        "id": "mVyqOccONmGc",
        "outputId": "b73b8a40-3f37-449d-9fe1-1a267cef1ac9"
      },
      "execution_count": 18,
      "outputs": [
        {
          "output_type": "stream",
          "name": "stdout",
          "text": [
            "8/8 [==============================] - 100s 14s/step\n"
          ]
        }
      ]
    },
    {
      "cell_type": "code",
      "source": [
        "y_pred = np.argmax(pred, axis=1)\n",
        "y_pred"
      ],
      "metadata": {
        "id": "vIhQNBtktJMu",
        "colab": {
          "base_uri": "https://localhost:8080/"
        },
        "outputId": "6b1b391a-cd9b-45d7-afac-06942a847b79"
      },
      "execution_count": 19,
      "outputs": [
        {
          "output_type": "execute_result",
          "data": {
            "text/plain": [
              "array([0, 0, 0, 1, 0, 1, 1, 0, 1, 0, 1, 1, 1, 1, 0, 1, 0, 1, 1, 0, 1, 1,\n",
              "       0, 1, 0, 1, 1, 0, 0, 0, 0, 0, 0, 0, 0, 1, 0, 1, 0, 0, 0, 1, 0, 1,\n",
              "       0, 1, 0, 0, 1, 1, 1, 0, 1, 0, 0, 0, 1, 1, 1, 0, 0, 0, 1, 1, 0, 1,\n",
              "       1, 1, 1, 1, 1, 1, 1, 1, 0, 0, 1, 1, 0, 1, 1, 1, 0, 1, 0, 0, 0, 0,\n",
              "       1, 1, 1, 1, 0, 0, 1, 1, 0, 0, 1, 0, 1, 0, 0, 1, 1, 0, 0, 1, 0, 1,\n",
              "       0, 1, 0, 0, 1, 1, 1, 0, 0, 1, 0, 1, 1, 0, 0, 1, 1, 1, 0, 1, 1, 1,\n",
              "       0, 1, 1, 0, 0, 1, 1, 0, 1, 1, 1, 1, 1, 0, 1, 1, 0, 1, 1, 0, 1, 1,\n",
              "       0, 0, 1, 1, 1, 1, 1, 1, 0, 1, 1, 0, 1, 0, 1, 1, 1, 1, 0, 1, 0, 0,\n",
              "       0, 0, 1, 1, 1, 1, 0, 0, 1, 1, 0, 1, 1, 0, 1, 1, 0, 1, 1, 1, 0, 0,\n",
              "       1, 0, 1, 0, 1, 0, 1, 1, 0, 1, 0, 1, 1, 1, 1, 0, 1, 0, 0, 1, 1, 0,\n",
              "       0, 0, 1, 1, 1, 0, 1, 1, 1, 0, 0, 0, 0, 0, 1, 0, 0, 0, 1, 1, 1, 1,\n",
              "       1, 0, 0, 1, 1, 1, 1, 1, 1, 1, 1, 0, 0, 0, 0, 0, 1, 1, 1, 1, 1, 0,\n",
              "       1, 0, 1, 0, 1, 0, 0, 0, 1, 1, 1, 0, 1, 1, 1, 1, 1, 0, 1, 1, 0, 1,\n",
              "       1, 0, 1, 0, 0, 1, 1, 0, 0, 0, 0, 0, 1, 1, 0, 1, 1, 0, 1, 1, 0, 1,\n",
              "       0, 1, 1, 1, 1, 1, 0, 0, 0, 0, 0, 1, 0, 1, 1, 0, 0, 1, 0, 0, 1, 0,\n",
              "       0, 1, 1, 1, 1, 1, 0, 1, 1, 0, 0, 1, 1, 1, 0, 1, 0, 1, 0, 0, 1, 1,\n",
              "       1, 1, 0, 0, 0, 1, 1, 1, 1, 0, 0, 1, 0, 1, 0, 1, 1, 1, 1, 0, 0, 0,\n",
              "       1, 1, 0, 1, 1, 1, 1, 0, 0, 0, 1, 1, 1, 0, 1, 1, 0, 1, 0, 1, 0, 0,\n",
              "       0, 1, 1, 0, 0, 1, 1, 1, 0, 0, 0, 0, 0, 1, 1, 0, 1, 1, 0, 1, 1, 0,\n",
              "       1, 0, 0, 1, 1, 0, 0, 0, 1, 1, 1, 1, 1, 0, 1, 0, 0, 0, 1, 0, 0, 0,\n",
              "       0, 1, 0, 1, 0, 1, 0, 1, 1, 0, 1, 0, 1, 1, 1, 1, 1, 1, 0, 1, 0, 1,\n",
              "       0, 1, 1, 0, 0, 1, 1, 1, 1, 0, 1, 1, 1, 0])"
            ]
          },
          "metadata": {},
          "execution_count": 19
        }
      ]
    },
    {
      "cell_type": "markdown",
      "source": [
        "### Simplified model:"
      ],
      "metadata": {
        "id": "KureCjF-_jo4"
      }
    },
    {
      "cell_type": "code",
      "source": [
        "short_score_report(y_pred, generator, 'Simplified 0.001 - batch 64')"
      ],
      "metadata": {
        "id": "KfsvYYSqcopC",
        "outputId": "8d7b7cd7-1b5b-4bda-d04a-f53d91c7c005",
        "colab": {
          "base_uri": "https://localhost:8080/"
        }
      },
      "execution_count": 20,
      "outputs": [
        {
          "output_type": "stream",
          "name": "stdout",
          "text": [
            "Score Report - Simplified 0.001 - batch 64\n",
            "0.5252100840336135\n"
          ]
        }
      ]
    },
    {
      "cell_type": "code",
      "source": [
        "prediction_stats(y_pred)"
      ],
      "metadata": {
        "id": "nua-1x39cocs",
        "outputId": "0ed18630-6e55-4621-b451-871945589ad8",
        "colab": {
          "base_uri": "https://localhost:8080/",
          "height": 457
        }
      },
      "execution_count": 21,
      "outputs": [
        {
          "output_type": "stream",
          "name": "stdout",
          "text": [
            "Confusion Matrix\n",
            "Classification Report\n",
            "              precision    recall  f1-score   support\n",
            "\n",
            "   with_mask       0.53      0.50      0.51       238\n",
            "without_mask       0.52      0.55      0.54       238\n",
            "\n",
            "    accuracy                           0.53       476\n",
            "   macro avg       0.53      0.53      0.52       476\n",
            "weighted avg       0.53      0.53      0.52       476\n",
            "\n"
          ]
        },
        {
          "output_type": "display_data",
          "data": {
            "image/png": "[encoded data removed]",
            "text/plain": [
              "<Figure size 432x288 with 2 Axes>"
            ]
          },
          "metadata": {
            "needs_background": "light"
          }
        }
      ]
    },
    {
      "cell_type": "code",
      "source": [
        "short_score_report(y_pred, generator, 'Simplified 0.01 - batch 128')"
      ],
      "metadata": {
        "colab": {
          "base_uri": "https://localhost:8080/"
        },
        "id": "Uk9Kjjp4a2A2",
        "outputId": "695f546e-d27b-48c8-aef4-6bb188527246"
      },
      "execution_count": null,
      "outputs": [
        {
          "output_type": "stream",
          "name": "stdout",
          "text": [
            "Score Report - Simplified 0.01 - batch 128\n",
            "0.5189075630252101\n"
          ]
        }
      ]
    },
    {
      "cell_type": "code",
      "source": [
        "prediction_stats(y_pred)"
      ],
      "metadata": {
        "colab": {
          "base_uri": "https://localhost:8080/",
          "height": 457
        },
        "id": "F81czK4Ya6J9",
        "outputId": "7a030080-fe10-4c8b-c4d7-d8880c97bdbc"
      },
      "execution_count": null,
      "outputs": [
        {
          "output_type": "stream",
          "name": "stdout",
          "text": [
            "Confusion Matrix\n",
            "Classification Report\n",
            "              precision    recall  f1-score   support\n",
            "\n",
            "   with_mask       0.52      0.46      0.49       238\n",
            "without_mask       0.52      0.58      0.54       238\n",
            "\n",
            "    accuracy                           0.52       476\n",
            "   macro avg       0.52      0.52      0.52       476\n",
            "weighted avg       0.52      0.52      0.52       476\n",
            "\n"
          ]
        },
        {
          "output_type": "display_data",
          "data": {
            "image/png": "[encoded data removed]",
            "text/plain": [
              "<Figure size 432x288 with 2 Axes>"
            ]
          },
          "metadata": {
            "needs_background": "light"
          }
        }
      ]
    },
    {
      "cell_type": "code",
      "source": [
        "short_score_report(y_pred, generator, 'Simplified 0.01')"
      ],
      "metadata": {
        "colab": {
          "base_uri": "https://localhost:8080/"
        },
        "id": "gt3aT9UCZDGr",
        "outputId": "e6ab029c-e87f-4527-adf9-f28723ac004b"
      },
      "execution_count": null,
      "outputs": [
        {
          "output_type": "stream",
          "name": "stdout",
          "text": [
            "Score Report - Simplified 0.01\n",
            "0.523109243697479\n"
          ]
        }
      ]
    },
    {
      "cell_type": "code",
      "source": [
        "prediction_stats(y_pred)"
      ],
      "metadata": {
        "colab": {
          "base_uri": "https://localhost:8080/",
          "height": 457
        },
        "id": "rHwZ_APdZHv4",
        "outputId": "9e0a5460-9d8d-44a5-f08b-5432d27a7907"
      },
      "execution_count": null,
      "outputs": [
        {
          "output_type": "stream",
          "name": "stdout",
          "text": [
            "Confusion Matrix\n",
            "Classification Report\n",
            "              precision    recall  f1-score   support\n",
            "\n",
            "   with_mask       0.52      0.50      0.51       238\n",
            "without_mask       0.52      0.55      0.54       238\n",
            "\n",
            "    accuracy                           0.52       476\n",
            "   macro avg       0.52      0.52      0.52       476\n",
            "weighted avg       0.52      0.52      0.52       476\n",
            "\n"
          ]
        },
        {
          "output_type": "display_data",
          "data": {
            "image/png": "[encoded data removed]",
            "text/plain": [
              "<Figure size 432x288 with 2 Axes>"
            ]
          },
          "metadata": {
            "needs_background": "light"
          }
        }
      ]
    },
    {
      "cell_type": "code",
      "source": [
        "short_score_report(y_pred, generator, 'Simplified 0.005')"
      ],
      "metadata": {
        "colab": {
          "base_uri": "https://localhost:8080/"
        },
        "id": "mU8Bed2KWcqp",
        "outputId": "49df60c3-061e-4663-aa84-6c46a8930e6c"
      },
      "execution_count": null,
      "outputs": [
        {
          "output_type": "stream",
          "name": "stdout",
          "text": [
            "Score Report - Simplified 0.005\n",
            "0.5252100840336135\n"
          ]
        }
      ]
    },
    {
      "cell_type": "code",
      "source": [
        "prediction_stats(y_pred)"
      ],
      "metadata": {
        "colab": {
          "base_uri": "https://localhost:8080/",
          "height": 461
        },
        "id": "E1No6NJsWfmy",
        "outputId": "dac96a0b-4152-4329-b083-31158dc465d9"
      },
      "execution_count": null,
      "outputs": [
        {
          "output_type": "stream",
          "name": "stdout",
          "text": [
            "Confusion Matrix\n",
            "Classification Report\n",
            "              precision    recall  f1-score   support\n",
            "\n",
            "   with_mask       0.53      0.51      0.52       238\n",
            "without_mask       0.52      0.54      0.53       238\n",
            "\n",
            "    accuracy                           0.53       476\n",
            "   macro avg       0.53      0.53      0.53       476\n",
            "weighted avg       0.53      0.53      0.53       476\n",
            "\n"
          ]
        },
        {
          "output_type": "display_data",
          "data": {
            "image/png": "[encoded data removed]",
            "text/plain": [
              "<Figure size 432x288 with 2 Axes>"
            ]
          },
          "metadata": {
            "needs_background": "light"
          }
        }
      ]
    },
    {
      "cell_type": "code",
      "source": [
        "short_score_report(y_pred, generator, 'Simplified 0.001')"
      ],
      "metadata": {
        "colab": {
          "base_uri": "https://localhost:8080/"
        },
        "id": "N9dgB-aHxE7g",
        "outputId": "5b0dfb04-bf07-4a71-8e10-a8bb73002c4b"
      },
      "execution_count": null,
      "outputs": [
        {
          "output_type": "stream",
          "name": "stdout",
          "text": [
            "Score Report - Simplified 0.001\n",
            "0.5252100840336135\n"
          ]
        }
      ]
    },
    {
      "cell_type": "code",
      "source": [
        "prediction_stats(y_pred)"
      ],
      "metadata": {
        "id": "XeyYW5g0_hIm",
        "colab": {
          "base_uri": "https://localhost:8080/",
          "height": 457
        },
        "outputId": "501609e6-4241-42a2-e95b-7dd90985c485"
      },
      "execution_count": null,
      "outputs": [
        {
          "output_type": "stream",
          "name": "stdout",
          "text": [
            "Confusion Matrix\n",
            "Classification Report\n",
            "              precision    recall  f1-score   support\n",
            "\n",
            "   with_mask       0.53      0.52      0.52       238\n",
            "without_mask       0.52      0.53      0.53       238\n",
            "\n",
            "    accuracy                           0.53       476\n",
            "   macro avg       0.53      0.53      0.53       476\n",
            "weighted avg       0.53      0.53      0.53       476\n",
            "\n"
          ]
        },
        {
          "output_type": "display_data",
          "data": {
            "image/png": "[encoded data removed]",
            "text/plain": [
              "<Figure size 432x288 with 2 Axes>"
            ]
          },
          "metadata": {
            "needs_background": "light"
          }
        }
      ]
    },
    {
      "cell_type": "code",
      "source": [
        "short_score_report(y_pred, generator, 'Simplified 0.1')"
      ],
      "metadata": {
        "colab": {
          "base_uri": "https://localhost:8080/"
        },
        "id": "nmGBucVfNLO6",
        "outputId": "3f78960e-85a1-4025-c19b-38995c5822b9"
      },
      "execution_count": 18,
      "outputs": [
        {
          "output_type": "stream",
          "name": "stdout",
          "text": [
            "Score Report - Simplified 0.1\n",
            "0.5\n"
          ]
        }
      ]
    },
    {
      "cell_type": "code",
      "source": [
        "prediction_stats(y_pred)"
      ],
      "metadata": {
        "colab": {
          "base_uri": "https://localhost:8080/",
          "height": 581
        },
        "id": "JOH5KZAuNqnn",
        "outputId": "8a8ac0ba-99cd-4395-b25e-2abba580c748"
      },
      "execution_count": 19,
      "outputs": [
        {
          "output_type": "stream",
          "name": "stdout",
          "text": [
            "Confusion Matrix\n",
            "Classification Report\n",
            "              precision    recall  f1-score   support\n",
            "\n",
            "   with_mask       0.00      0.00      0.00       238\n",
            "without_mask       0.50      1.00      0.67       238\n",
            "\n",
            "    accuracy                           0.50       476\n",
            "   macro avg       0.25      0.50      0.33       476\n",
            "weighted avg       0.25      0.50      0.33       476\n",
            "\n"
          ]
        },
        {
          "output_type": "stream",
          "name": "stderr",
          "text": [
            "/usr/local/lib/python3.7/dist-packages/sklearn/metrics/_classification.py:1318: UndefinedMetricWarning: Precision and F-score are ill-defined and being set to 0.0 in labels with no predicted samples. Use `zero_division` parameter to control this behavior.\n",
            "  _warn_prf(average, modifier, msg_start, len(result))\n",
            "/usr/local/lib/python3.7/dist-packages/sklearn/metrics/_classification.py:1318: UndefinedMetricWarning: Precision and F-score are ill-defined and being set to 0.0 in labels with no predicted samples. Use `zero_division` parameter to control this behavior.\n",
            "  _warn_prf(average, modifier, msg_start, len(result))\n",
            "/usr/local/lib/python3.7/dist-packages/sklearn/metrics/_classification.py:1318: UndefinedMetricWarning: Precision and F-score are ill-defined and being set to 0.0 in labels with no predicted samples. Use `zero_division` parameter to control this behavior.\n",
            "  _warn_prf(average, modifier, msg_start, len(result))\n"
          ]
        },
        {
          "output_type": "display_data",
          "data": {
            "image/png": "[encoded data removed]",
            "text/plain": [
              "<Figure size 432x288 with 2 Axes>"
            ]
          },
          "metadata": {
            "needs_background": "light"
          }
        }
      ]
    },
    {
      "cell_type": "markdown",
      "source": [
        "### ResNet50:"
      ],
      "metadata": {
        "id": "HmR3TpGDPZBo"
      }
    },
    {
      "cell_type": "code",
      "source": [
        "short_score_report(y_pred, generator, 'ResNet50 0.0001')"
      ],
      "metadata": {
        "colab": {
          "base_uri": "https://localhost:8080/"
        },
        "id": "k_iOz2CPPUn5",
        "outputId": "b3f2a4b4-0c21-473d-fec2-c1e0f7a860ff"
      },
      "execution_count": 27,
      "outputs": [
        {
          "output_type": "stream",
          "name": "stdout",
          "text": [
            "Score Report - ResNet50 0.0001\n",
            "0.5084033613445378\n"
          ]
        }
      ]
    },
    {
      "cell_type": "code",
      "source": [
        "prediction_stats(y_pred)"
      ],
      "metadata": {
        "colab": {
          "base_uri": "https://localhost:8080/",
          "height": 457
        },
        "id": "9sO6zfzrPbgm",
        "outputId": "82c22511-0f89-4e0d-bd25-68ebf0bb1aad"
      },
      "execution_count": 28,
      "outputs": [
        {
          "output_type": "stream",
          "name": "stdout",
          "text": [
            "Confusion Matrix\n",
            "Classification Report\n",
            "              precision    recall  f1-score   support\n",
            "\n",
            "   with_mask       0.51      0.32      0.39       238\n",
            "without_mask       0.51      0.70      0.59       238\n",
            "\n",
            "    accuracy                           0.51       476\n",
            "   macro avg       0.51      0.51      0.49       476\n",
            "weighted avg       0.51      0.51      0.49       476\n",
            "\n"
          ]
        },
        {
          "output_type": "display_data",
          "data": {
            "image/png": "[encoded data removed]",
            "text/plain": [
              "<Figure size 432x288 with 2 Axes>"
            ]
          },
          "metadata": {
            "needs_background": "light"
          }
        }
      ]
    },
    {
      "cell_type": "code",
      "source": [
        "short_score_report(y_pred, generator, 'ResNet50 0.001')"
      ],
      "metadata": {
        "colab": {
          "base_uri": "https://localhost:8080/"
        },
        "id": "GkhqhS5mQGla",
        "outputId": "7f943e35-bf60-4a8f-b65f-8ebd3a677bd7"
      },
      "execution_count": 12,
      "outputs": [
        {
          "output_type": "stream",
          "name": "stdout",
          "text": [
            "Score Report - ResNet50 0.001\n",
            "0.5\n"
          ]
        }
      ]
    },
    {
      "cell_type": "code",
      "source": [
        "prediction_stats(y_pred)"
      ],
      "metadata": {
        "colab": {
          "base_uri": "https://localhost:8080/",
          "height": 581
        },
        "id": "W_Va4YRYQH0h",
        "outputId": "d14944d1-42f1-468c-a020-9f715dc7a1c9"
      },
      "execution_count": 13,
      "outputs": [
        {
          "output_type": "stream",
          "name": "stdout",
          "text": [
            "Confusion Matrix\n",
            "Classification Report\n",
            "              precision    recall  f1-score   support\n",
            "\n",
            "   with_mask       0.00      0.00      0.00       238\n",
            "without_mask       0.50      1.00      0.67       238\n",
            "\n",
            "    accuracy                           0.50       476\n",
            "   macro avg       0.25      0.50      0.33       476\n",
            "weighted avg       0.25      0.50      0.33       476\n",
            "\n"
          ]
        },
        {
          "output_type": "stream",
          "name": "stderr",
          "text": [
            "/usr/local/lib/python3.7/dist-packages/sklearn/metrics/_classification.py:1318: UndefinedMetricWarning: Precision and F-score are ill-defined and being set to 0.0 in labels with no predicted samples. Use `zero_division` parameter to control this behavior.\n",
            "  _warn_prf(average, modifier, msg_start, len(result))\n",
            "/usr/local/lib/python3.7/dist-packages/sklearn/metrics/_classification.py:1318: UndefinedMetricWarning: Precision and F-score are ill-defined and being set to 0.0 in labels with no predicted samples. Use `zero_division` parameter to control this behavior.\n",
            "  _warn_prf(average, modifier, msg_start, len(result))\n",
            "/usr/local/lib/python3.7/dist-packages/sklearn/metrics/_classification.py:1318: UndefinedMetricWarning: Precision and F-score are ill-defined and being set to 0.0 in labels with no predicted samples. Use `zero_division` parameter to control this behavior.\n",
            "  _warn_prf(average, modifier, msg_start, len(result))\n"
          ]
        },
        {
          "output_type": "display_data",
          "data": {
            "image/png": "[encoded data removed]",
            "text/plain": [
              "<Figure size 432x288 with 2 Axes>"
            ]
          },
          "metadata": {
            "needs_background": "light"
          }
        }
      ]
    },
    {
      "cell_type": "code",
      "source": [
        "short_score_report(y_pred, generator, 'ResNet50 0.01')"
      ],
      "metadata": {
        "colab": {
          "base_uri": "https://localhost:8080/"
        },
        "id": "UkHksILpRGf8",
        "outputId": "341ada23-4a44-4929-a00a-50cd45125bc2"
      },
      "execution_count": 19,
      "outputs": [
        {
          "output_type": "stream",
          "name": "stdout",
          "text": [
            "Score Report - ResNet50 0.01\n",
            "0.5147058823529411\n"
          ]
        }
      ]
    },
    {
      "cell_type": "code",
      "source": [
        "prediction_stats(y_pred)"
      ],
      "metadata": {
        "colab": {
          "base_uri": "https://localhost:8080/",
          "height": 461
        },
        "id": "ughEvH-iRKaC",
        "outputId": "d7774ac0-de58-42db-9bcc-89f2081a9251"
      },
      "execution_count": 20,
      "outputs": [
        {
          "output_type": "stream",
          "name": "stdout",
          "text": [
            "Confusion Matrix\n",
            "Classification Report\n",
            "              precision    recall  f1-score   support\n",
            "\n",
            "   with_mask       0.51      0.52      0.52       238\n",
            "without_mask       0.51      0.51      0.51       238\n",
            "\n",
            "    accuracy                           0.51       476\n",
            "   macro avg       0.51      0.51      0.51       476\n",
            "weighted avg       0.51      0.51      0.51       476\n",
            "\n"
          ]
        },
        {
          "output_type": "display_data",
          "data": {
            "image/png": "[encoded data removed]",
            "text/plain": [
              "<Figure size 432x288 with 2 Axes>"
            ]
          },
          "metadata": {
            "needs_background": "light"
          }
        }
      ]
    },
    {
      "cell_type": "code",
      "source": [
        "short_score_report(y_pred, generator, 'ResNet50 0.05')"
      ],
      "metadata": {
        "colab": {
          "base_uri": "https://localhost:8080/"
        },
        "id": "eVrHlc9GRMA2",
        "outputId": "701f349f-b057-4597-e1b3-d56deb093d8c"
      },
      "execution_count": 25,
      "outputs": [
        {
          "output_type": "stream",
          "name": "stdout",
          "text": [
            "Score Report - ResNet50 0.05\n",
            "0.523109243697479\n"
          ]
        }
      ]
    },
    {
      "cell_type": "code",
      "source": [
        "prediction_stats(y_pred)"
      ],
      "metadata": {
        "colab": {
          "base_uri": "https://localhost:8080/",
          "height": 457
        },
        "id": "gv5-qzutRN0h",
        "outputId": "1e029dc1-7be0-49b5-ba6a-f67e6a4cd555"
      },
      "execution_count": 26,
      "outputs": [
        {
          "output_type": "stream",
          "name": "stdout",
          "text": [
            "Confusion Matrix\n",
            "Classification Report\n",
            "              precision    recall  f1-score   support\n",
            "\n",
            "   with_mask       0.52      0.66      0.58       238\n",
            "without_mask       0.53      0.39      0.45       238\n",
            "\n",
            "    accuracy                           0.52       476\n",
            "   macro avg       0.52      0.52      0.51       476\n",
            "weighted avg       0.52      0.52      0.51       476\n",
            "\n"
          ]
        },
        {
          "output_type": "display_data",
          "data": {
            "image/png": "[encoded data removed]",
            "text/plain": [
              "<Figure size 432x288 with 2 Axes>"
            ]
          },
          "metadata": {
            "needs_background": "light"
          }
        }
      ]
    }
  ]
}